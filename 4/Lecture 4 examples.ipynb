{
 "cells": [
  {
   "cell_type": "markdown",
   "metadata": {},
   "source": [
    "# Branching the code.\n",
    "\n",
    "basic usage of:\n",
    "\n",
    "* if()\n",
    "* else, else if()\n",
    "* inline if: a = a==b ? a : b\n",
    "* sitch()\n",
    "\n",
    "Our ultimate goal for today will be to write a program that solves a quadratic equation. Finds roots of: $ax^2+bx+c=0$"
   ]
  },
  {
   "cell_type": "markdown",
   "metadata": {},
   "source": [
    "## if()\n",
    "\n",
    "if() is based on the concept of TRUE and FALSE, nonzero valus are TRUE and FALSE is zero\n",
    "\n",
    "First let us see the effect of { } brackets on what is executed"
   ]
  },
  {
   "cell_type": "code",
   "execution_count": 3,
   "metadata": {},
   "outputs": [
    {
     "name": "stdout",
     "output_type": "stream",
     "text": [
      "This is the first if!!\n",
      "Aaaa!\n",
      "Bbbb!\n"
     ]
    }
   ],
   "source": [
    "#include <stdio.h>\n",
    "\n",
    " int main()\n",
    " {\n",
    "     if( 1 ) //1 - true\n",
    "         printf(\"This is the first if!!\\n\");\n",
    "     printf(\"Aaaa!\\n\");\n",
    "     \n",
    "     if( 0 ) //0 - false\n",
    "         printf(\"This is the second if!!\\n\");\n",
    "     printf(\"Bbbb!\\n\");\n",
    " }"
   ]
  },
  {
   "cell_type": "markdown",
   "metadata": {},
   "source": [
    "We can use brackets! \\{ \\}"
   ]
  },
  {
   "cell_type": "code",
   "execution_count": 4,
   "metadata": {},
   "outputs": [
    {
     "name": "stdout",
     "output_type": "stream",
     "text": [
      "This is the first if!!\n",
      "aaaa\n"
     ]
    }
   ],
   "source": [
    "#include <stdio.h>\n",
    " int main()\n",
    " {\n",
    "     if(-1) //1 - true\n",
    "     {// I have brackets here!!\n",
    "         printf(\"This is the first if!!\\n\");\n",
    "         printf(\"aaaa\\n\");\n",
    "     }\n",
    "     if(0)\n",
    "     {\n",
    "         printf(\"This is the other one if!!\\n\");\n",
    "         printf(\"bbbb\\n\");\n",
    "     }\n",
    " }"
   ]
  },
  {
   "cell_type": "markdown",
   "metadata": {},
   "source": [
    "It seems that brackets set the scope over which the statment apply."
   ]
  },
  {
   "cell_type": "code",
   "execution_count": null,
   "metadata": {},
   "outputs": [],
   "source": [
    "#include <stdio.h>\n",
    " int main()\n",
    " {\n",
    "    int a = 5, b = 4;\n",
    "    int c = a != b;\n",
    "    printf(\"%d\\n\", c);\n",
    " }"
   ]
  },
  {
   "cell_type": "markdown",
   "metadata": {},
   "source": [
    "So {} brackets are important since they allow as to execute multi-line instructions\n",
    "\n",
    "Now for possible operations resulting in a logical value: >, <, >=, <="
   ]
  },
  {
   "cell_type": "code",
   "execution_count": 8,
   "metadata": {},
   "outputs": [
    {
     "name": "stdout",
     "output_type": "stream",
     "text": [
      "A is greater\n",
      "A is greater eq\n"
     ]
    }
   ],
   "source": [
    "#include <stdio.h>\n",
    "\n",
    "int main()\n",
    "{\n",
    "    int a = 5;\n",
    "    int b = 4;\n",
    "    if(a > b) // this seems to be true!\n",
    "    {\n",
    "        printf(\"A is greater\\n\");\n",
    "    }\n",
    "    if(a < b)//No ; here!!\n",
    "    {\n",
    "        printf(\"B is greater\\n\");\n",
    "    }\n",
    "    \n",
    "    if(a >= b)\n",
    "    {\n",
    "        printf(\"A is greater eq\\n\");\n",
    "    }\n",
    "    if(a <= b)//No ; here!!\n",
    "    {\n",
    "        printf(\"B is greater eq\\n\");\n",
    "    }\n",
    "    \n",
    "}\n"
   ]
  },
  {
   "cell_type": "markdown",
   "metadata": {},
   "source": [
    "and testing the equality is done with == (NOT a single =), inequality is tested with !="
   ]
  },
  {
   "cell_type": "code",
   "execution_count": 1,
   "metadata": {},
   "outputs": [
    {
     "name": "stdout",
     "output_type": "stream",
     "text": [
      "Not Equal!\n"
     ]
    }
   ],
   "source": [
    "#include <stdio.h>\n",
    "\n",
    "int main()\n",
    "{\n",
    "    int a = 5;\n",
    "    int b = 4;\n",
    "    //if(!(a = b)) //this is very wrong!!!!\n",
    "    //{\n",
    "    //    printf(\"a=%d b=%d\\n\", a, b);\n",
    "    //}\n",
    "    if(a == b) //this is right!!\n",
    "    {\n",
    "        printf(\"Equal!\\n\");\n",
    "    }\n",
    "    if(a != b) //this is right!!\n",
    "    {\n",
    "        printf(\"Not Equal!\\n\");\n",
    "    }   \n",
    "}"
   ]
  },
  {
   "cell_type": "markdown",
   "metadata": {},
   "source": [
    "Note: Perform the following exercise. Print the value (using \\%d) of comparing ints with <,>,==,!=.  \n",
    "int a = (a == b);"
   ]
  },
  {
   "cell_type": "markdown",
   "metadata": {},
   "source": [
    "### AND and OR\n",
    "\n",
    "Logical OR and AND are coded as || and &&"
   ]
  },
  {
   "cell_type": "code",
   "execution_count": 3,
   "metadata": {},
   "outputs": [
    {
     "name": "stdout",
     "output_type": "stream",
     "text": [
      "1 The statment is true\n"
     ]
    }
   ],
   "source": [
    "#include <stdio.h>\n",
    "\n",
    "int main()\n",
    "{\n",
    "    int a = 5;\n",
    "    int b = 4;\n",
    "    \n",
    "    if(a == 3 || b == 4) // OR\n",
    "    {\n",
    "        printf(\"1 The statment is true\\n\");\n",
    "    }\n",
    "    if(a == 3 && b == 4) // AND\n",
    "    {\n",
    "        printf(\"2 The statment is true\\n\");\n",
    "    }\n",
    "}"
   ]
  },
  {
   "cell_type": "markdown",
   "metadata": {},
   "source": [
    "Precedence of an AND \\&\\& and OR \\|\\| is just like for multiplication and addition!"
   ]
  },
  {
   "cell_type": "code",
   "execution_count": 5,
   "metadata": {},
   "outputs": [
    {
     "name": "stdout",
     "output_type": "stream",
     "text": [
      "1 The statment is true\n"
     ]
    }
   ],
   "source": [
    "#include <stdio.h>\n",
    "\n",
    "int main()\n",
    "{\n",
    "    int a = 5;\n",
    "    int b = 4;\n",
    "    \n",
    "    if( a == 5 || b == 4 && a == 3 ) \n",
    "    {\n",
    "        printf(\"1 The statment is true\\n\");\n",
    "    }\n",
    "    \n",
    "    if( (a == 5 || b == 4) && a == 3 ) \n",
    "    {\n",
    "        printf(\"2 The statment is true\\n\");\n",
    "    }\n",
    "}"
   ]
  },
  {
   "cell_type": "markdown",
   "metadata": {},
   "source": [
    "### if(), else if() and an else:"
   ]
  },
  {
   "cell_type": "code",
   "execution_count": 9,
   "metadata": {},
   "outputs": [
    {
     "name": "stdout",
     "output_type": "stream",
     "text": [
      "Else was executed!!\n"
     ]
    }
   ],
   "source": [
    "#include <stdio.h>\n",
    "\n",
    "int main()\n",
    "{\n",
    "    int a = 5;\n",
    "    int b = 4;\n",
    "    \n",
    "    if(a == b) \n",
    "    {\n",
    "        printf(\"Equal!!\\n\");\n",
    "    }\n",
    "    else\n",
    "    {\n",
    "        printf(\"Else was executed!!\\n\");\n",
    "    }\n",
    "}"
   ]
  },
  {
   "cell_type": "code",
   "execution_count": 48,
   "metadata": {},
   "outputs": [
    {
     "name": "stdout",
     "output_type": "stream",
     "text": [
      "Equal!!\n"
     ]
    }
   ],
   "source": [
    "#include <stdio.h>\n",
    "\n",
    "int main()\n",
    "{\n",
    "    int a = 5;\n",
    "    int b = 5;\n",
    "    \n",
    "    if(a == b) \n",
    "    {\n",
    "        printf(\"Equal!!\\n\");\n",
    "    }\n",
    "    else\n",
    "    if( a >= b )\n",
    "    {\n",
    "        printf(\"A is greater!!\\n\");\n",
    "    }\n",
    "    else\n",
    "    if( a <= b )\n",
    "    {\n",
    "        printf(\"B is greater!!\\n\");\n",
    "    }\n",
    "    else\n",
    "    {\n",
    "        printf(\"This should not happen\\n\");\n",
    "    }\n",
    "}"
   ]
  },
  {
   "cell_type": "markdown",
   "metadata": {},
   "source": [
    "Note what happens if I remove the **else**"
   ]
  },
  {
   "cell_type": "code",
   "execution_count": 49,
   "metadata": {},
   "outputs": [
    {
     "name": "stdout",
     "output_type": "stream",
     "text": [
      "Equal!!\n",
      "A is greater!!\n",
      "B is greater!!\n"
     ]
    }
   ],
   "source": [
    "#include <stdio.h>\n",
    "\n",
    "int main()\n",
    "{\n",
    "    int a = 5;\n",
    "    int b = 5;\n",
    "    \n",
    "    if(a == b) \n",
    "    {\n",
    "        printf(\"Equal!!\\n\");\n",
    "    }\n",
    "    if( a >= b )\n",
    "    {\n",
    "        printf(\"A is greater!!\\n\");\n",
    "    }\n",
    "    if( a <= b )\n",
    "    {\n",
    "        printf(\"B is greater!!\\n\");\n",
    "    }\n",
    "    else\n",
    "    {\n",
    "        printf(\"This should not happen\\n\");\n",
    "    }\n",
    "}"
   ]
  },
  {
   "cell_type": "markdown",
   "metadata": {},
   "source": [
    "### Nested if()\n",
    "An example of nested if(), i.e. if() in an if() in an if() ..."
   ]
  },
  {
   "cell_type": "code",
   "execution_count": 18,
   "metadata": {},
   "outputs": [
    {
     "name": "stdout",
     "output_type": "stream",
     "text": [
      "A is 2B\n"
     ]
    }
   ],
   "source": [
    "#include <stdio.h>\n",
    "\n",
    "int main()\n",
    "{\n",
    "    int a = 10;\n",
    "    int b = 5;\n",
    "    \n",
    "    if(a > b) // nested if()\n",
    "    {\n",
    "        if(a > 2*b)\n",
    "        {\n",
    "            printf(\"A is very large\\n\");\n",
    "        }\n",
    "        else if(a < 2*b)\n",
    "        {\n",
    "            printf(\"A is greater\\n\");\n",
    "        }\n",
    "        else\n",
    "        {\n",
    "            printf(\"A is 2B\\n\");\n",
    "        }\n",
    "    }\n",
    "    else\n",
    "    {\n",
    "        printf(\"B is greater than A\\n\");\n",
    "    }\n",
    "}"
   ]
  },
  {
   "cell_type": "markdown",
   "metadata": {},
   "source": [
    "## Inline if statment:\n",
    "\n",
    "value = logical test ? value if true : value if false\n",
    "\n",
    "I would like d to be the sum of a and greater of b and c"
   ]
  },
  {
   "cell_type": "code",
   "execution_count": 21,
   "metadata": {},
   "outputs": [
    {
     "name": "stdout",
     "output_type": "stream",
     "text": [
      "17\n"
     ]
    }
   ],
   "source": [
    "#include <stdio.h>\n",
    "\n",
    "int main()\n",
    "{\n",
    "    int a = 10;\n",
    "    int b = 5;\n",
    "    int c = 7;\n",
    "    \n",
    "    int d;\n",
    "    \n",
    "    if(b > c)\n",
    "        d = a + b;\n",
    "    else\n",
    "        d = a + c;\n",
    "    printf(\"%d\\n\", d);\n",
    "}"
   ]
  },
  {
   "cell_type": "markdown",
   "metadata": {},
   "source": [
    "With an inline if statment"
   ]
  },
  {
   "cell_type": "code",
   "execution_count": null,
   "metadata": {},
   "outputs": [],
   "source": [
    "#include <stdio.h>\n",
    "\n",
    "int main()\n",
    "{\n",
    "    int a = 10;\n",
    "    int b = 5;\n",
    "    int c = 7;\n",
    "    \n",
    "    int d = b > c ? a + b : a + c;\n",
    "    printf(\"%d\\n\", d);\n",
    "}"
   ]
  },
  {
   "cell_type": "markdown",
   "metadata": {},
   "source": [
    "## switch()\n",
    "\n",
    "is used to select statments to be executed based on the value of an expression evaluating to an intiger"
   ]
  },
  {
   "cell_type": "code",
   "execution_count": 29,
   "metadata": {},
   "outputs": [
    {
     "name": "stdout",
     "output_type": "stream",
     "text": [
      "This is the first case\n",
      "This is the second case\n",
      "This is the third case\n"
     ]
    }
   ],
   "source": [
    "#include <stdio.h>\n",
    "\n",
    "int main(){\n",
    "    int a = 1;\n",
    "    \n",
    "    switch( a )\n",
    "    {\n",
    "        case 1:\n",
    "            printf(\"This is the first case\\n\");\n",
    "        //break;\n",
    "        \n",
    "        case 3:\n",
    "            printf(\"This is the second case\\n\");\n",
    "        //break;\n",
    "        \n",
    "        case 5:\n",
    "            printf(\"This is the third case\\n\");\n",
    "        break;\n",
    "        \n",
    "        default:\n",
    "            printf(\"This is the default\\n\");\n",
    "    }\n",
    "}"
   ]
  },
  {
   "cell_type": "code",
   "execution_count": 30,
   "metadata": {},
   "outputs": [
    {
     "name": "stdout",
     "output_type": "stream",
     "text": [
      "This is the first case\n"
     ]
    }
   ],
   "source": [
    "#include <stdio.h>\n",
    "\n",
    "int main(){\n",
    "  int a;\n",
    "  //scanf(\"%d\", &a);\n",
    "  \n",
    "  a = 6;\n",
    "  int b = 5;\n",
    "  \n",
    "  switch(a-b)\n",
    "  {\n",
    "    case 1: // the value here is what needs to be evaluated in the switch statment\n",
    "      printf(\"This is the first case\\n\");\n",
    "      //possibly many lines\n",
    "      break;\n",
    "      //some more instructions?\n",
    "      \n",
    "    case 3:\n",
    "      printf(\"This is the second case\\n\");\n",
    "      break;\n",
    "    \n",
    "    case 4:\n",
    "      printf(\"This is the 4th case\\n\");\n",
    "      break;\n",
    "          \n",
    "    default:\n",
    "      printf(\"Your choiche is unrecognized!!\\n\");\n",
    "  }\n",
    "}"
   ]
  },
  {
   "cell_type": "markdown",
   "metadata": {},
   "source": [
    "## Example\n",
    "\n",
    "Let us now solve the quadratic equation\n",
    "\n",
    "$a x^2 + b x + c = 0$\n",
    "\n",
    "$\\Delta = b^2 - 4ac$\n",
    "\n",
    "$x_{1,2} = \\frac{-b \\pm \\sqrt{\\Delta}}{2a}$"
   ]
  },
  {
   "cell_type": "code",
   "execution_count": 47,
   "metadata": {},
   "outputs": [
    {
     "name": "stdout",
     "output_type": "stream",
     "text": [
      "There is two solution!\n",
      "x0=-3.732051\n",
      "x1=-0.267949\n"
     ]
    }
   ],
   "source": [
    "//%cflags:-lm\n",
    "\n",
    "#include <stdio.h>\n",
    "#include <math.h>\n",
    "\n",
    "int main()\n",
    "{\n",
    "    double a, b, c;\n",
    "    // Get the user to input a, b, c\n",
    "    scanf(\"%lf\", &a);\n",
    "    scanf(\"%lf\", &b);\n",
    "    scanf(\"%lf\", &c);\n",
    "    \n",
    "    a = 1; // I need to put those in sice I have no access to the terminal\n",
    "    b = 4;\n",
    "    c = 1;\n",
    "    \n",
    "    double x0, x1;\n",
    "    \n",
    "    // 1. Calculate the delta\n",
    "    double del = b*b - 4*a*c;\n",
    "    if(del < 0)\n",
    "    {\n",
    "        printf(\"There is no solution\\n\");\n",
    "        return 0; // this terminates the main function\n",
    "    }\n",
    "    else if(del == 0)\n",
    "    {\n",
    "        printf(\"There is only one solution!\\n\");\n",
    "        x0 = -b / (2*a);\n",
    "        printf(\"x0=%lf\\n\", x0);\n",
    "    }\n",
    "    else\n",
    "    {\n",
    "        printf(\"There is two solution!\\n\");\n",
    "        x0 = (-b-sqrt(del)) / (2*a);\n",
    "        x1 = (-b+sqrt(del)) / (2*a);\n",
    "        printf(\"x0=%lf\\n\", x0);\n",
    "        printf(\"x1=%lf\\n\", x1);\n",
    "    }\n",
    "    \n",
    "    //printf(\"x0=%lf\\n\", x0);\n",
    "    //printf(\"x1=%lf\\n\", x1);\n",
    "}"
   ]
  },
  {
   "cell_type": "markdown",
   "metadata": {},
   "source": [
    "## Functions in C"
   ]
  },
  {
   "cell_type": "code",
   "execution_count": null,
   "metadata": {},
   "outputs": [],
   "source": [
    "type name(list of argument)\n",
    "{\n",
    "\n",
    "}"
   ]
  },
  {
   "cell_type": "code",
   "execution_count": 50,
   "metadata": {},
   "outputs": [
    {
     "name": "stdout",
     "output_type": "stream",
     "text": [
      "This is main()\n",
      "Fun has been called\n"
     ]
    }
   ],
   "source": [
    "#include <stdio.h>\n",
    "\n",
    "int fun()\n",
    "{\n",
    "    printf(\"Fun has been called\\n\");\n",
    "    return 0;\n",
    "}\n",
    "\n",
    "int main()\n",
    "{\n",
    "    printf(\"This is main()\\n\");\n",
    "    \n",
    "    fun(); // this calls the fun function\n",
    "}"
   ]
  },
  {
   "cell_type": "code",
   "execution_count": 56,
   "metadata": {},
   "outputs": [
    {
     "name": "stdout",
     "output_type": "stream",
     "text": [
      "This is main()\n",
      "Fun has been called\n",
      "a=5 b=10 \n"
     ]
    }
   ],
   "source": [
    "#include <stdio.h>\n",
    "\n",
    "int fun()\n",
    "{\n",
    "    printf(\"Fun has been called\\n\");\n",
    "    return 0;\n",
    "}\n",
    "\n",
    "int fun2(int arg1) // return an argument incresed by 5\n",
    "{\n",
    "    return arg1 + 5;\n",
    "}\n",
    "\n",
    "int main()\n",
    "{\n",
    "    printf(\"This is main()\\n\");\n",
    "    \n",
    "    fun(); // this calls the fun function\n",
    "    int a = 5;\n",
    "    int b;\n",
    "    b = fun2(a);\n",
    "    printf(\"a=%d b=%d \\n\", a, b);\n",
    "}"
   ]
  },
  {
   "cell_type": "code",
   "execution_count": 68,
   "metadata": {},
   "outputs": [
    {
     "name": "stdout",
     "output_type": "stream",
     "text": [
      "This is main()\n",
      "a=0, b=10.000000\n",
      "From the function a=0, b=10.000000\n",
      "From the function a=5, b=31.415927\n",
      "a=0, b=10.000000\n"
     ]
    }
   ],
   "source": [
    "//%cflags:-lm\n",
    "#include <stdio.h>\n",
    "#include <math.h>\n",
    "\n",
    "void fun(int a, double b)\n",
    "{\n",
    "    printf(\"From the function a=%d, b=%lf\\n\", a, b);\n",
    "    a = a + 5;\n",
    "    b = 4.0*atan(1.) * b;\n",
    "    printf(\"From the function a=%d, b=%lf\\n\", a, b);\n",
    "    // no return!\n",
    "}\n",
    "\n",
    "int main()\n",
    "{\n",
    "    printf(\"This is main()\\n\");\n",
    "    \n",
    "    int var1 = 0;\n",
    "    double var2 = 10.0;\n",
    "    printf(\"a=%d, b=%lf\\n\", var1, var2);\n",
    "    \n",
    "    fun(var1, var2);\n",
    "    printf(\"a=%d, b=%lf\\n\", var1, var2);\n",
    "}"
   ]
  },
  {
   "cell_type": "markdown",
   "metadata": {},
   "source": [
    "Values changed inside of a function do not propagate to the outside. What happens in a function stays in the function."
   ]
  },
  {
   "cell_type": "markdown",
   "metadata": {},
   "source": [
    "**Global variables**"
   ]
  },
  {
   "cell_type": "code",
   "execution_count": 71,
   "metadata": {},
   "outputs": [
    {
     "name": "stdout",
     "output_type": "stream",
     "text": [
      "This is main()\n",
      "a=0, b=10.000000\n",
      "From the function a=0, b=10.000000\n",
      "From the function a=5, b=31.415927\n",
      "a=5, b=31.415927\n"
     ]
    }
   ],
   "source": [
    "//%cflags:-lm\n",
    "#include <stdio.h>\n",
    "#include <math.h>\n",
    "\n",
    "//Global variables\n",
    "int a=0;\n",
    "double b=10;\n",
    "\n",
    "void fun()\n",
    "{\n",
    "    printf(\"From the function a=%d, b=%lf\\n\", a, b);\n",
    "    a = a + 5;\n",
    "    b = 4.0*atan(1.) * b;\n",
    "    printf(\"From the function a=%d, b=%lf\\n\", a, b);\n",
    "}\n",
    "\n",
    "int main()\n",
    "{\n",
    "    printf(\"This is main()\\n\");\n",
    "    \n",
    "    printf(\"a=%d, b=%lf\\n\", a, b);\n",
    "    \n",
    "    fun();\n",
    "    printf(\"a=%d, b=%lf\\n\", a, b);\n",
    "}"
   ]
  },
  {
   "cell_type": "markdown",
   "metadata": {},
   "source": [
    "## Example revisited\n",
    "This time we will try to make it with functions\n",
    "\n",
    "Let us now solve the quadratic equation\n",
    "\n",
    "$a x^2 + b x + c = 0$\n",
    "\n",
    "$\\Delta = b^2 - 4ac$\n",
    "\n",
    "$x_{1,2} = \\frac{-b \\pm \\sqrt{\\Delta}}{2a}$"
   ]
  },
  {
   "cell_type": "markdown",
   "metadata": {},
   "source": [
    "0. Greet the user function?\n",
    "1. A function to read from keyboard\n",
    "2. A function to calculate the delta\n",
    "3. A functions that calculates roots\n",
    "4. A printout function"
   ]
  },
  {
   "cell_type": "code",
   "execution_count": 88,
   "metadata": {},
   "outputs": [
    {
     "name": "stdout",
     "output_type": "stream",
     "text": [
      "Hello user, this is a quadratic function solver\n",
      "Start by providing the a, b, and c coefficients.\n",
      "There is one root!\n",
      "x=-1.000000!\n"
     ]
    }
   ],
   "source": [
    "//%cflags:-lm\n",
    "#include <stdio.h>\n",
    "#include <math.h>\n",
    "\n",
    "// Global coefficients\n",
    "double a, b, c;\n",
    "//global roots\n",
    "double x1, x2;\n",
    "\n",
    "void greetings()\n",
    "{\n",
    "    printf(\"Hello user, this is a quadratic function solver\\n\");\n",
    "    printf(\"Start by providing the a, b, and c coefficients.\\n\");\n",
    "}\n",
    "\n",
    "void read_abc()\n",
    "{\n",
    "    scanf(\"%lf\", &a);\n",
    "    scanf(\"%lf\", &b);\n",
    "    scanf(\"%lf\", &c);\n",
    "    // I need to provide the values since I am using the Jupyter\n",
    "    a = 1.0;\n",
    "    b= 2.0;\n",
    "    c = 1.0;\n",
    "}\n",
    "\n",
    "double calculate_delta()\n",
    "{\n",
    "    return b*b - 4.0 * a * c;\n",
    "}\n",
    "\n",
    "int roots(double d)\n",
    "{\n",
    "    int nr;\n",
    "    if(d < 0)\n",
    "    {\n",
    "        nr = 0;\n",
    "    }\n",
    "    else if(d > 0)\n",
    "    {\n",
    "        nr = 2;\n",
    "        x1 = (-b+sqrt(d))/(2.0*a);\n",
    "        x2 = (-b-sqrt(d))/(2.0*a);\n",
    "    }\n",
    "    else\n",
    "    {\n",
    "        nr = 1;\n",
    "        x1 = x2 = -b/(2.0*a);\n",
    "    }\n",
    "    \n",
    "    return nr;\n",
    "}\n",
    "void print_out(int nr);\n",
    "\n",
    "int main()\n",
    "{\n",
    "    greetings();\n",
    "    read_abc();\n",
    "    double delta = calculate_delta();\n",
    "    int number_of_roots = roots(delta);\n",
    "    print_out(number_of_roots);\n",
    "}\n",
    "\n",
    "void print_out(int nr)\n",
    "{\n",
    "    switch(nr)\n",
    "    {\n",
    "        case 0:\n",
    "            printf(\"There are no roots!\\n\");\n",
    "            break;\n",
    "        case 1:\n",
    "            printf(\"There is one root!\\n\");\n",
    "            printf(\"x=%lf!\\n\", x1);\n",
    "            break;\n",
    "        case 2:\n",
    "            printf(\"There are two roots!\\n\");\n",
    "            printf(\"x1=%lf!\\n\", x1);\n",
    "            printf(\"x2=%lf!\\n\", x2);\n",
    "            break;\n",
    "        default:\n",
    "            printf(\"Stupid user exeption!\\n\");\n",
    "    }\n",
    "}"
   ]
  },
  {
   "cell_type": "code",
   "execution_count": null,
   "metadata": {},
   "outputs": [],
   "source": []
  }
 ],
 "metadata": {
  "kernelspec": {
   "display_name": "C",
   "language": "c",
   "name": "c"
  },
  "language_info": {
   "file_extension": ".c",
   "mimetype": "text/plain",
   "name": "c"
  }
 },
 "nbformat": 4,
 "nbformat_minor": 2
}
