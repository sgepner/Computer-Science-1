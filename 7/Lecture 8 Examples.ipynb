{
 "cells": [
  {
   "cell_type": "markdown",
   "metadata": {},
   "source": [
    "# 1D static arrays, random numbers and working with files"
   ]
  },
  {
   "cell_type": "markdown",
   "metadata": {},
   "source": [
    "## Static arrays,\n",
    "More often than not we need to process a number of variables. That is our program deals not with simple single-valued data, but with a **collection**. The most common type of a collection, throughout different programming languages is an array of data. Arrays can be thought of as continuous containers (for what it is worth in thay are continuous in memory) that store elements one after the other. I like to think about it as a sequence of cups, each storing some 'stuff', arranged one-after-another.  \n",
    "\n",
    "Arrays can be either **static**, that is such that their size is known before the program is run, and remains fixed throughout the program's lifetime, or **dynamic** that is such that have their size set at *runtime*. We will now have a look at how **static** arrays are handled in **C**. Much of what we show here will be applicable to dynamic arrays.\n",
    "\n",
    "1. The size of a static array **must be known** at compilation time!    \n",
    "2. How to create an array, syntax:\n",
    "    * *type name\\[size\\]*\n",
    "    * again: *size* **must** be known at compilation\n",
    "3. While VLA are allowed in C99 standard, this construct is **forbidden** in this class. As in you will fail on a test if you use it.\n",
    "\n",
    "So to make the long story short. To declare an array of 10 ints, you do:"
   ]
  },
  {
   "cell_type": "code",
   "execution_count": null,
   "metadata": {},
   "outputs": [],
   "source": [
    "int tab[10];"
   ]
  },
  {
   "cell_type": "markdown",
   "metadata": {},
   "source": [
    "But if you do:"
   ]
  },
  {
   "cell_type": "code",
   "execution_count": null,
   "metadata": {},
   "outputs": [],
   "source": [
    "int n=10;\n",
    "int tab[n];"
   ]
  },
  {
   "cell_type": "markdown",
   "metadata": {},
   "source": [
    "You will get exactly **ZERO** (as in 0!) points on a test. You have been warned!\n",
    "\n",
    "Let us have a complete program, that does nothing, but declares an array of 10 integers:"
   ]
  },
  {
   "cell_type": "code",
   "execution_count": 1,
   "metadata": {},
   "outputs": [],
   "source": [
    "int main()\n",
    "{\n",
    "    int tab[10]; //an array of 10 integers, i.e. 40B\n",
    "}"
   ]
  },
  {
   "cell_type": "markdown",
   "metadata": {},
   "source": [
    "2. Accesing elements with square brackets \\[ \\]\n",
    "    * Indexing starts with 0 and is up to size-1\n",
    "    * Accessing elements outside an array will (or not but do not count on that) cause a *run time* error:"
   ]
  },
  {
   "cell_type": "code",
   "execution_count": 26,
   "metadata": {},
   "outputs": [
    {
     "name": "stdout",
     "output_type": "stream",
     "text": [
      "10 20 30\n"
     ]
    }
   ],
   "source": [
    "#include <stdio.h>\n",
    "\n",
    "int main()\n",
    "{\n",
    "    int tab[3];\n",
    "    \n",
    "    tab[0] = 10; // indices start from 0!\n",
    "    tab[1] = 20;\n",
    "    tab[2] = 30;\n",
    "    \n",
    "    printf(\"%d %d %d\\n\", tab[0], tab[1], tab[2]);\n",
    "}"
   ]
  },
  {
   "cell_type": "markdown",
   "metadata": {},
   "source": [
    "And this will cause a *runt-time* error:"
   ]
  },
  {
   "cell_type": "code",
   "execution_count": 27,
   "metadata": {},
   "outputs": [
    {
     "name": "stdout",
     "output_type": "stream",
     "text": [
      "10 20 30 40"
     ]
    },
    {
     "name": "stderr",
     "output_type": "stream",
     "text": [
      "*** stack smashing detected ***: terminated\n",
      "[C kernel] Executable exited with code -6"
     ]
    }
   ],
   "source": [
    "#include <stdio.h>\n",
    "\n",
    "int main()\n",
    "{\n",
    "    int tab[3];\n",
    "    \n",
    "    tab[0] = 10; // indices start from 0!\n",
    "    tab[1] = 20;\n",
    "    tab[2] = 30;\n",
    "    \n",
    "    tab[3] = 40; // can not access element 3 since it is out of bounds\n",
    "    printf(\"%d %d %d %d\", tab[0], tab[1], tab[2], tab[3]);\n",
    "}"
   ]
  },
  {
   "cell_type": "markdown",
   "metadata": {},
   "source": [
    "3. How is an array stored in the memory\n",
    "    * It is stored in a continous block.\n",
    "    * Elements are separated by the number of bytes equal the size of an array type, i.e. 4B for ints and floats, 8B for doubles."
   ]
  },
  {
   "cell_type": "markdown",
   "metadata": {},
   "source": [
    "Let us try to print an address of the first element:"
   ]
  },
  {
   "cell_type": "code",
   "execution_count": 11,
   "metadata": {},
   "outputs": [
    {
     "name": "stdout",
     "output_type": "stream",
     "text": [
      "0 0 0\n",
      "0x7ffc0d45e0fc\n",
      "0x7ffc0d45e100\n",
      "0x7ffc0d45e104\n",
      "0x7ffc0d45e0fc\n",
      "0x7ffc0d45e100\n",
      "0x7ffc0d45e104\n"
     ]
    }
   ],
   "source": [
    "#include <stdio.h>\n",
    "\n",
    "int main()\n",
    "{\n",
    "    int tab[3];\n",
    "    \n",
    "    tab[0] = tab[1] = tab[2] = 0;\n",
    "    \n",
    "    printf(\"%d %d %d\\n\", tab[0], tab[1], tab[2]);\n",
    "    printf(\"%p\\n%p\\n%p\\n\", &tab[0], &tab[1], &tab[2]);\n",
    "    printf(\"%p\\n%p\\n%p\\n\", tab, tab+1, tab+2);\n",
    "} // c is 12"
   ]
  },
  {
   "cell_type": "markdown",
   "metadata": {},
   "source": [
    "We note that addresses (position in memory of tab\\[0\\] is the same as the same pointed by tab). This indicates that tab is a pointer!?"
   ]
  },
  {
   "cell_type": "markdown",
   "metadata": {},
   "source": [
    "4. Are arrays pointers?\n",
    "    * Yes, almost.\n",
    "    * Some consequences of pointer arithmetics.\n",
    "    \n",
    "Use a pointer to an int to access elements of an array if int's."
   ]
  },
  {
   "cell_type": "code",
   "execution_count": 19,
   "metadata": {},
   "outputs": [
    {
     "name": "stdout",
     "output_type": "stream",
     "text": [
      "10 20 30 | 30\n",
      "0x7ffc314e9abc 0x7ffc314e9ac0 0x7ffc314e9ac4\n",
      "0x7ffc314e9abc"
     ]
    }
   ],
   "source": [
    "#include <stdio.h>\n",
    "\n",
    "int main()\n",
    "{\n",
    "    int tab[3];\n",
    "    int *p;// = &tab[0];\n",
    "    p = tab;\n",
    "    \n",
    "    p[0] = 10;\n",
    "    p[1] = 20;\n",
    "    p[2] = 30;\n",
    "    \n",
    "    printf(\"%d %d %d | %d\\n\", tab[0], tab[1], tab[2], p[2]);\n",
    "    printf(\"%p %p %p\\n%p\", &tab[0], &tab[1], &tab[2], p);\n",
    "}"
   ]
  },
  {
   "cell_type": "markdown",
   "metadata": {},
   "source": [
    "It seems that using \\[ \\] is equivalent to using a * operation on a pointer, and in consequence the following is possible:"
   ]
  },
  {
   "cell_type": "code",
   "execution_count": 25,
   "metadata": {},
   "outputs": [
    {
     "name": "stdout",
     "output_type": "stream",
     "text": [
      "10 20 30\n",
      "10 20 30\n",
      "10 20 30\n",
      "10 20 30\n"
     ]
    }
   ],
   "source": [
    "#include <stdio.h>\n",
    "\n",
    "int main()\n",
    "{\n",
    "    int tab[3];\n",
    "    \n",
    "    tab[0] = 10;\n",
    "    tab[1] = 20;\n",
    "    tab[2] = 30;\n",
    "    \n",
    "    printf(\"%d %d %d\\n\", tab[0], tab[1], tab[2]);\n",
    "    printf(\"%d %d %d\\n\", *tab, *(tab+1), *(tab+2));\n",
    "    \n",
    "    printf(\"%d %d %d\\n\", *tab, *(1+tab), *(2+tab));\n",
    "    printf(\"%d %d %d\\n\", 0[tab], 1[tab], 2[tab]);\n",
    "}"
   ]
  },
  {
   "cell_type": "markdown",
   "metadata": {},
   "source": [
    "The fact that arrays in **C** allow for access using *index\\[array_name\\]* should be treated as a curiosity, and a consequence of pointer arithmetics - never to be used in an actual code, as it makes it difficult to read and understand!"
   ]
  },
  {
   "cell_type": "markdown",
   "metadata": {},
   "source": [
    "5. Passing arrays as arguments to functions\n",
    "\n",
    "When passing an array to a function, the function must know the *type* and the size.\n",
    "\n",
    "Example: Write a program that uses two function, one for initialization an array of **doubles** and another to print its values."
   ]
  },
  {
   "cell_type": "code",
   "execution_count": 33,
   "metadata": {},
   "outputs": [
    {
     "name": "stdout",
     "output_type": "stream",
     "text": [
      "i=0, x=1.000000\n",
      "i=1, x=2.000000\n",
      "i=2, x=3.000000\n",
      "i=3, x=4.000000\n",
      "i=4, x=5.000000\n",
      "i=5, x=6.000000\n",
      "i=6, x=7.000000\n",
      "i=7, x=8.000000\n",
      "i=8, x=9.000000\n",
      "i=9, x=10.000000\n"
     ]
    }
   ],
   "source": [
    "#include <stdio.h>\n",
    "\n",
    "// Those here are prototypes of functions\n",
    "void fillarray(double array[], int size);\n",
    "void printarray(double array[], int size);\n",
    "\n",
    "int main()\n",
    "{\n",
    "    double tab[500];\n",
    "    int n = 10;\n",
    "    \n",
    "    fillarray(tab, n);\n",
    "    printarray(tab, n);\n",
    "}\n",
    "\n",
    "// This fills the array with values from 1 up to size\n",
    "void fillarray(double array[], int size)\n",
    "{\n",
    "    for(int i=0; i<size; ++i)\n",
    "    {\n",
    "        array[i] = i+1;\n",
    "    }\n",
    "}\n",
    "\n",
    "void printarray(double array[], int size)\n",
    "{\n",
    "    for(int i=0; i<size; ++i)\n",
    "    {\n",
    "        printf(\"i=%d, x=%lf\\n\", i, array[i]);\n",
    "    }\n",
    "}"
   ]
  },
  {
   "cell_type": "markdown",
   "metadata": {},
   "source": [
    "6. Set a maximum allowable size of an array to be used\n",
    "    * Use preprocessors **#define**\n",
    "        * a good practice is to use a **uniqe** identifier for a define to avoid problems"
   ]
  },
  {
   "cell_type": "code",
   "execution_count": 38,
   "metadata": {},
   "outputs": [
    {
     "name": "stdout",
     "output_type": "stream",
     "text": [
      "i=0, x=1.000000\n",
      "i=1, x=2.000000\n",
      "i=2, x=3.000000\n",
      "i=3, x=4.000000\n",
      "i=4, x=5.000000\n",
      "i=5, x=6.000000\n",
      "i=6, x=7.000000\n",
      "i=7, x=8.000000\n",
      "i=8, x=9.000000\n",
      "i=9, x=10.000000\n"
     ]
    }
   ],
   "source": [
    "#include <stdio.h>\n",
    "#define MAX_SIZE 50\n",
    "\n",
    "// Those here are prototypes of functions\n",
    "void fillarray(double array[], int size);\n",
    "void printarray(double array[], int size);\n",
    "\n",
    "int main()\n",
    "{\n",
    "    int  array1[MAX_SIZE];\n",
    "    char array2[MAX_SIZE];\n",
    "    \n",
    "    double tab[MAX_SIZE];\n",
    "    int n = 10;\n",
    "    \n",
    "    fillarray(tab, n);\n",
    "    printarray(tab, n);\n",
    "}\n",
    "\n",
    "// This fills the array with values from 1 up to size\n",
    "void fillarray(double array[], int size)\n",
    "{\n",
    "    for(int i=0; i<size; ++i)\n",
    "    {\n",
    "        array[i] = i+1;\n",
    "    }\n",
    "}\n",
    "\n",
    "void printarray(double array[], int size)\n",
    "{\n",
    "    for(int i=0; i<size; ++i)\n",
    "    {\n",
    "        printf(\"i=%d, x=%lf\\n\", i, array[i]);\n",
    "    }\n",
    "}"
   ]
  },
  {
   "cell_type": "markdown",
   "metadata": {},
   "source": [
    "## Random numbers\n",
    "\n",
    "1. How to generate a random number?\n",
    "    * include **stdlib.h** and use *rand()*\n",
    "    * *rand()* returns a random int from zero up to RAND_MAX\n",
    "    \n",
    "Generate a random number and print it together with the value of RAND_MAX, notice that the result is the same everytime you run the code."
   ]
  },
  {
   "cell_type": "code",
   "execution_count": 92,
   "metadata": {},
   "outputs": [
    {
     "name": "stdout",
     "output_type": "stream",
     "text": [
      "1804289383, 2147483647\n"
     ]
    }
   ],
   "source": [
    "#include <stdio.h>\n",
    "#include <stdlib.h>\n",
    "\n",
    "int main(){\n",
    "    int a = rand();\n",
    "    printf(\"%d, %d\\n\", a, RAND_MAX);\n",
    "}"
   ]
  },
  {
   "cell_type": "markdown",
   "metadata": {},
   "source": [
    "2. Are random numbers random?\n",
    "    * Well now, thay are just consecutive elements of a predefined sequence of numbers that mimic randomness.\n",
    "    * *srand()* initializes the random sequence to start at a different position\n",
    "\n",
    "Use *srand()*, rerun the code and see that values have changed, but are still the same on consecutive reruns."
   ]
  },
  {
   "cell_type": "code",
   "execution_count": 97,
   "metadata": {},
   "outputs": [
    {
     "name": "stdout",
     "output_type": "stream",
     "text": [
      "1968078301, 2147483647"
     ]
    }
   ],
   "source": [
    "#include <stdio.h>\n",
    "#include <stdlib.h>\n",
    "\n",
    "int main(){\n",
    "    srand(4);\n",
    "    int a = rand();\n",
    "    printf(\"%d, %d\", a, RAND_MAX);\n",
    "}"
   ]
  },
  {
   "cell_type": "markdown",
   "metadata": {},
   "source": [
    "3. Initialize a random sequence with current time\n",
    "    * Specifically, with the number of seconds (int) that passed since time Zero.\n",
    "    * Zero time is 00:00:00 Thursday, 1 January 1970\n",
    "        * Yes, there is nothing before time zero ...\n",
    "    * On systems where time is represented by a 32 bit intiger\n",
    "    time ends after 2147483647 seconds i.e. 3:14:08 19 January 2038 (similar to the [Year 2000 problem](https://en.wikipedia.org/wiki/Year_2000_problem)),see [Year_2038_problem](https://en.wikipedia.org/wiki/Year_2038_problem).\n",
    "        * The end of the world is coming!\n",
    "        \n",
    "Run the cose a couple of times and observe that the values change now."
   ]
  },
  {
   "cell_type": "code",
   "execution_count": 109,
   "metadata": {},
   "outputs": [
    {
     "name": "stdout",
     "output_type": "stream",
     "text": [
      "1606128313 since January 1 1970\n",
      "1127191404, 2147483647"
     ]
    }
   ],
   "source": [
    "#include <stdio.h>\n",
    "#include <stdlib.h>\n",
    "#include <time.h>\n",
    "\n",
    "int main(){\n",
    "    printf(\"%ld since January 1 1970\\n\", time(NULL));\n",
    "    srand(time(NULL));\n",
    "    \n",
    "    int a = rand();\n",
    "    printf(\"%d, %d\", a, RAND_MAX);\n",
    "}"
   ]
  },
  {
   "cell_type": "markdown",
   "metadata": {},
   "source": [
    "4. How to generate random doubles in a given range?\n",
    "    * Start with values from zero to 1 and than scale and shift as needed\n",
    "    * or learn formulas by hard ..."
   ]
  },
  {
   "cell_type": "markdown",
   "metadata": {},
   "source": [
    "Generate random numbers from 0 up to 1:"
   ]
  },
  {
   "cell_type": "code",
   "execution_count": 112,
   "metadata": {},
   "outputs": [
    {
     "name": "stdout",
     "output_type": "stream",
     "text": [
      "x=0.231491\n",
      "x=0.287312\n",
      "x=0.842090\n",
      "x=0.797622\n",
      "x=0.724774\n",
      "x=0.544085\n",
      "x=0.320083\n",
      "x=0.138994\n",
      "x=0.193272\n",
      "x=0.663568\n"
     ]
    }
   ],
   "source": [
    "#include <stdio.h>\n",
    "#include <stdlib.h> // this here defines RAND_MAX\n",
    "#include <time.h>\n",
    "\n",
    "int main()\n",
    "{\n",
    "    srand(time(NULL));\n",
    "    for(int i=0; i<10; ++i)\n",
    "    {\n",
    "        double x = (double)rand()/RAND_MAX;\n",
    "        printf(\"x=%lf\\n\", x);\n",
    "    }\n",
    "}"
   ]
  },
  {
   "cell_type": "markdown",
   "metadata": {},
   "source": [
    "Now modify the program so it returns a value from an arbitrary range:"
   ]
  },
  {
   "cell_type": "code",
   "execution_count": 117,
   "metadata": {},
   "outputs": [
    {
     "name": "stdout",
     "output_type": "stream",
     "text": [
      "x=10.395293\n",
      "x=11.157333\n",
      "x=11.205088\n",
      "x=13.162949\n",
      "x=13.963256\n",
      "x=13.114147\n",
      "x=12.825407\n",
      "x=14.724846\n",
      "x=10.300276\n",
      "x=12.251975\n"
     ]
    }
   ],
   "source": [
    "#include <stdio.h>\n",
    "#include <stdlib.h> // this here defines RAND_MAX\n",
    "#include <time.h>\n",
    "\n",
    "int main()\n",
    "{\n",
    "    srand(time(NULL));\n",
    "    \n",
    "    double x_min = 10, x_max = 15;\n",
    "    for(int i=0; i<10; ++i)\n",
    "    {\n",
    "        double x = (double)rand()/RAND_MAX;\n",
    "        x = x_min + x*(x_max-x_min);\n",
    "        printf(\"x=%lf\\n\", x);\n",
    "    }\n",
    "}"
   ]
  },
  {
   "cell_type": "code",
   "execution_count": 154,
   "metadata": {},
   "outputs": [
    {
     "name": "stdout",
     "output_type": "stream",
     "text": [
      "Scale to (0, 1): \t 0.022264\n",
      "Scale to (0, scale): \t 0.222642\n",
      "Shift by x_min: \t 10.222642\n"
     ]
    }
   ],
   "source": [
    "#include <stdio.h>\n",
    "#include <stdlib.h>\n",
    "#include <time.h>\n",
    "\n",
    "int main(){\n",
    "    srand(time(NULL));\n",
    "    \n",
    "    double x_max = 20, x_min = 10; // the range of numbers\n",
    "    \n",
    "    double a = rand() / (double)RAND_MAX; // this gives values from zoro to 1\n",
    "    printf(\"Scale to (0, 1): \\t %lf\\n\", a);\n",
    "    //now scale:\n",
    "    a *= (x_max - x_min);\n",
    "    printf(\"Scale to (0, scale): \\t %lf\\n\", a);\n",
    "    //and shift\n",
    "    a += x_min;\n",
    "    printf(\"Shift by x_min: \\t %lf\\n\", a);\n",
    "}"
   ]
  },
  {
   "cell_type": "markdown",
   "metadata": {},
   "source": [
    "---------------\n",
    "\n",
    "## A basic sorting algorithm - the [bubble sort](https://en.wikipedia.org/wiki/Bubble_sort)\n",
    "\n",
    "The simplest alghoritm to perform sort of a sequence of values.\n",
    "Works by comparing consequtive pairs of elements in a sequence and swaping them such that the larger is moved towards end of the collection. After the first pass the last element is the largest, in the second pass the process is repeted and the second largest element becomes seconf from the end, and so on.\n",
    "\n",
    "Implement Bubble sort and test it for a sequence of random numbers from 0 to 1"
   ]
  },
  {
   "cell_type": "code",
   "execution_count": 161,
   "metadata": {},
   "outputs": [
    {
     "name": "stdout",
     "output_type": "stream",
     "text": [
      "Original array:\n",
      "0.224041 0.652877 0.226167 0.114034 0.137115 0.017589 0.361988 0.600466 0.873132 0.891514 \n",
      "\n",
      "After sorting, values are increasing:\n",
      "0.017589 0.114034 0.137115 0.224041 0.226167 0.361988 0.600466 0.652877 0.873132 0.891514 \n"
     ]
    }
   ],
   "source": [
    "#include <stdio.h>\n",
    "#include <stdlib.h>\n",
    "#include <time.h>\n",
    "\n",
    "//a prototype od a function implemented below\n",
    "void print_1Darray(double B[], int n);\n",
    "//A bubble sort function\n",
    "void bsort(double a[], int n)\n",
    "{\n",
    "    for(int j=0; j<n-1; ++j) // repeat until all alements are moved\n",
    "    {\n",
    "        for(int i=0; i<n-1-j; ++i) //traverse the collection from 0 to n-1-j\n",
    "        {\n",
    "            if(a[i] > a[i+1]) // swap\n",
    "            {\n",
    "                double tmp = a[i];\n",
    "                a[i] = a[i+1];\n",
    "                a[i+1] = tmp;\n",
    "            }\n",
    "        }\n",
    "    }\n",
    "}\n",
    "\n",
    "int main(){\n",
    "    srand(time(NULL));\n",
    "    \n",
    "    double tab[10];\n",
    "    for(int i=0; i<10; ++i)\n",
    "    {\n",
    "        tab[i] = rand() / (double)RAND_MAX;\n",
    "    }\n",
    "    \n",
    "    printf(\"Original array:\\n\");\n",
    "    print_1Darray(tab, 10);\n",
    "    printf(\"\\nAfter sorting, values are increasing:\\n\");\n",
    "    bsort(tab, 10);\n",
    "    print_1Darray(tab, 10);\n",
    "}\n",
    "\n",
    "void print_1Darray(double B[], int n)\n",
    "{\n",
    "    for(int i=0; i<n; ++i)\n",
    "    {\n",
    "        printf(\"%lf \", B[i]);\n",
    "    }\n",
    "    printf(\"\\n\");\n",
    "}"
   ]
  },
  {
   "cell_type": "markdown",
   "metadata": {},
   "source": [
    "## Working with files\n",
    "\n",
    "1. FILE structure handles access and operations on files\n",
    "    * Create a pointer to FILE and initialize with fopen()\n",
    "        * fopen() works in different modes (see Lecture 8)\n",
    "\n",
    "*fopen()* usage: *fopen(\"path_to_file\", \"access_mode\")*.\n",
    "\n",
    "In the example the file is opened for writing - in this mode file does not need to exist. Should we try to use *fopen* in *reading* mode without the file there would be an error."
   ]
  },
  {
   "cell_type": "code",
   "execution_count": 18,
   "metadata": {},
   "outputs": [],
   "source": [
    "#include <stdio.h>\n",
    "\n",
    "int main(){\n",
    "    FILE *f;\n",
    "    f = fopen(\"my_file_to_open\", \"w\");\n",
    "    \n",
    "    fclose(f);\n",
    "}"
   ]
  },
  {
   "cell_type": "markdown",
   "metadata": {},
   "source": [
    "Inspect your working directory, an empty file *my_file_to_open* should have been created.\n",
    "\n",
    "You can provide a full or relative path to a file with, but **be careful since you can easily override something important**!"
   ]
  },
  {
   "cell_type": "code",
   "execution_count": 163,
   "metadata": {},
   "outputs": [],
   "source": [
    "#include <stdio.h>\n",
    "\n",
    "int main(){\n",
    "    FILE *f;\n",
    "    f = fopen(\"../my_file_to_open\", \"w\");\n",
    "    // or f = fopen(\"/absolute_path/my_file_to_open\", \"w\");\n",
    "    \n",
    "    fclose(f);\n",
    "}"
   ]
  },
  {
   "cell_type": "markdown",
   "metadata": {},
   "source": [
    "2. Writing to file is performed with fprintf()\n",
    "    * similar to printf()\n",
    "    * *fprintf(FILE *, \"the message\")*\n",
    "    \n",
    "Print some text to a file and on the screen, compare the results:"
   ]
  },
  {
   "cell_type": "code",
   "execution_count": 172,
   "metadata": {},
   "outputs": [
    {
     "name": "stdout",
     "output_type": "stream",
     "text": [
      "I enjoy \t CS1 \t lectures on Monday,\n",
      "this is my favorite class!\n"
     ]
    }
   ],
   "source": [
    "#include <stdio.h>\n",
    "\n",
    "int main(){\n",
    "    FILE *file = fopen(\"my_file_to_open\", \"w\");\n",
    "    //printing to a file with fprintf\n",
    "    fprintf(file, \"I enjoy \\t CS1 \\t lectures on Monday,\\nthis is myfavorite class!\\n\" );\n",
    "    //printing on a screen with printf()\n",
    "    printf(\"I enjoy \\t CS1 \\t lectures on Monday,\\nthis is my favorite class!\\n\" );\n",
    "    fclose(file);\n",
    "}"
   ]
  },
  {
   "cell_type": "markdown",
   "metadata": {},
   "source": [
    "3. Reading from a file with fscanf()\n",
    "    * similar to scanf()\n",
    "    * *fscanf(FILE *, \"format\", type *)*\n",
    "    \n",
    "Create a file data.dat and fill it with some integers. Read and print:"
   ]
  },
  {
   "cell_type": "code",
   "execution_count": 167,
   "metadata": {},
   "outputs": [
    {
     "name": "stdout",
     "output_type": "stream",
     "text": [
      "1 2 3 4 5 6 6 "
     ]
    }
   ],
   "source": [
    "#include <stdio.h>\n",
    "\n",
    "int main(){\n",
    "    FILE *file = fopen(\"data.dat\", \"r\");\n",
    "    \n",
    "    int a;\n",
    "    for(int i=0; i<7; ++i)\n",
    "    {\n",
    "        fscanf(file, \"%d\", &a);\n",
    "        printf(\"%d \", a);\n",
    "    }\n",
    "    \n",
    "    fclose(file);\n",
    "}"
   ]
  },
  {
   "cell_type": "markdown",
   "metadata": {},
   "source": [
    "4. Remembar to clean after yourself, i.e. use fclose()\n",
    "    * for every *fopen* there needs to be an *fclose*\n",
    "    * *fclose(FILE *)*"
   ]
  }
 ],
 "metadata": {
  "kernelspec": {
   "display_name": "C",
   "language": "c",
   "name": "c"
  },
  "language_info": {
   "file_extension": ".c",
   "mimetype": "text/plain",
   "name": "c"
  }
 },
 "nbformat": 4,
 "nbformat_minor": 2
}
