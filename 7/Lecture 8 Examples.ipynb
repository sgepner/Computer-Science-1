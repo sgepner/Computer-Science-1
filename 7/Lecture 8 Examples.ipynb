{
 "cells": [
  {
   "cell_type": "markdown",
   "metadata": {},
   "source": [
    "# 1D static arrays, random numbers and working with files"
   ]
  },
  {
   "cell_type": "markdown",
   "metadata": {},
   "source": [
    "## Static arrays,\n",
    "More often than not we need to process a number of variables. That is our program deals not with simple single-valued data, but with a **collection**. The most common type of a collection, throughout different programming languages is an array of data. Arrays can be thought of as continuous containers (for what it is worth in thay are continuous in memory) that store elements one after the other. I like to think about it as a sequence of cups, each storing some 'stuff', arranged one-after-another.  \n",
    "\n",
    "Arrays can be either **static**, that is such that their size is known before the program is run, and remains fixed throughout the program's lifetime, or **dynamic** that is such that have their size set at *runtime*. We will now have a look at how **static** arrays are handled in **C**. Much of what we show here will be applicable to dynamic arrays.\n",
    "\n",
    "1. The size of a static array **must be known** at compilation time!    \n",
    "2. How to create an array, syntax:\n",
    "    * *type name\\[size\\]*\n",
    "    * again: *size* **must** be known at compilation\n",
    "3. While VLA are allowed in C99 standard, this construct is **forbidden** in this class. As in you will fail on a test if you use it.\n",
    "\n",
    "### 1. Declaring a 1D array\n",
    "So to make the long story short. To declare an array of 10 ints, you do:"
   ]
  },
  {
   "cell_type": "code",
   "execution_count": null,
   "metadata": {},
   "outputs": [],
   "source": [
    "int tab[10];"
   ]
  },
  {
   "cell_type": "markdown",
   "metadata": {},
   "source": [
    "But if you do:"
   ]
  },
  {
   "cell_type": "code",
   "execution_count": null,
   "metadata": {},
   "outputs": [],
   "source": [
    "int n=10;\n",
    "int tab[n];"
   ]
  },
  {
   "cell_type": "markdown",
   "metadata": {},
   "source": [
    "You will get exactly **ZERO** (as in 0!) points on a test. You have been warned!\n",
    "\n",
    "Let us have a complete program, that does nothing, but declares an array of 10 integers:"
   ]
  },
  {
   "cell_type": "code",
   "execution_count": 119,
   "metadata": {},
   "outputs": [],
   "source": [
    "int main()\n",
    "{\n",
    "    int tab[10]; //an array of 10 integers, i.e. 40B\n",
    "}"
   ]
  },
  {
   "cell_type": "markdown",
   "metadata": {},
   "source": [
    "### 2. Accesing elements with square brackets \\[ \\]\n",
    "    * Indexing starts with 0 and is up to size-1\n",
    "    * Accessing elements outside an array will (or not but do not count on that) cause a *run time* error:"
   ]
  },
  {
   "cell_type": "code",
   "execution_count": 26,
   "metadata": {},
   "outputs": [
    {
     "name": "stdout",
     "output_type": "stream",
     "text": [
      "10 20 30\n"
     ]
    }
   ],
   "source": [
    "#include <stdio.h>\n",
    "\n",
    "int main()\n",
    "{\n",
    "    int tab[3];\n",
    "    \n",
    "    tab[0] = 10; // indices start from 0!\n",
    "    tab[1] = 20;\n",
    "    tab[2] = 30;\n",
    "    \n",
    "    printf(\"%d %d %d\\n\", tab[0], tab[1], tab[2]);\n",
    "}"
   ]
  },
  {
   "cell_type": "markdown",
   "metadata": {},
   "source": [
    "And this will cause a *runt-time* error:"
   ]
  },
  {
   "cell_type": "code",
   "execution_count": 27,
   "metadata": {},
   "outputs": [
    {
     "name": "stdout",
     "output_type": "stream",
     "text": [
      "10 20 30 40"
     ]
    },
    {
     "name": "stderr",
     "output_type": "stream",
     "text": [
      "*** stack smashing detected ***: terminated\n",
      "[C kernel] Executable exited with code -6"
     ]
    }
   ],
   "source": [
    "#include <stdio.h>\n",
    "\n",
    "int main()\n",
    "{\n",
    "    int tab[3];\n",
    "    \n",
    "    tab[0] = 10; // indices start from 0!\n",
    "    tab[1] = 20;\n",
    "    tab[2] = 30;\n",
    "    \n",
    "    tab[3] = 40; // can not access element 3 since it is out of bounds\n",
    "    printf(\"%d %d %d %d\", tab[0], tab[1], tab[2], tab[3]);\n",
    "}"
   ]
  },
  {
   "cell_type": "markdown",
   "metadata": {},
   "source": [
    "### 3. How is an array stored in the memory\n",
    "    * It is stored in a continous block.\n",
    "    * Elements are separated by the number of bytes equal the size of an array type, i.e. 4B for ints and floats, 8B for doubles."
   ]
  },
  {
   "cell_type": "markdown",
   "metadata": {},
   "source": [
    "Let us try to print an address of the first element:"
   ]
  },
  {
   "cell_type": "code",
   "execution_count": 11,
   "metadata": {},
   "outputs": [
    {
     "name": "stdout",
     "output_type": "stream",
     "text": [
      "0 0 0\n",
      "0x7ffc0d45e0fc\n",
      "0x7ffc0d45e100\n",
      "0x7ffc0d45e104\n",
      "0x7ffc0d45e0fc\n",
      "0x7ffc0d45e100\n",
      "0x7ffc0d45e104\n"
     ]
    }
   ],
   "source": [
    "#include <stdio.h>\n",
    "\n",
    "int main()\n",
    "{\n",
    "    int tab[3];\n",
    "    \n",
    "    tab[0] = tab[1] = tab[2] = 0;\n",
    "    \n",
    "    printf(\"%d %d %d\\n\", tab[0], tab[1], tab[2]);\n",
    "    printf(\"%p\\n%p\\n%p\\n\", &tab[0], &tab[1], &tab[2]);\n",
    "    printf(\"%p\\n%p\\n%p\\n\", tab, tab+1, tab+2);\n",
    "} // c is 12"
   ]
  },
  {
   "cell_type": "markdown",
   "metadata": {},
   "source": [
    "We note that addresses (position in memory of tab\\[0\\] is the same as the same pointed by tab). This indicates that tab is a pointer!?"
   ]
  },
  {
   "cell_type": "markdown",
   "metadata": {},
   "source": [
    "### 4. Are arrays pointers?\n",
    "    * Yes, almost.\n",
    "    * Some consequences of pointer arithmetics.\n",
    "    \n",
    "Use a pointer to an int to access elements of an array if int's."
   ]
  },
  {
   "cell_type": "code",
   "execution_count": 19,
   "metadata": {},
   "outputs": [
    {
     "name": "stdout",
     "output_type": "stream",
     "text": [
      "10 20 30 | 30\n",
      "0x7ffc314e9abc 0x7ffc314e9ac0 0x7ffc314e9ac4\n",
      "0x7ffc314e9abc"
     ]
    }
   ],
   "source": [
    "#include <stdio.h>\n",
    "\n",
    "int main()\n",
    "{\n",
    "    int tab[3];\n",
    "    int *p;// = &tab[0];\n",
    "    p = tab;\n",
    "    \n",
    "    p[0] = 10;\n",
    "    p[1] = 20;\n",
    "    p[2] = 30;\n",
    "    \n",
    "    printf(\"%d %d %d | %d\\n\", tab[0], tab[1], tab[2], p[2]);\n",
    "    printf(\"%p %p %p\\n%p\", &tab[0], &tab[1], &tab[2], p);\n",
    "}"
   ]
  },
  {
   "cell_type": "markdown",
   "metadata": {},
   "source": [
    "It seems that using \\[ \\] is equivalent to using a * operation on a pointer, and in consequence the following is possible:"
   ]
  },
  {
   "cell_type": "code",
   "execution_count": 25,
   "metadata": {},
   "outputs": [
    {
     "name": "stdout",
     "output_type": "stream",
     "text": [
      "10 20 30\n",
      "10 20 30\n",
      "10 20 30\n",
      "10 20 30\n"
     ]
    }
   ],
   "source": [
    "#include <stdio.h>\n",
    "\n",
    "int main()\n",
    "{\n",
    "    int tab[3];\n",
    "    \n",
    "    tab[0] = 10;\n",
    "    tab[1] = 20;\n",
    "    tab[2] = 30;\n",
    "    \n",
    "    printf(\"%d %d %d\\n\", tab[0], tab[1], tab[2]);\n",
    "    printf(\"%d %d %d\\n\", *tab, *(tab+1), *(tab+2));\n",
    "    \n",
    "    printf(\"%d %d %d\\n\", *tab, *(1+tab), *(2+tab));\n",
    "    printf(\"%d %d %d\\n\", 0[tab], 1[tab], 2[tab]);\n",
    "}"
   ]
  },
  {
   "cell_type": "markdown",
   "metadata": {},
   "source": [
    "The fact that arrays in **C** allow for access using *index\\[array_name\\]* should be treated as a curiosity, and a consequence of pointer arithmetics - never to be used in an actual code, as it makes it difficult to read and understand!"
   ]
  },
  {
   "cell_type": "markdown",
   "metadata": {},
   "source": [
    "### 5. Passing arrays as arguments to functions\n",
    "\n",
    "When passing an array to a function, the function must know the *type* and the size.\n",
    "\n",
    "Example: Write a program that uses two function, one for initialization an array of **doubles** and another to print its values."
   ]
  },
  {
   "cell_type": "code",
   "execution_count": 33,
   "metadata": {},
   "outputs": [
    {
     "name": "stdout",
     "output_type": "stream",
     "text": [
      "i=0, x=1.000000\n",
      "i=1, x=2.000000\n",
      "i=2, x=3.000000\n",
      "i=3, x=4.000000\n",
      "i=4, x=5.000000\n",
      "i=5, x=6.000000\n",
      "i=6, x=7.000000\n",
      "i=7, x=8.000000\n",
      "i=8, x=9.000000\n",
      "i=9, x=10.000000\n"
     ]
    }
   ],
   "source": [
    "#include <stdio.h>\n",
    "\n",
    "// Those here are prototypes of functions\n",
    "void fillarray(double array[], int size);\n",
    "void printarray(double array[], int size);\n",
    "\n",
    "int main()\n",
    "{\n",
    "    double tab[500];\n",
    "    int n = 10;\n",
    "    \n",
    "    fillarray(tab, n);\n",
    "    printarray(tab, n);\n",
    "}\n",
    "\n",
    "// This fills the array with values from 1 up to size\n",
    "void fillarray(double array[], int size)\n",
    "{\n",
    "    for(int i=0; i<size; ++i)\n",
    "    {\n",
    "        array[i] = i+1;\n",
    "    }\n",
    "}\n",
    "\n",
    "void printarray(double array[], int size)\n",
    "{\n",
    "    for(int i=0; i<size; ++i)\n",
    "    {\n",
    "        printf(\"i=%d, x=%lf\\n\", i, array[i]);\n",
    "    }\n",
    "}"
   ]
  },
  {
   "cell_type": "markdown",
   "metadata": {},
   "source": [
    "### 6. Set a maximum allowable size of an array to be used\n",
    "    * Use preprocessors **#define**\n",
    "        * a good practice is to use a **uniqe** identifier for a define to avoid problems"
   ]
  },
  {
   "cell_type": "code",
   "execution_count": 38,
   "metadata": {},
   "outputs": [
    {
     "name": "stdout",
     "output_type": "stream",
     "text": [
      "i=0, x=1.000000\n",
      "i=1, x=2.000000\n",
      "i=2, x=3.000000\n",
      "i=3, x=4.000000\n",
      "i=4, x=5.000000\n",
      "i=5, x=6.000000\n",
      "i=6, x=7.000000\n",
      "i=7, x=8.000000\n",
      "i=8, x=9.000000\n",
      "i=9, x=10.000000\n"
     ]
    }
   ],
   "source": [
    "#include <stdio.h>\n",
    "#define MAX_SIZE 50\n",
    "\n",
    "// Those here are prototypes of functions\n",
    "void fillarray(double array[], int size);\n",
    "void printarray(double array[], int size);\n",
    "\n",
    "int main()\n",
    "{\n",
    "    int  array1[MAX_SIZE];\n",
    "    char array2[MAX_SIZE];\n",
    "    \n",
    "    double tab[MAX_SIZE];\n",
    "    int n = 10;\n",
    "    \n",
    "    fillarray(tab, n);\n",
    "    printarray(tab, n);\n",
    "}\n",
    "\n",
    "// This fills the array with values from 1 up to size\n",
    "void fillarray(double array[], int size)\n",
    "{\n",
    "    for(int i=0; i<size; ++i)\n",
    "    {\n",
    "        array[i] = i+1;\n",
    "    }\n",
    "}\n",
    "\n",
    "void printarray(double array[], int size)\n",
    "{\n",
    "    for(int i=0; i<size; ++i)\n",
    "    {\n",
    "        printf(\"i=%d, x=%lf\\n\", i, array[i]);\n",
    "    }\n",
    "}"
   ]
  },
  {
   "cell_type": "markdown",
   "metadata": {},
   "source": [
    "## Random numbers\n",
    "\n",
    "### 1. How to generate a random number?\n",
    "\n",
    "* include **stdlib.h** and use *rand()*\n",
    "* *rand()* returns a random int from zero up to RAND_MAX\n",
    "    \n",
    "Generate a random number and print it together with the value of RAND_MAX, notice that the result is the same everytime you run the code."
   ]
  },
  {
   "cell_type": "code",
   "execution_count": 92,
   "metadata": {},
   "outputs": [
    {
     "name": "stdout",
     "output_type": "stream",
     "text": [
      "1804289383, 2147483647\n"
     ]
    }
   ],
   "source": [
    "#include <stdio.h>\n",
    "#include <stdlib.h>\n",
    "\n",
    "int main(){\n",
    "    int a = rand();\n",
    "    printf(\"%d, %d\\n\", a, RAND_MAX);\n",
    "}"
   ]
  },
  {
   "cell_type": "markdown",
   "metadata": {},
   "source": [
    "### 2. Are random numbers random?\n",
    "* Well now, thay are just consecutive elements of a predefined sequence of numbers that mimic randomness.\n",
    "* *srand()* initializes the random sequence to start at a different position\n",
    "\n",
    "Use *srand()*, rerun the code and see that values have changed, but are still the same on consecutive reruns."
   ]
  },
  {
   "cell_type": "code",
   "execution_count": 97,
   "metadata": {},
   "outputs": [
    {
     "name": "stdout",
     "output_type": "stream",
     "text": [
      "1968078301, 2147483647"
     ]
    }
   ],
   "source": [
    "#include <stdio.h>\n",
    "#include <stdlib.h>\n",
    "\n",
    "int main(){\n",
    "    srand(4);\n",
    "    int a = rand();\n",
    "    printf(\"%d, %d\", a, RAND_MAX);\n",
    "}"
   ]
  },
  {
   "cell_type": "markdown",
   "metadata": {},
   "source": [
    "### 3. Initialize a random sequence with current time\n",
    "* Specifically, with the number of seconds (int) that passed since time Zero.\n",
    "* Zero time is 00:00:00 Thursday, 1 January 1970\n",
    "* Yes, there is nothing before time zero ...\n",
    "* On systems where time is represented by a 32 bit intiger\n",
    "    time ends after 2147483647 seconds i.e. 3:14:08 19 January 2038 (similar to the [Year 2000 problem](https://en.wikipedia.org/wiki/Year_2000_problem)),see [Year_2038_problem](https://en.wikipedia.org/wiki/Year_2038_problem).\n",
    "    * The end of the world is coming!\n",
    "        \n",
    "Run the cose a couple of times and observe that the values change now."
   ]
  },
  {
   "cell_type": "code",
   "execution_count": 109,
   "metadata": {},
   "outputs": [
    {
     "name": "stdout",
     "output_type": "stream",
     "text": [
      "1606128313 since January 1 1970\n",
      "1127191404, 2147483647"
     ]
    }
   ],
   "source": [
    "#include <stdio.h>\n",
    "#include <stdlib.h>\n",
    "#include <time.h>\n",
    "\n",
    "int main(){\n",
    "    printf(\"%ld since January 1 1970\\n\", time(NULL));\n",
    "    srand(time(NULL));\n",
    "    \n",
    "    int a = rand();\n",
    "    printf(\"%d, %d\", a, RAND_MAX);\n",
    "}"
   ]
  },
  {
   "cell_type": "markdown",
   "metadata": {},
   "source": [
    "### 4. How to generate random doubles in a given range?\n",
    "* Start with values from zero to 1 and than scale and shift as needed\n",
    "* or learn formulas by hard ..."
   ]
  },
  {
   "cell_type": "markdown",
   "metadata": {},
   "source": [
    "Generate random numbers from 0 up to 1:"
   ]
  },
  {
   "cell_type": "code",
   "execution_count": 122,
   "metadata": {},
   "outputs": [
    {
     "name": "stdout",
     "output_type": "stream",
     "text": [
      "x=0.554433\n",
      "x=0.898342\n",
      "x=0.798349\n",
      "x=0.854367\n",
      "x=0.567420\n",
      "x=0.794366\n",
      "x=0.656387\n",
      "x=0.620818\n",
      "x=0.520150\n",
      "x=0.371525\n"
     ]
    }
   ],
   "source": [
    "#include <stdio.h>\n",
    "#include <stdlib.h> // this here defines RAND_MAX\n",
    "#include <time.h>\n",
    "\n",
    "int main()\n",
    "{\n",
    "    srand(time(NULL));\n",
    "    for(int i=0; i<10; ++i)\n",
    "    {\n",
    "        double x = (double)rand()/RAND_MAX;\n",
    "        printf(\"x=%lf\\n\", x);\n",
    "    }\n",
    "}"
   ]
  },
  {
   "cell_type": "markdown",
   "metadata": {},
   "source": [
    "Now modify the program so it returns a value from an arbitrary range:"
   ]
  },
  {
   "cell_type": "code",
   "execution_count": 123,
   "metadata": {},
   "outputs": [
    {
     "name": "stdout",
     "output_type": "stream",
     "text": [
      "x=11.573040\n",
      "x=13.410400\n",
      "x=12.489999\n",
      "x=10.993379\n",
      "x=13.131483\n",
      "x=14.834072\n",
      "x=12.573587\n",
      "x=12.681914\n",
      "x=11.628608\n",
      "x=12.526821\n"
     ]
    }
   ],
   "source": [
    "#include <stdio.h>\n",
    "#include <stdlib.h> // this here defines RAND_MAX\n",
    "#include <time.h>\n",
    "\n",
    "int main()\n",
    "{\n",
    "    srand(time(NULL));\n",
    "    \n",
    "    double x_min = 10, x_max = 15;\n",
    "    for(int i=0; i<10; ++i)\n",
    "    {\n",
    "        double x = (double)rand()/RAND_MAX;\n",
    "        x = x_min + x*(x_max-x_min);\n",
    "        printf(\"x=%lf\\n\", x);\n",
    "    }\n",
    "}"
   ]
  },
  {
   "cell_type": "code",
   "execution_count": 124,
   "metadata": {},
   "outputs": [
    {
     "name": "stdout",
     "output_type": "stream",
     "text": [
      "Scale to (0, 1): \t 0.182814\n",
      "Scale to (0, scale): \t 1.828140\n",
      "Shift by x_min: \t 11.828140\n"
     ]
    }
   ],
   "source": [
    "#include <stdio.h>\n",
    "#include <stdlib.h>\n",
    "#include <time.h>\n",
    "\n",
    "int main(){\n",
    "    srand(time(NULL));\n",
    "    \n",
    "    double x_max = 20, x_min = 10; // the range of numbers\n",
    "    \n",
    "    double a = rand() / (double)RAND_MAX; // this gives values from zoro to 1\n",
    "    printf(\"Scale to (0, 1): \\t %lf\\n\", a);\n",
    "    //now scale:\n",
    "    a *= (x_max - x_min);\n",
    "    printf(\"Scale to (0, scale): \\t %lf\\n\", a);\n",
    "    //and shift\n",
    "    a += x_min;\n",
    "    printf(\"Shift by x_min: \\t %lf\\n\", a);\n",
    "}"
   ]
  },
  {
   "cell_type": "markdown",
   "metadata": {},
   "source": [
    "## A basic sorting algorithm - the [bubble sort](https://en.wikipedia.org/wiki/Bubble_sort)\n",
    "\n",
    "The simplest algorithm to perform sort of a sequence of values.\n",
    "Works by comparing consecutive pairs of elements in a sequence and swapping them such that the larger is moved towards end of the collection. After the first pass the last element is the largest, in the second pass the process is repeated and the second largest element becomes second from the end, and so on. This is illustrated with the below animation:\n",
    "\n",
    "![](movie.gif)\n",
    "\n",
    "Or with the use of Hungarian folk dance: [Here](https://www.youtube.com/watch?v=lyZQPjUT5B4&ab_channel=AlgoRythmics) (They do other sorting algorithms as well!)\n",
    "\n",
    "**Exercise:**\n",
    "Implement Bubble sort and test it for a sequence of random numbers from 0 to 1"
   ]
  },
  {
   "cell_type": "code",
   "execution_count": 140,
   "metadata": {},
   "outputs": [
    {
     "name": "stdout",
     "output_type": "stream",
     "text": [
      "0.077629 0.156381 0.093824 0.243227 0.139298 \n",
      "0.077629 0.093824 0.139298 0.156381 0.243227 \n"
     ]
    }
   ],
   "source": [
    "#include <stdio.h>\n",
    "#include <stdlib.h>\n",
    "#include <time.h>\n",
    "#define MS 100\n",
    "\n",
    "void tabfill(double a[], int n);\n",
    "void print(double a[], int n);\n",
    "void bubble_sort(double a[], int n);\n",
    "\n",
    "int main()\n",
    "{\n",
    "    srand(time(NULL));\n",
    "    int n = 5;\n",
    "    double tab[MS];\n",
    "    \n",
    "    tabfill(tab, n);\n",
    "    print(tab, n);\n",
    "    bubble_sort(tab, n);\n",
    "    print(tab, n);\n",
    "}\n",
    "\n",
    "//fill an array with values from 0 up to 1\n",
    "void tabfill(double a[], int n)\n",
    "{\n",
    "    for(int i=0; i<n; ++i)\n",
    "    {\n",
    "        a[i] = (double)rand() / RAND_MAX;\n",
    "    }\n",
    "}\n",
    "\n",
    "//print elements of an array\n",
    "void print(double a[], int n)\n",
    "{\n",
    "    for(int i=0; i<n; ++i)\n",
    "    {\n",
    "        printf(\"%lf \", a[i]);\n",
    "    }\n",
    "    printf(\"\\n\");\n",
    "}\n",
    "\n",
    "//sort an array of doubles\n",
    "void bubble_sort(double a[], int n)\n",
    "{\n",
    "    double tmp;\n",
    "    int issorted = 1;\n",
    "    for(int j=0; j<n-1; ++j)\n",
    "    {\n",
    "        issorted = 1;\n",
    "        for(int i=0; i<n-1-j; ++i)\n",
    "        {\n",
    "            if(a[i] > a[i+1]) // the swap\n",
    "            {\n",
    "                tmp = a[i];\n",
    "                a[i]  = a[i+1];\n",
    "                a[i+1]= tmp;\n",
    "                issorted = 0;\n",
    "            }\n",
    "        }\n",
    "        if(issorted==1) return;\n",
    "    }\n",
    "}"
   ]
  },
  {
   "cell_type": "markdown",
   "metadata": {},
   "source": [
    "## Working with files\n",
    "\n",
    "1. FILE structure handles access and operations on files\n",
    "    * Create a pointer to FILE and initialize with fopen()\n",
    "        * fopen() works in different modes (see Lecture 8)\n",
    "\n",
    "*fopen()* usage: *fopen(\"path_to_file\", \"access_mode\")*.\n",
    "\n",
    "In the example the file is opened for writing - in this mode file does not need to exist. Should we try to use *fopen* in *reading* mode without the file there would be an error."
   ]
  },
  {
   "cell_type": "code",
   "execution_count": 144,
   "metadata": {},
   "outputs": [],
   "source": [
    "#include <stdio.h>\n",
    "\n",
    "int main(){\n",
    "    FILE *f;\n",
    "    f = fopen(\"my_file_to_open\", \"w\");\n",
    "    \n",
    "    fclose(f);\n",
    "}"
   ]
  },
  {
   "cell_type": "markdown",
   "metadata": {},
   "source": [
    "Inspect your working directory, an empty file *my_file_to_open* should have been created.\n",
    "\n",
    "You can provide a full or relative path to a file with, but **be careful since you can easily override something important**!"
   ]
  },
  {
   "cell_type": "code",
   "execution_count": 163,
   "metadata": {},
   "outputs": [],
   "source": [
    "#include <stdio.h>\n",
    "\n",
    "int main(){\n",
    "    FILE *f;\n",
    "    f = fopen(\"../my_file_to_open\", \"w\");\n",
    "    // or f = fopen(\"/absolute_path/my_file_to_open\", \"w\");\n",
    "    \n",
    "    fclose(f);\n",
    "}"
   ]
  },
  {
   "cell_type": "markdown",
   "metadata": {},
   "source": [
    "2. Writing to file is performed with fprintf()\n",
    "    * similar to printf()\n",
    "    * *fprintf(FILE *, \"the message\")*\n",
    "    \n",
    "Print some text to a file and on the screen, compare the results:"
   ]
  },
  {
   "cell_type": "code",
   "execution_count": 147,
   "metadata": {},
   "outputs": [
    {
     "name": "stdout",
     "output_type": "stream",
     "text": [
      "I enjoy \t CS1 \t lectures on Monday,\n",
      "this is my favorite class!\n"
     ]
    }
   ],
   "source": [
    "#include <stdio.h>\n",
    "\n",
    "int main(){\n",
    "    FILE *file = fopen(\"my_file_to_open\", \"w\");\n",
    "    \n",
    "    //printing to a file with fprintf\n",
    "    fprintf(file, \"I enjoy \\t CS1 \\t lectures on Monday,\\nthis is myfavorite class!\\n\" );\n",
    "    \n",
    "    //printing on a screen with printf()\n",
    "    printf(\"I enjoy \\t CS1 \\t lectures on Monday,\\nthis is my favorite class!\\n\" );\n",
    "    fclose(file);\n",
    "}"
   ]
  },
  {
   "cell_type": "markdown",
   "metadata": {},
   "source": [
    "3. Reading from a file with fscanf()\n",
    "    * similar to scanf()\n",
    "    * *fscanf(FILE *, \"format\", type *)*\n",
    "    \n",
    "Create a file data.dat and fill it with some integers. Read and print:"
   ]
  },
  {
   "cell_type": "code",
   "execution_count": 150,
   "metadata": {},
   "outputs": [
    {
     "name": "stdout",
     "output_type": "stream",
     "text": [
      "12.893726 12.893726 12.893726 "
     ]
    }
   ],
   "source": [
    "#include <stdio.h>\n",
    "\n",
    "int main(){\n",
    "    FILE *file = fopen(\"samples/data.dat\", \"r\");\n",
    "    \n",
    "    double a;\n",
    "    for(int i=0; i<3; ++i)\n",
    "    {\n",
    "        fscanf(file, \"%lf\", &a);\n",
    "        printf(\"%lf \", a);\n",
    "    }\n",
    "    \n",
    "    fclose(file);\n",
    "}"
   ]
  },
  {
   "cell_type": "markdown",
   "metadata": {},
   "source": [
    "4. Remembar to clean after yourself, i.e. use fclose()\n",
    "    * for every *fopen* there needs to be an *fclose*\n",
    "    * *fclose(FILE *)*"
   ]
  },
  {
   "cell_type": "markdown",
   "metadata": {},
   "source": [
    "## Examples to be done"
   ]
  },
  {
   "cell_type": "markdown",
   "metadata": {},
   "source": [
    "#### Example 1:"
   ]
  },
  {
   "cell_type": "code",
   "execution_count": 4,
   "metadata": {},
   "outputs": [],
   "source": [
    "//%cflags:-lm\n",
    "#include <stdio.h>\n",
    "#include <math.h>\n",
    "#define PI 4.0*atan(1.0)\n",
    "\n",
    "int main(){\n",
    "    int n;\n",
    "    //scanf(\"%d\", &n);\n",
    "    n = 100;\n",
    "    FILE *f = fopen(\"samples/sin.dat\", \"w\");\n",
    "    double h = (2.0*PI - 0) / (n-1);\n",
    "    double x=0.0;\n",
    "    double y;\n",
    "    for(int i=0; i<n; ++i)\n",
    "    {\n",
    "        y = sin(x);\n",
    "        fprintf(f, \"%lf, %lf\\n\", x, y);\n",
    "        x += h; // x = i*h\n",
    "    }\n",
    "    fclose(f);\n",
    "}"
   ]
  },
  {
   "cell_type": "markdown",
   "metadata": {},
   "source": [
    "#### Example 2:"
   ]
  },
  {
   "cell_type": "code",
   "execution_count": 15,
   "metadata": {
    "collapsed": true
   },
   "outputs": [
    {
     "name": "stdout",
     "output_type": "stream",
     "text": [
      "n=100\n",
      "x=0.899915 y=0.480382\n",
      "x=0.256794 y=0.379916\n",
      "x=0.825410 y=0.279753\n",
      "x=0.534659 y=0.416145\n",
      "x=0.679364 y=0.850037\n",
      "x=0.154672 y=0.708026\n",
      "x=0.365754 y=0.066581\n",
      "x=0.488391 y=0.728678\n",
      "x=0.669858 y=0.026407\n",
      "x=0.326477 y=0.838494\n",
      "x=0.556811 y=0.715800\n",
      "x=0.197294 y=0.376059\n",
      "x=0.529422 y=0.488890\n",
      "x=0.907731 y=0.395970\n",
      "x=0.074972 y=0.499215\n",
      "x=0.443492 y=0.974886\n",
      "x=0.979597 y=0.700286\n",
      "x=0.354802 y=0.805007\n",
      "x=0.980039 y=0.889461\n",
      "x=0.221152 y=0.659404\n",
      "x=0.739498 y=0.375824\n",
      "x=0.367429 y=0.105252\n",
      "x=0.442405 y=0.855820\n",
      "x=0.833930 y=0.112263\n",
      "x=0.882227 y=0.160406\n",
      "x=0.950757 y=0.439038\n",
      "x=0.876206 y=0.148050\n",
      "x=0.815097 y=0.405628\n",
      "x=0.636940 y=0.722828\n",
      "x=0.801598 y=0.711912\n",
      "x=0.222043 y=0.245090\n",
      "x=0.686799 y=0.201640\n",
      "x=0.945376 y=0.041601\n",
      "x=0.006647 y=0.925416\n",
      "x=0.931061 y=0.227799\n",
      "x=0.584819 y=0.670559\n",
      "x=0.603623 y=0.952249\n",
      "x=0.775811 y=0.046028\n",
      "x=0.808069 y=0.609741\n",
      "x=0.158291 y=0.690296\n",
      "x=0.770147 y=0.109047\n",
      "x=0.129334 y=0.646353\n",
      "x=0.257098 y=0.944431\n",
      "x=0.051981 y=0.894038\n",
      "x=0.667259 y=0.853579\n",
      "x=0.605950 y=0.889302\n",
      "x=0.098669 y=0.292749\n",
      "x=0.090942 y=0.044046\n",
      "x=0.334349 y=0.097589\n",
      "x=0.969461 y=0.265411\n",
      "x=0.325388 y=0.554280\n",
      "x=0.935969 y=0.929011\n",
      "x=0.506529 y=0.711780\n",
      "x=0.975039 y=0.314598\n",
      "x=0.321521 y=0.133329\n",
      "x=0.004894 y=0.091668\n",
      "x=0.242377 y=0.134227\n",
      "x=0.738021 y=0.499474\n",
      "x=0.078659 y=0.790003\n",
      "x=0.393512 y=0.745918\n",
      "x=0.643582 y=0.999463\n",
      "x=0.635220 y=0.742252\n",
      "x=0.292212 y=0.726163\n",
      "x=0.786297 y=0.626561\n",
      "x=0.823751 y=0.755759\n",
      "x=0.891972 y=0.149139\n",
      "x=0.310039 y=0.827941\n",
      "x=0.078150 y=0.816568\n",
      "x=0.539722 y=0.053189\n",
      "x=0.131166 y=0.861243\n",
      "x=0.186518 y=0.136059\n",
      "x=0.952911 y=0.428895\n",
      "x=0.270287 y=0.690932\n",
      "x=0.928369 y=0.348945\n",
      "x=0.480935 y=0.321881\n",
      "x=0.094863 y=0.124517\n",
      "x=0.321344 y=0.730084\n",
      "x=0.866769 y=0.613556\n",
      "x=0.456247 y=0.653066\n",
      "x=0.240117 y=0.279998\n",
      "x=0.408824 y=0.132088\n",
      "x=0.429137 y=0.718863\n",
      "x=0.960030 y=0.507288\n",
      "x=0.535431 y=0.499751\n",
      "x=0.560477 y=0.666597\n",
      "x=0.360994 y=0.746995\n",
      "x=0.802656 y=0.313904\n",
      "x=0.175890 y=0.072943\n",
      "x=0.004836 y=0.104259\n",
      "x=0.421889 y=0.485771\n",
      "x=0.426140 y=0.516752\n",
      "x=0.610288 y=0.747485\n",
      "x=0.246836 y=0.477057\n",
      "x=0.361040 y=0.703083\n",
      "x=0.130123 y=0.601157\n",
      "x=0.983081 y=0.538947\n",
      "x=0.733246 y=0.412218\n",
      "x=0.257810 y=0.693275\n",
      "x=0.919506 y=0.793241\n",
      "x=0.193027 y=0.479983\n",
      "ninside=78\n"
     ]
    }
   ],
   "source": [
    "//%cflags:-lm\n",
    "#include <stdio.h>\n",
    "#include <math.h>\n",
    "#define PI 4.0*atan(1.0)\n",
    "\n",
    "int main(){\n",
    "    int n, ninside=0;\n",
    "    FILE *f = fopen(\"samples/points.dat\", \"r\");\n",
    "    fscanf(f, \"%d\", &n);\n",
    "    printf(\"n=%d\\n\", n);\n",
    "    \n",
    "    double x, y;\n",
    "    \n",
    "    for(int i=0; i<n; ++i)\n",
    "    {\n",
    "        //fscanf(f, \"%lf %lf\", &x, &y);\n",
    "        fscanf(f, \"%lf\", &x);\n",
    "        fscanf(f, \"%lf\", &y);\n",
    "        printf(\"x=%lf y=%lf\\n\", x, y);\n",
    "        if( x*x+y*y < 1 )\n",
    "            ++ninside;\n",
    "    }\n",
    "    printf(\"ninside=%d\\n\", ninside);\n",
    "    \n",
    "    fclose(f);\n",
    "}"
   ]
  },
  {
   "cell_type": "markdown",
   "metadata": {},
   "source": [
    "#### Example 3"
   ]
  },
  {
   "cell_type": "code",
   "execution_count": 19,
   "metadata": {},
   "outputs": [],
   "source": [
    "#include <stdio.h>\n",
    "#include <math.h>\n",
    "#include <stdlib.h>\n",
    "#include <time.h>\n",
    "\n",
    "int main(){\n",
    "    srand(time(NULL));\n",
    "    \n",
    "    int n;\n",
    "    //scanf(\"%d\", &n);\n",
    "    n = 1000;\n",
    "    \n",
    "    FILE *fffaaa = fopen(\"samples/random_values.dat\", \"w\");\n",
    "    fprintf(fffaaa, \"%d\\n\", n);\n",
    "    for(int i=0; i<n; ++i)\n",
    "    {\n",
    "        fprintf(fffaaa, \"%lf\\n\", (double)rand() / RAND_MAX);\n",
    "    }\n",
    "    fclose(fffaaa);\n",
    "}"
   ]
  },
  {
   "cell_type": "markdown",
   "metadata": {},
   "source": [
    "#### Example 4"
   ]
  },
  {
   "cell_type": "code",
   "execution_count": 40,
   "metadata": {},
   "outputs": [
    {
     "name": "stdout",
     "output_type": "stream",
     "text": [
      "n=1000\n",
      "0.492233 489 511\n"
     ]
    }
   ],
   "source": [
    "#include <stdio.h>\n",
    "#define N 5000\n",
    "\n",
    "double avg(double *arr, int n, int *p1, int *p2);\n",
    "\n",
    "int main(){\n",
    "    int n;\n",
    "    FILE *f = fopen(\"samples/random_values.dat\", \"r\");\n",
    "    fscanf(f, \"%d\", &n);\n",
    "    printf(\"n=%d\\n\", n);\n",
    "    if(n > N)\n",
    "    {\n",
    "        printf(\"To large!\\n\");\n",
    "        fclose(f);\n",
    "        return 1;\n",
    "    }\n",
    "    double tab[N];\n",
    "    \n",
    "    for(int i=0; i<n; ++i)\n",
    "    {\n",
    "        fscanf(f, \"%lf\", &tab[i]);\n",
    "        //fscanf(f, \"%lf\", tab+i);\n",
    "        //printf(\"%lf\\n\", tab[i]);\n",
    "    }\n",
    "    \n",
    "    int a, b;\n",
    "    double av = avg(tab, n, &a, &b);\n",
    "    printf(\"%lf %d %d\\n\", av, a, b);\n",
    "    \n",
    "    fclose(f);\n",
    "}\n",
    "\n",
    "double avg(double *arr, int n, int *p1, int *p2)\n",
    "{\n",
    "    double a = 0;\n",
    "    int aavg = 0;\n",
    "    int bavg = 0;\n",
    "    for(int i=0; i<n; ++i)\n",
    "    {\n",
    "        a += arr[i];\n",
    "    }\n",
    "    a /= n;\n",
    "    for(int i=0; i<n; ++i)\n",
    "    {\n",
    "        if(arr[i] > a)\n",
    "        {\n",
    "            aavg = aavg + 1;\n",
    "            //aavg += 1;\n",
    "            //++aavg;\n",
    "        }\n",
    "        if(arr[i] < a)\n",
    "            ++bavg;\n",
    "    }\n",
    "    *p1 = aavg;\n",
    "    *p2 = bavg;\n",
    "    return a;\n",
    "}"
   ]
  },
  {
   "cell_type": "code",
   "execution_count": null,
   "metadata": {},
   "outputs": [],
   "source": []
  }
 ],
 "metadata": {
  "kernelspec": {
   "display_name": "C",
   "language": "c",
   "name": "c"
  },
  "language_info": {
   "file_extension": ".c",
   "mimetype": "text/plain",
   "name": "c"
  }
 },
 "nbformat": 4,
 "nbformat_minor": 2
}
