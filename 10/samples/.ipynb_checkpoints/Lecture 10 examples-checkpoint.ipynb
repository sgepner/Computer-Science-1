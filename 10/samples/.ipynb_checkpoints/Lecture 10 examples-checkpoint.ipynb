{
 "cells": [
  {
   "cell_type": "markdown",
   "metadata": {},
   "source": [
    "# Dynamic memory allocation"
   ]
  },
  {
   "cell_type": "markdown",
   "metadata": {},
   "source": [
    "We know how to work with **static** arrays, i.e. such that their size is known at the time of compilation. Now we need a method to deal with situations where size is unknown at compilation, and is going to be fixed at runtime.\n",
    "\n",
    "Dynamic memory allocation can be done with **malloc()** function, which is declared in **stdlib.h**. Memory is deallocated with **free()**.\n",
    "\n",
    "* **\\#include <stdlib.h>**\n",
    "* **void \\* malloc(unsigned int size)**\n",
    "    * allocates a memory block of **size** bytes\n",
    "    * returns an address of that memory block\n",
    "    * it is up to the programmer to free the memory\n",
    "        * **free()**\n",
    "        \n",
    "Note that **void * malloc()** returns an addres of the memory block that have been allocated as a pointer to **void** (i.e. **void \\***). The programmer needs to *cast* the returned pointer to an appropriate data type: **int \\*** for an array of **int**, **char \\*** for an array of char, and so on."
   ]
  },
  {
   "cell_type": "markdown",
   "metadata": {},
   "source": [
    "## 1D arrays\n",
    "We will start with 1D arrays. Those wirk very much the same as the static counterpart. The only difference is in array declaration (memory allocation) and the need to destroy it at the end. Everything else works the same.\n",
    "\n",
    "The first program allocates a block of 24 bytes and interprets it as an array of characters (how many?)"
   ]
  },
  {
   "cell_type": "code",
   "execution_count": 84,
   "metadata": {},
   "outputs": [
    {
     "name": "stdout",
     "output_type": "stream",
     "text": [
      "c c c c c c c c c c c c c c c c c c c c c c c c "
     ]
    }
   ],
   "source": [
    "#include <stdio.h>\n",
    "#include <stdlib.h>\n",
    "\n",
    "int main(){\n",
    "    char *tab = (char *)malloc(24); // allocate memory\n",
    "    \n",
    "    for(int i=0; i<24; ++i) // fill the array with characters\n",
    "        tab[i] = 'c';\n",
    "    \n",
    "    for(int i=0; i<24; ++i) // print the content as characters\n",
    "        printf(\"%c \", tab[i]);\n",
    "    \n",
    "    free(tab); // Deallocate memory\n",
    "}"
   ]
  },
  {
   "cell_type": "markdown",
   "metadata": {},
   "source": [
    "Providing the number of bytes to allocate is very inconvinient. The size of variables might vary in between architectures or simply we might not know the size of the data type<sup>1</sup>.\n",
    "The easy solution is to use the **sizeof()** function to estimate the size of a data type.\n",
    "\n",
    "<sup>1</sup> Up to now we have been using only simple data types (int, double ...) with well defined size. The **composite data type** are constructed from simple as well as other composites types and their size might be difficult to estimate. Also composites can be modified during program development changing their size.\n",
    "\n",
    "This program reads an integer *n* from standard input and allocates an array of *n* integers."
   ]
  },
  {
   "cell_type": "code",
   "execution_count": 88,
   "metadata": {},
   "outputs": [
    {
     "name": "stdout",
     "output_type": "stream",
     "text": [
      "0 1 2 3 4 5 6 7 8 9 "
     ]
    }
   ],
   "source": [
    "#include <stdio.h>\n",
    "#include <stdlib.h>\n",
    "\n",
    "int main(){\n",
    "    int n; // Variable to store size\n",
    "    //scanf(\"%d\", &n); // Read size from keyboard\n",
    "    \n",
    "    int *tab = (int *)malloc(n*sizeof(int)); // allocate memory for an array of int\n",
    "    \n",
    "    for(int i=0; i<n; ++i) // Fill array with numbers\n",
    "        tab[i] = i;\n",
    "    \n",
    "    for(int i=0; i<n; ++i) // Print\n",
    "        printf(\"%d \", tab[i]);\n",
    "    \n",
    "    free(tab); // Deallocate memory\n",
    "}"
   ]
  },
  {
   "cell_type": "markdown",
   "metadata": {},
   "source": [
    "In specific problems size of the actual data array can result from different operations. It could be read from keyboard, file, or other input (e.g. a message over network in client-server configuration).\n",
    "\n",
    "In this example we will read data from a file *data1.dat*. The file contains data defining position (x and y coordinates) of *n* points. The structure of the file is as follows:"
   ]
  },
  {
   "cell_type": "markdown",
   "metadata": {},
   "source": [
    "n <- number of points  \n",
    "x1 y1 <- coordinates of the first point\n",
    "x2 y2  \n",
    ".. ..  \n",
    "xn yn <- coordinates of the last point"
   ]
  },
  {
   "cell_type": "code",
   "execution_count": 90,
   "metadata": {},
   "outputs": [
    {
     "name": "stdout",
     "output_type": "stream",
     "text": [
      "3\n",
      "0 0.000000 5.600000\n",
      "1 2.100000 4.500000\n",
      "2 3.400000 4.400000\n"
     ]
    }
   ],
   "source": [
    "#include <stdio.h>\n",
    "#include <stdlib.h>\n",
    "\n",
    "int main(){\n",
    "    FILE *f = fopen(\"data1.dat\", \"r\"); // open the file\n",
    "    \n",
    "    int n;\n",
    "    fscanf(f, \"%d\", &n); // Read the number of points from file\n",
    "    printf(\"%d\\n\", n);\n",
    "    \n",
    "    double *x = (double *)malloc(n * sizeof(double)); // Allocate memory\n",
    "    double *y = (double *)malloc(n * sizeof(double));\n",
    "    \n",
    "    for(int i=0; i<n; ++i) // Read coordinates from the file\n",
    "    {\n",
    "        fscanf(f, \"%lf\", &x[i]);\n",
    "        fscanf(f, \"%lf\", &y[i]);\n",
    "    }\n",
    "    \n",
    "    for(int i=0; i<n; ++i) // Print coordinates\n",
    "    {\n",
    "        printf(\"%d %lf %lf\\n\", i, x[i], y[i]);\n",
    "    }\n",
    "    \n",
    "    free(x); // Deallocate the memory\n",
    "    free(y);\n",
    "    fclose(f); // Close the file\n",
    "}"
   ]
  },
  {
   "cell_type": "markdown",
   "metadata": {},
   "source": [
    "### Functions and 1D arrays\n",
    "1D dynamic arrays work the same as static ones as arguments to functions\n",
    "\n",
    "In this example we will develop two functions. The first one for filling an array with data and the second for printing the content of an array."
   ]
  },
  {
   "cell_type": "code",
   "execution_count": 93,
   "metadata": {},
   "outputs": [
    {
     "name": "stdout",
     "output_type": "stream",
     "text": [
      "91 36 53 60 25 94 "
     ]
    }
   ],
   "source": [
    "#include <stdio.h>\n",
    "#include <stdlib.h>\n",
    "#include <time.h>\n",
    "\n",
    "// Fills an array of n integers with random values\n",
    "// ranging from 0 to 99\n",
    "void fill(int tab[], int n) // Note the argument list\n",
    "{//       an array,  its size\n",
    "    for(int i=0; i<n; ++i)\n",
    "    {\n",
    "        tab[i] = rand()%100;\n",
    "    }\n",
    "}\n",
    "// Prints an array of n ints\n",
    "void print(int *tab, int n)\n",
    "{//        an array,  the size\n",
    "    for(int i=0; i<n; ++i)\n",
    "    {\n",
    "        printf(\"%d \", tab[i]);\n",
    "    }\n",
    "}\n",
    "\n",
    "int main(){\n",
    "    srand(time(NULL)); // initialize the random sequence\n",
    "    int n;\n",
    "    scanf(\"%d\", &n); // read the size from keyboard\n",
    "\n",
    "    int *tab = (int *)malloc(n*sizeof(int)); // allocate memory\n",
    "    \n",
    "    fill(tab, n); // call fill() function\n",
    "    print(tab, n);// call print() function\n",
    "    \n",
    "    free(tab); // dealloacate\n",
    "}"
   ]
  },
  {
   "cell_type": "markdown",
   "metadata": {},
   "source": [
    "## 2D arrays\n",
    "Contrary to 1D dynamic arrays, dynamically allocated 2D arrays (or any higher dimensional constructs) **differ** from their static counterparts. The source of the differences lies in the way data is stored in memory. In the case of static arrays the memory is guaranteed to be *continously* occupied. In the dynamic case memory distribution is up to the programmer.\n",
    "\n",
    "The main feature we need from a 2D array is the ability to acces data with two indices, i.e.: A\\[ i \\]\\[ j \\]. Since a single square bracket operator was infact an **indirection** operator **\\*** applied to an array (pointer) the double square brackets would correspond to a double indirection operator **\\*\\***, or in other words the 2D array would be equivalent to a pointer to a pointer (a double pointer) (i.e. **int \\*\\* A**).\n",
    "\n",
    "tab\\[ i \\] -> \\*(tab + i)  \n",
    "tab\\[ i \\]\\[ j \\] -> \\*(tab\\[ i \\] + j) -> \\*(\\*(tab + j) + j)\n",
    "\n",
    "We start with a 1D array of 6 integers, that we would like to interpret as a 2x3 2D array."
   ]
  },
  {
   "cell_type": "code",
   "execution_count": 95,
   "metadata": {},
   "outputs": [
    {
     "name": "stdout",
     "output_type": "stream",
     "text": [
      "11 12 13\n",
      "21 22 23\n"
     ]
    }
   ],
   "source": [
    "#include <stdio.h>\n",
    "#include <stdlib.h>\n",
    "\n",
    "int main(){\n",
    "    int n = 6; // we fix the number of elements to 6\n",
    "    \n",
    "    int *tab = (int *)malloc(n*sizeof(int)); // allocate\n",
    "    \n",
    "    tab[0] = 11; tab[1] = 12; tab[2] = 13; // first row to be\n",
    "    tab[3] = 21; tab[4] = 22; tab[5] = 23; // second row to be\n",
    "    \n",
    "    printf(\"%d %d %d\\n\", tab[0], tab[1], tab[2]);\n",
    "    printf(\"%d %d %d\\n\", tab[3], tab[4], tab[5]);\n",
    "    \n",
    "    free(tab);\n",
    "}"
   ]
  },
  {
   "cell_type": "markdown",
   "metadata": {},
   "source": [
    "This is not a 2D array, i.e. we can not acces elements as tab\\[1\\]\\[2\\] to get 23. We modify the program such that rows of our intended 2D structure are referenced by different pointers."
   ]
  },
  {
   "cell_type": "code",
   "execution_count": 97,
   "metadata": {},
   "outputs": [
    {
     "name": "stdout",
     "output_type": "stream",
     "text": [
      "11 12 13\n",
      "21 22 23\n"
     ]
    }
   ],
   "source": [
    "#include <stdio.h>\n",
    "#include <stdlib.h>\n",
    "\n",
    "int main(){\n",
    "    int n = 6;\n",
    "    \n",
    "    int *tab = (int *)malloc(n*sizeof(int));\n",
    "    \n",
    "    tab[0] = 11; tab[1] = 12; tab[2] = 13;\n",
    "    tab[3] = 21; tab[4] = 22; tab[5] = 23;\n",
    "    \n",
    "    int *p0 = &tab[0]; // First row\n",
    "    int *p1 = &tab[3]; // Second row\n",
    "    \n",
    "    printf(\"%d %d %d\\n\", p0[0], p0[1], p0[2]);\n",
    "    printf(\"%d %d %d\\n\", p1[0], p1[1], p1[2]);\n",
    "    \n",
    "    free(tab);\n",
    "}"
   ]
  },
  {
   "cell_type": "markdown",
   "metadata": {},
   "source": [
    "So we can acces data stored in tab as two separate arrays, a bit better but still not a 2D array.\n",
    "We modify the program further and replace pointers *p0* and *p1* with a static 1D arrays of\n",
    "pointers to integers (**int \\***)."
   ]
  },
  {
   "cell_type": "code",
   "execution_count": 102,
   "metadata": {},
   "outputs": [
    {
     "name": "stdout",
     "output_type": "stream",
     "text": [
      "11 12 13\n",
      "21 22 23\n"
     ]
    }
   ],
   "source": [
    "#include <stdio.h>\n",
    "#include <stdlib.h>\n",
    "\n",
    "int main(){\n",
    "    int n = 6;\n",
    "    \n",
    "    int *tab = (int *)malloc(n*sizeof(int));\n",
    "    \n",
    "    tab[0] = 11; tab[1] = 12; tab[2] = 13;\n",
    "    tab[3] = 21; tab[4] = 22; tab[5] = 23;\n",
    "    \n",
    "    int *A[2]; // Static 1D array of int *\n",
    "    A[0] = &tab[0]; // First row\n",
    "    A[1] = &tab[3]; // Second row\n",
    "    \n",
    "    //We can now access the elements with [][] !!\n",
    "    printf(\"%d \", A[0][0]); printf(\"%d \", A[0][1]); printf(\"%d\\n\", A[0][2]);\n",
    "    printf(\"%d \", A[1][0]); printf(\"%d \", A[1][1]); printf(\"%d\\n\", A[1][2]);\n",
    "    \n",
    "    free(tab);\n",
    "}"
   ]
  },
  {
   "cell_type": "markdown",
   "metadata": {},
   "source": [
    "Now we can access the data with double square brackets, in other words data can be interpreted as a 2D array. A is a 1D array, so A\\[ i \\] returns the i'th element of A. The type stored in A is **int \\*** so A\\[i\\] is a pointer to which we can apply square brackets. Finally A\\[ i \\]\\[ j \\] returns an integer.\n",
    "\n",
    "Our final modification is to make A a dynamically allocates array, note that A stores **int \\***, so the type we need for dynamic allocation is **int \\*\\***."
   ]
  },
  {
   "cell_type": "code",
   "execution_count": 103,
   "metadata": {},
   "outputs": [
    {
     "name": "stdout",
     "output_type": "stream",
     "text": [
      "11 12 13\n",
      "21 22 23\n"
     ]
    }
   ],
   "source": [
    "#include <stdio.h>\n",
    "#include <stdlib.h>\n",
    "\n",
    "int main(){\n",
    "    int n = 6;\n",
    "    \n",
    "    int *tab = (int *)malloc(n*sizeof(int));\n",
    "    \n",
    "    tab[0] = 11; tab[1] = 12; tab[2] = 13;\n",
    "    tab[3] = 21; tab[4] = 22; tab[5] = 23;\n",
    "    \n",
    "    int **A = (int **)malloc(2 * sizeof(int *)); // Dynamic allocation of A\n",
    "    A[0] = &tab[0]; // Assign address of the first row \n",
    "    A[1] = &tab[3]; // Address of the second row\n",
    "    \n",
    "    //We can now access the elements with [][] !!\n",
    "    printf(\"%d \", A[0][0]); printf(\"%d \", A[0][1]); printf(\"%d\\n\", A[0][2]);\n",
    "    printf(\"%d \", A[1][0]); printf(\"%d \", A[1][1]); printf(\"%d\\n\", A[1][2]);\n",
    "    \n",
    "    free(A); // Deallocate A\n",
    "    free(tab);// Deallocate tab\n",
    "}"
   ]
  },
  {
   "cell_type": "markdown",
   "metadata": {},
   "source": [
    "Working with dynamic 2D arrays differs from what we did with static 2D arrays. The main difference is in the way of passing arrays to functions. In the case of static 2D arrays we did it with a type, variable name and two square brackets, the number of columns needed to be passed as well. E.g.:  \n",
    "**int A\\[\\]\\[M\\]** for a 2D array of integers with M (known at compilation) collumns. A dynamic array will not work with such a function (can you explain why?), instead we need to pass the pointer-to-pointer variable, i.e. **int \\*\\***.\n",
    "\n",
    "In this example we will develop a function that prints values storred in a n x m 2D array. The array is created based on values stored in a file **data2.dat**. The structure of the file is as follows:"
   ]
  },
  {
   "cell_type": "markdown",
   "metadata": {},
   "source": [
    "n m <- number of rows, collumns  \n",
    "a11 a12 ... a1m <- first row  \n",
    "a21 a22 ... a2m <- second row  \n",
    "... ...  \n",
    "an1 an2 ... anm <- the last row"
   ]
  },
  {
   "cell_type": "code",
   "execution_count": 114,
   "metadata": {},
   "outputs": [
    {
     "name": "stdout",
     "output_type": "stream",
     "text": [
      "The array is 3 x 2\n",
      "\n",
      "Address of 0 row is 0x5591ebca1a70 \n",
      "Address of 1 row is 0x5591ebca1a78 \n",
      "Address of 2 row is 0x5591ebca1a80 \n",
      "\n",
      "The content of a 2D array:\n",
      "[0, 5, \b\b]\n",
      "[2, 4, \b\b]\n",
      "[3, 4, \b\b]\n"
     ]
    }
   ],
   "source": [
    "#include <stdio.h>\n",
    "#include <stdlib.h>\n",
    "\n",
    "// Prints the content of a 2D array od integers\n",
    "// n - number of rows\n",
    "// m - number of collumns\n",
    "void print(int **A, int n, int m)\n",
    "{\n",
    "    printf(\"\\nThe content of a 2D array:\\n\");\n",
    "    for(int i=0; i<n; ++i) // all rows\n",
    "    {\n",
    "        printf(\"[\"); // a nice bracket\n",
    "        for(int j=0; j<m; ++j) // all collumns\n",
    "        {\n",
    "            printf(\"%d, \", A[i][j]);\n",
    "        }\n",
    "        printf(\"\\b\\b]\\n\"); // two backspaces and a nice bracket\n",
    "    }\n",
    "}\n",
    "\n",
    "int main(){\n",
    "    FILE *f = fopen(\"data2.dat\", \"r\"); // Open a file\n",
    "    int n, m; // rows and collumns\n",
    "    fscanf(f, \"%d\", &n); // read number of rows\n",
    "    fscanf(f, \"%d\", &m); // read number of collumns\n",
    "    printf(\"The array is %d x %d\\n\\n\", n, m);\n",
    "    \n",
    "    int **A = (int **)malloc(n * sizeof(int *)); // Allocate A\n",
    "    int *p = (int *)malloc(n * m * sizeof(int)); // Allocate space for data\n",
    "    for(int i=0; i<n; ++i) // Assign addreses to elements of A\n",
    "    {\n",
    "        // p is the begining of the memory segment,\n",
    "        // m is the number of elelents in a single row\n",
    "        A[i] = p + i * m;\n",
    "        //Print addresses of rows\n",
    "        printf(\"Address of %d row is %p \\n\", i, A[i]);\n",
    "    }\n",
    "    \n",
    "    for(int i=0; i<n; ++i) // Read data from a file\n",
    "    {\n",
    "        for(int j=0; j<m; ++j)\n",
    "        {\n",
    "            fscanf(f, \"%d\", &A[i][j]);\n",
    "        }\n",
    "    }\n",
    "    \n",
    "    print(A, n, m); // Use function print\n",
    "    \n",
    "    // Deallocate memory and close the file\n",
    "    free(p);\n",
    "    free(A);\n",
    "    fclose(f);\n",
    "}"
   ]
  },
  {
   "cell_type": "markdown",
   "metadata": {},
   "source": [
    "The array in the example above is 3x2, the number of elements in a row is 2, the elements are integers so spacing betwin rows is 8 bytes. Verify the addresses printed above. Also have a look at line 34 where adreses are assigned to elements of A."
   ]
  },
  {
   "cell_type": "code",
   "execution_count": 116,
   "metadata": {},
   "outputs": [
    {
     "name": "stdout",
     "output_type": "stream",
     "text": [
      "1 2 3 \n",
      "2 3 4 \n",
      "3 4 5 \n",
      "---\n",
      "2 3 4 "
     ]
    }
   ],
   "source": [
    "#include <stdio.h>\n",
    "#include <stdlib.h>\n",
    "\n",
    "#define MAX_SIZE 10\n",
    "\n",
    "void fill(int A[][MAX_SIZE], int r, int c)\n",
    "{\n",
    "    for(int i=0; i<r; ++i)\n",
    "    {\n",
    "       for(int j=0; j<c; ++j)\n",
    "       {\n",
    "           A[i][j] = i + j + 1;\n",
    "       } \n",
    "    }\n",
    "}\n",
    "void print(int A[][MAX_SIZE], int r, int c)\n",
    "{\n",
    "    for(int i=0; i<r; ++i)\n",
    "    {\n",
    "       for(int j=0; j<c; ++j)\n",
    "       {\n",
    "           printf(\"%d \", A[i][j]);\n",
    "       }\n",
    "       printf(\"\\n\");\n",
    "    }\n",
    "}\n",
    "\n",
    "void copydiag(int A[][MAX_SIZE], int r, int c, int d[])\n",
    "{\n",
    "    for(int i=0; i<r; ++i)\n",
    "    {\n",
    "        d[i] = A[i][i];\n",
    "    }\n",
    "}\n",
    "void copyrow(int A[][MAX_SIZE], int r, int ri, int d[])\n",
    "{\n",
    "    for(int i=0; i<r; ++i)\n",
    "    {\n",
    "        d[i] = A[ri][i];\n",
    "    }\n",
    "}\n",
    "void insertrow(int A[][MAX_SIZE], int r, int ri, int d[])\n",
    "{\n",
    "    for(int i=0; i<r; ++i)\n",
    "    {\n",
    "         A[ri][i] = d[i];\n",
    "    }\n",
    "}\n",
    "\n",
    "int main(){\n",
    "    int tab[MAX_SIZE][MAX_SIZE];\n",
    "    fill(tab, 3, 3);\n",
    "    print(tab, 3, 3);\n",
    "    \n",
    "    printf(\"---\\n\");\n",
    "    \n",
    "    //int d[MAX_SIZE];\n",
    "    int *d = (int *)malloc(3 * sizeof(int));\n",
    "    copyrow(tab, 3, 1, d);\n",
    "    for(int i=0; i<3; ++i)\n",
    "        printf(\"%d \", d[i]);\n",
    "    \n",
    "    free(d);\n",
    "}"
   ]
  },
  {
   "cell_type": "markdown",
   "metadata": {},
   "source": [
    "aaa"
   ]
  }
 ],
 "metadata": {
  "kernelspec": {
   "display_name": "C",
   "language": "c",
   "name": "bash"
  },
  "language_info": {
   "file_extension": ".c",
   "mimetype": "text/plain",
   "name": "c"
  }
 },
 "nbformat": 4,
 "nbformat_minor": 2
}
