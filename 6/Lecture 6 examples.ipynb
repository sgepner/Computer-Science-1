{
 "cells": [
  {
   "cell_type": "markdown",
   "metadata": {},
   "source": [
    "# Problem from the example test\n",
    "$a \\sum_{i=1}^{40}b e^{\\frac{1}{i+1}}+\\frac{1}{c}$"
   ]
  },
  {
   "cell_type": "code",
   "execution_count": null,
   "metadata": {},
   "outputs": [],
   "source": [
    "double fun(double a, doubl b, double c)\n",
    "{\n",
    "    double sum = 0;\n",
    "    for(int i=1; i<=40; ++i)\n",
    "    {\n",
    "        //sum = sum + ...\n",
    "        sum += b * exp(1.0/(i+1.0));\n",
    "    }\n",
    "    return a * sum + 1.0 / c;\n",
    "}"
   ]
  },
  {
   "cell_type": "markdown",
   "metadata": {},
   "source": [
    "# Pointers and addresses\n",
    "\n",
    "What is your pointer what is your number ..."
   ]
  },
  {
   "cell_type": "markdown",
   "metadata": {},
   "source": [
    "## 1. New data type: pointer\n",
    "* used to declare variables\n",
    "* stores addresses of other variables\n",
    "* can store an address of other pointers\n",
    "\n",
    "We will start by recalling sizeoff() to illustrate that all pointers have the same size"
   ]
  },
  {
   "cell_type": "code",
   "execution_count": 5,
   "metadata": {},
   "outputs": [
    {
     "name": "stdout",
     "output_type": "stream",
     "text": [
      "Size of an int is 4, and the size of a double is 8\n",
      "The sizes of pointers to an int is 8 and to a double 8, so the same!\n",
      "The sizes of pointer to void is 8\n"
     ]
    }
   ],
   "source": [
    "#include <stdio.h>\n",
    "\n",
    "int main()\n",
    "{\n",
    "    int a=3;\n",
    "    double b=5.0;\n",
    "    printf(\"Size of an int is %ld, and the size of a double is %ld\\n\", sizeof(a), sizeof(b));\n",
    "    \n",
    "    int    *pi;\n",
    "    double *pd;\n",
    "    printf(\"The sizes of pointers to an int is %ld and to a double %ld, so the same!\\n\", sizeof(pi), sizeof(pd));\n",
    "    \n",
    "    void *vp;\n",
    "    printf(\"The sizes of pointer to void is %ld\\n\", sizeof(vp));    \n",
    "}"
   ]
  },
  {
   "cell_type": "markdown",
   "metadata": {},
   "source": [
    "The size of all pointers in this example is 8B. Note that this depands on the compiler and hardware so during the laboratories you might see the result of sizeof being an int type, and the size 4B."
   ]
  },
  {
   "cell_type": "markdown",
   "metadata": {},
   "source": [
    "## 2. Initialize your pointers with addresses of variables, the & operator\n",
    "* recall our use of function scanf()\n",
    "* use & to retrive an address from a variable\n",
    "* &variable_name returns an address of variable_name"
   ]
  },
  {
   "cell_type": "code",
   "execution_count": 20,
   "metadata": {},
   "outputs": [
    {
     "name": "stderr",
     "output_type": "stream",
     "text": [
      "/tmp/tmp1corbjgt.c: In function ‘main’:\n",
      "/tmp/tmp1corbjgt.c:7:39: warning: format ‘%ld’ expects argument of type ‘long int’, but argument 3 has type ‘int *’ [-Wformat=]\n",
      "    7 |     printf(\"a=%d and its address is %ld\\n\", a, &a);\n",
      "      |                                     ~~^        ~~\n",
      "      |                                       |        |\n",
      "      |                                       long int int *\n",
      "      |                                     %ls\n",
      "/tmp/tmp1corbjgt.c:8:39: warning: format ‘%ld’ expects argument of type ‘long int’, but argument 3 has type ‘int *’ [-Wformat=]\n",
      "    8 |     printf(\"a=%d and its address is %ld\\n\", a, p);\n",
      "      |                                     ~~^        ~\n",
      "      |                                       |        |\n",
      "      |                                       long int int *\n",
      "      |                                     %ls\n"
     ]
    },
    {
     "name": "stdout",
     "output_type": "stream",
     "text": [
      "a=3 and its address is 140732276449468\n",
      "a=3 and its address is 140732276449468\n"
     ]
    }
   ],
   "source": [
    "#include <stdio.h>\n",
    "\n",
    "int main()\n",
    "{\n",
    "    int  a = 3;\n",
    "    int *p = &a;\n",
    "    printf(\"a=%d and its address is %ld\\n\", a, &a);\n",
    "    printf(\"a=%d and its address is %ld\\n\", a, p);\n",
    "}"
   ]
  },
  {
   "cell_type": "code",
   "execution_count": 21,
   "metadata": {},
   "outputs": [
    {
     "name": "stdout",
     "output_type": "stream",
     "text": [
      "Address of a is 140722753071188, and the address pointed by pi 140722753071188\n",
      "And address of pi is 140722753071200\n"
     ]
    }
   ],
   "source": [
    "#include <stdio.h>\n",
    "\n",
    "int main()\n",
    "{\n",
    "    int a = 3;\n",
    "    int *pi = &a; // Here I assign address of a to be stored by pi\n",
    "    \n",
    "    int **ppi = &pi;\n",
    "    \n",
    "    //Use a cast to suppress warnings\n",
    "    printf(\"Address of a is %ld, and the address pointed by pi %ld\\n\", (long int)&a, (long int)pi);\n",
    "    printf(\"And address of pi is %ld\\n\", (long int)&ppi);\n",
    "}"
   ]
  },
  {
   "cell_type": "markdown",
   "metadata": {},
   "source": [
    "Note, that we printed addreses as long ints, and used casting tu suppress warnings."
   ]
  },
  {
   "cell_type": "markdown",
   "metadata": {},
   "source": [
    "## 3. Retrive / modify the value from pointer using *\n",
    "* Use * to retrive the value that is stored under the address stored by a pointer\n",
    "* *p - returns the value"
   ]
  },
  {
   "cell_type": "code",
   "execution_count": 25,
   "metadata": {},
   "outputs": [
    {
     "name": "stdout",
     "output_type": "stream",
     "text": [
      "a=3, b=5\n",
      "a=3, b=5, *p=3\n",
      "a=3, b=5, *p=5\n"
     ]
    }
   ],
   "source": [
    "#include <stdio.h>\n",
    "\n",
    "int main()\n",
    "{\n",
    "    int a = 3;\n",
    "    int b = 5;\n",
    "    int *p;\n",
    "    printf(\"a=%d, b=%d\\n\", a, b);\n",
    "    \n",
    "    p = &a;\n",
    "    printf(\"a=%d, b=%d, *p=%d\\n\", a, b, *p);\n",
    "    \n",
    "    p = &b;\n",
    "    printf(\"a=%d, b=%d, *p=%d\\n\", a, b, *p);\n",
    "}"
   ]
  },
  {
   "cell_type": "markdown",
   "metadata": {},
   "source": [
    "* the * operator can also be used to manipulate the value that is stored under the address pointed by p\n",
    "* *p = 5 will set the value, of whatever is pointed by p to 5"
   ]
  },
  {
   "cell_type": "code",
   "execution_count": 28,
   "metadata": {},
   "outputs": [
    {
     "name": "stdout",
     "output_type": "stream",
     "text": [
      "a=3, b=5\n",
      "a=3, b=5, *p=3\n",
      "a=20, b=5, *p=20\n",
      "a=20, b=50, *p=50\n"
     ]
    }
   ],
   "source": [
    "#include <stdio.h>\n",
    "\n",
    "int main()\n",
    "{\n",
    "    int a = 3;\n",
    "    int b = 5;\n",
    "    int *p;\n",
    "    printf(\"a=%d, b=%d\\n\", a, b);\n",
    "    \n",
    "    p = &a;\n",
    "    printf(\"a=%d, b=%d, *p=%d\\n\", a, b, *p);\n",
    "    \n",
    "    *p = 20;\n",
    "    printf(\"a=%d, b=%d, *p=%d\\n\", a, b, *p);\n",
    "    \n",
    "    p = &b;\n",
    "    *p = 50;\n",
    "    printf(\"a=%d, b=%d, *p=%d\\n\", a, b, *p);\n",
    "}"
   ]
  },
  {
   "cell_type": "markdown",
   "metadata": {},
   "source": [
    "## 4. Printing of addreses, the new format specifier, %p\n",
    "* Prints pointers in a hexadecimal format, i.e. using 16 digits\n",
    "* 0, 1, 2, 3, 4, 5, 6, 7, 8, 9, a, b, c, d, e, f\n",
    "* 0x at the front is just an information that the number is printed in hexadecimal system"
   ]
  },
  {
   "cell_type": "code",
   "execution_count": 29,
   "metadata": {},
   "outputs": [
    {
     "name": "stdout",
     "output_type": "stream",
     "text": [
      "Address of a is 0x7fff1c44eecc, and the address pointed by pi 0x7fff1c44eecc\n",
      "And address of pi is 0x7fff1c44eed0\n"
     ]
    }
   ],
   "source": [
    "#include <stdio.h>\n",
    "\n",
    "int main()\n",
    "{\n",
    "    int a = 3;\n",
    "    int *pi = &a;\n",
    "    printf(\"Address of a is %p, and the address pointed by pi %p\\n\", &a, pi);\n",
    "    \n",
    "    printf(\"And address of pi is %p\\n\", &pi);\n",
    "}"
   ]
  },
  {
   "cell_type": "markdown",
   "metadata": {},
   "source": [
    "## 5. What is a pointer to a pointer?\n",
    "* pointers can point to pointers"
   ]
  },
  {
   "cell_type": "code",
   "execution_count": 34,
   "metadata": {},
   "outputs": [
    {
     "name": "stdout",
     "output_type": "stream",
     "text": [
      "a = 3 address of a=0x7ffc48cc8304\n",
      "pi  = 0x7ffc48cc8304, *pi = 3\n",
      "ppi = 0x7ffc48cc8308, *ppi = 0x7ffc48cc8304, **ppi=3\n"
     ]
    }
   ],
   "source": [
    "#include <stdio.h>\n",
    "\n",
    "int main()\n",
    "{\n",
    "    int a = 3;\n",
    "    int *pi = &a;\n",
    "    int **ppi = &pi;\n",
    "    \n",
    "    printf(\"a = %d address of a=%p\\n\", a, &a);\n",
    "    printf(\"pi  = %p, *pi = %d\\n\", pi, *pi);\n",
    "    printf(\"ppi = %p, *ppi = %p, **ppi=%d\\n\", ppi, *ppi, **ppi);\n",
    "    // this can get pretty evil\n",
    "}"
   ]
  },
  {
   "cell_type": "markdown",
   "metadata": {},
   "source": [
    "## 6. Pointer arythmetics, +,-\n",
    "* Pointers are more than just a way of storring addresses of variables\n",
    "* Thay serve as a basic in accesing data stored in memory\n",
    "* It needs to be precisly understood what does it mean to add 1 to a pointer - this depands on the type of pointer\n",
    "* To add, or substract means to move up or down the ampunt of bytes necessary to store a variable of a given type\n",
    "    * 4B in case of int\n",
    "    * 8B for doubles\n",
    "    * 1B for characters, and so on"
   ]
  },
  {
   "cell_type": "code",
   "execution_count": 42,
   "metadata": {},
   "outputs": [
    {
     "name": "stdout",
     "output_type": "stream",
     "text": [
      "And address pointed by p is 0x5\n",
      "Now the address pointed by p is 0x9\n"
     ]
    }
   ],
   "source": [
    "#include <stdio.h>\n",
    "\n",
    "int main()\n",
    "{\n",
    "    int *p = (int *)5;\n",
    "    // we initialize the pointer with an address 5, normally we would initialize it with an address of a variable\n",
    "    \n",
    "    printf(\"And address pointed by p is %p\\n\", p);\n",
    "    p = p + 1; // We add 1 to p, since we work on integers the pointer now points to 9 (+4)\n",
    "    printf(\"Now the address pointed by p is %p\\n\", p);\n",
    "}"
   ]
  },
  {
   "cell_type": "markdown",
   "metadata": {},
   "source": [
    "So for int +1 adds 4. The reason is that the size of an int is 4B!"
   ]
  },
  {
   "cell_type": "code",
   "execution_count": 44,
   "metadata": {},
   "outputs": [
    {
     "name": "stdout",
     "output_type": "stream",
     "text": [
      "And address of p is 0x5\n",
      "And address of p is 0xd\n"
     ]
    }
   ],
   "source": [
    "#include <stdio.h>\n",
    "\n",
    "int main()\n",
    "{\n",
    "    double *p = (double *)5;\n",
    "    printf(\"And address of p is %p\\n\", p);\n",
    "    p = p + 1; // And for a double this is 13, or d\n",
    "    printf(\"And address of p is %p\\n\", p);\n",
    "}"
   ]
  },
  {
   "cell_type": "markdown",
   "metadata": {},
   "source": [
    "So for a double +1 adds 8. The reason is that the size of an int is 8B!\n",
    "\n",
    "* Note that d is equivalent to 13 in hexadecimal notation"
   ]
  },
  {
   "cell_type": "markdown",
   "metadata": {},
   "source": [
    "So a +/- 1 means move the pointer up/down the memory line by the size of a variable to whhich it points."
   ]
  },
  {
   "cell_type": "markdown",
   "metadata": {},
   "source": [
    "## 7. Pointer to void\n",
    "* we can not declare a variable of type void, put we can point to it\n",
    "* we can not perform arithmetics, since the size of void is not known "
   ]
  },
  {
   "cell_type": "markdown",
   "metadata": {},
   "source": [
    "The example below will not compile!"
   ]
  },
  {
   "cell_type": "code",
   "execution_count": 45,
   "metadata": {
    "scrolled": true
   },
   "outputs": [
    {
     "name": "stderr",
     "output_type": "stream",
     "text": [
      "/tmp/tmp2gcomajk.c: In function ‘main’:\n",
      "/tmp/tmp2gcomajk.c:3:10: error: variable or field ‘a’ declared void\n",
      "    3 |     void a; // this will not compile\n",
      "      |          ^\n",
      "[C kernel] GCC exited with code 1, the executable will not be executed"
     ]
    }
   ],
   "source": [
    "#include <stdio.h>\n",
    "int main(){\n",
    "    void a; // this will not compile\n",
    "}"
   ]
  },
  {
   "cell_type": "markdown",
   "metadata": {},
   "source": [
    "But this will:"
   ]
  },
  {
   "cell_type": "code",
   "execution_count": 49,
   "metadata": {},
   "outputs": [],
   "source": [
    "#include <stdio.h>\n",
    "int main(){\n",
    "    void *a;\n",
    "    a = a + 1; // This should not work for us since void has no size\n",
    "}"
   ]
  },
  {
   "cell_type": "markdown",
   "metadata": {},
   "source": [
    "Store an address of an integer using a void pointer, and than print it.\n",
    "Note that, whan printing we need to cast the pointer to the correct type (why?)."
   ]
  },
  {
   "cell_type": "code",
   "execution_count": 54,
   "metadata": {},
   "outputs": [
    {
     "name": "stdout",
     "output_type": "stream",
     "text": [
      "The value of a = 4449. The address of a is &a = 0x7ffde5f7ba9c. And p points to p = 0x7ffde5f7ba9c\n",
      "We can print the value pointed by p, but we need to cast it to (int *).\n",
      "The value is: *p=4449\n"
     ]
    }
   ],
   "source": [
    "#include <stdio.h>\n",
    "\n",
    "int main()\n",
    "{\n",
    "    int a = 4449;\n",
    "    void *p = &a;\n",
    "    \n",
    "    printf(\"The value of a = %d. The address of a is &a = %p. And p points to p = %p\\n\", a, &a, p);\n",
    "    printf(\"We can print the value pointed by p, but we need to cast it to (int *).\\nThe value is: *p=%d\\n\", *(int *)p);\n",
    "}"
   ]
  },
  {
   "cell_type": "markdown",
   "metadata": {},
   "source": [
    "## 8. Let's do something bad! Store two ints in a double!\n",
    "* Here we illustrate some consequences of using pointers\n",
    "* We will attempt to store two ints in a single double\n",
    "* Please mind, that in general this is not a good idea!"
   ]
  },
  {
   "cell_type": "code",
   "execution_count": 15,
   "metadata": {},
   "outputs": [
    {
     "name": "stdout",
     "output_type": "stream",
     "text": [
      "The value of d is: d = 9.000000\n",
      "Address of d=0x7ffc37c55348, and p points to 0x7ffc37c55348\n",
      "p=0x7ffc37c55348, p+1 is 0x7ffc37c5534c\n",
      "*p=5, *(p+1) is 8\n",
      "The value of d is: d = 0.000000\n",
      "*p=-57999238, *(p+1) is 1074340346\n"
     ]
    }
   ],
   "source": [
    "#include <stdio.h>\n",
    "\n",
    "int main()\n",
    "{\n",
    "    double d = 9; // this is 8B\n",
    "    printf(\"The value of d is: d = %lf\\n\", d);\n",
    "    \n",
    "    int *p = (int *)&d;\n",
    "    printf(\"Address of d=%p, and p points to %p\\n\", &d, p);\n",
    "    \n",
    "    *p = 5;\n",
    "    *(p+1) = 8;\n",
    "    printf(\"p=%p, p+1 is %p\\n\", p, p+1);\n",
    "    printf(\"*p=%d, *(p+1) is %d\\n\", *p, *(p+1));\n",
    "    \n",
    "    printf(\"The value of d is: d = %lf\\n\", d);\n",
    "    \n",
    "    d = 3.141592;\n",
    "    printf(\"*p=%d, *(p+1) is %d\\n\", *p, *(p+1));\n",
    "}"
   ]
  },
  {
   "cell_type": "markdown",
   "metadata": {},
   "source": [
    "## 9. Recall functions and function arguments\n",
    "* pass by value\n",
    "* pass with a pointer\n",
    "* how to avoid global variables"
   ]
  },
  {
   "cell_type": "markdown",
   "metadata": {},
   "source": [
    "Argument is passed **by value** - and is not modified by the function. The function works on a **copy**."
   ]
  },
  {
   "cell_type": "code",
   "execution_count": 57,
   "metadata": {},
   "outputs": [
    {
     "name": "stdout",
     "output_type": "stream",
     "text": [
      "b=9 &b=0x7ffd8a0ea944\n",
      "\t a=9, &a=0x7ffd8a0ea92c\n",
      "\t a=500\n",
      "b=9\n"
     ]
    }
   ],
   "source": [
    "#include <stdio.h>\n",
    "\n",
    "void fun(int a)\n",
    "{\n",
    "    printf(\"\\t a=%d, &a=%p\\n\", a, &a);\n",
    "    a = 500;\n",
    "    printf(\"\\t a=%d\\n\", a);\n",
    "}\n",
    "\n",
    "int main()\n",
    "{\n",
    "    int b = 9;\n",
    "    printf(\"b=%d &b=%p\\n\", b, &b);\n",
    "    fun(b);\n",
    "    printf(\"b=%d\\n\", b);\n",
    "}"
   ]
  },
  {
   "cell_type": "markdown",
   "metadata": {},
   "source": [
    "With global variable"
   ]
  },
  {
   "cell_type": "code",
   "execution_count": 58,
   "metadata": {},
   "outputs": [
    {
     "name": "stdout",
     "output_type": "stream",
     "text": [
      "a=9 &a=0x7f8e98651034\n",
      "\t a=9, &a=0x7f8e98651034\n",
      "\t a=500\n",
      "a=500\n"
     ]
    }
   ],
   "source": [
    "#include <stdio.h>\n",
    "\n",
    "int a;\n",
    "\n",
    "void fun(){\n",
    "    printf(\"\\t a=%d, &a=%p\\n\", a, &a);\n",
    "    a = 500;\n",
    "    printf(\"\\t a=%d\\n\", a);\n",
    "}\n",
    "\n",
    "int main()\n",
    "{\n",
    "    a = 9;\n",
    "    printf(\"a=%d &a=%p\\n\", a, &a);\n",
    "    fun();\n",
    "    printf(\"a=%d\\n\", a);\n",
    "}"
   ]
  },
  {
   "cell_type": "markdown",
   "metadata": {},
   "source": [
    "The argument passed to the function is now **an address** to the variable, so all work is performed over the same region in the memory. The modyfications carry over, and are not lost!"
   ]
  },
  {
   "cell_type": "code",
   "execution_count": 61,
   "metadata": {},
   "outputs": [
    {
     "name": "stdout",
     "output_type": "stream",
     "text": [
      "b=9 &b=0x7fff297e8e94\n",
      "\t a=9, &a=0x7fff297e8e94\n",
      "\t a=500\n",
      "b=500\n"
     ]
    }
   ],
   "source": [
    "#include <stdio.h>\n",
    "\n",
    "void fun(int *a){\n",
    "    printf(\"\\t a=%d, &a=%p\\n\", *a, a);\n",
    "    *a = 500;\n",
    "    printf(\"\\t a=%d\\n\", *a);\n",
    "}\n",
    "\n",
    "int main()\n",
    "{\n",
    "    int b = 9;\n",
    "    printf(\"b=%d &b=%p\\n\", b, &b);\n",
    "    fun(&b); // like scanf(\"\", &b)\n",
    "    printf(\"b=%d\\n\", b);\n",
    "}"
   ]
  },
  {
   "cell_type": "markdown",
   "metadata": {},
   "source": [
    "Write a function that 'returns' more than value. Do not use global variables!"
   ]
  },
  {
   "cell_type": "code",
   "execution_count": 5,
   "metadata": {},
   "outputs": [
    {
     "name": "stdout",
     "output_type": "stream",
     "text": [
      "3 5\n"
     ]
    }
   ],
   "source": [
    "#include <stdio.h>\n",
    "\n",
    "void fun(int *p1, int *p2){\n",
    "    *p1 = 3;\n",
    "    *p2 = 5;\n",
    "}\n",
    "\n",
    "int main()\n",
    "{\n",
    "    int a, b;\n",
    "    fun(&a, &b);\n",
    "    printf(\"%d %d\\n\", a, b);\n",
    "}"
   ]
  }
 ],
 "metadata": {
  "kernelspec": {
   "display_name": "C",
   "language": "c",
   "name": "c"
  },
  "language_info": {
   "file_extension": ".c",
   "mimetype": "text/plain",
   "name": "c"
  }
 },
 "nbformat": 4,
 "nbformat_minor": 2
}
