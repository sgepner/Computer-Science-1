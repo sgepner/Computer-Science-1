{
 "cells": [
  {
   "cell_type": "markdown",
   "metadata": {},
   "source": [
    "# Pointers and addresses\n",
    "\n",
    "What is your pointer what is your number ..."
   ]
  },
  {
   "cell_type": "markdown",
   "metadata": {},
   "source": [
    "## 1. New data type: pointer\n",
    "* used to declare variables\n",
    "* stores addresses of other variables\n",
    "* can stor an address of other pointers\n",
    "\n",
    "We will start by recalling sizeoff() to illustrate that all poiners have the same size"
   ]
  },
  {
   "cell_type": "code",
   "execution_count": null,
   "metadata": {},
   "outputs": [],
   "source": [
    "#include <stdio.h>\n",
    "\n",
    "int main()\n",
    "{\n",
    "    int a=3;\n",
    "    double b=5.0;\n",
    "    printf(\"Size of an int is %ld, and the size of a double is %ld\\n\", sizeof(a), sizeof(b));\n",
    "    \n",
    "    int *pi;\n",
    "    double *pd;\n",
    "    printf(\"The sizes of pointers to an int is %ld and to a double %ld, so the same!\\n\", sizeof(pi), sizeof(pd));\n",
    "    \n",
    "    void *vp;\n",
    "    printf(\"The sizes of pointer to void is %ld\\n\", sizeof(vp));\n",
    "}"
   ]
  },
  {
   "cell_type": "markdown",
   "metadata": {},
   "source": [
    "The size of all pointers in this example is 8B. Note that this depands on the compiler and hardware so during the laboratories you might see the result of sizeof being an int type, and the size 4B."
   ]
  },
  {
   "cell_type": "markdown",
   "metadata": {},
   "source": [
    "## 2. Initialize your pointers with addresses of variables, the & operator\n",
    "* recall our use of function scanf()\n",
    "* use & to retrive an address from a variable\n",
    "* &variable_name returns an address of variable_name"
   ]
  },
  {
   "cell_type": "code",
   "execution_count": null,
   "metadata": {},
   "outputs": [],
   "source": [
    "#include <stdio.h>\n",
    "\n",
    "int main()\n",
    "{\n",
    "    int a = 3;\n",
    "    int *pi = &a; // Here I assign address of a to be stored by pi\n",
    "    \n",
    "    int **ppi = &pi;\n",
    "    \n",
    "    //Use a cast to suppress warnings\n",
    "    printf(\"Address of a is %ld, and the address pointed by pi %ld\\n\", (long int)&a, (long int)pi);\n",
    "    printf(\"And address of pi is %ld\\n\", (long int)&pi);\n",
    "}"
   ]
  },
  {
   "cell_type": "markdown",
   "metadata": {},
   "source": [
    "Note, that we printed addreses as long ints, and used casting tu suppress warnings."
   ]
  },
  {
   "cell_type": "markdown",
   "metadata": {},
   "source": [
    "## 3. Retrive / modify the value from pointer using *\n",
    "* Use * to retrive the value that is stored under the address stored by a pointer\n",
    "* *p - returns the value"
   ]
  },
  {
   "cell_type": "code",
   "execution_count": null,
   "metadata": {},
   "outputs": [],
   "source": [
    "#include <stdio.h>\n",
    "\n",
    "int main()\n",
    "{\n",
    "    int a = 3;\n",
    "    int b = 5;\n",
    "    int *p;\n",
    "    printf(\"a=%d, b=%d\\n\", a, b);\n",
    "    p = &a;\n",
    "    printf(\"p points to a value of %d\\n\", *p);\n",
    "    //p points at a, so *p returns 3\n",
    "    \n",
    "    p = &b;\n",
    "    printf(\"p points to a value of %d\\n\", *p);\n",
    "    // p now points at b, so *p returns 5\n",
    "}"
   ]
  },
  {
   "cell_type": "markdown",
   "metadata": {},
   "source": [
    "* the * operator can also be used to manipulate the value that is stored under the address pointed by p\n",
    "* *p = 5 will set the value, of whatever is pointed by p to 5"
   ]
  },
  {
   "cell_type": "code",
   "execution_count": 1,
   "metadata": {},
   "outputs": [
    {
     "name": "stdout",
     "output_type": "stream",
     "text": [
      "a=3\n",
      "p points to a value of 3\n",
      "p points to a value of 10\n",
      "a=10\n",
      "p points to a value of 20\n",
      "a=20\n"
     ]
    }
   ],
   "source": [
    "#include <stdio.h>\n",
    "\n",
    "int main()\n",
    "{\n",
    "    int a = 3;\n",
    "    printf(\"a=%d\\n\", a);\n",
    "    \n",
    "    int *p = &a;\n",
    "    printf(\"p points to a value of %d\\n\", *p);\n",
    "    \n",
    "    *p = 10;\n",
    "    printf(\"p points to a value of %d\\n\", *p);\n",
    "    printf(\"a=%d\\n\", a);\n",
    "    \n",
    "    a = 20;\n",
    "    printf(\"p points to a value of %d\\n\", *p);\n",
    "    printf(\"a=%d\\n\", a);\n",
    "}"
   ]
  },
  {
   "cell_type": "markdown",
   "metadata": {},
   "source": [
    "## 4. Printing of addreses, the new format specifier, %p\n",
    "* Prints pointers in a hexadecimal format, i.e. using 16 digits\n",
    "* 0, 1, 2, 3, 4, 5, 6, 7, 8, 9, a, b, c, d, e, f\n",
    "* 0x at the front is just an information that the number is printed in hexadecimal system"
   ]
  },
  {
   "cell_type": "code",
   "execution_count": null,
   "metadata": {},
   "outputs": [],
   "source": [
    "#include <stdio.h>\n",
    "\n",
    "int main()\n",
    "{\n",
    "    int a = 3;\n",
    "    int *pi = &a;\n",
    "    printf(\"Address of a is %p, and the address pointed by pi %p\\n\", &a, pi);\n",
    "    \n",
    "    printf(\"And address of pi is %p\\n\", &pi);\n",
    "}"
   ]
  },
  {
   "cell_type": "markdown",
   "metadata": {},
   "source": [
    "## 5. What is a pointer to a pointer?\n",
    "* pointers can point to pointers"
   ]
  },
  {
   "cell_type": "code",
   "execution_count": null,
   "metadata": {},
   "outputs": [],
   "source": [
    "#include <stdio.h>\n",
    "\n",
    "int main()\n",
    "{\n",
    "    int a = 3;\n",
    "    int *pi = &a;\n",
    "    int **ppi = &pi;\n",
    "    \n",
    "    printf(\"a = %d\\n\", a);\n",
    "    printf(\"pi = %p, *pi = %d\\n\", pi, *pi);\n",
    "    printf(\"ppi = %p, *ppi = %p, **ppi=%d\\n\", ppi, *ppi, **ppi);\n",
    "    // this can get pretty evil\n",
    "}"
   ]
  },
  {
   "cell_type": "markdown",
   "metadata": {},
   "source": [
    "## 6. Pointer arythmetics, +,-\n",
    "* Pointers are more than just a way of storring addresses of variables\n",
    "* Thay serve as a basic in accesing data stored in memory\n",
    "* It needs to be precisly understood what does it mean to add 1 to a pointer - this depands on the type of pointer\n",
    "* To add, or substract means to move up or down the ampunt of bytes necessary to store a variable of a given type\n",
    "    * 4B in case of int\n",
    "    * 8B for doubles\n",
    "    * 1B for characters, and so on"
   ]
  },
  {
   "cell_type": "code",
   "execution_count": null,
   "metadata": {},
   "outputs": [],
   "source": [
    "#include <stdio.h>\n",
    "\n",
    "int main()\n",
    "{\n",
    "    int *p = (int *)5;\n",
    "    // we initialize the pointer with an address 5, normally we would initialize it with an address of a variable\n",
    "    \n",
    "    printf(\"And address of p is %p\\n\", p);\n",
    "    p = p + 1; // We add 1 to p, since we work on integers the pointer now points to 9 (+4)\n",
    "    printf(\"And address of p is %p\\n\", p);\n",
    "}"
   ]
  },
  {
   "cell_type": "markdown",
   "metadata": {},
   "source": [
    "So for int +1 adds 4. The reason is that the size of an int is 4B!"
   ]
  },
  {
   "cell_type": "code",
   "execution_count": null,
   "metadata": {},
   "outputs": [],
   "source": [
    "#include <stdio.h>\n",
    "\n",
    "int main()\n",
    "{\n",
    "    double *p = (double *)5;\n",
    "    printf(\"And address of p is %p\\n\", p);\n",
    "    p = p + 1; // And for a double this is 12, or d\n",
    "    printf(\"And address of p is %p\\n\", p);\n",
    "}"
   ]
  },
  {
   "cell_type": "markdown",
   "metadata": {},
   "source": [
    "So for a double +1 adds 8. The reason is that the size of an int is 8B!\n",
    "\n",
    "* Note that d is equivalent to 13 in hexadecimal notation"
   ]
  },
  {
   "cell_type": "markdown",
   "metadata": {},
   "source": [
    "So a +/- 1 means move the pointer up/down the memory line by the size of a variable to whhich it points."
   ]
  },
  {
   "cell_type": "markdown",
   "metadata": {},
   "source": [
    "## 7. Pointer to void\n",
    "* we can not declare a variable of type void, put we can point to it\n",
    "* we can not perform arithmetics, since the size of void is not known "
   ]
  },
  {
   "cell_type": "markdown",
   "metadata": {},
   "source": [
    "The example below will not compile!"
   ]
  },
  {
   "cell_type": "code",
   "execution_count": null,
   "metadata": {
    "scrolled": true
   },
   "outputs": [],
   "source": [
    "#include <stdio.h>\n",
    "int main(){\n",
    "    void a; // this will not compile\n",
    "}"
   ]
  },
  {
   "cell_type": "markdown",
   "metadata": {},
   "source": [
    "But this will:"
   ]
  },
  {
   "cell_type": "code",
   "execution_count": null,
   "metadata": {},
   "outputs": [],
   "source": [
    "#include <stdio.h>\n",
    "int main(){\n",
    "    void *a;\n",
    "}"
   ]
  },
  {
   "cell_type": "markdown",
   "metadata": {},
   "source": [
    "Store an address of an integer using a void pointer, and than print it.\n",
    "Note that, whan printing we need to cast the pointer to the correct type (why?)."
   ]
  },
  {
   "cell_type": "code",
   "execution_count": null,
   "metadata": {},
   "outputs": [],
   "source": [
    "#include <stdio.h>\n",
    "\n",
    "int main()\n",
    "{\n",
    "    int a = 9;\n",
    "    void *p = &a;\n",
    "    \n",
    "    printf(\"The value of a = %d. The address of a is &a = %p. And p points to p = %p\\n\", a, &a, p);\n",
    "    printf(\"We can print the value pointed by p, but we need to cast it to (int *).\\nThe value is: *p=%d\\n\", *(int *)p);\n",
    "}"
   ]
  },
  {
   "cell_type": "markdown",
   "metadata": {},
   "source": [
    "## 8. Let's do something bad! Store two ints in a double!\n",
    "* Here we illustrate some consequences of using pointers\n",
    "* We will attempt to store two ints in a single double\n",
    "* Please mind, that in general this is not a good idea!"
   ]
  },
  {
   "cell_type": "code",
   "execution_count": null,
   "metadata": {},
   "outputs": [],
   "source": [
    "#include <stdio.h>\n",
    "\n",
    "int main()\n",
    "{\n",
    "    double d = 9;\n",
    "    printf(\"The value of d is: d = %lf\\n\", d);\n",
    "    \n",
    "    int *p = (int *)&d;\n",
    "    printf(\"Address of d is: &d = %p. And p points to p = %p\\n\", &d, p);\n",
    "    printf(\"p = %p, (p+1) = %p\\n\", p, p+1);\n",
    "    \n",
    "    *p = 5;\n",
    "    *(p+1) = 1000;\n",
    "    \n",
    "    printf(\"*p = %d\\n*(p+1) = %d\\n\", *p, *(p+1));\n",
    "    printf(\"The value of d is now: d = %lf\\n\", d);\n",
    "}"
   ]
  },
  {
   "cell_type": "markdown",
   "metadata": {},
   "source": [
    "## 9. Recall functions and function arguments\n",
    "* pass by value\n",
    "* pass with a pointer\n",
    "* how to avoid global variables"
   ]
  },
  {
   "cell_type": "markdown",
   "metadata": {},
   "source": [
    "Argument is passed **by value** - and is not modified by the function. The function works on a **copy**."
   ]
  },
  {
   "cell_type": "code",
   "execution_count": null,
   "metadata": {},
   "outputs": [],
   "source": [
    "#include <stdio.h>\n",
    "\n",
    "void fun(int a){\n",
    "    printf(\"\\t a=%d, &a=%p\\n\", a, &a);\n",
    "    a = 500;\n",
    "    printf(\"\\t a=%d\\n\", a);\n",
    "}\n",
    "\n",
    "int main()\n",
    "{\n",
    "    int b = 9;\n",
    "    printf(\"b=%d &b=%p\\n\", b, &b);\n",
    "    fun(b);\n",
    "    printf(\"b=%d\\n\", b);\n",
    "}"
   ]
  },
  {
   "cell_type": "markdown",
   "metadata": {},
   "source": [
    "With global variable"
   ]
  },
  {
   "cell_type": "code",
   "execution_count": null,
   "metadata": {},
   "outputs": [],
   "source": [
    "#include <stdio.h>\n",
    "\n",
    "int a;\n",
    "\n",
    "void fun(){\n",
    "    printf(\"\\t a=%d, &a=%p\\n\", a, &a);\n",
    "    a = 500;\n",
    "    printf(\"\\t a=%d\\n\", a);\n",
    "}\n",
    "\n",
    "int main()\n",
    "{\n",
    "    a = 9;\n",
    "    printf(\"a=%d &a=%p\\n\", a, &a);\n",
    "    fun();\n",
    "    printf(\"a=%d\\n\", a);\n",
    "}"
   ]
  },
  {
   "cell_type": "markdown",
   "metadata": {},
   "source": [
    "The argument passed to the function is now **an address** to the variable, so all work is performed over the same region in the memory. The modyfications carry over, and are not lost!"
   ]
  },
  {
   "cell_type": "code",
   "execution_count": null,
   "metadata": {},
   "outputs": [],
   "source": [
    "#include <stdio.h>\n",
    "\n",
    "void fun(int *a){\n",
    "    printf(\"\\t a=%d, &a=%p\\n\", *a, a);\n",
    "    *a = 500;\n",
    "    printf(\"\\t a=%d\\n\", *a);\n",
    "}\n",
    "\n",
    "int main()\n",
    "{\n",
    "    int b = 9;\n",
    "    printf(\"b=%d &b=%p\\n\", b, &b);\n",
    "    fun(&b); // like scanf(\"\", &b)\n",
    "    printf(\"b=%d\\n\", b);\n",
    "}"
   ]
  }
 ],
 "metadata": {
  "kernelspec": {
   "display_name": "C",
   "language": "c",
   "name": "bash"
  },
  "language_info": {
   "file_extension": ".c",
   "mimetype": "text/plain",
   "name": "c"
  }
 },
 "nbformat": 4,
 "nbformat_minor": 2
}
