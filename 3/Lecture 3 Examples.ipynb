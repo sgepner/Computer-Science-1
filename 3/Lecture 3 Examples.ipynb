{
 "cells": [
  {
   "cell_type": "markdown",
   "metadata": {},
   "source": [
    "## printf()"
   ]
  },
  {
   "cell_type": "code",
   "execution_count": 4,
   "metadata": {},
   "outputs": [
    {
     "name": "stdout",
     "output_type": "stream",
     "text": [
      "Hello!\n",
      "7\n"
     ]
    }
   ],
   "source": [
    "#include <stdio.h> // this is where printf is declared\n",
    "\n",
    "int main(){\n",
    "    int a = printf(\"Hello!\\n\"); // <- this is 7 charachters\n",
    "    printf(\"%d\\n\", a);\n",
    "}"
   ]
  },
  {
   "cell_type": "code",
   "execution_count": 24,
   "metadata": {},
   "outputs": [
    {
     "name": "stdout",
     "output_type": "stream",
     "text": [
      "+910\n",
      "       110\n",
      "15.177860\n",
      "      15.177860\n",
      "15.177860000\n",
      "15.178\n",
      "    15.178\n",
      "1.518e+01\n"
     ]
    }
   ],
   "source": [
    "#include <stdio.h> // this is where printf is declared\n",
    "\n",
    "int main(){\n",
    "    int a = 10;\n",
    "    printf(\"%+d\\n\", a-100+1000); // force the sign\n",
    "    printf(\"%10d\\n\", a+100); // the width is set to 10\n",
    "    double b = 15.17786;\n",
    "    printf(\"%lf\\n\", b);\n",
    "    printf(\"%15lf\\n\", b);\n",
    "    \n",
    "    printf(\"%.9lf\\n\", b);\n",
    "    printf(\"%.3lf\\n\", b);\n",
    "    \n",
    "    printf(\"%10.3lf\\n\", b);\n",
    "    \n",
    "    printf(\"%8.3le\\n\", b);\n",
    "}"
   ]
  },
  {
   "cell_type": "code",
   "execution_count": 35,
   "metadata": {},
   "outputs": [
    {
     "name": "stdout",
     "output_type": "stream",
     "text": [
      "This is a sentence?\n",
      "This\b is\b a\b sentence?\b\n",
      "This\t is\t a\t sentence\t?\n",
      "This\u000b",
      " is\u000b",
      " a\u000b",
      " sentence\u000b",
      "?\n",
      "aaa\n",
      "To print a \\ use  \\\\ \n",
      " \" \n"
     ]
    }
   ],
   "source": [
    "#include <stdio.h> // this is where printf is declared\n",
    "\n",
    "int main(){\n",
    "    printf(\"This is a sentence?\\n\");\n",
    "    printf(\"This\\b is\\b a\\b sentence?\\b\\n\");\n",
    "    printf(\"This\\t is\\t a\\t sentence\\t?\\n\");\n",
    "    printf(\"This\\v is\\v a\\v sentence\\v?\\naaa\\n\");\n",
    "\n",
    "    printf(\"To print a \\\\ use  \\\\\\\\ \\n\");\n",
    "    printf(\" \\\" \\n\");\n",
    "}"
   ]
  },
  {
   "cell_type": "code",
   "execution_count": 36,
   "metadata": {},
   "outputs": [
    {
     "name": "stdout",
     "output_type": "stream",
     "text": [
      "6.800000\n"
     ]
    },
    {
     "name": "stderr",
     "output_type": "stream",
     "text": [
      "/tmp/tmpepg92e_8.out: symbol lookup error: /tmp/tmp553oql0o.out: undefined symbol: sin\n",
      "[C kernel] Executable exited with code 127"
     ]
    }
   ],
   "source": [
    "#include <stdio.h>\n",
    "#include <math.h>\n",
    "\n",
    "int main(){\n",
    "\tdouble a = 6.8;\n",
    "\tprintf(\"%lf\\n\", a);\n",
    "\t\n",
    "\tprintf(\"%lf\\n\", sin(a));\n",
    "}"
   ]
  },
  {
   "cell_type": "code",
   "execution_count": 39,
   "metadata": {},
   "outputs": [
    {
     "name": "stdout",
     "output_type": "stream",
     "text": [
      "6.800000\n",
      "0.494113\n"
     ]
    }
   ],
   "source": [
    "//%cflags:-lm\n",
    "\n",
    "#include <stdio.h>\n",
    "#include <math.h>\n",
    "\n",
    "\n",
    "int main(){\n",
    "\tdouble a = 6.8;\n",
    "\tprintf(\"%lf\\n\", a);\n",
    "\t\n",
    "\tprintf(\"%lf\\n\", sin(a));\n",
    "}"
   ]
  },
  {
   "cell_type": "code",
   "execution_count": 13,
   "metadata": {},
   "outputs": [
    {
     "name": "stdout",
     "output_type": "stream",
     "text": [
      "6.800000\n",
      "2.718282\n",
      "897.847292\n",
      "1.000000\n",
      "1.000000\n",
      "251.188643\n"
     ]
    }
   ],
   "source": [
    "//%cflags:-lm\n",
    "\n",
    "#include <stdio.h>\n",
    "#include <math.h>\n",
    "\n",
    "\n",
    "int main(){\n",
    "\tdouble a = 6.8;\n",
    "\tprintf(\"%lf\\n\", a);\n",
    "\t\n",
    "    // e^x\n",
    "\tprintf(\"%lf\\n\", exp(1.0));\n",
    "    printf(\"%lf\\n\", exp(a));\n",
    "    \n",
    "    //ln()\n",
    "    printf(\"%lf\\n\", log(exp(1.0)));\n",
    "    //log10\n",
    "    printf(\"%lf\\n\", log10(10.0));\n",
    "    \n",
    "    //pow\n",
    "    printf(\"%lf\\n\", pow(10.0, 2.4));\n",
    "    \n",
    "    //sqrt\n",
    "}"
   ]
  },
  {
   "cell_type": "code",
   "execution_count": null,
   "metadata": {},
   "outputs": [],
   "source": []
  }
 ],
 "metadata": {
  "kernelspec": {
   "display_name": "C",
   "language": "c",
   "name": "bash"
  },
  "language_info": {
   "file_extension": ".c",
   "mimetype": "text/plain",
   "name": "c"
  }
 },
 "nbformat": 4,
 "nbformat_minor": 2
}
