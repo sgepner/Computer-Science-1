{
 "cells": [
  {
   "cell_type": "markdown",
   "metadata": {},
   "source": [
    "# What have we seen so far?\n",
    "* Hello World!\n",
    "* Simple types:\n",
    "    * int \\%d\n",
    "    * double \\%lf\n",
    "    * char \\%c\n",
    "    * void ??\n",
    "* Declaration of variables and assignment of value\n",
    "* Arithmetic operations\n",
    "* Type casting\n",
    "* Precedence of operators in arithmetic operations"
   ]
  },
  {
   "cell_type": "code",
   "execution_count": 1,
   "metadata": {},
   "outputs": [
    {
     "name": "stdout",
     "output_type": "stream",
     "text": [
      "Hello!\n"
     ]
    }
   ],
   "source": [
    "#include <stdio.h>\n",
    "\n",
    "int main()\n",
    "{\n",
    "    printf(\"Hello!\\n\");\n",
    "}"
   ]
  },
  {
   "cell_type": "markdown",
   "metadata": {},
   "source": [
    "**------------------------------------**\n",
    "* Increment/decrement operators ++ --\n",
    "* Compound Assignment Operators += -= *= /=\n",
    "\n",
    "**See the Lecture 2 examples**"
   ]
  },
  {
   "cell_type": "markdown",
   "metadata": {},
   "source": [
    "## printf()\n",
    "We will now shed some light on the *printf* function that we have been using already for a while.\n",
    "This function is defined in the *stdio.h* header and its implementation (that we do not ever look at) can be system specific.\n",
    "It allows us to send formated output to be displayed on the standard output device (*stdout*) in our case this is the screen.\n",
    "(It does not need to be the screen, this could be a file, a communication device such as a printer or a network protocol).\n",
    "\n",
    "**int printf(const char *f, ...)**  \n",
    "the definition of *printf*. Returns the number of written characters.\n",
    "\n",
    "*f* - text to be written, might contain formating tags (\\%specifier) to be replaced by values provided in arguments (not *data safe*)."
   ]
  },
  {
   "cell_type": "code",
   "execution_count": 4,
   "metadata": {},
   "outputs": [
    {
     "name": "stdout",
     "output_type": "stream",
     "text": [
      "Hello! \n",
      "8\n"
     ]
    }
   ],
   "source": [
    "#include <stdio.h> // this is where printf is declared\n",
    "\n",
    "int main(){\n",
    "    int a = printf(\"Hello! \\n\"); // <- this is  charachters\n",
    "    printf(\"%d\\n\", a);\n",
    "}"
   ]
  },
  {
   "cell_type": "markdown",
   "metadata": {},
   "source": [
    "## Format tags\n",
    "Allows to pass more detailed instructions for the way value is to be printed.  \n",
    "**\\%[flags][width][.prec]spc**\n",
    "* Some Flags: - left justify, +force sign\n",
    "* width - minimum number of characters to be printed\n",
    "* .prec - precision\n",
    "    * for ints: the minimum number of digits to be written\n",
    "    * floats and doubles:\n",
    "        * e, E, f: the number of digits to be printed after the decimal point.\n",
    "        * g, G: maximum number of significant digits to be printed"
   ]
  },
  {
   "cell_type": "code",
   "execution_count": 17,
   "metadata": {},
   "outputs": [
    {
     "name": "stdout",
     "output_type": "stream",
     "text": [
      "+10\n",
      "-80\n",
      "   20  10\n",
      "    1\n",
      "   10\n",
      "  100\n",
      " 1000\n",
      "100000\n",
      "  001\n",
      "  010\n",
      "  100\n",
      " 1000\n"
     ]
    }
   ],
   "source": [
    "#include <stdio.h> // this is where printf is declared\n",
    "\n",
    "int main(){\n",
    "    int a = 10;\n",
    "    printf(\"%+d\\n\", a); // force the sign\n",
    "    printf(\"%d\\n\", a-90);\n",
    "    \n",
    "    printf(\"%5d %3d\\n\", a+10, a); // the width is set to 5\n",
    "    \n",
    "    // with width I can nicly print data!\n",
    "    printf(\"%5d\\n\", 1);\n",
    "    printf(\"%5d\\n\", 10);\n",
    "    printf(\"%5d\\n\", 100);\n",
    "    printf(\"%5d\\n\", 1000);\n",
    "    //but\n",
    "    printf(\"%5d\\n\", 100000);\n",
    "    \n",
    "    // add precision to output\n",
    "    printf(\"%5.3d\\n\", 1);\n",
    "    printf(\"%5.3d\\n\", 10);\n",
    "    printf(\"%5.3d\\n\", 100);\n",
    "    printf(\"%5.3d\\n\", 1000);\n",
    "}"
   ]
  },
  {
   "cell_type": "code",
   "execution_count": 31,
   "metadata": {},
   "outputs": [
    {
     "name": "stdout",
     "output_type": "stream",
     "text": [
      "+10\n",
      "-80\n",
      "   20  10\n",
      "    1\n",
      "   10\n",
      "  100\n",
      " 1000\n",
      "100000\n",
      "  001\n",
      "  010\n",
      "  100\n",
      " 1000\n"
     ]
    }
   ],
   "source": [
    "#include <stdio.h> // this is where printf is declared\n",
    "\n",
    "int main(){\n",
    "    int a = 10;\n",
    "    printf(\"%+d\\n\", a); // force the sign\n",
    "    printf(\"%d\\n\", a-90);\n",
    "    \n",
    "    printf(\"%5d %3d\\n\", a+10, a); // the width is set to 5\n",
    "    \n",
    "    // with width I can nicly print data!\n",
    "    printf(\"%5d\\n\", 1);\n",
    "    printf(\"%5d\\n\", 10);\n",
    "    printf(\"%5d\\n\", 100);\n",
    "    printf(\"%5d\\n\", 1000);\n",
    "    //but\n",
    "    printf(\"%5d\\n\", 100000);\n",
    "    \n",
    "    // add precision to output\n",
    "    printf(\"%5.3d\\n\", 1);\n",
    "    printf(\"%5.3d\\n\", 10);\n",
    "    printf(\"%5.3d\\n\", 100);\n",
    "    printf(\"%5.3d\\n\", 1000);\n",
    "}"
   ]
  },
  {
   "cell_type": "code",
   "execution_count": 34,
   "metadata": {},
   "outputs": [
    {
     "name": "stdout",
     "output_type": "stream",
     "text": [
      " 1.999e+00\n",
      "  1.06e+01\n",
      " 1.006e+02\n",
      "1.000888800000000e+03\n"
     ]
    }
   ],
   "source": [
    "#include <stdio.h> // this is where printf is declared\n",
    "\n",
    "int main(){    \n",
    "    printf(\"%10.3le\\n\", 1.9994);\n",
    "    printf(\"%10.2le\\n\", 10.55568);\n",
    "    printf(\"%10.3le\\n\", 100.5555);\n",
    "    printf(\"%1.15le\\n\", 1000.8888);\n",
    "}"
   ]
  },
  {
   "cell_type": "markdown",
   "metadata": {},
   "source": [
    "## The cursor control\n",
    "Controls the position of the cursor\n",
    "\n",
    "* \\\\n - starts a new line and carriage return\n",
    "* \\\\b - backspace\n",
    "* \\\\t - tab\n",
    "* \\\\v - newline without carriage return\n",
    "* \\\\r - carriage return\n",
    "* \\\\\\\\- single `\\`"
   ]
  },
  {
   "cell_type": "code",
   "execution_count": 41,
   "metadata": {},
   "outputs": [
    {
     "name": "stdout",
     "output_type": "stream",
     "text": [
      "This is a sentence?\n",
      "and this is a new line\n",
      "This\b is\b a\b sentence?\b\n",
      "This\t is\t a\t sentence\t?\n",
      "This\u000b",
      " is\u000b",
      " a\u000b",
      " sentence\u000b",
      "?\n",
      "aaa\n",
      "bbbbbbbbbbbb\r",
      " aaa\n",
      "To print a \\ use  \\\\ \n",
      " \" \n"
     ]
    }
   ],
   "source": [
    "#include <stdio.h> // this is where printf is declared\n",
    "\n",
    "int main(){\n",
    "    printf(\"This is a sentence?\\nand this is a new line\\n\");\n",
    "    printf(\"This\\b is\\b a\\b sentence?\\b\\n\");\n",
    "    printf(\"This\\t is\\t a\\t sentence\\t?\\n\");\n",
    "    printf(\"This\\v is\\v a\\v sentence\\v?\\naaa\\n\"); // ??\n",
    "\n",
    "    printf(\"bbbbbbbbbbbb\\r aaa\\n\"); // ??\n",
    "    \n",
    "    printf(\"To print a \\\\ use  \\\\\\\\ \\n\");\n",
    "    printf(\" \\\" \\n\");\n",
    "}"
   ]
  },
  {
   "attachments": {
    "scanf_perils.png": {
     "image/png": "[encoded data removed]"
    }
   },
   "cell_type": "markdown",
   "metadata": {},
   "source": [
    "## Reading input from standard input\n",
    "**scanf** please run the examples on a system with a terminal access.\n",
    "\n",
    "* `#include <stdio.h>`\n",
    "*  Reads formatted input from stdin - the keybord\n",
    "* int scanf(const char *f, ...) returns the total number of characters written\n",
    "* f - a string containing a format specifier %specifier\n",
    "* Mind the \\& - very very important!!\n",
    "\n",
    "| ![scanf_perils.png](attachment:scanf_perils.png) | \n",
    "|:--:| \n",
    "| *He forgot about the & !!* |\n",
    "| *Source: the XKCD commic* |"
   ]
  },
  {
   "cell_type": "code",
   "execution_count": 44,
   "metadata": {},
   "outputs": [
    {
     "name": "stdout",
     "output_type": "stream",
     "text": [
      "The value of a has been read a=0\n"
     ]
    }
   ],
   "source": [
    "#include <stdio.h>\n",
    "\n",
    "int main()\n",
    "{\n",
    "    int a = 0;\n",
    "    scanf(\"%d\", &a);\n",
    "    printf(\"The value of a has been read a=%d\\n\", a);\n",
    "}"
   ]
  },
  {
   "cell_type": "code",
   "execution_count": 45,
   "metadata": {},
   "outputs": [
    {
     "name": "stdout",
     "output_type": "stream",
     "text": [
      "Give me an int!\n",
      "a=432181181\n",
      " Give me an double!\n",
      "a=432181181 b=0.000000\n"
     ]
    }
   ],
   "source": [
    "#include <stdio.h>\n",
    "\n",
    "int main(){\n",
    "  int a;\n",
    "  \n",
    "  printf(\"Give me an int!\\n\");\n",
    "  scanf(\"%d\", &a); //mind the &!!\n",
    "  printf(\"a=%d\\n\", a);\n",
    "\n",
    "  double b;  \n",
    "  printf(\" Give me an double!\\n\");\n",
    "  scanf(\"%lf\", &b);\n",
    "  \n",
    "  printf(\"a=%d b=%lf\\n\", a, b);\n",
    "}"
   ]
  },
  {
   "cell_type": "markdown",
   "metadata": {},
   "source": [
    "## Mathematical library: math.h"
   ]
  },
  {
   "cell_type": "code",
   "execution_count": 46,
   "metadata": {},
   "outputs": [
    {
     "name": "stdout",
     "output_type": "stream",
     "text": [
      "6.800000\n",
      "0.494113\n",
      "0.869397\n",
      "0.568340\n"
     ]
    }
   ],
   "source": [
    "//%cflags:-lm\n",
    "\n",
    "#include <stdio.h>\n",
    "#include <math.h>\n",
    "\n",
    "int main(){\n",
    "\tdouble a = 6.8;\n",
    "\tprintf(\"%lf\\n\", a);\n",
    "\t\n",
    "\tprintf(\"%lf\\n\", sin(a));\n",
    "    printf(\"%lf\\n\", cos(a));\n",
    "    printf(\"%lf\\n\", tan(a));\n",
    "}"
   ]
  },
  {
   "cell_type": "markdown",
   "metadata": {},
   "source": [
    "**pow** calculates power of a value"
   ]
  },
  {
   "cell_type": "code",
   "execution_count": 49,
   "metadata": {},
   "outputs": [
    {
     "name": "stdout",
     "output_type": "stream",
     "text": [
      "125.000000\n"
     ]
    }
   ],
   "source": [
    "//%cflags:-lm\n",
    "\n",
    "#include <stdio.h>\n",
    "#include <math.h>\n",
    "\n",
    "int main(){\n",
    "    int a = 5;\n",
    "    int b = 3;\n",
    "    //a^b\n",
    "    printf(\"%lf\\n\", pow(a,b));\n",
    "}"
   ]
  },
  {
   "cell_type": "code",
   "execution_count": 55,
   "metadata": {},
   "outputs": [
    {
     "name": "stdout",
     "output_type": "stream",
     "text": [
      "0.001879\n"
     ]
    }
   ],
   "source": [
    "//%cflags:-lm\n",
    "\n",
    "#include <stdio.h>\n",
    "#include <math.h>\n",
    "\n",
    "int main(){\n",
    "    double a = 5;\n",
    "    double b = -3.9;\n",
    "    //a^b\n",
    "    printf(\"%lf\\n\", pow(a,b));\n",
    "}"
   ]
  },
  {
   "cell_type": "markdown",
   "metadata": {},
   "source": [
    "**exp(x)** is equivalent to $e^x$\n",
    "\n",
    "$e^{x+y}$"
   ]
  },
  {
   "cell_type": "code",
   "execution_count": 56,
   "metadata": {},
   "outputs": [
    {
     "name": "stdout",
     "output_type": "stream",
     "text": [
      "298.867401\n"
     ]
    }
   ],
   "source": [
    "//%cflags:-lm\n",
    "\n",
    "#include <stdio.h>\n",
    "#include <math.h>\n",
    "\n",
    "int main()\n",
    "{\n",
    "    double x=1.9, y=3.8;\n",
    "//     scanf(\"%lf\", &x);\n",
    "//     scanf(\"%lf\", &y);\n",
    "    \n",
    "    printf(\"%lf\\n\", exp(x+y));\n",
    "}"
   ]
  },
  {
   "cell_type": "markdown",
   "metadata": {},
   "source": [
    "Do not do this:  \n",
    "**pow(exp(1.), x+y)**"
   ]
  },
  {
   "cell_type": "markdown",
   "metadata": {},
   "source": [
    "//%cflags:-lm\n",
    "\n",
    "#include <stdio.h>\n",
    "#include <math.h>\n",
    "\n",
    "\n",
    "int main(){\n",
    "\tdouble a = 6.8;\n",
    "\tprintf(\"%lf\\n\", a);\n",
    "\t\n",
    "    // e^x\n",
    "\tprintf(\"%lf\\n\", exp(1.0));\n",
    "    printf(\"%lf\\n\", exp(a));\n",
    "    \n",
    "    //natural logarithm ln()\n",
    "    printf(\"natural log of e^5 is %lf\\n\", log(exp(5.0)));\n",
    "    //base 10 log: log10\n",
    "    printf(\"base 10 log of 100 is %lf\\n\", log10(100.0));\n",
    "    \n",
    "    //pow\n",
    "    printf(\"%lf\\n\", pow(10.0, 2.4));\n",
    "    \n",
    "    //sqrt of a number\n",
    "    printf(\"sqrt(100) is %.2lf\\n\", sqrt(100));\n",
    "}"
   ]
  },
  {
   "cell_type": "markdown",
   "metadata": {},
   "source": [
    "## A practice task:\n",
    "1. A program that prints your name\n",
    "2. Modify it so it stores your student ID\n",
    "3. Modify the program so the ID is read from keyboard\n",
    "4. Write a new program that uses variables of type double to perform mathematical operations\n",
    "    * Read the values from the keyboard\n",
    "    * Perform basic arithmetic operations (+,-,/,*)\n",
    "    * Use functions from math.h to perform more complex operations\n",
    "        * sqrt, pow, log10, ln ... (look at http://www.cplusplus.com/reference/cmath/pow/)"
   ]
  }
 ],
 "metadata": {
  "kernelspec": {
   "display_name": "C",
   "language": "c",
   "name": "c"
  },
  "language_info": {
   "file_extension": ".c",
   "mimetype": "text/plain",
   "name": "c"
  }
 },
 "nbformat": 4,
 "nbformat_minor": 2
}
