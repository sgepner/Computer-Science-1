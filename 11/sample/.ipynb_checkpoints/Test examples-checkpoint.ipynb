{
 "cells": [
  {
   "cell_type": "markdown",
   "metadata": {},
   "source": [
    "# Solutions to the example test"
   ]
  },
  {
   "cell_type": "markdown",
   "metadata": {},
   "source": [
    "Problem 1"
   ]
  },
  {
   "cell_type": "code",
   "execution_count": null,
   "metadata": {},
   "outputs": [],
   "source": [
    "int a[50];\n",
    "for(int i=0; i<50; ++i)\n",
    "    a[i] = 0;"
   ]
  },
  {
   "cell_type": "code",
   "execution_count": null,
   "metadata": {},
   "outputs": [],
   "source": [
    "double *p = &d;\n",
    "*p = 30;"
   ]
  },
  {
   "cell_type": "code",
   "execution_count": null,
   "metadata": {},
   "outputs": [],
   "source": [
    "double fun(int a[][20], int n, int m)"
   ]
  },
  {
   "cell_type": "markdown",
   "metadata": {},
   "source": [
    "Problem 2"
   ]
  },
  {
   "cell_type": "code",
   "execution_count": null,
   "metadata": {},
   "outputs": [],
   "source": [
    "double *p=(double *)malloc(50*sizeof(double));\n",
    "for(int i=0; i<50; ++i)\n",
    "    p[i] = 9.5;\n",
    "free(p);"
   ]
  },
  {
   "cell_type": "code",
   "execution_count": null,
   "metadata": {},
   "outputs": [],
   "source": [
    "FILE *f = fopen(\"data.dat\", \"r\");\n",
    "char aa[1000];\n",
    "fgets(aa, 1000, f);\n",
    "fclose(f);"
   ]
  },
  {
   "cell_type": "code",
   "execution_count": null,
   "metadata": {},
   "outputs": [],
   "source": [
    "struct student{\n",
    "    char[256] fname;\n",
    "    char[256] lname;\n",
    "    int id;\n",
    "} s1, s2, s3;"
   ]
  },
  {
   "cell_type": "markdown",
   "metadata": {},
   "source": [
    "Problem 3"
   ]
  },
  {
   "cell_type": "code",
   "execution_count": null,
   "metadata": {},
   "outputs": [],
   "source": [
    "#include <stdio.h>\n",
    "#include <stdlib.h>\n",
    "\n",
    "int main(){\n",
    "    FILE *f = fopen(\"data.dat\", \"r\");\n",
    "    int n;\n",
    "    fscanf(f, \"%d\", &n);\n",
    "    double *x = (double *)malloc(n * sizeof(double));\n",
    "    double *y = (double *)malloc(n * sizeof(double));\n",
    "    for(int i=0; i<n; ++i)\n",
    "    {\n",
    "        fscanf(\"%lf %lf\", &x[i], &y[i]);\n",
    "    }\n",
    "    printf(\"%lf %lf %lf %lf\\n\", x[10], y[10], x[15], y[15]);\n",
    "    \n",
    "    free(x); free(y);\n",
    "    fclose(f);\n",
    "}"
   ]
  }
 ],
 "metadata": {
  "kernelspec": {
   "display_name": "C",
   "language": "c",
   "name": "bash"
  },
  "language_info": {
   "file_extension": ".c",
   "mimetype": "text/plain",
   "name": "c"
  }
 },
 "nbformat": 4,
 "nbformat_minor": 2
}
