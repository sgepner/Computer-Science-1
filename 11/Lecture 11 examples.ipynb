{
 "cells": [
  {
   "cell_type": "markdown",
   "metadata": {},
   "source": [
    "# Strings, Structures and function pointers\n",
    "## Strings"
   ]
  },
  {
   "cell_type": "markdown",
   "metadata": {},
   "source": [
    "In C, string is an array of characters, terminated by a speciall character, the NULL. Such strings are refered to as Null-terminated strings.\n",
    "\n",
    "Let us recall the things we know about characters\n",
    "* Occupies 1 byte\n",
    "* Each caracter has an ASCI code\n",
    "* Some are whitespace - we do not see them\n",
    "* characters use ' ' not \" \""
   ]
  },
  {
   "cell_type": "code",
   "execution_count": 2,
   "metadata": {},
   "outputs": [
    {
     "name": "stdout",
     "output_type": "stream",
     "text": [
      "The size of char is 1\n",
      "50 2\n",
      "51 3\n",
      "52 4\n",
      "53 5\n",
      "54 6\n"
     ]
    }
   ],
   "source": [
    "#include <stdio.h>\n",
    "\n",
    "int main()\n",
    "{\n",
    "    char c;\n",
    "    printf(\"The size of char is %ld\\n\", sizeof(char));\n",
    "    //1 byte stores ints from 0 to 255 (256 characters)\n",
    "    for(int i=50; i<55; ++i) // Set the range to what you want\n",
    "    {\n",
    "        printf(\"%d %c\\n\", i, i);\n",
    "    }\n",
    "}"
   ]
  },
  {
   "cell_type": "markdown",
   "metadata": {},
   "source": [
    "Let us see where is the Null character '\\\\0'"
   ]
  },
  {
   "cell_type": "code",
   "execution_count": 3,
   "metadata": {},
   "outputs": [
    {
     "name": "stdout",
     "output_type": "stream",
     "text": [
      "0 \u0000\n"
     ]
    }
   ],
   "source": [
    "#include <stdio.h>\n",
    "\n",
    "int main()\n",
    "{\n",
    " //there is a special character! '\\0'\n",
    "  for(int i=0; i<256; ++i)\n",
    "  {\n",
    "    if(i=='\\0')\n",
    "      printf(\"%d %c\\n\", i, i); // the zero char\n",
    "  }\n",
    "}"
   ]
  },
  {
   "cell_type": "markdown",
   "metadata": {},
   "source": [
    "The speciall Null character is '\\\\0' and is the first in the ASCII table. This character is important to us. It will be used to mark termination of a string. It is used for:\n",
    "* Determining the length of a string\n",
    "* Copying one string to another\n",
    "* Appending (concatenating) one string to another\n",
    "* Any other operation on strings\n",
    "\n",
    "We will now write a program storing multiple characters inside an array of characters - A word or a sentence.\n",
    "The last entry is"
   ]
  },
  {
   "cell_type": "code",
   "execution_count": 4,
   "metadata": {},
   "outputs": [
    {
     "name": "stdout",
     "output_type": "stream",
     "text": [
      "Hello World\u0000\u0000\u0000\u0000\n",
      "Hello World\n",
      "Hello World777777777\n"
     ]
    }
   ],
   "source": [
    "//Write a program storing multiple characters inside an array of characters - A word or a sentence\n",
    "#include <stdio.h>\n",
    "\n",
    "int main(){\n",
    "  char word[256]; //an array of characters, let us see what is inside\n",
    "   \n",
    "  word[0] = 'H';\n",
    "  word[1] = 'e';\n",
    "  word[2] = 'l';\n",
    "  word[3] = 'l';\n",
    "  word[4] = 'o';\n",
    "  word[5] = ' ';\n",
    "  word[6] = 'W';\n",
    "  word[7] = 'o';\n",
    "  word[8] = 'r';\n",
    "  word[9] = 'l';\n",
    "  word[10] = 'd';\n",
    "  word[11] = '\\0';\n",
    "  \n",
    "  for(int i=0; i<15; ++i) // Print character by character\n",
    "  {\n",
    "    printf(\"%c\", word[i]);\n",
    "  }\n",
    "  printf(\"\\n\");\n",
    "    \n",
    "  printf(\"%s\\n\", word); // Print as a string\n",
    "    \n",
    "  for(int i=11; i<256; ++i) // Manipulate the string\n",
    "  {\n",
    "    word[i]=55; // this is 7!\n",
    "  }\n",
    "  word[20] = '\\0'; // Add a Null character\n",
    "  printf(\"%s\\n\", word);//And print as a string\n",
    "}"
   ]
  },
  {
   "cell_type": "markdown",
   "metadata": {},
   "source": [
    "How many '7' was printed and why?  \n",
    "Let now have another example:"
   ]
  },
  {
   "cell_type": "code",
   "execution_count": 5,
   "metadata": {},
   "outputs": [
    {
     "name": "stdout",
     "output_type": "stream",
     "text": [
      "a \u0000 --\n",
      "5 8 9 7 5 7 8 4 ; 3 4 9 2 ; 5 8 2 8 4 8 \n",
      "58975784;3492;58284\n",
      "589\n"
     ]
    }
   ],
   "source": [
    "#include <stdio.h>\n",
    "#include <stdlib.h>\n",
    "\n",
    "int main(){\n",
    "  char a = 'a'; //this is a single char\n",
    "  char b = '\\0'; //so is this\n",
    "  \n",
    "  printf(\"%c %c --\\n\", a, b);\n",
    "  \n",
    "  char tc[20];\n",
    "  tc[0] = 'a';\n",
    "  for(int i=0; i<20; ++i)\n",
    "  {\n",
    "    tc[i] = rand()%10+50;\n",
    "    printf(\"%c \", tc[i]);\n",
    "  }\n",
    "  tc[19] = '\\0';\n",
    "  printf(\"\\n%s\\n\", tc);\n",
    "  \n",
    "  tc[3] = b; // '\\0' is the termination character\n",
    "  printf(\"%s\\n\", tc);\n",
    "}"
   ]
  },
  {
   "cell_type": "markdown",
   "metadata": {},
   "source": [
    "### Initialization of strings\n",
    "Initialize strings in a more convinient way:\n",
    "* As a static array, entries of which we can modify, but which can not be reasigned\n",
    "* As a pointer pointing at a static array, which we can not modify, but we can reasign the pointer to a different address"
   ]
  },
  {
   "cell_type": "code",
   "execution_count": 9,
   "metadata": {},
   "outputs": [
    {
     "name": "stdout",
     "output_type": "stream",
     "text": [
      "The cat is black!\n",
      "T!e cat is black!\n",
      "This cat is white!\n",
      "0x7f8860864000\n",
      "T!e cat is black!\n",
      "0x7fffe181e6b0\n",
      "aaaaa\n",
      "0x7f8860864017\n"
     ]
    }
   ],
   "source": [
    "#include <stdio.h>\n",
    "#include <stdlib.h>\n",
    "\n",
    "int main(){\n",
    "  // A static array a[]\n",
    "  char a[] = \"The cat is black!\";// {'a','s'}\n",
    "  printf(\"%s\\n\", a);\n",
    "\n",
    "  a[1] = 33;\n",
    "  printf(\"%s\\n\", a);\n",
    "  //a = \"aaa\"; // We can not do this!\n",
    "  \n",
    "  // As a pointer pointing at a fixed, static array\n",
    "  char *p = \"This cat is white!\";\n",
    "  printf(\"%s\\n\", p);\n",
    "  printf(\"%p\\n\", p);\n",
    "  \n",
    "  //We can not modify elelents sicne array is fixed at compilation\n",
    "  //p[1] = 33; //can not modify the value like that\n",
    "  // We can reassign the address\n",
    "  p = a;\n",
    "  printf(\"%s\\n\", p);\n",
    "  printf(\"%p\\n\", p);\n",
    "\n",
    "  p=\"aaaaa\";\n",
    "  printf(\"%s\\n\", p);\n",
    "  printf(\"%p\\n\", p);\n",
    "}"
   ]
  },
  {
   "cell_type": "markdown",
   "metadata": {},
   "source": [
    "Note that each time address to which *p* pointed changed! The main message here is that manipulating strings is smoewhat difficult. Do not worry, we will deal with the subject by learning string copping function!\n",
    "\n",
    "### Reading strings:  \n",
    "first with scanf(), but only up to a first whitespace character"
   ]
  },
  {
   "cell_type": "code",
   "execution_count": null,
   "metadata": {},
   "outputs": [],
   "source": [
    "#include <stdio.h>\n",
    "\n",
    "int main(){\n",
    "  char a[256];\n",
    "  \n",
    "  scanf(\"%s\", a);\n",
    "  \n",
    "  printf(\"%s\\n\", a);\n",
    "}"
   ]
  },
  {
   "cell_type": "markdown",
   "metadata": {},
   "source": [
    "An alternative is tu use **fgets** function:  \n",
    "char \\*fgets (char \\*str, int size, FILE\\* file);  \n",
    "the function reads a string of data from *FILE* input, of size *size* and stores it in a buffer *str*.  \n",
    "The source freom which we read is more general than a simple file *FILE*, it can be a standard input (stdin - the keybord)."
   ]
  },
  {
   "cell_type": "code",
   "execution_count": null,
   "metadata": {},
   "outputs": [],
   "source": [
    "#include <stdio.h>\n",
    "\n",
    "int main(){\n",
    "  char a[10];\n",
    "  \n",
    "  fgets( a, 10, stdin ); // Read from keyboard\n",
    "  \n",
    "  printf(\"%s\\n\", a);\n",
    "  printf(\"%c %p\\n\", a[0], a);\n",
    "}"
   ]
  },
  {
   "cell_type": "markdown",
   "metadata": {},
   "source": [
    "As above, but the size of a buffer is determined on runtime, and dynamic allocation is used."
   ]
  },
  {
   "cell_type": "code",
   "execution_count": 11,
   "metadata": {},
   "outputs": [],
   "source": [
    "#include <stdio.h>\n",
    "#include <stdlib.h>\n",
    "\n",
    "int main(){\n",
    "  int n;\n",
    "  scanf(\"%d\\n\", &n);\n",
    "  char *p=(char*)malloc(n*sizeof(char));\n",
    "  \n",
    "  fgets( p, n, stdin );\n",
    "  \n",
    "  printf(\"%s\\n\", p);\n",
    "  printf(\"%c %p\\n\", p[0], p);\n",
    "  \n",
    "  free(p);\n",
    "}"
   ]
  },
  {
   "cell_type": "markdown",
   "metadata": {},
   "source": [
    "Finally fgets, makes it easy to read from a file. Here we read a C source file and print the content:"
   ]
  },
  {
   "cell_type": "code",
   "execution_count": 12,
   "metadata": {},
   "outputs": [
    {
     "name": "stdout",
     "output_type": "stream",
     "text": [
      "#include <stdio.h>\n",
      "#include <stdlib.h>\n",
      "\n",
      "int main(){\n",
      "  FILE *f=fopen(\"read4.c\", \"r\");\n",
      "  \n",
      "  char line[1000];\n",
      "  //char *p = fgets( a, 256, stdin );\n",
      "  for(int i=0; i<10; ++i) //How to see if file has ended?\n",
      "  {\n",
      "    fgets( line, 1000, f );\n",
      "    printf(\"%s\", line);\n",
      "  }\n",
      "  fclose(f);\n",
      "}\n"
     ]
    }
   ],
   "source": [
    "#include <stdio.h>\n",
    "#include <stdlib.h>\n",
    "\n",
    "int main(){\n",
    "  FILE *f=fopen(\"read4.c\", \"r\");\n",
    "  \n",
    "  char line[1000];\n",
    "  for(int i=0; i<15; ++i) //How to see if file has ended?\n",
    "  {\n",
    "    fgets( line, 1000, f );\n",
    "    printf(\"%s\", line);\n",
    "  }\n",
    "  fclose(f);\n",
    "}"
   ]
  },
  {
   "cell_type": "markdown",
   "metadata": {},
   "source": [
    "### String manipulation\n",
    "There is a siute of functions designed for operations on strings, in order to use those we need to include a new header: **string.h**, it gives access to the follwing functions:\n",
    "* Comparison: int strcmp ( const char *s1, const char *s2 ); Returns 0 if s1 and s2 are the same; less than 0 if s1<s2; greater than 0 if s1>s2.\n",
    "* String concatenate: char *strcat ( char *dest, const char *src );\n",
    "* Copy: char *strcpy ( char *dest, const char *src );\n",
    "* Length of a string: int strlen ( const char *s );\n",
    "* char* strchr(s1, ch); Returns a pointer to the first occurrence of character ch in string s1.\n",
    "* char* strstr(s1, s2); Returns a pointer to the first occurrence of string s2 in string s1.\n",
    "\n",
    "Let us start with \"our\" implementation of the string compare function, try to analyze how it works:"
   ]
  },
  {
   "cell_type": "code",
   "execution_count": null,
   "metadata": {},
   "outputs": [],
   "source": [
    "#include <stdio.h>\n",
    "\n",
    "int mystrcmp(char *s1, char *s2)\n",
    "{\n",
    "  for(int i=0; 1; ++i)\n",
    "  { \n",
    "    if(s1[i] - s2[i] != 0)\n",
    "      return s1[i] - s2[i];\n",
    "    if(s1[i] == '\\0' || s2[i] == '\\0' ) break;\n",
    "  }\n",
    "  return 0;\n",
    "}\n",
    "\n",
    "int main(){\n",
    "  char a[] = \"111\";\n",
    "  char key[]=\"aaa\";\n",
    "  int res = mystrcmp( a, key );\n",
    "  printf(\"%d\\n\", res);\n",
    "}"
   ]
  },
  {
   "cell_type": "markdown",
   "metadata": {},
   "source": [
    "* String comparison with **strcmp()**"
   ]
  },
  {
   "cell_type": "code",
   "execution_count": null,
   "metadata": {},
   "outputs": [],
   "source": [
    "#include <stdio.h>\n",
    "#include <string.h>\n",
    "\n",
    "int main(){\n",
    "  char a[] = \"ABCb\";//65 66 67\n",
    "  char b[] = \"ABCa\";//97 98 99\n",
    "\n",
    "  int res = strcmp(b, a);\n",
    "  printf(\"res is: %d\\n\", res);\n",
    "}"
   ]
  },
  {
   "cell_type": "markdown",
   "metadata": {},
   "source": [
    "* String concatenate with **strcat()**"
   ]
  },
  {
   "cell_type": "code",
   "execution_count": null,
   "metadata": {},
   "outputs": [],
   "source": [
    "#include <stdio.h>\n",
    "#include <string.h>\n",
    "\n",
    "int main(){\n",
    "  char a[10] = \"ABC\";//65 66 67\n",
    "  char b[10] = \"abc\";//97 98 99\n",
    "\n",
    "  printf(\"%s \\n\", a);\n",
    "  printf(\"%s \\n\", b);\n",
    "  strcat(b, a);       //make sure the size of a is enough!\n",
    "  printf(\"%s \\n\", a);\n",
    "  printf(\"%s \\n\", b);\n",
    "}"
   ]
  },
  {
   "cell_type": "markdown",
   "metadata": {},
   "source": [
    "* String copy with **strcpy()** - mind that we had trouble manipulating strings, this fuction will be helpfull to us."
   ]
  },
  {
   "cell_type": "code",
   "execution_count": null,
   "metadata": {},
   "outputs": [],
   "source": [
    "#include <stdio.h>\n",
    "#include <string.h>\n",
    "\n",
    "int main(){\n",
    "  char a[] = \"AsssBC\";//65 66 67\n",
    "  char b[] = \"abffffdsadsadc\";//97 98 99\n",
    "\n",
    "  printf(\"String a: %s \\n\", a);\n",
    "  printf(\"String b: %s \\n\", b);\n",
    "\n",
    "  strcpy( b, a ); // Copy a to b\n",
    "  printf(\"String a: %s \\n\", a);\n",
    "  printf(\"String b: %s \\n\", b);\n",
    "}"
   ]
  },
  {
   "cell_type": "markdown",
   "metadata": {},
   "source": [
    "* String length with **strlen()**"
   ]
  },
  {
   "cell_type": "code",
   "execution_count": null,
   "metadata": {},
   "outputs": [],
   "source": [
    "#include <stdio.h>\n",
    "#include <string.h>\n",
    "\n",
    "int main(){\n",
    "  char a[] = \"abc\";\n",
    "  char b[] = \"ABCDEF\";\n",
    "\n",
    "  printf(\"%s \\n\", a);\n",
    "  printf(\"%s \\n\", b);\n",
    "  \n",
    "  int l1=strlen(a);\n",
    "  int l2=strlen(b);\n",
    "  \n",
    "  printf(\"Length of a: %d, length of b: %d\\n\", l1, l2);\n",
    "}"
   ]
  },
  {
   "cell_type": "markdown",
   "metadata": {},
   "source": [
    "* Find character in a string with **strchr(s1, ch)** - Returns a pointer to the first occurrence of character ch in string s1."
   ]
  },
  {
   "cell_type": "code",
   "execution_count": null,
   "metadata": {},
   "outputs": [],
   "source": [
    "#include <stdio.h>\n",
    "#include <string.h>\n",
    "\n",
    "int main(){\n",
    "  char a[] = \"abcde\";\n",
    "  \n",
    "  char *p = strchr(a, 'c');\n",
    "  \n",
    "  printf(\"%p\\n\", p);\n",
    "  if(p == NULL){\n",
    "      printf(\"Not found\\n\");\n",
    "  }\n",
    "  else{\n",
    "      printf(\"%c %p %ld\\n\", *p, p, p-a);\n",
    "      printf(\"%s\\n\", p);//!!\n",
    "  }\n",
    "}"
   ]
  },
  {
   "cell_type": "markdown",
   "metadata": {},
   "source": [
    "* Find a string in a string with **strstr(s1, s2)** - Returns a pointer to the first occurrence of string s2 in string s1."
   ]
  },
  {
   "cell_type": "code",
   "execution_count": null,
   "metadata": {},
   "outputs": [],
   "source": [
    "#include <stdio.h>\n",
    "#include <string.h>\n",
    "\n",
    "int main(){\n",
    "  char a[] = \"Passing data to and from functions with pointers\";\n",
    "  char key[]=\"data\";\n",
    "  int l=strlen(key);\n",
    "  \n",
    "  char *p = strstr(a, key);\n",
    "  if(*p!='\\0')\n",
    "    *(p+l) = '\\0';\n",
    "  \n",
    "  printf(\"%c %p %ld\\n\", *p, p, p-a);\n",
    "  printf(\"%s\\n\", p);\n",
    "}"
   ]
  },
  {
   "cell_type": "markdown",
   "metadata": {},
   "source": [
    "## Structures\n",
    "Are used to group data and allow for better code organization. Up to now whe have been using **simple** or **primitive** data types. I.e. such that represented a single data (int, double char ...). In case wee needed multiple data we used arrays. With structures we can create **compound** or **composite** data types.\n",
    "\n",
    "* Usage of functions allowed to organize functionality\n",
    "* Composite data types allow to organize data"
   ]
  },
  {
   "cell_type": "code",
   "execution_count": null,
   "metadata": {},
   "outputs": [],
   "source": [
    "struct structure_name {\n",
    "    member_type member_mane ;\n",
    "    member_type member_mane ;\n",
    "    //...\n",
    "    member_type member_mane ;\n",
    "} one or more structure variables ;"
   ]
  },
  {
   "cell_type": "markdown",
   "metadata": {},
   "source": [
    "To access *members* of a structure use . or -> in case of pointers"
   ]
  },
  {
   "cell_type": "code",
   "execution_count": null,
   "metadata": {},
   "outputs": [],
   "source": [
    "#include <stdio.h>\n",
    "#include <string.h>\n",
    "\n",
    "struct Robot { // Our first structure!\n",
    "    char name[50];\n",
    "    double x ,y;\n",
    "};\n",
    "\n",
    "int main(){\n",
    "    printf(\"Robot program\\n\");\n",
    "    \n",
    "    struct Robot r1;\n",
    "    strcpy(r1.name, \"R2D1\");\n",
    "    r1.x = 0;\n",
    "    r1.y = 0;\n",
    "    \n",
    "    printf(\"Name: %s, Position %lf, %lf\\n\", r1.name, r1.x, r1.y);\n",
    "    \n",
    "    struct Robot *pr = &r1;\n",
    "    printf(\"%p Name: %s, Position %lf, %lf\\n\", pr, pr->name,\n",
    "    pr->x, pr->y);\n",
    "    \n",
    "    printf(\"%ld\", sizeof(struct Robot)); // ???\n",
    "}"
   ]
  },
  {
   "cell_type": "markdown",
   "metadata": {},
   "source": [
    "Add a function that perform operation on a structure Robot"
   ]
  },
  {
   "cell_type": "code",
   "execution_count": null,
   "metadata": {},
   "outputs": [],
   "source": [
    "#include <stdio.h>\n",
    "#include <string.h>\n",
    "\n",
    "struct Robot {\n",
    "    char name[50];\n",
    "    double x ,y;\n",
    "} r1 ; // Define a variable of type struct Robot\n",
    "\n",
    "void print_robot(struct Robot *r)\n",
    "{\n",
    "    printf(\"Robot name: %s\\n\", r->name);\n",
    "    printf(\"Position x=%lf y=%lf\\n\", r->x, r->y);\n",
    "}\n",
    "\n",
    "int main () {\n",
    "    // r1 allready defined and global\n",
    "    strcpy( r1.name, \"aaaa\" );\n",
    "    r1.x = 8.0; r1.y = 0;\n",
    "    \n",
    "    struct Robot r3;\n",
    "    strcpy( r3.name, \"bbb\" );\n",
    "    r3.x = 1.0; r3.y = 0;\n",
    "    \n",
    "    struct Robot *p = &r3 ;\n",
    "    p->y=5.0;\n",
    "    \n",
    "    print_robot(&r1);\n",
    "    print_robot(&r3);\n",
    "}"
   ]
  },
  {
   "cell_type": "markdown",
   "metadata": {},
   "source": [
    "## Pointers to functions\n",
    "Do functions have addresses? **Yes!**  \n",
    "Have two functions and print their addresses:"
   ]
  },
  {
   "cell_type": "code",
   "execution_count": null,
   "metadata": {},
   "outputs": [],
   "source": [
    "#include <stdio.h>\n",
    "#include <string.h>\n",
    "\n",
    "void f1()\n",
    "{\n",
    "    printf(\"Hello from f1 %p\\n\", f1);\n",
    "}\n",
    "\n",
    "void f2()\n",
    "{\n",
    "    printf(\"Hello from f2 %p\\n\", f2);\n",
    "}\n",
    "\n",
    "int main () {\n",
    "    printf(\"Address of f1 is %p\\n\", f1);\n",
    "    printf(\"Address of f2 is %p\\n\", f2);\n",
    "    \n",
    "    f1();\n",
    "    f2();\n",
    "}"
   ]
  },
  {
   "cell_type": "markdown",
   "metadata": {},
   "source": [
    "So functions have addresses and we can pass those addresses, as we would pass address of *normal* variables. Or in other words, we can make function accept other functions as arguments!"
   ]
  },
  {
   "cell_type": "code",
   "execution_count": null,
   "metadata": {},
   "outputs": [],
   "source": [
    "#include <stdio.h>\n",
    "#include <string.h>\n",
    "\n",
    "void f1()\n",
    "{\n",
    "    printf(\"Hello from f1 %p\\n\", f1);\n",
    "}\n",
    "\n",
    "void f2()\n",
    "{\n",
    "    printf(\"Hello from f2 %p\\n\", f2);\n",
    "}\n",
    "\n",
    "// This function accepst an argument of type void\n",
    "//that is a function with empty argument list\n",
    "void funcaller( void ff(void) )\n",
    "{\n",
    "    printf(\"A call from a funcaller: \");\n",
    "    ff(); // A call to the argument function\n",
    "}\n",
    "\n",
    "int main () {\n",
    "    printf(\"Address of f1 is %p\\n\", f1);\n",
    "    printf(\"Address of f2 is %p\\n\", f2);\n",
    "    \n",
    "    funcaller(f1);\n",
    "    funcaller(f2);\n",
    "}"
   ]
  },
  {
   "cell_type": "markdown",
   "metadata": {},
   "source": [
    "Note the argument list of the *funcaller(void ff(void))* and the way we used it in lines 26 and 27.\n",
    "\n",
    "This ability of C language is very important to us. We now gained the ability to write generic functions. I.e. such that can work with a multitude of other functions, as long as the **interface** to the function is maintained. (In the above example we could have used any function that is of type *void* and needs no arguments.)\n",
    "\n",
    "We conclude with an example. Let us assume we are designing a function to calculate integrals of other functions (integrate some f(x) for the values of x ranging from a to b). We will not perform any inegration (would you be able to propose a valid algorithm?), but instead write a general *interface* for such a function."
   ]
  },
  {
   "cell_type": "code",
   "execution_count": null,
   "metadata": {},
   "outputs": [],
   "source": [
    "//%cflags:-lm\n",
    "\n",
    "#include <stdio.h>\n",
    "#include <string.h>\n",
    "#include <math.h>\n",
    "\n",
    "//Some inegration function\n",
    "// f is of type double and accepts a single argument\n",
    "double integrator(double a, double b, double f(double))\n",
    "{\n",
    "    printf(\"%lf %lf\\n\", f(a), f(b));\n",
    "}\n",
    "\n",
    "double fun1(double x){\n",
    "    return x*x - 2*x + 5;\n",
    "}\n",
    "\n",
    "double fun2(double x){\n",
    "    return sin(x) * cos(x) * exp(2.0*x);\n",
    "}\n",
    "\n",
    "int main () {\n",
    "    printf(\"Use integrator with fun1\\n\");\n",
    "    integrator(4, 5, fun1);\n",
    "    printf(\"Use integrator with fun2\\n\");\n",
    "    integrator(4, 5, fun2);\n",
    "    printf(\"Use integrator with some other functions\\n\");\n",
    "    integrator(4, 5, sin);\n",
    "    integrator(4, 5, cos);\n",
    "    //integrator(4, 5, pow); we can not do this!\n",
    "}"
   ]
  }
 ],
 "metadata": {
  "kernelspec": {
   "display_name": "C",
   "language": "c",
   "name": "c"
  },
  "language_info": {
   "file_extension": ".c",
   "mimetype": "text/plain",
   "name": "c"
  }
 },
 "nbformat": 4,
 "nbformat_minor": 2
}
