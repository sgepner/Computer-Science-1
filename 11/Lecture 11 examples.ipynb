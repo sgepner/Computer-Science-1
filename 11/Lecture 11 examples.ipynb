{
 "cells": [
  {
   "cell_type": "markdown",
   "metadata": {},
   "source": [
    "# Strings, Structures and function pointers\n",
    "## Strings"
   ]
  },
  {
   "cell_type": "markdown",
   "metadata": {},
   "source": [
    "In **C**, string is an **array of characters**, terminated by a special character, the **NULL**. Such strings are referred to as Null-terminated strings.\n",
    "\n",
    "Let us recall the things we know about characters\n",
    "* Occupies 1 byte\n",
    "* Each caracter has an ASCI code\n",
    "    * ([ASCI table](http://www.asciitable.com/))\n",
    "* Some are whitespace - we do not see them\n",
    "* characters use ' ' not \" \""
   ]
  },
  {
   "cell_type": "code",
   "execution_count": 25,
   "metadata": {
    "scrolled": false
   },
   "outputs": [
    {
     "name": "stdout",
     "output_type": "stream",
     "text": [
      "The size of char is 1\n",
      "70 F\n",
      "71 G\n",
      "72 H\n",
      "73 I\n",
      "74 J\n",
      "75 K\n",
      "76 L\n",
      "77 M\n",
      "78 N\n",
      "79 O\n"
     ]
    }
   ],
   "source": [
    "#include <stdio.h>\n",
    "\n",
    "int main()\n",
    "{\n",
    "    char c;\n",
    "    printf(\"The size of char is %ld\\n\", sizeof(char));\n",
    "    //1 byte stores ints from 0 to 255 (256 characters)\n",
    "    for(int i=70; i<80; ++i) // Set the range to what you want\n",
    "    {\n",
    "        printf(\"%d %c\\n\", i, i);\n",
    "    }\n",
    "}"
   ]
  },
  {
   "cell_type": "markdown",
   "metadata": {},
   "source": [
    "Let us see where is the Null character '\\\\0'"
   ]
  },
  {
   "cell_type": "code",
   "execution_count": 26,
   "metadata": {},
   "outputs": [
    {
     "name": "stdout",
     "output_type": "stream",
     "text": [
      "0 \u0000\n"
     ]
    }
   ],
   "source": [
    "#include <stdio.h>\n",
    "\n",
    "int main()\n",
    "{\n",
    " //there is a special character! '\\0'\n",
    "  for(int i=0; i<256; ++i)\n",
    "  {\n",
    "    if(i=='\\0')\n",
    "      printf(\"%d %c\\n\", i, i); // the zero char\n",
    "  }\n",
    "}"
   ]
  },
  {
   "cell_type": "markdown",
   "metadata": {},
   "source": [
    "The speciall Null character is '\\\\0' and is the first in the ASCII table. This character is important to us. It will be used to mark termination of a string. It is used for:\n",
    "* Determining the length of a string\n",
    "* Copying one string to another\n",
    "* Appending (concatenating) one string to another\n",
    "* Any other operation on strings\n",
    "\n",
    "We will now write a program storing multiple characters inside an array of characters - A word or a sentence.\n",
    "The last entry is '\\0'"
   ]
  },
  {
   "cell_type": "code",
   "execution_count": 42,
   "metadata": {},
   "outputs": [
    {
     "name": "stdout",
     "output_type": "stream",
     "text": [
      "Hello World\n",
      "Hello World777777777777777777777777777777777777777\n"
     ]
    }
   ],
   "source": [
    "//Write a program storing multiple characters inside an array of characters - A word or a sentence\n",
    "#include <stdio.h>\n",
    "\n",
    "int main(){\n",
    "  char word[256]; //an array of characters, let us see what is inside\n",
    "   \n",
    "  word[0] = 'H';\n",
    "  word[1] = 'e';\n",
    "  word[2] = 'l';\n",
    "  word[3] = 'l';\n",
    "  word[4] = 'o';\n",
    "  word[5] = ' ';\n",
    "  word[6] = 'W';\n",
    "  word[7] = 'o';\n",
    "  word[8] = 'r';\n",
    "  word[9] = 'l';\n",
    "  word[10] = 'd';\n",
    "  word[11] = '\\0';\n",
    "  \n",
    "//   for(int i=0; i<12; ++i) // Print character by character\n",
    "//   {\n",
    "//     printf(\"%c\", word[i]);\n",
    "//   }\n",
    "//   printf(\"\\n\");\n",
    "    \n",
    "  printf(\"%s\\n\", word); // Print as a string\n",
    "    \n",
    "  for(int i=11; i<256; ++i) // Manipulate the string\n",
    "  {\n",
    "    word[i]=55; // this is 7!\n",
    "  }\n",
    "  word[50] = '\\0'; // Add a Null character\n",
    "  printf(\"%s\\n\", word);//And print as a string\n",
    "}"
   ]
  },
  {
   "cell_type": "markdown",
   "metadata": {},
   "source": [
    "How many '7' was printed and why?  \n",
    "Let now have another example:\n",
    "\n",
    "New formating sign for the string, the **\\%s**"
   ]
  },
  {
   "cell_type": "code",
   "execution_count": 45,
   "metadata": {},
   "outputs": [
    {
     "name": "stdout",
     "output_type": "stream",
     "text": [
      "a \u0000 --\n",
      "? B C A ? A B > E = > C < E ? B < B > B \n",
      "?BCA?AB>E=>C<E?B<B>\n",
      "?BC\n"
     ]
    }
   ],
   "source": [
    "#include <stdio.h>\n",
    "#include <stdlib.h>\n",
    "\n",
    "int main(){\n",
    "  char a = 'a'; //this is a single char\n",
    "  char b = '\\0'; //so is this\n",
    "  \n",
    "  printf(\"%c %c --\\n\", a, b);\n",
    "  \n",
    "  char tc[20];\n",
    "  tc[0] = 'a';\n",
    "  for(int i=0; i<20; ++i)\n",
    "  {\n",
    "    tc[i] = rand()%10+60;\n",
    "    printf(\"%c \", tc[i]);\n",
    "  }\n",
    "  tc[19] = '\\0';\n",
    "  printf(\"\\n%s\\n\", tc);\n",
    "  \n",
    "  tc[3] = b; // '\\0' is the termination character\n",
    "  printf(\"%s\\n\", tc);\n",
    "}"
   ]
  },
  {
   "cell_type": "markdown",
   "metadata": {},
   "source": [
    "### Initialization of strings\n",
    "Initialize strings in a more convinient way:\n",
    "* As a static array, entries of which we can modify, but which can not be reasigned\n",
    "* As a pointer pointing at a static array, which we can not modify, but we can reasign the pointer to a different address"
   ]
  },
  {
   "cell_type": "code",
   "execution_count": 56,
   "metadata": {},
   "outputs": [
    {
     "name": "stdout",
     "output_type": "stream",
     "text": [
      "The cat is black!\n",
      "Tae cat is black!\n",
      "This cat is white!\n",
      "0x7f30dd466000\n",
      "Tae cat is black!\n",
      "0x7ffff9e6df70\n",
      "This is yet another string\n",
      "0x7f30dd466017\n"
     ]
    }
   ],
   "source": [
    "#include <stdio.h>\n",
    "#include <stdlib.h>\n",
    "\n",
    "int main(){\n",
    "  // A static array a[]\n",
    "//   char b = 'b';// \"b\" = 'b' + '\\0'\n",
    "  char a[] = \"The cat is black!\";// {'a','s'}\n",
    "  printf(\"%s\\n\", a);\n",
    "\n",
    "  a[1] = 'a';//33; // '!'\n",
    "  printf(\"%s\\n\", a);\n",
    "  // a = \"aaa\"; // We can not do this!\n",
    "  \n",
    "  // As a pointer pointing at a fixed, static array\n",
    "  char *p = \"This cat is white!\";\n",
    "  printf(\"%s\\n\", p);\n",
    "  printf(\"%p\\n\", p);\n",
    "  \n",
    "  //We can not modify elelents sicne array is fixed at compilation\n",
    "  // p[1] = 'h'; //can not modify the value like that\n",
    "  // We can reassign the address\n",
    "  p = a;\n",
    "  printf(\"%s\\n\", p);\n",
    "  printf(\"%p\\n\", p);\n",
    "\n",
    "  p = \"This is yet another string\";\n",
    "  printf(\"%s\\n\", p);\n",
    "  printf(\"%p\\n\", p);\n",
    "}"
   ]
  },
  {
   "cell_type": "markdown",
   "metadata": {},
   "source": [
    "Note that each time address to which *p* pointed changed! The main message here is that manipulating strings is smoewhat difficult. Do not worry, we will deal with the subject by learning string copping function!\n",
    "\n",
    "### Reading strings:  \n",
    "first with scanf(), but only up to a first whitespace character"
   ]
  },
  {
   "cell_type": "code",
   "execution_count": 8,
   "metadata": {},
   "outputs": [
    {
     "name": "stdout",
     "output_type": "stream",
     "text": [
      "\n"
     ]
    }
   ],
   "source": [
    "#include <stdio.h>\n",
    "\n",
    "int main(){\n",
    "  char a[256];\n",
    "  \n",
    "  scanf(\"%s\", a);\n",
    "  \n",
    "  printf(\"%s\\n\", a);\n",
    "}"
   ]
  },
  {
   "cell_type": "markdown",
   "metadata": {},
   "source": [
    "An alternative is tu use **fgets** function:  \n",
    "**`char *fgets (char *str, int size, FILE* file);`**  \n",
    "the function reads a string of data from *FILE* input, of size *size* and stores it in a buffer *str*.  \n",
    "The source freom which we read is more general than a simple file *FILE*, it can be a standard input (**stdin** - the keybord)."
   ]
  },
  {
   "cell_type": "code",
   "execution_count": null,
   "metadata": {},
   "outputs": [],
   "source": [
    "#include <stdio.h>\n",
    "\n",
    "int main(){\n",
    "  char a[256];\n",
    "  \n",
    "  fgets( a, 256, stdin ); // Read from keyboard\n",
    "  \n",
    "  printf(\"%s\\n\", a);\n",
    "  printf(\"%c %p\\n\", a[0], a);\n",
    "}"
   ]
  },
  {
   "cell_type": "markdown",
   "metadata": {},
   "source": [
    "As above, but the size of a buffer is determined on runtime, and dynamic allocation is used."
   ]
  },
  {
   "cell_type": "code",
   "execution_count": null,
   "metadata": {},
   "outputs": [],
   "source": [
    "#include <stdio.h>\n",
    "#include <stdlib.h>\n",
    "\n",
    "int main(){\n",
    "  int n;\n",
    "  scanf(\"%d\\n\", &n);\n",
    "  char *p=(char*)malloc(n*sizeof(char));\n",
    "  \n",
    "  fgets( p, n, stdin );\n",
    "  \n",
    "  printf(\"%s\\n\", p);\n",
    "  printf(\"%c %p\\n\", p[0], p);\n",
    "  \n",
    "  free(p);\n",
    "}"
   ]
  },
  {
   "cell_type": "markdown",
   "metadata": {},
   "source": [
    "Finally fgets, makes it easy to read from a file. Here we read a C source file and print the content:"
   ]
  },
  {
   "cell_type": "code",
   "execution_count": 59,
   "metadata": {},
   "outputs": [
    {
     "name": "stdout",
     "output_type": "stream",
     "text": [
      "#include <stdio.h>\n",
      "#include <stdlib.h>\n",
      "\n",
      "int main(){\n",
      "  FILE *f=fopen(\"read4.c\", \"r\");\n",
      "  \n",
      "  char line[1000];\n",
      "  //char *p = fgets( a, 256, stdin );\n",
      "  for(int i=0; i<15; ++i) //How to see if file has ended?\n",
      "  {\n",
      "    fgets( line, 1000, f );\n",
      "    printf(\"%s\", line);\n",
      "  }\n",
      "  fclose(f);\n",
      "}\n"
     ]
    }
   ],
   "source": [
    "#include <stdio.h>\n",
    "#include <stdlib.h>\n",
    "\n",
    "int main(){\n",
    "  FILE *f=fopen(\"sample/read4.c\", \"r\");\n",
    "  \n",
    "  char line[1000];\n",
    "  for(int i=0; i<15; ++i) //How to see if file has ended?\n",
    "  {\n",
    "    fgets( line, 1000, f );\n",
    "    printf(\"%s\", line);\n",
    "  }\n",
    "  fclose(f);\n",
    "}"
   ]
  },
  {
   "cell_type": "markdown",
   "metadata": {},
   "source": [
    "### String manipulation\n",
    "There is a siute of functions designed for operations on strings, in order to use those we need to include a new header: **string.h**, it gives access to the follwing functions:\n",
    "* Comparison: `int strcmp ( const char *s1, const char *s2 );` Returns 0 if s1 and s2 are the same; less than 0 if s1<s2; greater than 0 if s1>s2.\n",
    "* String concatenate: `char *strcat ( char *dest, const char *src );`\n",
    "* Copy: `char *strcpy ( char *dest, const char *src );`\n",
    "* Length of a string: `int strlen ( const char *s );`\n",
    "* `char* strchr(s1, ch);` Returns a pointer to the first occurrence of character ch in string s1.\n",
    "* `char* strstr(s1, s2);` Returns a pointer to the first occurrence of string s2 in string s1.\n",
    "\n",
    "Let us start with \"our\" implementation of the string compare function, try to analyze how it works:"
   ]
  },
  {
   "cell_type": "code",
   "execution_count": 67,
   "metadata": {},
   "outputs": [
    {
     "name": "stdout",
     "output_type": "stream",
     "text": [
      "0\n"
     ]
    }
   ],
   "source": [
    "#include <stdio.h>\n",
    "\n",
    "int mystrcmp(char *s1, char *s2)\n",
    "{\n",
    "  for(int i=0; 1; ++i)\n",
    "  { \n",
    "    if(s1[i] - s2[i] != 0)\n",
    "      return s2[i] - s1[i];\n",
    "    if(s1[i] == '\\0' || s2[i] == '\\0' ) break;\n",
    "  }\n",
    "  return 0;\n",
    "}\n",
    "\n",
    "int main(){\n",
    "  char a[] = \"111\";\n",
    "  char key[]=\"111\";\n",
    "  int res = mystrcmp( a, key );\n",
    "  printf(\"%d\\n\", res);\n",
    "}"
   ]
  },
  {
   "cell_type": "markdown",
   "metadata": {},
   "source": [
    "* String comparison with **strcmp()**"
   ]
  },
  {
   "cell_type": "code",
   "execution_count": 64,
   "metadata": {},
   "outputs": [
    {
     "name": "stdout",
     "output_type": "stream",
     "text": [
      "res is: -49\n"
     ]
    }
   ],
   "source": [
    "#include <stdio.h>\n",
    "#include <string.h>\n",
    "\n",
    "int main(){\n",
    "  char a[] = \"bbb\";//65 66 67\n",
    "  char b[] = \"111\";//97 98 99\n",
    "\n",
    "  int res = strcmp(b, a);\n",
    "  printf(\"res is: %d\\n\", res);\n",
    "}"
   ]
  },
  {
   "cell_type": "markdown",
   "metadata": {},
   "source": [
    "* String concatenate with **strcat()**"
   ]
  },
  {
   "cell_type": "code",
   "execution_count": 73,
   "metadata": {},
   "outputs": [
    {
     "name": "stdout",
     "output_type": "stream",
     "text": [
      "ABC \n",
      "abc \n",
      "ABC \n",
      "abcABC \n"
     ]
    }
   ],
   "source": [
    "#include <stdio.h>\n",
    "#include <string.h>\n",
    "\n",
    "int main(){\n",
    "  char a[] = \"ABC\";//65 66 67\n",
    "  char b[7] = \"abc\";//97 98 99\n",
    "\n",
    "  printf(\"%s \\n\", a);\n",
    "  printf(\"%s \\n\", b);\n",
    "  strcat(b, a);       //make sure the size of a is enough!\n",
    "  printf(\"%s \\n\", a);\n",
    "  printf(\"%s \\n\", b);\n",
    "}"
   ]
  },
  {
   "cell_type": "markdown",
   "metadata": {},
   "source": [
    "* String copy with **strcpy()** - mind that we had trouble manipulating strings, this fuction will be helpfull to us."
   ]
  },
  {
   "cell_type": "code",
   "execution_count": 78,
   "metadata": {},
   "outputs": [
    {
     "name": "stdout",
     "output_type": "stream",
     "text": [
      "String a: AsssBC \n",
      "String b: abffffdsadsadc \n",
      "String a: AsssBC \n",
      "String b: AsssBC \n"
     ]
    }
   ],
   "source": [
    "#include <stdio.h>\n",
    "#include <string.h>\n",
    "\n",
    "int main(){\n",
    "  char a[] = \"AsssBC\";//65 66 67\n",
    "  char b[] = \"abffffdsadsadc\";//97 98 99\n",
    "\n",
    "  printf(\"String a: %s \\n\", a);\n",
    "  printf(\"String b: %s \\n\", b);\n",
    "\n",
    "  strcpy( b, a ); // Copy a to b\n",
    "  printf(\"String a: %s \\n\", a);\n",
    "  printf(\"String b: %s \\n\", b);\n",
    "}"
   ]
  },
  {
   "cell_type": "markdown",
   "metadata": {},
   "source": [
    "* String length with **strlen()**"
   ]
  },
  {
   "cell_type": "code",
   "execution_count": 80,
   "metadata": {},
   "outputs": [
    {
     "name": "stdout",
     "output_type": "stream",
     "text": [
      "abc \n",
      "ABCDEF \n",
      "Length of a: 3, length of b: 6\n"
     ]
    }
   ],
   "source": [
    "#include <stdio.h>\n",
    "#include <string.h>\n",
    "\n",
    "int main(){\n",
    "  char a[] = \"abc\";\n",
    "  char b[] = \"ABCDEF\";\n",
    "\n",
    "  printf(\"%s \\n\", a);\n",
    "  printf(\"%s \\n\", b);\n",
    "  \n",
    "  int l1 = strlen(a);\n",
    "  int l2 = strlen(b);\n",
    "  \n",
    "  printf(\"Length of a: %d, length of b: %d\\n\", l1, l2);\n",
    "}"
   ]
  },
  {
   "cell_type": "markdown",
   "metadata": {},
   "source": [
    "* Find character in a string with **strchr(s1, ch)** - Returns a pointer to the first occurrence of character ch in string s1."
   ]
  },
  {
   "cell_type": "code",
   "execution_count": 85,
   "metadata": {},
   "outputs": [
    {
     "name": "stdout",
     "output_type": "stream",
     "text": [
      "0x7ffdc783b79f\n",
      "c 0x7ffdc783b79f 3\n",
      "cde 1111\n"
     ]
    }
   ],
   "source": [
    "#include <stdio.h>\n",
    "#include <string.h>\n",
    "\n",
    "int main(){\n",
    "  char a[] = \" abcde 1111\";\n",
    "  \n",
    "  char *p = strchr(a, 'c');\n",
    "  \n",
    "  printf(\"%p\\n\", p);\n",
    "  if(p == NULL)\n",
    "  {\n",
    "       printf(\"Not found\\n\");\n",
    "  }\n",
    "  else\n",
    "  {\n",
    "      printf(\"%c %p %ld\\n\", *p, p, p-a);\n",
    "      printf(\"%s\\n\", p);//!!\n",
    "  }\n",
    "}"
   ]
  },
  {
   "cell_type": "markdown",
   "metadata": {},
   "source": [
    "* Find a string in a string with **strstr(s1, s2)** - Returns a pointer to the first occurrence of string s2 in string s1."
   ]
  },
  {
   "cell_type": "code",
   "execution_count": 91,
   "metadata": {},
   "outputs": [
    {
     "name": "stdout",
     "output_type": "stream",
     "text": [
      "d 0x7fffee571318 8\n",
      "data to and from functions with pointers\n"
     ]
    }
   ],
   "source": [
    "#include <stdio.h>\n",
    "#include <string.h>\n",
    "\n",
    "int main()\n",
    "{\n",
    "  char a[] = \"Passing data to and from functions with pointers\";\n",
    "  char key[]=\"data\";\n",
    "  int l=strlen(key);\n",
    "  \n",
    "  char *p = strstr(a, key);\n",
    "  //if(*p!='\\0')\n",
    "  //  *(p+l) = '\\0';\n",
    "  \n",
    "  printf(\"%c %p %ld\\n\", *p, p, p-a);\n",
    "  printf(\"%s\\n\", p);\n",
    "}"
   ]
  },
  {
   "cell_type": "markdown",
   "metadata": {},
   "source": [
    "### Write a program\n",
    "That reads from `stdin` two strings, joins them and stores the result in a new string."
   ]
  },
  {
   "cell_type": "code",
   "execution_count": 1,
   "metadata": {},
   "outputs": [
    {
     "name": "stderr",
     "output_type": "stream",
     "text": [
      "[C kernel] Executable exited with code -11"
     ]
    }
   ],
   "source": [
    "#include <stdio.h>\n",
    "#include <stdlib.h>\n",
    "#include <string.h>\n",
    "\n",
    "int main(){\n",
    "  int n1, n2;\n",
    "  scanf(\"%d\\n\", &n1);\n",
    "  char *p1=(char*)malloc(n1*sizeof(char));\n",
    "  \n",
    "  fgets( p1, n1, stdin );\n",
    "  p1[ strlen(p1) - 1 ] = '\\0';\n",
    "//  printf(\"%s\\n\", p1);\n",
    "\n",
    "  scanf(\"%d\\n\", &n2);\n",
    "  char *p2=(char*)malloc(n2*sizeof(char));\n",
    "  fgets( p2, n2, stdin );\n",
    "  p2[ strlen(p2) - 1 ] = '\\0';\n",
    "//  printf(\"%s\\n\", p2);\n",
    "\n",
    "  char *p3=(char*)malloc(( strlen(p1)+ strlen(p2))*sizeof(char));\n",
    "  \n",
    "  strcat(p3, p1);\n",
    "  strcat(p3, p2);\n",
    "  \n",
    "//  printf(\"%s\\n\", p1);\n",
    "//  printf(\"%s\\n\", p2);\n",
    "  printf(\"%s\\n\", p3);\n",
    "  \n",
    "  free(p1);  \n",
    "  free(p2);\n",
    "  free(p3);\n",
    "}"
   ]
  },
  {
   "cell_type": "markdown",
   "metadata": {},
   "source": [
    "## Structures\n",
    "* Up to now we used simple, built-in data types, such as int, double, etc.\n",
    "* Those could be grouped using static or dynamic arrays.\n",
    "Example: Write a program simulating motion of a couple of ”robots”\n",
    "    * Each robot has a name, position, instant velocity and acceleration\n",
    "    * Each robot moves, according to its velocity\n",
    "    * Our program will get rather messy for larger number of robots"
   ]
  },
  {
   "cell_type": "code",
   "execution_count": 2,
   "metadata": {
    "collapsed": true
   },
   "outputs": [
    {
     "name": "stderr",
     "output_type": "stream",
     "text": [
      "/tmp/tmp0yh87tis.c: In function ‘main’:\n",
      "/tmp/tmp0yh87tis.c:21:7: error: assignment to expression with array type\n",
      "   21 |     ax=acc();\n",
      "      |       ^\n",
      "/tmp/tmp0yh87tis.c:22:7: error: assignment to expression with array type\n",
      "   22 |     ay=acc();\n",
      "      |       ^\n",
      "/tmp/tmp0yh87tis.c:24:13: error: invalid operands to binary * (have ‘double’ and ‘double *’)\n",
      "   24 |     vx += dt*ax;\n",
      "      |             ^\n",
      "      |             |\n",
      "      |             double *\n",
      "/tmp/tmp0yh87tis.c:25:13: error: invalid operands to binary * (have ‘double’ and ‘double *’)\n",
      "   25 |     vy += dt*ay;\n",
      "      |             ^\n",
      "      |             |\n",
      "      |             double *\n",
      "/tmp/tmp0yh87tis.c:27:13: error: invalid operands to binary * (have ‘double’ and ‘double *’)\n",
      "   27 |     x += dt * vx;\n",
      "      |             ^\n",
      "      |             |\n",
      "      |             double *\n",
      "/tmp/tmp0yh87tis.c:28:13: error: invalid operands to binary * (have ‘double’ and ‘double *’)\n",
      "   28 |     y += dt * vy;\n",
      "      |             ^\n",
      "      |             |\n",
      "      |             double *\n",
      "[C kernel] GCC exited with code 1, the executable will not be executed"
     ]
    }
   ],
   "source": [
    "#include <stdio.h>\n",
    "#include <string.h>\n",
    "#include <stdlib.h>\n",
    "#define N 50\n",
    "\n",
    "//x,y,vx,vy,ax,ay\n",
    "double acc()\n",
    "{\n",
    "  return (double)rand()/(double)RAND_MAX*10.0;//G*M*m/(r*r)\n",
    "}\n",
    "\n",
    "int main(){\n",
    "\n",
    "  double x[N], y[N], vx[N], vy[N], ax[N], ay[N];//should have a name, a color, \n",
    "  //Initialize positions, velocities and acc\n",
    "  \n",
    "  double dt=0.001;\n",
    "  for(int i=0; i<1000; ++i)\n",
    "  {\n",
    "    //loop over all the elements\n",
    "    ax=acc();\n",
    "    ay=acc();\n",
    "    \n",
    "    vx += dt*ax;\n",
    "    vy += dt*ay;\n",
    "    \n",
    "    x += dt * vx;\n",
    "    y += dt * vy;\n",
    "  } \n",
    "}"
   ]
  },
  {
   "cell_type": "markdown",
   "metadata": {},
   "source": [
    "* If our program becomes larger it will become difficult to handle\n",
    "* Need a method to organize it better\n",
    "* We know how to separate functionality, by dividing what program does in to different functions\n",
    "* Structures are used to group data in to larger constructs, allowing a better overview of it"
   ]
  },
  {
   "cell_type": "markdown",
   "metadata": {},
   "source": [
    "**Structures** are used to group data and allow for better code organization. Up to now we have been using **simple** or **primitive** data types. I.e. such that represented a single data (int, double char ...). In case wee needed multiple data we used arrays. With structures we can create **compound** or **composite** data types. **Structure** is a user defined data type available in C that allows the programmer to combine data items of different kinds.\n",
    "\n",
    "* Usage of functions allowed to organize functionality\n",
    "* Composite data types allow to organize data"
   ]
  },
  {
   "cell_type": "code",
   "execution_count": null,
   "metadata": {},
   "outputs": [],
   "source": [
    "struct structure_name {\n",
    "    member_type member_mane ;\n",
    "    member_type member_mane ;\n",
    "    //...\n",
    "    member_type member_mane ;\n",
    "} one or more structure variables ;"
   ]
  },
  {
   "cell_type": "markdown",
   "metadata": {},
   "source": [
    "To access *members* of a structure use `.` or `->` in case of pointers"
   ]
  },
  {
   "cell_type": "code",
   "execution_count": 45,
   "metadata": {},
   "outputs": [
    {
     "name": "stdout",
     "output_type": "stream",
     "text": [
      "Robot program\n",
      "Name: R2D2, Position 0.000000, 0.000000\n",
      "Name: R2D2, Position 1.000000, 1.000000\n",
      "0x7ffe67c37c80 Name: R2D2, Position 3.000000, 4.000000\n",
      "72"
     ]
    }
   ],
   "source": [
    "#include <stdio.h>\n",
    "#include <string.h>\n",
    "\n",
    "struct Robot { // Our first structure!\n",
    "    char name[50];\n",
    "    double x ,y;\n",
    "};\n",
    "\n",
    "int main(){\n",
    "    printf(\"Robot program\\n\");\n",
    "    \n",
    "    struct Robot r1;\n",
    "    //r1.name = \"name\"; // No can do\n",
    "    strcpy(r1.name, \"R2D2\");\n",
    "    r1.x = 0;\n",
    "    r1.y = 0;\n",
    "    \n",
    "    printf(\"Name: %s, Position %lf, %lf\\n\", r1.name, r1.x, r1.y);\n",
    "    \n",
    "    r1.x = 1;\n",
    "    r1.y = 1;\n",
    "    \n",
    "    printf(\"Name: %s, Position %lf, %lf\\n\", r1.name, r1.x, r1.y);\n",
    "    \n",
    "    struct Robot *pr = &r1;\n",
    "    pr->x = 3;\n",
    "    pr->y = 4;\n",
    "    printf(\"%p Name: %s, Position %lf, %lf\\n\", pr, pr->name, pr->x, pr->y);\n",
    "    \n",
    "    printf(\"%ld\", sizeof(struct Robot)); // ???\n",
    "}"
   ]
  },
  {
   "cell_type": "markdown",
   "metadata": {},
   "source": [
    "Add a function that perform operation on a structure Robot"
   ]
  },
  {
   "cell_type": "code",
   "execution_count": 46,
   "metadata": {},
   "outputs": [
    {
     "name": "stdout",
     "output_type": "stream",
     "text": [
      "Robot name: C3P0\n",
      "Position x=8.000000 y=0.000000\n",
      "Robot name: Robot\n",
      "Position x=1.000000 y=5.000000\n"
     ]
    }
   ],
   "source": [
    "#include <stdio.h>\n",
    "#include <string.h>\n",
    "\n",
    "struct Robot {\n",
    "    char name[50];\n",
    "    double x ,y;\n",
    "} r1 ; // Define a variable of type struct Robot\n",
    "\n",
    "void print_robot(struct Robot *r)\n",
    "{\n",
    "    printf(\"Robot name: %s\\n\", r->name);\n",
    "    printf(\"Position x=%lf y=%lf\\n\", r->x, r->y);\n",
    "}\n",
    "\n",
    "int main () {\n",
    "    // r1 allready defined and global\n",
    "    strcpy( r1.name, \"C3P0\" );\n",
    "    r1.x = 8.0; r1.y = 0;\n",
    "    \n",
    "    struct Robot r3;\n",
    "    strcpy( r3.name, \"Robot\" );\n",
    "    r3.x = 1.0; r3.y = 0;\n",
    "    \n",
    "    struct Robot *p = &r3 ;\n",
    "    p->y=5.0;\n",
    "    \n",
    "    print_robot(&r1);\n",
    "    print_robot(&r3);\n",
    "}"
   ]
  },
  {
   "cell_type": "markdown",
   "metadata": {},
   "source": [
    "Now Generate a number of robots and do stuff with them"
   ]
  },
  {
   "cell_type": "code",
   "execution_count": 49,
   "metadata": {},
   "outputs": [
    {
     "name": "stdout",
     "output_type": "stream",
     "text": [
      "Robot name: Robot 0\n",
      "Position x=0.840188 y=0.394383\n",
      "Robot name: Robot 1\n",
      "Position x=0.783099 y=0.798440\n",
      "Robot name: Robot 2\n",
      "Position x=0.911647 y=0.197551\n",
      "Robot name: Robot 3\n",
      "Position x=0.335223 y=0.768230\n",
      "Robot name: Robot 4\n",
      "Position x=0.277775 y=0.553970\n",
      "Robot name: Robot 5\n",
      "Position x=0.477397 y=0.628871\n",
      "Robot name: Robot 6\n",
      "Position x=0.364784 y=0.513401\n",
      "Robot name: Robot 7\n",
      "Position x=0.952230 y=0.916195\n",
      "Robot name: Robot 8\n",
      "Position x=0.635712 y=0.717297\n",
      "Robot name: Robot 9\n",
      "Position x=0.141603 y=0.606969\n",
      "Robot name: Robot 10\n",
      "Position x=0.016301 y=0.242887\n",
      "Robot name: Robot 11\n",
      "Position x=0.137232 y=0.804177\n",
      "Robot name: Robot 12\n",
      "Position x=0.156679 y=0.400944\n",
      "Robot name: Robot 13\n",
      "Position x=0.129790 y=0.108809\n",
      "Robot name: Robot 14\n",
      "Position x=0.998925 y=0.218257\n",
      "Robot name: Robot 15\n",
      "Position x=0.512932 y=0.839112\n",
      "Robot name: Robot 16\n",
      "Position x=0.612640 y=0.296032\n",
      "Robot name: Robot 17\n",
      "Position x=0.637552 y=0.524287\n",
      "Robot name: Robot 18\n",
      "Position x=0.493583 y=0.972775\n",
      "Robot name: Robot 19\n",
      "Position x=0.292517 y=0.771358\n"
     ]
    }
   ],
   "source": [
    "#include <stdio.h>\n",
    "#include <string.h>\n",
    "#include <stdlib.h>\n",
    "\n",
    "struct Robot {\n",
    "    char name[50];\n",
    "    double x ,y;\n",
    "}; // Define a variable of type struct Robot\n",
    "\n",
    "void print_robot(struct Robot *r)\n",
    "{\n",
    "    printf(\"Robot name: %s\\n\", r->name);\n",
    "    printf(\"Position x=%lf y=%lf\\n\", r->x, r->y);\n",
    "}\n",
    "\n",
    "int main () {\n",
    "    struct Robot rtab[25];\n",
    "    for(int i=0; i<25; ++i)\n",
    "    {\n",
    "        char str[20];\n",
    "        sprintf(str, \"Robot %d\", i);\n",
    "        strcpy( rtab[i].name, str );\n",
    "        rtab[i].x = (double)rand()/RAND_MAX;\n",
    "        rtab[i].y = (double)rand()/RAND_MAX;\n",
    "    }\n",
    "    \n",
    "    for(int i=0; i<25; ++i)\n",
    "    {\n",
    "        //printf(\"%s\\n\", rtab[i].name);\n",
    "        print_robot(&rtab[i]);\n",
    "    }\n",
    "}"
   ]
  },
  {
   "cell_type": "markdown",
   "metadata": {},
   "source": [
    "### Example\n",
    "Write an example of a list data colloection using structures.  \n",
    "What is a list?"
   ]
  },
  {
   "cell_type": "code",
   "execution_count": null,
   "metadata": {},
   "outputs": [],
   "source": []
  },
  {
   "cell_type": "markdown",
   "metadata": {},
   "source": [
    "## Pointers to functions\n",
    "Do functions have addresses? **Yes!**  \n",
    "Have two functions and print their addresses:"
   ]
  },
  {
   "cell_type": "code",
   "execution_count": 50,
   "metadata": {},
   "outputs": [
    {
     "name": "stdout",
     "output_type": "stream",
     "text": [
      "Address of f1 is 0x7f7a4ee85139\n",
      "Address of f2 is 0x7f7a4ee85162\n",
      "Hello from f1 0x7f7a4ee85139\n",
      "Hello from f2 0x7f7a4ee85162\n"
     ]
    }
   ],
   "source": [
    "#include <stdio.h>\n",
    "#include <string.h>\n",
    "\n",
    "void f1()\n",
    "{\n",
    "    printf(\"Hello from f1 %p\\n\", f1);\n",
    "}\n",
    "\n",
    "void f2()\n",
    "{\n",
    "    printf(\"Hello from f2 %p\\n\", f2);\n",
    "}\n",
    "\n",
    "int main () {\n",
    "    printf(\"Address of f1 is %p\\n\", f1);\n",
    "    printf(\"Address of f2 is %p\\n\", f2);\n",
    "    \n",
    "    f1();\n",
    "    f2();\n",
    "}"
   ]
  },
  {
   "cell_type": "markdown",
   "metadata": {},
   "source": [
    "So functions have addresses and we can pass those addresses, as we would pass address of *normal* variables. Or in other words, we can make function accept other functions as arguments!\n",
    "\n",
    "```\n",
    "return_type (*pointer_name)(parameter_types);\n",
    "```"
   ]
  },
  {
   "cell_type": "code",
   "execution_count": 53,
   "metadata": {},
   "outputs": [
    {
     "name": "stdout",
     "output_type": "stream",
     "text": [
      "-4"
     ]
    }
   ],
   "source": [
    "#include <stdio.h>\n",
    "\n",
    "int add(int a, int b)\n",
    "{\n",
    "    return a + b;\n",
    "}\n",
    "int sub(int a, int b)\n",
    "{\n",
    "    return a - b;\n",
    "}\n",
    "    \n",
    "\n",
    "int main() {\n",
    "    int (*fp)(int, int);\n",
    "\n",
    "    fp = sub;\n",
    "\n",
    "    printf(\"%d\", fp(8, 12));\n",
    "\n",
    "    return 0;\n",
    "}"
   ]
  },
  {
   "cell_type": "code",
   "execution_count": 56,
   "metadata": {},
   "outputs": [
    {
     "name": "stdout",
     "output_type": "stream",
     "text": [
      "Address of f1 is 0x7fcee0a1b139\n",
      "Address of f2 is 0x7fcee0a1b162\n",
      "A call from a funcaller: Hello from f1 0x7fcee0a1b139\n",
      "A call from a funcaller: Hello from f2 0x7fcee0a1b162\n"
     ]
    }
   ],
   "source": [
    "#include <stdio.h>\n",
    "#include <string.h>\n",
    "\n",
    "void f1()\n",
    "{\n",
    "    printf(\"Hello from f1 %p\\n\", f1);\n",
    "}\n",
    "\n",
    "void f2()\n",
    "{\n",
    "    printf(\"Hello from f2 %p\\n\", f2);\n",
    "}\n",
    "\n",
    "// This function accepst an argument of type void\n",
    "//that is a function with empty argument list\n",
    "void funcaller( void (*ff)(void) )\n",
    "{\n",
    "    printf(\"A call from a funcaller: \");\n",
    "    ff(); // A call to the argument function\n",
    "}\n",
    "\n",
    "int main () {\n",
    "    printf(\"Address of f1 is %p\\n\", f1);\n",
    "    printf(\"Address of f2 is %p\\n\", f2);\n",
    "    \n",
    "    funcaller(f1);\n",
    "    funcaller(f2);\n",
    "}"
   ]
  },
  {
   "cell_type": "markdown",
   "metadata": {},
   "source": [
    "Note the argument list of the *funcaller(void ff(void))* and the way we used it in lines 26 and 27.\n",
    "\n",
    "This ability of C language is very important to us. We now gained the ability to write generic functions. I.e. such that can work with a multitude of other functions, as long as the **interface** to the function is maintained. (In the above example we could have used any function that is of type *void* and needs no arguments.)\n",
    "\n",
    "We conclude with an example. Let us assume we are designing a function to calculate integrals of other functions (integrate some f(x) for the values of x ranging from a to b). We will not perform any inegration (would you be able to propose a valid algorithm?), but instead write a general *interface* for such a function."
   ]
  },
  {
   "cell_type": "code",
   "execution_count": 59,
   "metadata": {},
   "outputs": [
    {
     "name": "stdout",
     "output_type": "stream",
     "text": [
      "0.999983\n"
     ]
    }
   ],
   "source": [
    "//%cflags:-lm\n",
    "\n",
    "#include <stdio.h>\n",
    "#include <math.h>\n",
    "\n",
    "double derivative( double (*fun)(double) , double x, double h)\n",
    "{\n",
    "  return (fun(x+h) - fun(x)) / h; \n",
    "}\n",
    "\n",
    "double fun(double x)\n",
    "{\n",
    "  return x*x*x*x+4*x*x*x -8*x*x +5;\n",
    "}\n",
    "\n",
    "int main(){\n",
    "  double d1 = derivative(sin, 0, 0.01);\n",
    "  printf(\"%lf\\n\", d1);\n",
    "}"
   ]
  },
  {
   "cell_type": "code",
   "execution_count": 62,
   "metadata": {},
   "outputs": [
    {
     "name": "stdout",
     "output_type": "stream",
     "text": [
      "Use integrator with fun1\n",
      "13.000000 20.000000\n",
      "Use integrator with fun2\n",
      "1474.617684 -5991.431195\n",
      "Use integrator with some other functions\n",
      "-0.756802 -0.958924\n",
      "-0.653644 0.283662\n"
     ]
    }
   ],
   "source": [
    "//%cflags:-lm\n",
    "\n",
    "#include <stdio.h>\n",
    "#include <string.h>\n",
    "#include <math.h>\n",
    "\n",
    "//Some inegration function\n",
    "// f is of type double and accepts a single argument\n",
    "double integrator(double a, double b, double (*f)(double))\n",
    "{\n",
    "    printf(\"%lf %lf\\n\", f(a), f(b));\n",
    "}\n",
    "\n",
    "double fun1(double x){\n",
    "    return x*x - 2*x + 5;\n",
    "}\n",
    "\n",
    "double fun2(double x){\n",
    "    return sin(x) * cos(x) * exp(2.0*x);\n",
    "}\n",
    "\n",
    "int main () {\n",
    "    printf(\"Use integrator with fun1\\n\");\n",
    "    integrator(4, 5, fun1);\n",
    "    printf(\"Use integrator with fun2\\n\");\n",
    "    integrator(4, 5, fun2);\n",
    "    printf(\"Use integrator with some other functions\\n\");\n",
    "    integrator(4, 5, sin);\n",
    "    integrator(4, 5, cos);\n",
    "    //integrator(4, 5, pow); we can not do this!\n",
    "}"
   ]
  },
  {
   "cell_type": "markdown",
   "metadata": {},
   "source": [
    "### Functions and Structures\n",
    "C language does not allow structures to ’posses’ functions (in C++ this is allowed), but we still can add a pointer to a function ..."
   ]
  },
  {
   "cell_type": "code",
   "execution_count": 67,
   "metadata": {},
   "outputs": [
    {
     "name": "stdout",
     "output_type": "stream",
     "text": [
      "Robot name: aaaa\n",
      "Position x=8.000000 y=0.000000\n",
      "Robot name: bbb\n",
      "Position x=1.000000 y=5.000000\n"
     ]
    }
   ],
   "source": [
    "#include <stdio.h>\n",
    "#include <string.h>\n",
    "\n",
    "struct Robot {\n",
    "    char name[50];\n",
    "    double x ,y;\n",
    "    void (*print)(struct Robot* pr);\n",
    "} r1 ; // Define a variable of type struct Robot\n",
    "\n",
    "void print_robot(struct Robot *r)\n",
    "{\n",
    "    printf(\"Robot name: %s\\n\", r->name);\n",
    "    printf(\"Position x=%lf y=%lf\\n\", r->x, r->y);\n",
    "}\n",
    "\n",
    "int main () {\n",
    "    // r1 allready defined and global\n",
    "    strcpy( r1.name, \"aaaa\" );\n",
    "    r1.x = 8.0; r1.y = 0;\n",
    "    r1.print = print_robot;\n",
    "    \n",
    "    struct Robot r3;\n",
    "    r3.print = print_robot;\n",
    "    strcpy( r3.name, \"bbb\" );\n",
    "    r3.x = 1.0; r3.y = 0;\n",
    "    \n",
    "    struct Robot *p = &r3 ;\n",
    "    p->y=5.0;\n",
    "    \n",
    "    r1.print(&r1);\n",
    "    r3.print(&r3);\n",
    "}"
   ]
  },
  {
   "cell_type": "code",
   "execution_count": null,
   "metadata": {},
   "outputs": [],
   "source": []
  }
 ],
 "metadata": {
  "kernelspec": {
   "display_name": "C",
   "language": "c",
   "name": "c"
  },
  "language_info": {
   "file_extension": ".c",
   "mimetype": "text/plain",
   "name": "c"
  }
 },
 "nbformat": 4,
 "nbformat_minor": 2
}
