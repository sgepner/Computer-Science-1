{
 "cells": [
  {
   "cell_type": "markdown",
   "metadata": {},
   "source": [
    "# Lecture 1 review"
   ]
  },
  {
   "cell_type": "markdown",
   "metadata": {},
   "source": [
    "Things that we have seen:\n",
    "* a simple \"hello World!\" program\n",
    "* and its structure, with minimal explanation\n",
    "    * but we promised things will become clear as we progress\n",
    "* preprocessor directives starting with #\n",
    "    * \\#include\n",
    "    * \\#define\n",
    "* comments, either multi-line with \\/\\* \\*\\/ or single line \\/\\/\n",
    "* semicolons ending the line (but not always)\n",
    "* brackets!\n",
    "* we had a look at functions, bu this might have been a bad idea ..."
   ]
  },
  {
   "cell_type": "markdown",
   "metadata": {},
   "source": [
    "# Data types\n",
    "Our program processes data, and everything it does or uses is stored in\n",
    "computer’s memory. Basic data types allow for declaration of variables\n",
    "and allocation of necessary resources (space in memory).\n",
    "\n",
    "* Used to declare variables or define functions.\n",
    "* Determine size the variable occupies in memory.\n",
    "* Need format specifiers to print with *printf()*.\n",
    "\n",
    "We will discuss some (of many) data types. **Integers**, **Floats**, **Characters**, **Bools** and **Void**.  \n",
    "\n",
    "We start with the program from the previous lecture, and recall that declaration of the *main* function is performed with three letters, i.e. **int**. "
   ]
  },
  {
   "cell_type": "code",
   "execution_count": 137,
   "metadata": {},
   "outputs": [
    {
     "name": "stdout",
     "output_type": "stream",
     "text": [
      "Hello\n"
     ]
    }
   ],
   "source": [
    "#include <stdio.h>\n",
    "\n",
    "int main() // main is designated as an int\n",
    "{\n",
    "    printf(\"Hello\\n\");\n",
    "}"
   ]
  },
  {
   "cell_type": "markdown",
   "metadata": {},
   "source": [
    "## int - integral type\n",
    "Used for storing integers (2, 6, 676, -1000 are integers and 4.5 is not). Use **int** keyword to define. Nowdays ints occupy 4B.\n",
    "\n",
    "Format specifiers for printf():\n",
    "* %d %i - signed integer (%li %ld for long).\n",
    "* %o - Octal integer.\n",
    "* %x %X - Hex integer.\n",
    "* %u - unsigned integer.\n",
    "\n",
    "Let's start with the using the *sizeof()* operator and finding out the size in memory a single **int** variable uses:"
   ]
  },
  {
   "cell_type": "code",
   "execution_count": 139,
   "metadata": {},
   "outputs": [
    {
     "name": "stdout",
     "output_type": "stream",
     "text": [
      "Storage size for int : 4 B \n"
     ]
    }
   ],
   "source": [
    "#include <stdio.h>\n",
    "\n",
    "int main()\n",
    "{\n",
    "    printf(\"Storage size for int : %ld B \\n\", sizeof(int)); // Prints the size of int\n",
    "}"
   ]
  },
  {
   "cell_type": "markdown",
   "metadata": {},
   "source": [
    "Note: *sizeof()* is used to obtain the size of a type. We use it since this might differ with the change of a compiler or system."
   ]
  },
  {
   "cell_type": "markdown",
   "metadata": {},
   "source": [
    "So an *int* occupies 4B. Let now *declare* some variables of type *int*. We do this with the keyword *int* followed by the variable name - an identifier. like this:  \n",
    "*int variable_name*.  \n",
    "We can *initialize* the variable with a value immediately at declaration, or at a latter time.  \n",
    "**Note:** we should not let variables uninitialized. The reason for that is that *C* does not guarantee variables have any value at declaration. This means that freshly declared variable initially has an undefined value and we run into danger of using an undefined variable in our program. Consider an example:"
   ]
  },
  {
   "cell_type": "code",
   "execution_count": 140,
   "metadata": {},
   "outputs": [
    {
     "name": "stdout",
     "output_type": "stream",
     "text": [
      "a=20, b=528139024, c=21989\n"
     ]
    }
   ],
   "source": [
    "#include <stdio.h>\n",
    "\n",
    "int main()\n",
    "{\n",
    "    int a = 20;\n",
    "    int b, c;\n",
    "    \n",
    "    printf(\"a=%d, b=%d, c=%d\\n\", a, b, c);\n",
    "}"
   ]
  },
  {
   "cell_type": "markdown",
   "metadata": {},
   "source": [
    "Run the above a couple of times. There are some values printed for b and c, but do they make sense? We should modify the program to initialize b a,d c:"
   ]
  },
  {
   "cell_type": "code",
   "execution_count": 141,
   "metadata": {},
   "outputs": [
    {
     "name": "stdout",
     "output_type": "stream",
     "text": [
      "a=20, b=10, c=40\n"
     ]
    }
   ],
   "source": [
    "#include <stdio.h>\n",
    "\n",
    "int main()\n",
    "{\n",
    "    int a = 20;\n",
    "    int b, c;\n",
    "    b = 10;\n",
    "    c = 40;\n",
    "    \n",
    "    printf(\"a=%d, b=%d, c=%d\\n\", a, b, c);\n",
    "}"
   ]
  },
  {
   "cell_type": "markdown",
   "metadata": {},
   "source": [
    "To print a value with a *printf()* function we need to us a format specifier. Each type has a format specifier that allows *printf()* to print it in the right way. We have already seen the \\%d, when we printed some values.  \n",
    "In case of *integers* we can use (amongst others):\n",
    "* \\%d - for decimal representation - represent a number using 0-9 (10 digits)\n",
    "* \\%o - octal representation - represent a number using 0-7 (8 digits)\n",
    "* \\%x - hex representation - represent a number using 16 digits, 0-9 and a-f\n",
    "\n",
    "Play with the below examples to get better understanding of the concept:"
   ]
  },
  {
   "cell_type": "code",
   "execution_count": 142,
   "metadata": {},
   "outputs": [
    {
     "name": "stdout",
     "output_type": "stream",
     "text": [
      "in decimal representation a=15 \n",
      "in octal representation a=17 \n",
      "in hexadecimal representation a=f \n"
     ]
    }
   ],
   "source": [
    "#include <stdio.h>\n",
    "\n",
    "int main()\n",
    "{\n",
    "    int a = 15;\n",
    "    printf( \"in decimal representation a=%d \\n\", a); // 0-9 to represent a number\n",
    "    printf( \"in octal representation a=%o \\n\", a); // 0-7 to represent a number\n",
    "    printf( \"in hexadecimal representation a=%x \\n\", a);// ??\n",
    "}"
   ]
  },
  {
   "cell_type": "markdown",
   "metadata": {},
   "source": [
    "We could reverse this and input the number using either octal or hexadecimal notation.  \n",
    "To write a number in octal we add a leading 0, and in hex a leading 0x:"
   ]
  },
  {
   "cell_type": "code",
   "execution_count": 149,
   "metadata": {},
   "outputs": [
    {
     "name": "stdout",
     "output_type": "stream",
     "text": [
      "in decimal representation a=14 \n",
      "in octal representation a=16 \n",
      "in hexadecimal representation a=e \n",
      "-----\n",
      "in decimal representation a=16 \n",
      "in octal representation a=20 \n",
      "in hexadecimal representation a=10 \n"
     ]
    }
   ],
   "source": [
    "#include <stdio.h>\n",
    "\n",
    "int main()\n",
    "{\n",
    "    int a = 016; // value put in octal representation\n",
    "    printf( \"in decimal representation a=%d \\n\", a); // 0-9 to represent a number\n",
    "    printf( \"in octal representation a=%o \\n\", a); // 0-7 to represent a number\n",
    "    printf( \"in hexadecimal representation a=%x \\n\", a);// ??\n",
    "    \n",
    "    printf(\"-----\\n\");\n",
    "    a = 0x10;  // value input in hex representation\n",
    "    printf( \"in decimal representation a=%d \\n\", a); // 0-9 to represent a number\n",
    "    printf( \"in octal representation a=%o \\n\", a); // 0-7 to represent a number\n",
    "    printf( \"in hexadecimal representation a=%x \\n\", a);// ??\n",
    "}"
   ]
  },
  {
   "cell_type": "markdown",
   "metadata": {},
   "source": [
    "Variables are stored in memory using a finite number of bits. Out *int* uses 4B (32 bits). Consequently, there is a limit to the size of a single integer. If the value is to large it will overflow the memory. For 32 integers (4B is 32 b - as in bits) an *int* is in the range: $−2^{31}$ to $2^{31} − 1$. Consider the following example, and run the same calculations to verify the result:"
   ]
  },
  {
   "cell_type": "code",
   "execution_count": 150,
   "metadata": {},
   "outputs": [
    {
     "name": "stdout",
     "output_type": "stream",
     "text": [
      "Storage size for int : 4 B \n",
      "a =40320000 \n",
      " "
     ]
    }
   ],
   "source": [
    "#include <stdio.h>\n",
    "\n",
    "int main()\n",
    "{\n",
    "    printf(\"Storage size for int : %ld B \\n\", sizeof(int));\n",
    "  \n",
    "    int a = 320*350*360;\n",
    "    printf( \"a =%d \\n \", a);\n",
    "}"
   ]
  },
  {
   "cell_type": "code",
   "execution_count": 151,
   "metadata": {},
   "outputs": [
    {
     "name": "stderr",
     "output_type": "stream",
     "text": [
      "/tmp/tmpwqnu2otc.c: In function ‘main’:\n",
      "/tmp/tmpwqnu2otc.c:7:24: warning: integer overflow in expression of type ‘int’ results in ‘902763520’ [-Woverflow]\n",
      "    7 |     int a = 320*350*360*555;\n",
      "      |                        ^\n"
     ]
    },
    {
     "name": "stdout",
     "output_type": "stream",
     "text": [
      "Storage size for int : 4 B \n",
      "a =902763520 \n",
      " "
     ]
    }
   ],
   "source": [
    "#include <stdio.h>\n",
    "\n",
    "int main()\n",
    "{\n",
    "    printf(\"Storage size for int : %ld B \\n\", sizeof(int));\n",
    "  \n",
    "    int a = 320*350*360*555;\n",
    "    printf( \"a =%d \\n \", a);\n",
    "}"
   ]
  },
  {
   "cell_type": "markdown",
   "metadata": {},
   "source": [
    "* **Note:** We have been warned by the compiler that our operation will overflow the int! It does not always has to be so outspoken about this!. Here we have put values that are known during compilation.\n",
    "* **Note 2:** The actual value should be: 22377600000, is it?"
   ]
  },
  {
   "cell_type": "markdown",
   "metadata": {},
   "source": [
    "### Operations on integers:\n",
    "We can perform arithmetic operations on integers. We cann add (+), substract (-), multiply (\\*) and divide (/). We can also request remainder of the divison with %. See an example:"
   ]
  },
  {
   "cell_type": "code",
   "execution_count": 64,
   "metadata": {},
   "outputs": [
    {
     "name": "stdout",
     "output_type": "stream",
     "text": [
      "a=5 b=6\n",
      "5+6 = 11\n",
      "5-6 = -1\n",
      "6-5 = 1\n",
      "5*6 = 30\n",
      "5/6 = 0\n",
      "5%6 = 5\n",
      "6%5 = 1\n"
     ]
    }
   ],
   "source": [
    "#include <stdio.h>\n",
    "\n",
    "int main()\n",
    "{\n",
    "    int a=5, b=6; //uninitialized variables, have any value\n",
    "    \n",
    "    printf( \"a=%d b=%d\\n\", a, b);\n",
    "    printf( \"%d+%d = %d\\n\", a, b, a+b);\n",
    "    \n",
    "    int c = a-b;\n",
    "    printf( \"%d-%d = %d\\n\", a, b, c);\n",
    "    c = b-a;\n",
    "    printf( \"%d-%d = %d\\n\", b, a, c);\n",
    "    \n",
    "    printf( \"%d*%d = %d\\n\", a, b, a*b);\n",
    "    \n",
    "    printf( \"%d/%d = %d\\n\", a, b, a/b); // we remembar the result of this <- Data loss here \n",
    "    \n",
    "    printf( \"%d%%%d = %d\\n\", a, b, a%b);\n",
    "    printf( \"%d%%%d = %d\\n\", b, a, b%a);\n",
    "}"
   ]
  },
  {
   "cell_type": "markdown",
   "metadata": {},
   "source": [
    "You might have noticed that division gives strange results. That is 5/6=0! The reason is that the integer only stores the integral value of a number and for this case it would be 0. **So rmember 1/2 is 0**! since both 1 and two are integers."
   ]
  },
  {
   "cell_type": "markdown",
   "metadata": {},
   "source": [
    "## Floats and doubles\n",
    "Are used to store floating point numbers, such as 14.35 or 5.4 or any other. We will get to know two:\n",
    "* **floats** that occupy 4B\n",
    "* **doubles** that take 8B\n",
    "\n",
    "To print them use:\n",
    "* %lf for doubles and %f for floats\n",
    "* %e or %E for scientyfic notation usefull for small and large values"
   ]
  },
  {
   "cell_type": "code",
   "execution_count": 67,
   "metadata": {},
   "outputs": [
    {
     "name": "stdout",
     "output_type": "stream",
     "text": [
      "Storage size for float : 4 B \n",
      "Storage size for double : 8 B \n"
     ]
    }
   ],
   "source": [
    "#include <stdio.h>\n",
    "\n",
    "int main()\n",
    "{\n",
    "    printf(\"Storage size for float : %ld B \\n\", sizeof(float));\n",
    "    printf(\"Storage size for double : %ld B \\n\", sizeof(double));\n",
    "}"
   ]
  },
  {
   "cell_type": "markdown",
   "metadata": {},
   "source": [
    "Let's now print some floats!"
   ]
  },
  {
   "cell_type": "code",
   "execution_count": 73,
   "metadata": {},
   "outputs": [
    {
     "name": "stdout",
     "output_type": "stream",
     "text": [
      "a=4500.000000\n",
      "b=0.000090\n",
      "a=4.500000e+03\n",
      "b=9.000000e-05\n"
     ]
    }
   ],
   "source": [
    "#include <stdio.h>\n",
    "\n",
    "int main()\n",
    "{\n",
    "    float a = 4500;\n",
    "    float b = 0.00009;\n",
    "    printf(\"a=%f\\n\", a);\n",
    "    printf(\"b=%f\\n\", b);\n",
    "    printf(\"a=%e\\n\", a);\n",
    "    printf(\"b=%e\\n\", b);\n",
    "}"
   ]
  },
  {
   "cell_type": "markdown",
   "metadata": {},
   "source": [
    "and some doubles:"
   ]
  },
  {
   "cell_type": "code",
   "execution_count": 75,
   "metadata": {},
   "outputs": [
    {
     "name": "stdout",
     "output_type": "stream",
     "text": [
      "a=4500.000000\n",
      "b=0.000090\n",
      "a=4.500000e+03\n",
      "b=9.000000e-05\n"
     ]
    }
   ],
   "source": [
    "#include <stdio.h>\n",
    "\n",
    "int main()\n",
    "{\n",
    "    double a = 4500;\n",
    "    double b = 0.00009;\n",
    "    printf(\"a=%lf\\n\", a);\n",
    "    printf(\"b=%lf\\n\", b);\n",
    "    printf(\"a=%le\\n\", a);\n",
    "    printf(\"b=%le\\n\", b);\n",
    "}"
   ]
  },
  {
   "cell_type": "markdown",
   "metadata": {},
   "source": [
    "Similarly to ints floating point numbers allow for addition (+), substraction (-), multiplication (\\*) and division (/):"
   ]
  },
  {
   "cell_type": "code",
   "execution_count": 80,
   "metadata": {},
   "outputs": [
    {
     "name": "stdout",
     "output_type": "stream",
     "text": [
      "a=4.560000 b=9.345000\n",
      "4.560000+9.345000 = 13.905000\n",
      "4.560000-9.345000 = -4.785000\n",
      "4.560000*9.345000 = 42.613200\n",
      "4.560000/9.345000 = 0.487961\n"
     ]
    }
   ],
   "source": [
    "#include <stdio.h>\n",
    "\n",
    "int main()\n",
    "{\n",
    "    double a = 4.56, b=9.345;\n",
    "    \n",
    "    printf( \"a=%lf b=%lf\\n\", a, b);\n",
    "    printf( \"%lf+%lf = %lf\\n\", a, b, a+b);\n",
    "    printf( \"%lf-%lf = %lf\\n\", a, b, a-b);\n",
    "    printf( \"%lf*%lf = %lf\\n\", a, b, a*b);\n",
    "    printf( \"%lf/%lf = %lf\\n\", a, b, a/b);\n",
    "}"
   ]
  },
  {
   "cell_type": "markdown",
   "metadata": {},
   "source": [
    "## Data casting\n",
    "Now that we know two data types, we can try to change the way data is treated by means of casting.\n",
    "\n",
    "Consider the following:"
   ]
  },
  {
   "cell_type": "markdown",
   "metadata": {},
   "source": [
    "We can use *explicit* data casting. This is done by specifying the type to which the result should be *cast*.  \n",
    "You do this by: **(type)value**."
   ]
  },
  {
   "cell_type": "code",
   "execution_count": 100,
   "metadata": {},
   "outputs": [
    {
     "name": "stdout",
     "output_type": "stream",
     "text": [
      "1 / 2 = 0\n",
      "1 2 0.500000\n",
      "0\n",
      "0.500000\n"
     ]
    }
   ],
   "source": [
    "#include <stdio.h>\n",
    "\n",
    "int main()\n",
    "{\n",
    "    int a = 1, b=2;\n",
    "    \n",
    "    printf( \"%d / %d = %d\\n\", a, b, a/b); // we loose data here\n",
    "    printf( \"%d %d %lf\\n\", a, b, (double)a/b); // explicit cast a into a double\n",
    "    \n",
    "    printf( \"%d\\n\", 1/2); // this is wrong to do with %lf!\n",
    "    printf( \"%lf\\n\", 1/2.);\n",
    "}"
   ]
  },
  {
   "cell_type": "markdown",
   "metadata": {},
   "source": [
    "What happens there?  \n",
    "1) So in line 7 we try to print a result of division of two ints. Since both operands are of type int the result is assumed to be of the same type. The operation cuts out any decimal part and only the integral part is left. That is why we see a zero.  \n",
    "2) In line 8 we perform an explicit cast by adding (double) to one of the variables (we write (double)a/b) this informs the complier that the result should be treated as a double. This way we see a rpoper result.  \n",
    "3) In lines 9 and 10 we print the result of 1/2, please note that adding a '.' changes the type from int to double! so 1 - an integer, but 1. - a double!"
   ]
  },
  {
   "cell_type": "markdown",
   "metadata": {},
   "source": [
    "## Characters\n",
    "Our next data type are characters. Those are used to store just that, characters. Those are 1B in size and can be interpreted as integers or symbols. Have a look here: [ASCI table](http://www.asciitable.com/) for an ASCI table, that is a translator from integer to a character kind of thing.\n",
    "\n",
    "([ASCI](https://en.wikipedia.org/wiki/ASCII) - American Standard Code for Information Interchange)"
   ]
  },
  {
   "cell_type": "code",
   "execution_count": 104,
   "metadata": {},
   "outputs": [
    {
     "name": "stdout",
     "output_type": "stream",
     "text": [
      "Storage size for char : 1 B \n"
     ]
    }
   ],
   "source": [
    "#include <stdio.h>\n",
    "\n",
    "int main()\n",
    "{\n",
    "    printf ( \"Storage size for char : %ld B \\n\" , sizeof(char));\n",
    "}"
   ]
  },
  {
   "cell_type": "code",
   "execution_count": 109,
   "metadata": {},
   "outputs": [
    {
     "name": "stdout",
     "output_type": "stream",
     "text": [
      "b\n",
      "98\n",
      "as a character \u0000 and as an int 0\n",
      "as a character \b and as an int 8\n",
      "as a character 0 and as an int 48\n"
     ]
    }
   ],
   "source": [
    "#include <stdio.h>\n",
    "\n",
    "int main()\n",
    "{\n",
    "    char a = 'b'; // mind that a character is marked with '' not with \"\"\n",
    "    printf(\"%c\\n\", a);\n",
    "    printf(\"%d\\n\", a);\n",
    "    \n",
    "    a = 0;  // this is a NULL\n",
    "    printf(\"as a character %c and as an int %d\\n\", a, a);\n",
    "    \n",
    "    a = 8; // backspace\n",
    "    printf(\"as a character %c and as an int %d\\n\", a, a);\n",
    "    \n",
    "    a = 48; // backspace\n",
    "    printf(\"as a character %c and as an int %d\\n\", a, a);\n",
    "}"
   ]
  },
  {
   "cell_type": "markdown",
   "metadata": {},
   "source": [
    "## bool\n",
    "Used to represent logical value of *true* and *false*. Introduced into C in C99 standard. in order to use *stdbool.h* needs to be included. Use %d format specifier to print.\n",
    "\n",
    "The example below illustrates declaration of a boolean variable, assigment and printing."
   ]
  },
  {
   "cell_type": "code",
   "execution_count": 113,
   "metadata": {},
   "outputs": [
    {
     "name": "stdout",
     "output_type": "stream",
     "text": [
      "Storage size for char : 1 B \n",
      "a=1 \n",
      "a=0 \n"
     ]
    }
   ],
   "source": [
    "#include <stdio.h>\n",
    "#include <stdbool.h>\n",
    "\n",
    "int main(){\n",
    "    printf ( \"Storage size for char : %ld B \\n\" , sizeof(bool));\n",
    "    \n",
    "    bool a = true; // equivalent to 1\n",
    "    printf ( \"a=%d \\n\" , a );\n",
    "    \n",
    "    a = false; //equivalent to 0\n",
    "    printf ( \"a=%d \\n\" , a );\n",
    "}"
   ]
  },
  {
   "cell_type": "markdown",
   "metadata": {},
   "source": [
    "## Void\n",
    "Void is a special type that represents *nothing*. That is a lot, I hope you agree? It is used to distinguish functions that return no value and therfore are *void*. Variables of this type can not be declared! We will be having a look at *void* type when we get to work with functions and pointers."
   ]
  },
  {
   "cell_type": "code",
   "execution_count": 126,
   "metadata": {},
   "outputs": [
    {
     "name": "stderr",
     "output_type": "stream",
     "text": [
      "/tmp/tmphoxu4nf3.c: In function ‘main’:\n",
      "/tmp/tmphoxu4nf3.c:5:10: error: variable or field ‘a’ declared void\n",
      "    5 |     void a; // variables of type void are not allowed\n",
      "      |          ^\n",
      "[C kernel] GCC exited with code 1, the executable will not be executed"
     ]
    }
   ],
   "source": [
    "#include <stdio.h>\n",
    "\n",
    "void main(){\n",
    "    printf( \" Storage size for void : %ld B \\n\" , sizeof ( void ) ) ;\n",
    "    void a; // variables of type void are not allowed \n",
    "    //printf ( \" %d \\n\" , a ) ;\n",
    "}"
   ]
  },
  {
   "cell_type": "markdown",
   "metadata": {},
   "source": [
    "## Data assigment, data loss and casting"
   ]
  },
  {
   "cell_type": "markdown",
   "metadata": {},
   "source": [
    "Mixing of types should be, if possible avoided. If necessary it should be done with care.  \n",
    "Here we interpret a double as an int and than back again. As a result we suffer data loss since the output vale is not what it originally was. It is possible that your compiler will complain with a warning."
   ]
  },
  {
   "cell_type": "code",
   "execution_count": 129,
   "metadata": {},
   "outputs": [
    {
     "name": "stdout",
     "output_type": "stream",
     "text": [
      "2 6.280000 \n",
      "6 6.280000 \n",
      "6 6.000000 \n"
     ]
    }
   ],
   "source": [
    "#include <stdio.h>\n",
    "\n",
    "int main(){\n",
    "    double x1 = 6.28;\n",
    "    int a = 2;\n",
    "    printf(\"%d %lf \\n\", a, x1);\n",
    "    a = x1; // loss of data since a = 6!\n",
    "    printf(\"%d %lf \\n\", a, x1);\n",
    "    \n",
    "    x1 = a;\n",
    "    printf(\"%d %lf \\n\", a, x1);\n",
    "}"
   ]
  },
  {
   "cell_type": "markdown",
   "metadata": {},
   "source": [
    "And here we do the same, but \"more consciously\", i.e we perform a data cast we have seen earlier."
   ]
  },
  {
   "cell_type": "code",
   "execution_count": 131,
   "metadata": {},
   "outputs": [
    {
     "name": "stdout",
     "output_type": "stream",
     "text": [
      "6 6.280000 \n",
      "6 0.666667 \n"
     ]
    }
   ],
   "source": [
    "#include <stdio.h>\n",
    "\n",
    "int main(){\n",
    "    double x1 = 6.28;\n",
    "    int a = 2;\n",
    "    a = (int) x1; // loss of data , but no warning\n",
    "    printf(\"%d %lf \\n\", a, x1);\n",
    "    x1 = (double) 2/3; // x1 is not zero since I use a cast\n",
    "    printf(\"%d %lf \\n\", a, x1);\n",
    "}"
   ]
  },
  {
   "cell_type": "markdown",
   "metadata": {},
   "source": [
    "## Precedence of operators\n",
    "It is simple. More less what you know from your math class about the order of execution. So brackets () before multiplication, sumation/substraction and so on. There can be some new concepts on the way though."
   ]
  },
  {
   "cell_type": "code",
   "execution_count": 135,
   "metadata": {},
   "outputs": [
    {
     "name": "stdout",
     "output_type": "stream",
     "text": [
      "2.666667 \n",
      "16.000000 \n"
     ]
    }
   ],
   "source": [
    "#include <stdio.h>\n",
    "\n",
    "int main(){\n",
    "    double a = 6, b = 9;\n",
    "    double c = (a+b) / a + b / (a * b);\n",
    "    printf(\"%lf \\n\", c);\n",
    "    \n",
    "    c = (a+b) / a + b / a * b; // it is different!\n",
    "    printf(\"%lf \\n\", c);\n",
    "}"
   ]
  },
  {
   "cell_type": "markdown",
   "metadata": {},
   "source": [
    "## Increment / decrement\n",
    "C offers some operators that are good to know. Incrementation ++ and decrementation -- operators increase or decrease *int* value by 1. Consider the folloing:"
   ]
  },
  {
   "cell_type": "code",
   "execution_count": 45,
   "metadata": {},
   "outputs": [
    {
     "name": "stdout",
     "output_type": "stream",
     "text": [
      "1 \n",
      "2 \n",
      "3 \n",
      "4 \n",
      "5 \n",
      "4 \n",
      "3 \n",
      "2 \n",
      "1 \n",
      "0 \n",
      "-1 \n"
     ]
    }
   ],
   "source": [
    "#include <stdio.h>\n",
    "\n",
    "int main(){\n",
    "    int a = 1;\n",
    "    printf(\"%d \\n\", a);\n",
    "    ++a;\n",
    "    printf(\"%d \\n\", a);\n",
    "    ++a;\n",
    "    printf(\"%d \\n\", a);\n",
    "    ++a;\n",
    "    printf(\"%d \\n\", a);\n",
    "    ++a; // a = a + 1;\n",
    "    printf(\"%d \\n\", a);\n",
    "    \n",
    "    --a;\n",
    "    printf(\"%d \\n\", a);\n",
    "    --a;\n",
    "    printf(\"%d \\n\", a);\n",
    "    --a;\n",
    "    printf(\"%d \\n\", a);\n",
    "    --a;\n",
    "    printf(\"%d \\n\", a);\n",
    "    --a;\n",
    "    printf(\"%d \\n\", a);\n",
    "    --a;\n",
    "    printf(\"%d \\n\", a);\n",
    "}"
   ]
  },
  {
   "cell_type": "markdown",
   "metadata": {},
   "source": [
    "and:"
   ]
  },
  {
   "cell_type": "code",
   "execution_count": 46,
   "metadata": {},
   "outputs": [
    {
     "name": "stdout",
     "output_type": "stream",
     "text": [
      "1 \n",
      "2 \n",
      "3 \n",
      "2 \n",
      "1 \n"
     ]
    }
   ],
   "source": [
    "#include <stdio.h>\n",
    "\n",
    "int main(){\n",
    "    int a = 1;\n",
    "    printf(\"%d \\n\", a);\n",
    "    a++;\n",
    "    printf(\"%d \\n\", a);\n",
    "    a++;\n",
    "    printf(\"%d \\n\", a);\n",
    "    \n",
    "    a--;\n",
    "    printf(\"%d \\n\", a);\n",
    "    a--;\n",
    "    printf(\"%d \\n\", a);\n",
    "}"
   ]
  },
  {
   "cell_type": "markdown",
   "metadata": {},
   "source": [
    "There are two versions of those operators and apparently the two do the same. But there is a difference. The ++a is called prefix and a++ the postfix. The first is performed first and than passed for possible assigment. The second is first passed for assigment and only than incremented. Consider the two examples and note the resulting values:"
   ]
  },
  {
   "cell_type": "code",
   "execution_count": 47,
   "metadata": {},
   "outputs": [
    {
     "name": "stdout",
     "output_type": "stream",
     "text": [
      "2 2\n"
     ]
    }
   ],
   "source": [
    "#include <stdio.h>\n",
    "\n",
    "int main(){\n",
    "    int a = 1;\n",
    "    int b = ++a; // first increment than copy\n",
    "    printf(\"%d %d\\n\", a, b);\n",
    "}"
   ]
  },
  {
   "cell_type": "code",
   "execution_count": 48,
   "metadata": {},
   "outputs": [
    {
     "name": "stdout",
     "output_type": "stream",
     "text": [
      "2 1\n"
     ]
    }
   ],
   "source": [
    "#include <stdio.h>\n",
    "\n",
    "int main(){\n",
    "    int a = 1;\n",
    "    int b = a++; // first copy than increment\n",
    "    printf(\"%d %d\\n\", a, b);\n",
    "}"
   ]
  },
  {
   "cell_type": "markdown",
   "metadata": {},
   "source": [
    "We note that it is better to use the prefix version sice it only invikes coping the value, while the postfix requiers first to create a copy that is passed and than the increamentation, which in case of composite data types can be expensive."
   ]
  },
  {
   "cell_type": "markdown",
   "metadata": {},
   "source": [
    "## Compound Assignment Operators += -= *= /=\n",
    "Onother type of operators are the compound operators. Those are used to replace operation with the assigment. Such as a = a + b. Consider the following:"
   ]
  },
  {
   "cell_type": "code",
   "execution_count": 49,
   "metadata": {},
   "outputs": [
    {
     "name": "stdout",
     "output_type": "stream",
     "text": [
      "3 2\n"
     ]
    }
   ],
   "source": [
    "#include <stdio.h>\n",
    "\n",
    "int main(){\n",
    "    int a = 1;\n",
    "    int b = 2;\n",
    "    a += b; // a = a + b;\n",
    "    printf(\"%d %d\\n\", a, b);\n",
    "}"
   ]
  },
  {
   "cell_type": "code",
   "execution_count": 50,
   "metadata": {},
   "outputs": [
    {
     "name": "stdout",
     "output_type": "stream",
     "text": [
      "8.572200 2.730000\n"
     ]
    }
   ],
   "source": [
    "//%cflags:-lm\n",
    "\n",
    "#include <stdio.h>\n",
    "\n",
    "int main(){\n",
    "    double a = 3.14;\n",
    "    double b = 2.73;\n",
    "    a *= b; // a = a * b;\n",
    "    printf(\"%lf %lf\\n\", a, b);\n",
    "}"
   ]
  }
 ],
 "metadata": {
  "kernelspec": {
   "display_name": "C",
   "language": "c",
   "name": "c"
  },
  "language_info": {
   "file_extension": ".c",
   "mimetype": "text/plain",
   "name": "c"
  }
 },
 "nbformat": 4,
 "nbformat_minor": 2
}
