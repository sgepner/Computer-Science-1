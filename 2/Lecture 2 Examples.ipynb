{
 "cells": [
  {
   "cell_type": "markdown",
   "metadata": {},
   "source": [
    "# Data types\n",
    "Our program processes data, and everything it does or uses is stored in\n",
    "computer’s memory. Basic data types allow for declaration of variables\n",
    "and allocation of necessary resources (space in memory).\n",
    "\n",
    "* Used to declare variables or define functions.\n",
    "* Determine size the variable occupies in memory.\n",
    "* Need format specifiers to print with *printf()*.\n",
    "\n",
    "We will discuss some (of many) data types. Integers, Floats, Characters and bools."
   ]
  },
  {
   "cell_type": "markdown",
   "metadata": {},
   "source": [
    "## int\n",
    "Used for storing integers (2, 6, 676, -1000 are integers and 4.5 is not). Use **int** keyword to define. Nowdays ints occupy 4B.\n",
    "\n",
    "Format specifiers for printf():\n",
    "* %d %i - signed integer (%li %ld for long).\n",
    "* %o - Octal integer.\n",
    "* %x %X - Hex integer.\n",
    "* %u - unsigned integer.\n",
    "\n",
    "Let's start with the following example:"
   ]
  },
  {
   "cell_type": "code",
   "execution_count": 52,
   "metadata": {},
   "outputs": [
    {
     "name": "stdout",
     "output_type": "stream",
     "text": [
      "Storage size for int : 4 B \n",
      "in decimal representation a=20 \n",
      "in octal representation a=24 \n",
      "in hexadecimal representation a=14 \n"
     ]
    }
   ],
   "source": [
    "#include <stdio.h>\n",
    "\n",
    "int main()\n",
    "{\n",
    "    printf(\"Storage size for int : %ld B \\n\", sizeof(int)); // Prints the size of int\n",
    "  \n",
    "    int a = 20;\n",
    "    printf( \"in decimal representation a=%d \\n\", a);\n",
    "    printf( \"in octal representation a=%o \\n\", a);\n",
    "    printf( \"in hexadecimal representation a=%x \\n\", a);\n",
    "}"
   ]
  },
  {
   "cell_type": "markdown",
   "metadata": {},
   "source": [
    "There is a limit to the size of integer that can be stored before the 4B of memory designed to store the integer overflows. For 32 integers (4B is 32 b - as in bits) is int is in the range: (-2147483647 - 1, 2147483647)"
   ]
  },
  {
   "cell_type": "code",
   "execution_count": 11,
   "metadata": {},
   "outputs": [
    {
     "name": "stderr",
     "output_type": "stream",
     "text": [
      "/tmp/tmpd1jn53ux.c: In function ‘main’:\n",
      "/tmp/tmpd1jn53ux.c:7:24: warning: integer overflow in expression [-Woverflow]\n",
      "     int a = 320*350*360*555;\n",
      "                        ^\n"
     ]
    },
    {
     "name": "stdout",
     "output_type": "stream",
     "text": [
      "Storage size for int : 4 B \n",
      "a =902763520 \n",
      " "
     ]
    }
   ],
   "source": [
    "#include <stdio.h>\n",
    "\n",
    "int main()\n",
    "{\n",
    "    printf(\"Storage size for int : %ld B \\n\", sizeof(int));\n",
    "  \n",
    "    int a = 320*350*360*555;\n",
    "    printf( \"a =%d \\n \", a);\n",
    "}"
   ]
  },
  {
   "cell_type": "markdown",
   "metadata": {},
   "source": [
    "* Note: We habe been warned by the compiler that our operation will overflow the int! It does not always has to be so outspoken!\n",
    "* Note2: The acctual value should be: 22377600000"
   ]
  },
  {
   "cell_type": "markdown",
   "metadata": {},
   "source": [
    "### Operations:\n",
    "We can perform arithmetic operations on integers. We cann add (+), substract (-), multiply (\\*) and divide (/). We can also request remainder of the divison with %. See an example:"
   ]
  },
  {
   "cell_type": "code",
   "execution_count": 1,
   "metadata": {},
   "outputs": [
    {
     "name": "stdout",
     "output_type": "stream",
     "text": [
      "a=5 b=6\n",
      " 5+6 = 11\n",
      " 5-6 = -1\n",
      " 5*6 = 30\n",
      " 5/6 = 0\n",
      " 1/2=0\n",
      "10 % 7 = 3\n",
      " "
     ]
    }
   ],
   "source": [
    "#include <stdio.h>\n",
    "\n",
    "int main()\n",
    "{\n",
    "    int a, b; //uninitialized variables, have any value\n",
    "    a = 5;\n",
    "    b = 6;\n",
    "    \n",
    "    printf( \"a=%d b=%d\\n \", a, b);\n",
    "    printf( \"%d+%d = %d\\n \", a, b, a+b);\n",
    "    int c = a - b;\n",
    "    printf( \"%d-%d = %d\\n \", a, b, c);\n",
    "    \n",
    "    c = a*b;\n",
    "    printf( \"%d*%d = %d\\n \", a, b, c);\n",
    "    printf( \"%d/%d = %d\\n \", a, b, a/b); //risk of loosing data\n",
    "    printf( \"1/2=%d\\n\", 1/2);\n",
    "    \n",
    "    a = 10;\n",
    "    b = 7;\n",
    "    printf( \"%d %% %d = %d\\n \", a, b, a%b);\n",
    "}"
   ]
  },
  {
   "cell_type": "markdown",
   "metadata": {},
   "source": [
    "You might have noticed that division gives strange results. That is 5/6=0! The reason is that the integer only stores the integral value of a number and for this case it would be 0. **So rmember 1/2 is 0**! since both 1 and two are integers."
   ]
  },
  {
   "cell_type": "markdown",
   "metadata": {},
   "source": [
    "## Floats and doubles\n",
    "Are used to store floating point numbers, such as 14.35 or 5.4 or any other. We will get to know two:\n",
    "* **floats** that occupy 4B\n",
    "* **doubles** that take 8B\n",
    "\n",
    "To print them use:\n",
    "* %lf for doubles and %f for floats\n",
    "* %e or %E for scientyfic notation usefull for small and large values"
   ]
  },
  {
   "cell_type": "code",
   "execution_count": 25,
   "metadata": {},
   "outputs": [
    {
     "name": "stdout",
     "output_type": "stream",
     "text": [
      "Storage size for int : 8 B \n",
      "a= 45887654.878636 \n",
      "a= 4.588765e+07 \n",
      "a= 0.000000 \n",
      "a= 2.374274e-15 \n"
     ]
    }
   ],
   "source": [
    "#include <stdio.h>\n",
    "\n",
    "int main()\n",
    "{\n",
    "    printf(\"Storage size for int : %ld B \\n\", sizeof(double));\n",
    "    double a = 45887654.87863587358635987365897;\n",
    "    printf(\"a= %lf \\n\", a);\n",
    "    printf(\"a= %e \\n\", a);\n",
    "    double b = 0.000000000000002374274278;\n",
    "    printf(\"a= %lf \\n\", b);\n",
    "    printf(\"a= %e \\n\", b);\n",
    "}"
   ]
  },
  {
   "cell_type": "markdown",
   "metadata": {},
   "source": [
    "Similarly to ints floating point numbers allow for addition (+), substraction (-), multiplication (\\*) and division (/):"
   ]
  },
  {
   "cell_type": "code",
   "execution_count": 2,
   "metadata": {},
   "outputs": [
    {
     "name": "stdout",
     "output_type": "stream",
     "text": [
      "a=4.560000 b=9.345000\n",
      "4.560000+9.345000 = 13.905000\n",
      "4.560000-9.345000 = -4.785000\n",
      "4.560000*9.345000 = 42.613200\n",
      "4.560000/9.345000 = 0.487961\n"
     ]
    }
   ],
   "source": [
    "#include <stdio.h>\n",
    "\n",
    "int main()\n",
    "{\n",
    "    double a = 4.56, b=9.345;\n",
    "    \n",
    "    printf( \"a=%lf b=%lf\\n\", a, b);\n",
    "    printf( \"%lf+%lf = %lf\\n\", a, b, a+b);\n",
    "    printf( \"%lf-%lf = %lf\\n\", a, b, a-b);\n",
    "    printf( \"%lf*%lf = %lf\\n\", a, b, a*b);\n",
    "    printf( \"%lf/%lf = %lf\\n\", a, b, a/b);\n",
    "}"
   ]
  },
  {
   "cell_type": "markdown",
   "metadata": {},
   "source": [
    "## Data casting\n",
    "Now that we know two data types, we can try to change the way data is treated by means of casting.\n",
    "\n",
    "Consider the following:"
   ]
  },
  {
   "cell_type": "code",
   "execution_count": 10,
   "metadata": {},
   "outputs": [
    {
     "name": "stdout",
     "output_type": "stream",
     "text": [
      "4 9 0\n",
      "4 9 0.444444\n",
      "0\n",
      "0.500000\n"
     ]
    }
   ],
   "source": [
    "#include <stdio.h>\n",
    "\n",
    "int main()\n",
    "{\n",
    "    int a = 4, b=9;\n",
    "    \n",
    "    printf( \"%d %d %d\\n\", a, b, a/b);\n",
    "    printf( \"%d %d %lf\\n\", a, b, (double)a/b); // cast a into a double\n",
    "    printf( \"%d\\n\", 1/2);\n",
    "    printf( \"%lf\\n\", 1./2.);\n",
    "}"
   ]
  },
  {
   "cell_type": "markdown",
   "metadata": {},
   "source": [
    "What happens there?  \n",
    "1) So in line 7 we try to print a result of division of two ints. Since both operands are of type int the result is assumed to be of the same type. The operation cuts out any decimal part and only the integral part is left. That is why we see a zero.  \n",
    "2) In line 8 we perform an explicit cast by adding (double) to one of the variables (we write (double)a/b) this informs the complier that the result should be treated as a double. This way we see a rpoper result.  \n",
    "3) In lines 9 and 10 we print the result of 1/2, please note that adding a '.' changes the type from int to double! so 1 - an integer, but 1. - a double!"
   ]
  },
  {
   "cell_type": "markdown",
   "metadata": {},
   "source": [
    "## Characters\n",
    "Our next data type are characters. Those are used to store just that, characters. Those are 1B in size and can be interpreted as integers or symbols. Have a look here: [ASCI table](http://www.asciitable.com/) for an ASCI table, that is a translator from integer to a character kind of thing.\n",
    "\n",
    "([ASCI](https://en.wikipedia.org/wiki/ASCII) - American Standard Code for Information Interchange)"
   ]
  },
  {
   "cell_type": "code",
   "execution_count": 48,
   "metadata": {},
   "outputs": [
    {
     "name": "stdout",
     "output_type": "stream",
     "text": [
      "b\n",
      "98\n",
      "4\n",
      "52\n",
      " \n",
      "32\n"
     ]
    }
   ],
   "source": [
    "#include <stdio.h>\n",
    "\n",
    "int main()\n",
    "{\n",
    "    char a = 'b';\n",
    "    printf(\"%c\\n\", a);\n",
    "    printf(\"%d\\n\", a);\n",
    "    \n",
    "    a = 52;\n",
    "    printf(\"%c\\n\", a);\n",
    "    printf(\"%d\\n\", a);\n",
    "    \n",
    "    a = 32;\n",
    "    printf(\"%c\\n\", a);\n",
    "    printf(\"%d\\n\", a);\n",
    "}"
   ]
  },
  {
   "cell_type": "markdown",
   "metadata": {},
   "source": [
    "## bool\n",
    "Used to represent logical value of *true* and *false*. Introduced into C in C99 standard. in order to use *stdbool.h* needs to be included. Use %d format specifier to print.\n",
    "\n",
    "The example below illustrates declaration of a boolean variable, assigment and printing."
   ]
  },
  {
   "cell_type": "code",
   "execution_count": 38,
   "metadata": {},
   "outputs": [
    {
     "name": "stdout",
     "output_type": "stream",
     "text": [
      "Storage size for char : 1 B \n",
      "a=1 \n",
      "a=0 \n"
     ]
    }
   ],
   "source": [
    "#include <stdio.h>\n",
    "#include <stdbool.h>\n",
    "\n",
    "int main(){\n",
    "    printf ( \"Storage size for char : %ld B \\n\" , sizeof(bool));\n",
    "    \n",
    "    bool a = true;\n",
    "    printf ( \"a=%d \\n\" , a );\n",
    "    \n",
    "    a = false;\n",
    "    printf ( \"a=%d \\n\" , a );\n",
    "}"
   ]
  },
  {
   "cell_type": "markdown",
   "metadata": {},
   "source": [
    "## Void\n",
    "Void is a special type that represents *nothing*. That is a lot, I hope you agree? It is used to distinguish functions that return no value and therfore are *void*. Variables of this type can not be declared! We will be having a look at *void* type when we get to work with functions and pointers."
   ]
  },
  {
   "cell_type": "code",
   "execution_count": 40,
   "metadata": {},
   "outputs": [
    {
     "name": "stdout",
     "output_type": "stream",
     "text": [
      " Storage size for void : 1 B \n"
     ]
    },
    {
     "name": "stderr",
     "output_type": "stream",
     "text": [
      "[C kernel] Executable exited with code 30"
     ]
    }
   ],
   "source": [
    "#include <stdio.h>\n",
    "\n",
    "void main(){\n",
    "    printf( \" Storage size for void : %ld B \\n\" , sizeof ( void ) ) ;\n",
    "    //void a ; // variables of type void are not allowed \n",
    "    //printf ( \" %d \\n\" , a ) ;\n",
    "}"
   ]
  },
  {
   "cell_type": "markdown",
   "metadata": {},
   "source": [
    "## Data assigment, data loss and casting"
   ]
  },
  {
   "cell_type": "markdown",
   "metadata": {},
   "source": [
    "Mixing of types should be, if possible avoided. If necessary it should be done with care.  \n",
    "Here we interpret a doble as an in tne than back again. As a result we suffer data loss since the output vale is not what it originally was. It is possible that your compiler will complain with a warning."
   ]
  },
  {
   "cell_type": "code",
   "execution_count": 41,
   "metadata": {},
   "outputs": [
    {
     "name": "stdout",
     "output_type": "stream",
     "text": [
      "2 6.280000 \n",
      "6 6.280000 \n",
      "6 6.000000 \n"
     ]
    }
   ],
   "source": [
    "#include <stdio.h>\n",
    "\n",
    "int main(){\n",
    "    double x1 = 6.28;\n",
    "    int a = 2;\n",
    "    printf(\"%d %lf \\n\", a, x1);\n",
    "    a = x1; // loss of data since a =6!\n",
    "    printf(\"%d %lf \\n\", a, x1);\n",
    "    x1 = a;\n",
    "    printf(\"%d %lf \\n\", a, x1);\n",
    "}"
   ]
  },
  {
   "cell_type": "markdown",
   "metadata": {},
   "source": [
    "And here we do the same, but \"more consciously\", i.e we perform a data cast we have seen earlier."
   ]
  },
  {
   "cell_type": "code",
   "execution_count": 42,
   "metadata": {},
   "outputs": [
    {
     "name": "stdout",
     "output_type": "stream",
     "text": [
      "6 6.280000 \n",
      "6 0.666667 \n"
     ]
    }
   ],
   "source": [
    "#include <stdio.h>\n",
    "\n",
    "int main(){\n",
    "    double x1 = 6.28;\n",
    "    int a = 2;\n",
    "    a = ( int ) x1; // loss of data , but no warning\n",
    "    printf(\"%d %lf \\n\", a, x1);\n",
    "    x1 = (double) 2/3; // x1 is not zero since I use a cast\n",
    "    printf(\"%d %lf \\n\", a, x1);\n",
    "}"
   ]
  },
  {
   "cell_type": "markdown",
   "metadata": {},
   "source": [
    "## Precedence of operators\n",
    "It is simple. More less what you know from your math class about the order of wxecution. So brackets () before multiplication, sumation/substraction and so on. There can be some new concepts on the way though."
   ]
  },
  {
   "cell_type": "code",
   "execution_count": 44,
   "metadata": {},
   "outputs": [
    {
     "name": "stdout",
     "output_type": "stream",
     "text": [
      "2.666667 \n"
     ]
    }
   ],
   "source": [
    "#include <stdio.h>\n",
    "\n",
    "int main(){\n",
    "    double a = 6, b = 9;\n",
    "    double c = (a+b) / a + b / (a * b);\n",
    "    //double c = (a+b) / a + b / a * b; // it is different!\n",
    "    printf(\"%lf \\n\", c);\n",
    "}"
   ]
  },
  {
   "cell_type": "markdown",
   "metadata": {},
   "source": [
    "## Increment / decrement\n",
    "C offers some operators that are good to know. Incrementation ++ and decrementation -- operators increase or decrease *int* value by 1. Consider the folloing:"
   ]
  },
  {
   "cell_type": "code",
   "execution_count": 45,
   "metadata": {},
   "outputs": [
    {
     "name": "stdout",
     "output_type": "stream",
     "text": [
      "1 \n",
      "2 \n",
      "3 \n",
      "4 \n",
      "5 \n",
      "4 \n",
      "3 \n",
      "2 \n",
      "1 \n",
      "0 \n",
      "-1 \n"
     ]
    }
   ],
   "source": [
    "#include <stdio.h>\n",
    "\n",
    "int main(){\n",
    "    int a = 1;\n",
    "    printf(\"%d \\n\", a);\n",
    "    ++a;\n",
    "    printf(\"%d \\n\", a);\n",
    "    ++a;\n",
    "    printf(\"%d \\n\", a);\n",
    "    ++a;\n",
    "    printf(\"%d \\n\", a);\n",
    "    ++a; // a = a + 1;\n",
    "    printf(\"%d \\n\", a);\n",
    "    \n",
    "    --a;\n",
    "    printf(\"%d \\n\", a);\n",
    "    --a;\n",
    "    printf(\"%d \\n\", a);\n",
    "    --a;\n",
    "    printf(\"%d \\n\", a);\n",
    "    --a;\n",
    "    printf(\"%d \\n\", a);\n",
    "    --a;\n",
    "    printf(\"%d \\n\", a);\n",
    "    --a;\n",
    "    printf(\"%d \\n\", a);\n",
    "}"
   ]
  },
  {
   "cell_type": "markdown",
   "metadata": {},
   "source": [
    "and:"
   ]
  },
  {
   "cell_type": "code",
   "execution_count": 46,
   "metadata": {},
   "outputs": [
    {
     "name": "stdout",
     "output_type": "stream",
     "text": [
      "1 \n",
      "2 \n",
      "3 \n",
      "2 \n",
      "1 \n"
     ]
    }
   ],
   "source": [
    "#include <stdio.h>\n",
    "\n",
    "int main(){\n",
    "    int a = 1;\n",
    "    printf(\"%d \\n\", a);\n",
    "    a++;\n",
    "    printf(\"%d \\n\", a);\n",
    "    a++;\n",
    "    printf(\"%d \\n\", a);\n",
    "    \n",
    "    a--;\n",
    "    printf(\"%d \\n\", a);\n",
    "    a--;\n",
    "    printf(\"%d \\n\", a);\n",
    "}"
   ]
  },
  {
   "cell_type": "markdown",
   "metadata": {},
   "source": [
    "There are two versions of those operators and apparently the two do the same. But there is a difference. The ++a is called prefix and a++ the postfix. The first is performed first and than passed for possible assigment. The second is first passed for assigment and only than incremented. Consider the two examples and note the resulting values:"
   ]
  },
  {
   "cell_type": "code",
   "execution_count": 47,
   "metadata": {},
   "outputs": [
    {
     "name": "stdout",
     "output_type": "stream",
     "text": [
      "2 2\n"
     ]
    }
   ],
   "source": [
    "#include <stdio.h>\n",
    "\n",
    "int main(){\n",
    "    int a = 1;\n",
    "    int b = ++a; // first increment than copy\n",
    "    printf(\"%d %d\\n\", a, b);\n",
    "}"
   ]
  },
  {
   "cell_type": "code",
   "execution_count": 48,
   "metadata": {},
   "outputs": [
    {
     "name": "stdout",
     "output_type": "stream",
     "text": [
      "2 1\n"
     ]
    }
   ],
   "source": [
    "#include <stdio.h>\n",
    "\n",
    "int main(){\n",
    "    int a = 1;\n",
    "    int b = a++; // first copy than increment\n",
    "    printf(\"%d %d\\n\", a, b);\n",
    "}"
   ]
  },
  {
   "cell_type": "markdown",
   "metadata": {},
   "source": [
    "We note that it is better to use the prefix version sice it only invikes coping the value, while the postfix requiers first to create a copy that is passed and than the increamentation, which in case of composite data types can be expensive."
   ]
  },
  {
   "cell_type": "markdown",
   "metadata": {},
   "source": [
    "## Compound Assignment Operators += -= *= /=\n",
    "Onother type of operators are the compound operators. Those are used to replace operation with the assigment. Such as a = a + b. Consider the following:"
   ]
  },
  {
   "cell_type": "code",
   "execution_count": 49,
   "metadata": {},
   "outputs": [
    {
     "name": "stdout",
     "output_type": "stream",
     "text": [
      "3 2\n"
     ]
    }
   ],
   "source": [
    "#include <stdio.h>\n",
    "\n",
    "int main(){\n",
    "    int a = 1;\n",
    "    int b = 2;\n",
    "    a += b; // a = a + b;\n",
    "    printf(\"%d %d\\n\", a, b);\n",
    "}"
   ]
  },
  {
   "cell_type": "code",
   "execution_count": 50,
   "metadata": {},
   "outputs": [
    {
     "name": "stdout",
     "output_type": "stream",
     "text": [
      "8.572200 2.730000\n"
     ]
    }
   ],
   "source": [
    "//%cflags:-lm\n",
    "\n",
    "#include <stdio.h>\n",
    "\n",
    "int main(){\n",
    "    double a = 3.14;\n",
    "    double b = 2.73;\n",
    "    a *= b; // a = a * b;\n",
    "    printf(\"%lf %lf\\n\", a, b);\n",
    "}"
   ]
  }
 ],
 "metadata": {
  "kernelspec": {
   "display_name": "C",
   "language": "c",
   "name": "bash"
  },
  "language_info": {
   "file_extension": ".c",
   "mimetype": "text/plain",
   "name": "c"
  }
 },
 "nbformat": 4,
 "nbformat_minor": 2
}
