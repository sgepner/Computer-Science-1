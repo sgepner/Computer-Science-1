{
 "cells": [
  {
   "cell_type": "markdown",
   "metadata": {},
   "source": [
    "# 2D static arrays"
   ]
  },
  {
   "cell_type": "markdown",
   "metadata": {},
   "source": [
    "Declaring a 2D static array works similar as working with 1D static arrays.\n",
    "\n",
    "Declaration needs:\n",
    "* type\n",
    "* name - identifier like any other variable\n",
    "* size_1 and size_2 - **MUST** be known at compilation time\n",
    "\n",
    "* Storage is continous in memory - see slides\n",
    "* Occupies size 1 x size 2 x sizeof(type) B\n",
    "* element acces with double square brackets: [][]\n",
    "\n",
    "int tabA[2][3]; - declares an array of 6 int\n",
    "double tabB[5][3]; - an array of 15 doubles"
   ]
  },
  {
   "cell_type": "markdown",
   "metadata": {},
   "source": [
    "Declare a 2D array of ints and fill it with data using \\[\\]\\[\\], than print some"
   ]
  },
  {
   "cell_type": "code",
   "execution_count": 1,
   "metadata": {},
   "outputs": [
    {
     "name": "stdout",
     "output_type": "stream",
     "text": [
      "0 11 32"
     ]
    }
   ],
   "source": [
    "#include <stdio.h>\n",
    "\n",
    "int main()\n",
    "{\n",
    "    int a[4][3]; // 4 x 3 array of ints\n",
    "    \n",
    "    a[0][0] = 0;\n",
    "    a[0][1] = 1;\n",
    "    a[0][2] = 2;\n",
    "    \n",
    "    a[1][0] = 10;\n",
    "    a[1][1] = 11;\n",
    "    a[1][2] = 12;\n",
    "    \n",
    "    a[2][0] = 20;\n",
    "    a[2][1] = 21;\n",
    "    a[2][2] = 22;\n",
    "    \n",
    "    a[3][0] = 30;\n",
    "    a[3][1] = 31;\n",
    "    a[3][2] = 32;\n",
    "    \n",
    "    printf(\"%d %d %d\", a[0][0], a[1][1], a[3][2]);\n",
    "}"
   ]
  },
  {
   "cell_type": "code",
   "execution_count": 5,
   "metadata": {},
   "outputs": [
    {
     "name": "stdout",
     "output_type": "stream",
     "text": [
      "0\n",
      "1\n",
      "2\n",
      "10\n",
      "11\n",
      "12\n"
     ]
    }
   ],
   "source": [
    "#include <stdio.h>\n",
    "\n",
    "int main()\n",
    "{\n",
    "    int a[4][3]; // 4 x 3 array of ints\n",
    "    \n",
    "    a[0][0] = 0;\n",
    "    a[0][1] = 1;\n",
    "    a[0][2] = 2;\n",
    "    \n",
    "    a[1][0] = 10;\n",
    "    a[1][1] = 11;\n",
    "    a[1][2] = 12;\n",
    "    \n",
    "    a[2][0] = 20;\n",
    "    a[2][1] = 21;\n",
    "    a[2][2] = 22;\n",
    "    \n",
    "    a[3][0] = 30;\n",
    "    a[3][1] = 31;\n",
    "    a[3][2] = 32;\n",
    "    \n",
    "    int *p = &a[0][0];\n",
    "    \n",
    "    printf(\"%d\\n\", *p);\n",
    "    ++p;\n",
    "    printf(\"%d\\n\", *p);\n",
    "    ++p;\n",
    "    printf(\"%d\\n\", *p);\n",
    "    ++p;\n",
    "    printf(\"%d\\n\", *p);\n",
    "    ++p;\n",
    "    printf(\"%d\\n\", *p);\n",
    "    ++p;\n",
    "    printf(\"%d\\n\", *p);\n",
    "}"
   ]
  },
  {
   "cell_type": "markdown",
   "metadata": {},
   "source": [
    "Print addresses of first elements in each row, what is the distance between them?"
   ]
  },
  {
   "cell_type": "code",
   "execution_count": 6,
   "metadata": {},
   "outputs": [
    {
     "name": "stdout",
     "output_type": "stream",
     "text": [
      "0x7ffcde4e3fc0 0x7ffcde4e3fc4\n",
      "0x7ffcde4e3fcc 0x7ffcde4e3fd0\n"
     ]
    }
   ],
   "source": [
    "#include <stdio.h>\n",
    "\n",
    "int main()\n",
    "{\n",
    "    int a[4][3];\n",
    "       \n",
    "    printf(\"%p %p\\n\", &a[0][0], &a[0][1]);\n",
    "    printf(\"%p %p\\n\", &a[1][0], &a[1][1]);\n",
    "}"
   ]
  },
  {
   "cell_type": "markdown",
   "metadata": {},
   "source": [
    "Conclusion: storage is continous and elements are separated by row size"
   ]
  },
  {
   "cell_type": "code",
   "execution_count": 7,
   "metadata": {},
   "outputs": [
    {
     "name": "stdout",
     "output_type": "stream",
     "text": [
      "0x7ffe70fa5bf0 0x7ffe70fa5bf4\n",
      "0x7ffe70fa5d80 0x7ffe70fa5d84\n"
     ]
    }
   ],
   "source": [
    "#include <stdio.h>\n",
    "#define X 500\n",
    "#define Y 100\n",
    "\n",
    "int main()\n",
    "{\n",
    "    int a[X][Y]; // larger array\n",
    "    \n",
    "    int x = 5; // actual size of a 2D array\n",
    "    int y = 10;\n",
    "    \n",
    "    // .. work with this array\n",
    "       \n",
    "    printf(\"%p %p\\n\", &a[0][0], &a[0][1]);\n",
    "    printf(\"%p %p\\n\", &a[1][0], &a[1][1]);\n",
    "}"
   ]
  },
  {
   "cell_type": "markdown",
   "metadata": {},
   "source": [
    "Can a 2D array be treated as a 1D array. Yes, since all storage is continous!"
   ]
  },
  {
   "cell_type": "code",
   "execution_count": 8,
   "metadata": {},
   "outputs": [
    {
     "name": "stdout",
     "output_type": "stream",
     "text": [
      "6 7 8"
     ]
    }
   ],
   "source": [
    "#include <stdio.h>\n",
    "\n",
    "int main()\n",
    "{\n",
    "    int a[4][3];\n",
    "    int *p = &a[0][0]; // adraess and an array are the same?\n",
    "    \n",
    "    for(int i=0; i<10; ++i)\n",
    "        p[i] = i;\n",
    "    \n",
    "    printf(\"%d %d %d\", a[2][0], a[2][1], a[2][2]);\n",
    "}"
   ]
  },
  {
   "cell_type": "markdown",
   "metadata": {},
   "source": [
    "Can the 1D array be treated as a 2D? Yes, and no. There is a but. So the size of a row would have to be known. \n",
    "\n",
    "When writing functions working with 2D arrays we need to remember to provide the second dimension!\n",
    "\n",
    "Write a function that fills and prints the content of a 2D array of integers:"
   ]
  },
  {
   "cell_type": "code",
   "execution_count": 19,
   "metadata": {},
   "outputs": [
    {
     "name": "stdout",
     "output_type": "stream",
     "text": [
      "0 \t10 \t20 \t\n",
      "100 \t110 \t120 \t\n",
      "200 \t210 \t220 \t\n",
      "300 \t310 \t320 \t\n",
      "400 \t410 \t420 \t\n",
      "500 \t510 \t520 \t\n"
     ]
    }
   ],
   "source": [
    "#include <stdio.h>\n",
    "\n",
    "void fill(int tab[10][10], int n, int m);\n",
    "void print(int tab[10][10], int n, int m);\n",
    "\n",
    "int main()\n",
    "{\n",
    "    int tab[10][10];\n",
    "    int n=6, m=3; // rows and collumns\n",
    "    fill(tab, n, m);\n",
    "    print(tab, n, m);\n",
    "}\n",
    "\n",
    "void fill(int tab[10][10], int n, int m)\n",
    "{\n",
    "    for(int i=0; i<n; ++i)\n",
    "    {\n",
    "        for(int j=0; j<m; ++j)\n",
    "        {\n",
    "            tab[i][j] = 100*i+10*j;\n",
    "        }\n",
    "    }\n",
    "}\n",
    "\n",
    "void print(int tab[10][10], int n, int m)\n",
    "{\n",
    "    for(int i=0; i<n; ++i)\n",
    "    {\n",
    "        for(int j=0; j<m; ++j)\n",
    "        {\n",
    "            printf(\"%d \\t\", tab[i][j]);\n",
    "        }\n",
    "        printf(\"\\n\");\n",
    "    }\n",
    "}"
   ]
  },
  {
   "cell_type": "markdown",
   "metadata": {},
   "source": [
    "A different way to initialize arrays:\n",
    "\n",
    "1D"
   ]
  },
  {
   "cell_type": "code",
   "execution_count": null,
   "metadata": {},
   "outputs": [],
   "source": [
    "#include <stdio.h>\n",
    "int main(){\n",
    "    int a[] = {1,2,3};\n",
    "    printf(\"%d %d %d\", a[0], a[1], a[2]);\n",
    "}"
   ]
  },
  {
   "cell_type": "markdown",
   "metadata": {},
   "source": [
    "2D is also possible, but as with functions the size of a row (number of collumns must be known)."
   ]
  },
  {
   "cell_type": "code",
   "execution_count": null,
   "metadata": {},
   "outputs": [],
   "source": [
    "#include <stdio.h>\n",
    "int main(){\n",
    "    int a[][2] = {1,2,3,4};\n",
    "    printf(\"%d %d %d %d\", a[0][0], a[0][1], a[1][0], a[1][1]);\n",
    "}"
   ]
  },
  {
   "cell_type": "markdown",
   "metadata": {},
   "source": [
    "### An example\n",
    "* Write a program illustrating workings of a 2D static array\n",
    "* Add initialization function\n",
    "* Distinguish the maximum size of an array, and the one used by the program\n",
    "* Illustrate how to write functions with 2D arrays\n",
    "* Add a function printing a 2D array\n",
    "* Add a function coping to a 1D vector the diagonal from a square matrix\n",
    "* Write a function coping a row, column from a 2D array\n",
    "* Write a function inserting a row column into a 2D array"
   ]
  },
  {
   "cell_type": "code",
   "execution_count": 23,
   "metadata": {},
   "outputs": [
    {
     "name": "stdout",
     "output_type": "stream",
     "text": [
      "[1,\t2,\t3,\t4,\t5,\t6]\n",
      "[2,\t3,\t4,\t5,\t6,\t7]\n",
      "[3,\t4,\t5,\t6,\t7,\t8]\n",
      "[4,\t5,\t6,\t7,\t8,\t9]\n",
      "[5,\t6,\t7,\t8,\t9,\t10]\n",
      "----\n",
      "[1,\t2,\t3,\t4,\t5,\t6]\n",
      "[2,\t3,\t4,\t5,\t6,\t7]\n",
      "[3,\t4,\t5,\t9,\t7,\t8]\n",
      "[4,\t5,\t6,\t7,\t8,\t9]\n",
      "[5,\t6,\t7,\t8,\t9,\t10]\n",
      "----\n",
      "[3,\t4,\t5,\t9,\t7,\t8]\n",
      "----\n",
      "[5,\t6,\t7,\t8,\t9,\t10]\n"
     ]
    }
   ],
   "source": [
    "#include <stdio.h>\n",
    "#define MAX_SIZE 10\n",
    "\n",
    "void fillwithadata(int A[][MAX_SIZE], int n, int m)\n",
    "{\n",
    "    for(int i=0; i<n; ++i)\n",
    "    {\n",
    "        for(int j=0; j<m; ++j)\n",
    "        {\n",
    "            A[i][j] = 1.0 * (i + j + 1);\n",
    "        }\n",
    "    }\n",
    "}\n",
    "\n",
    "void printarry(int A[][MAX_SIZE], int n, int m)\n",
    "{\n",
    "    for(int i=0; i<n; ++i)\n",
    "    {\n",
    "        printf(\"[\");\n",
    "        for(int j=0; j<m-1; ++j)\n",
    "        {\n",
    "            printf(\"%d,\\t\", A[i][j]);\n",
    "        }\n",
    "        printf(\"%d]\\n\", A[i][m-1]);\n",
    "    }\n",
    "}\n",
    "\n",
    "\n",
    "void printvector(int* tab, int n)\n",
    "{\n",
    "    printf(\"[\");\n",
    "    for(int j=0; j<n-1; ++j)\n",
    "    {\n",
    "        printf(\"%d,\\t\", tab[j]);\n",
    "    }\n",
    "    printf(\"%d]\\n\",tab[n-1]);\n",
    "}\n",
    "\n",
    "int* copyrowpointer(int A[][MAX_SIZE], int row)\n",
    "{\n",
    "    return &A[row][0];\n",
    "}\n",
    "\n",
    "void copyrow(int A[][MAX_SIZE], int n, int m, int row, int *tab)\n",
    "{\n",
    "    for(int j=0; j<m; ++j)\n",
    "    {\n",
    "        tab[j] = A[row][j];\n",
    "    }\n",
    "}\n",
    "\n",
    "int main()\n",
    "{\n",
    "    int tab2D[MAX_SIZE][MAX_SIZE];\n",
    "    int n=5, m=6;\n",
    "    \n",
    "    fillwithadata(tab2D, n, m);\n",
    "    printarry(tab2D, n, m);\n",
    "    printf(\"----\\n\");\n",
    "    \n",
    "    int *p = copyrowpointer(tab2D, 2);\n",
    "    p[3] = 9;\n",
    "    printarry(tab2D, n, m);\n",
    "    printf(\"----\\n\");\n",
    "    printvector(p, m);\n",
    "    printf(\"----\\n\");\n",
    "    int tab[MAX_SIZE];\n",
    "    copyrow(tab2D, n, m, 4, tab);\n",
    "    printvector(tab, m);\n",
    "    \n",
    "}"
   ]
  },
  {
   "cell_type": "code",
   "execution_count": null,
   "metadata": {},
   "outputs": [],
   "source": [
    "\n",
    "\n",
    "\n",
    "\n",
    "\n",
    "\n"
   ]
  }
 ],
 "metadata": {
  "kernelspec": {
   "display_name": "C",
   "language": "c",
   "name": "c"
  },
  "language_info": {
   "file_extension": ".c",
   "mimetype": "text/plain",
   "name": "c"
  }
 },
 "nbformat": 4,
 "nbformat_minor": 2
}
