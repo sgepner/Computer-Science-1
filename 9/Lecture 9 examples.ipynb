{
 "cells": [
  {
   "cell_type": "markdown",
   "metadata": {},
   "source": [
    "# 2D static arrays"
   ]
  },
  {
   "cell_type": "markdown",
   "metadata": {},
   "source": [
    "Declaring a 2D static array works similar as working with 1D static arrays.\n",
    "\n",
    "Declaration needs:\n",
    "* type\n",
    "* name - identifier like any other variable\n",
    "* size_1 and size_2 - **MUST** be known at compilation time\n",
    "\n",
    "* Storage is continous in memory - see slides\n",
    "* Occupies size 1 x size 2 x sizeof(type) B\n",
    "* element acces with double square brackets: [][]\n",
    "\n",
    "int tabA[2][3]; - declares an array of 6 int\n",
    "double tabB[5][3]; - an array of 15 doubles"
   ]
  },
  {
   "cell_type": "markdown",
   "metadata": {},
   "source": [
    "##### Some examples:\n",
    "Declare a 2D array of ints and fill it with data using \\[\\]\\[\\], than print some values"
   ]
  },
  {
   "cell_type": "code",
   "execution_count": 1,
   "metadata": {},
   "outputs": [
    {
     "name": "stdout",
     "output_type": "stream",
     "text": [
      "0 11 32"
     ]
    }
   ],
   "source": [
    "#include <stdio.h>\n",
    "\n",
    "int main()\n",
    "{\n",
    "    int a[4][3]; // 4 x 3 array of ints\n",
    "    \n",
    "    a[0][0] = 0;\n",
    "    a[0][1] = 1;\n",
    "    a[0][2] = 2;\n",
    "    \n",
    "    a[1][0] = 10;\n",
    "    a[1][1] = 11;\n",
    "    a[1][2] = 12;\n",
    "    \n",
    "    a[2][0] = 20;\n",
    "    a[2][1] = 21;\n",
    "    a[2][2] = 22;\n",
    "    \n",
    "    a[3][0] = 30;\n",
    "    a[3][1] = 31;\n",
    "    a[3][2] = 32;\n",
    "    \n",
    "    printf(\"%d %d %d\", a[0][0], a[1][1], a[3][2]);\n",
    "}"
   ]
  },
  {
   "cell_type": "markdown",
   "metadata": {},
   "source": [
    "We will now modify the program a bit, to illustrate that the storage in memory is continuous. W do this by retrieving the address of the first element and than by increasing it by one."
   ]
  },
  {
   "cell_type": "code",
   "execution_count": 5,
   "metadata": {},
   "outputs": [
    {
     "name": "stdout",
     "output_type": "stream",
     "text": [
      "0\n",
      "1\n",
      "2\n",
      "10\n",
      "11\n",
      "12\n"
     ]
    }
   ],
   "source": [
    "#include <stdio.h>\n",
    "\n",
    "int main()\n",
    "{\n",
    "    int a[4][3]; // 4 x 3 array of ints\n",
    "    \n",
    "    a[0][0] = 0;\n",
    "    a[0][1] = 1;\n",
    "    a[0][2] = 2;\n",
    "    \n",
    "    a[1][0] = 10;\n",
    "    a[1][1] = 11;\n",
    "    a[1][2] = 12;\n",
    "    \n",
    "    a[2][0] = 20;\n",
    "    a[2][1] = 21;\n",
    "    a[2][2] = 22;\n",
    "    \n",
    "    a[3][0] = 30;\n",
    "    a[3][1] = 31;\n",
    "    a[3][2] = 32;\n",
    "    \n",
    "    int *p = &a[0][0];\n",
    "    \n",
    "    printf(\"%d\\n\", *p);\n",
    "    ++p;\n",
    "    printf(\"%d\\n\", *p);\n",
    "    ++p;\n",
    "    printf(\"%d\\n\", *p);\n",
    "    ++p;\n",
    "    printf(\"%d\\n\", *p);\n",
    "    ++p;\n",
    "    printf(\"%d\\n\", *p);\n",
    "    ++p;\n",
    "    printf(\"%d\\n\", *p);\n",
    "}"
   ]
  },
  {
   "cell_type": "markdown",
   "metadata": {},
   "source": [
    "Print addresses of first elements in each row, what is the distance between them?"
   ]
  },
  {
   "cell_type": "code",
   "execution_count": 6,
   "metadata": {},
   "outputs": [
    {
     "name": "stdout",
     "output_type": "stream",
     "text": [
      "0x7ffcde4e3fc0 0x7ffcde4e3fc4\n",
      "0x7ffcde4e3fcc 0x7ffcde4e3fd0\n"
     ]
    }
   ],
   "source": [
    "#include <stdio.h>\n",
    "\n",
    "int main()\n",
    "{\n",
    "    int a[4][3];\n",
    "       \n",
    "    printf(\"%p %p\\n\", &a[0][0], &a[0][1]);\n",
    "    printf(\"%p %p\\n\", &a[1][0], &a[1][1]);\n",
    "}"
   ]
  },
  {
   "cell_type": "markdown",
   "metadata": {},
   "source": [
    "Conclusion: storage is continuous and elements are separated by row size"
   ]
  },
  {
   "cell_type": "code",
   "execution_count": 7,
   "metadata": {},
   "outputs": [
    {
     "name": "stdout",
     "output_type": "stream",
     "text": [
      "0x7ffe70fa5bf0 0x7ffe70fa5bf4\n",
      "0x7ffe70fa5d80 0x7ffe70fa5d84\n"
     ]
    }
   ],
   "source": [
    "#include <stdio.h>\n",
    "#define X 500\n",
    "#define Y 100\n",
    "\n",
    "int main()\n",
    "{\n",
    "    int a[X][Y]; // larger array\n",
    "    \n",
    "    int x = 5; // actual size of a 2D array\n",
    "    int y = 10;\n",
    "    \n",
    "    // .. work with this array\n",
    "       \n",
    "    printf(\"%p %p\\n\", &a[0][0], &a[0][1]);\n",
    "    printf(\"%p %p\\n\", &a[1][0], &a[1][1]);\n",
    "}"
   ]
  },
  {
   "cell_type": "markdown",
   "metadata": {},
   "source": [
    "We see that the row size (the number of columns) is important. The reason for that is that by changing the value in the second bracket we move by a single pointer (single address), by changing the value in the first bracket we need to move by the entire row. This value can only be known if we know exactly how many columns there are!\n",
    "\n",
    "A consequence is that a 2D array be treated as a 1D array in some situations but not in others.  \n",
    "1. Storage is continuous!"
   ]
  },
  {
   "cell_type": "code",
   "execution_count": 8,
   "metadata": {},
   "outputs": [
    {
     "name": "stdout",
     "output_type": "stream",
     "text": [
      "6 7 8"
     ]
    }
   ],
   "source": [
    "#include <stdio.h>\n",
    "\n",
    "int main()\n",
    "{\n",
    "    int a[4][3];\n",
    "    int *p = &a[0][0]; // adraess and an array are the same?\n",
    "    \n",
    "    for(int i=0; i<10; ++i)\n",
    "        p[i] = i;\n",
    "    \n",
    "    printf(\"%d %d %d\", a[2][0], a[2][1], a[2][2]);\n",
    "}"
   ]
  },
  {
   "cell_type": "markdown",
   "metadata": {},
   "source": [
    "Can the 1D array be treated as a 2D? Yes, and no. There is a but. So the size of a row would have to be known. \n",
    "\n",
    "When writing functions working with 2D arrays we need to remember to provide the second dimension!\n",
    "\n",
    "Write a function that fills and prints the content of a 2D array of integers:"
   ]
  },
  {
   "cell_type": "code",
   "execution_count": 19,
   "metadata": {},
   "outputs": [
    {
     "name": "stdout",
     "output_type": "stream",
     "text": [
      "0 \t10 \t20 \t\n",
      "100 \t110 \t120 \t\n",
      "200 \t210 \t220 \t\n",
      "300 \t310 \t320 \t\n",
      "400 \t410 \t420 \t\n",
      "500 \t510 \t520 \t\n"
     ]
    }
   ],
   "source": [
    "#include <stdio.h>\n",
    "\n",
    "void fill(int tab[10][10], int n, int m);\n",
    "void print(int tab[10][10], int n, int m);\n",
    "\n",
    "int main()\n",
    "{\n",
    "    int tab[10][10];\n",
    "    int n=6, m=3; // rows and collumns\n",
    "    fill(tab, n, m);\n",
    "    print(tab, n, m);\n",
    "}\n",
    "\n",
    "void fill(int tab[10][10], int n, int m)\n",
    "{\n",
    "    for(int i=0; i<n; ++i)\n",
    "    {\n",
    "        for(int j=0; j<m; ++j)\n",
    "        {\n",
    "            tab[i][j] = 100*i+10*j;\n",
    "        }\n",
    "    }\n",
    "}\n",
    "\n",
    "void print(int tab[10][10], int n, int m)\n",
    "{\n",
    "    for(int i=0; i<n; ++i)\n",
    "    {\n",
    "        for(int j=0; j<m; ++j)\n",
    "        {\n",
    "            printf(\"%d \\t\", tab[i][j]);\n",
    "        }\n",
    "        printf(\"\\n\");\n",
    "    }\n",
    "}"
   ]
  },
  {
   "cell_type": "markdown",
   "metadata": {},
   "source": [
    "A different way to initialize arrays:\n",
    "\n",
    "1D"
   ]
  },
  {
   "cell_type": "code",
   "execution_count": 20,
   "metadata": {},
   "outputs": [
    {
     "name": "stdout",
     "output_type": "stream",
     "text": [
      "1 2 3"
     ]
    }
   ],
   "source": [
    "#include <stdio.h>\n",
    "int main(){\n",
    "    int a[] = {1,2,3};\n",
    "    printf(\"%d %d %d\", a[0], a[1], a[2]);\n",
    "}"
   ]
  },
  {
   "cell_type": "markdown",
   "metadata": {},
   "source": [
    "2D is also possible, but as with functions the size of a row (number of collumns must be known)."
   ]
  },
  {
   "cell_type": "code",
   "execution_count": 21,
   "metadata": {},
   "outputs": [],
   "source": [
    "#include <stdio.h>\n",
    "int main(){\n",
    "    int a[][2] = {1,2,3,4};\n",
    "    printf(\"%d %d %d %d\", a[0][0], a[0][1], a[1][0], a[1][1]);\n",
    "}"
   ]
  },
  {
   "cell_type": "markdown",
   "metadata": {},
   "source": [
    "### An example\n",
    "* Write a program illustrating workings of a 2D static array\n",
    "* Add initialization function\n",
    "* Distinguish the maximum size of an array, and the one used by the program\n",
    "* Illustrate how to write functions with 2D arrays\n",
    "* Add a function printing a 2D array\n",
    "* Add a function coping to a 1D vector the diagonal from a square matrix\n",
    "* Write a function coping a row, column from a 2D array\n",
    "* Write a function inserting a row column into a 2D array"
   ]
  },
  {
   "cell_type": "code",
   "execution_count": 16,
   "metadata": {},
   "outputs": [
    {
     "name": "stdout",
     "output_type": "stream",
     "text": [
      "0 \t10 \t20 \t30 \t40 \t50 \t\n",
      "100 \t110 \t120 \t130 \t140 \t150 \t\n",
      "200 \t210 \t220 \t230 \t240 \t250 \t\n",
      "300 \t310 \t320 \t330 \t340 \t350 \t\n",
      "400 \t410 \t420 \t430 \t440 \t450 \t\n",
      "500 \t510 \t520 \t530 \t540 \t550 \t\n",
      "--------\n",
      "0 \t110 \t220 \t330 \t440 \t550 \t\n",
      "--------\n",
      "300 \t310 \t320 \t330 \t340 \t350 \t\n",
      "200 \t210 \t220 \t230 \t240 \t250 \t\n",
      "--------\n",
      "0 \t10 \t20 \t30 \t40 \t50 \t\n",
      "100 \t110 \t120 \t130 \t140 \t150 \t\n",
      "200 \t210 \t220 \t230 \t240 \t250 \t\n",
      "300 \t1000 \t320 \t330 \t340 \t350 \t\n",
      "400 \t410 \t420 \t430 \t440 \t450 \t\n",
      "500 \t510 \t520 \t530 \t540 \t550 \t\n",
      "--------\n",
      "0 \t200 \t20 \t300 \t40 \t50 \t\n",
      "100 \t1000 \t120 \t1000 \t140 \t150 \t\n",
      "200 \t220 \t220 \t320 \t240 \t250 \t\n",
      "300 \t230 \t320 \t330 \t340 \t350 \t\n",
      "400 \t240 \t420 \t340 \t440 \t450 \t\n",
      "500 \t250 \t520 \t350 \t540 \t550 \t\n"
     ]
    }
   ],
   "source": [
    "#include <stdio.h>\n",
    "#define MAX_SIZE 100\n",
    "\n",
    "void fill(int tab[MAX_SIZE][MAX_SIZE], int n, int m);\n",
    "void print(int tab[MAX_SIZE][MAX_SIZE], int n, int m);\n",
    "void diag(int tab[][MAX_SIZE], int n, int d[]);\n",
    "void print1D(int tab[], int n);\n",
    "int* copy1(int tab[][MAX_SIZE], int n);\n",
    "void copy(int tab[][MAX_SIZE], int n, int row, int d[]);\n",
    "void insert_collumn(int tab[][MAX_SIZE], int n, int col, int d[]);\n",
    "\n",
    "int main()\n",
    "{\n",
    "    int tab[MAX_SIZE][MAX_SIZE];\n",
    "    int n=6, m=6; // rows and collumns\n",
    "    \n",
    "    fill(tab, n, m);\n",
    "    print(tab, n, m);\n",
    "    printf(\"--------\\n\");\n",
    "    \n",
    "    int d[MAX_SIZE];\n",
    "    diag(tab, n, d);\n",
    "    print1D(d, n);\n",
    "    printf(\"--------\\n\");\n",
    "    \n",
    "    int *p = copy1(tab, 3);\n",
    "    print1D(p, n);\n",
    "    \n",
    "    copy(tab, n, 2, d);\n",
    "    print1D(d, n);\n",
    "    printf(\"--------\\n\");\n",
    "    p[1] = 1000;\n",
    "    d[1] = 1000;\n",
    "    print(tab, n, m);\n",
    "    printf(\"--------\\n\");\n",
    "    insert_collumn(tab, n, 1, d);\n",
    "    insert_collumn(tab, n, 3, p);\n",
    "    print(tab, n, m);\n",
    "}\n",
    "\n",
    "void fill(int tab[][MAX_SIZE], int n, int m)\n",
    "{\n",
    "    for(int i=0; i<n; ++i)\n",
    "    {\n",
    "        for(int j=0; j<m; ++j)\n",
    "        {\n",
    "            tab[i][j] = 100*i+10*j;\n",
    "        }\n",
    "    }\n",
    "}\n",
    "\n",
    "void print(int tab[][MAX_SIZE], int n, int m)\n",
    "{\n",
    "    for(int i=0; i<n; ++i)\n",
    "    {\n",
    "        for(int j=0; j<m; ++j)\n",
    "        {\n",
    "            printf(\"%d \\t\", tab[i][j]);\n",
    "        }\n",
    "        printf(\"\\n\");\n",
    "    }\n",
    "}\n",
    "void print1D(int tab[], int n)\n",
    "{\n",
    "    for(int i=0; i<n; ++i)\n",
    "    {\n",
    "        printf(\"%d \\t\", tab[i]);\n",
    "    }\n",
    "    printf(\"\\n\");\n",
    "}\n",
    "\n",
    "void diag(int tab[][MAX_SIZE], int n, int d[])\n",
    "{\n",
    "    for(int i=0; i<n; ++i)\n",
    "    {\n",
    "        d[i] = tab[i][i];\n",
    "    }\n",
    "}\n",
    "\n",
    "//An address of the first element of a row\n",
    "int* copy1(int tab[][MAX_SIZE], int n)\n",
    "{\n",
    "    return &tab[n][0];\n",
    "}\n",
    "\n",
    "void copy(int tab[][MAX_SIZE], int n, int row, int d[])\n",
    "{\n",
    "    for(int i=0; i<n; ++i)\n",
    "    {\n",
    "        d[i] = tab[row][i];\n",
    "    }\n",
    "}\n",
    "\n",
    "void insert_collumn(int tab[][MAX_SIZE], int n, int col, int d[])\n",
    "{\n",
    "    for(int i=0; i<n; ++i)\n",
    "    {\n",
    "        tab[i][col] = d[i];\n",
    "    }\n",
    "}\n"
   ]
  },
  {
   "cell_type": "code",
   "execution_count": null,
   "metadata": {},
   "outputs": [],
   "source": []
  }
 ],
 "metadata": {
  "kernelspec": {
   "display_name": "C",
   "language": "c",
   "name": "c"
  },
  "language_info": {
   "file_extension": ".c",
   "mimetype": "text/plain",
   "name": "c"
  }
 },
 "nbformat": 4,
 "nbformat_minor": 2
}
