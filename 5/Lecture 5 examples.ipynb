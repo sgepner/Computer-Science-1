{
 "cells": [
  {
   "cell_type": "markdown",
   "metadata": {},
   "source": [
    "# Loops,\n",
    "and code repetition.  \n",
    "Often some activity needs to be repeated many times. Be it a recursive formula, we wish to calculate, or periodic checking of some variable state.  \n",
    "One of the fundamental tasks is to write code statements that allow for consecutive, repetitive execution of code. In **all** programming languages this is achieved with **loops**. Today we will get familiar with the syntax of loop in **C**:\n",
    "* We will start with **goto** (but we hope to forever forget this one)\n",
    "* *while* and *do while*\n",
    "* and my personal favorite, the *for* loop"
   ]
  },
  {
   "cell_type": "markdown",
   "metadata": {},
   "source": [
    "## Example:\n",
    "Write a code that prints 100 consecutive integers starting with 0.:"
   ]
  },
  {
   "cell_type": "code",
   "execution_count": 2,
   "metadata": {},
   "outputs": [
    {
     "name": "stdout",
     "output_type": "stream",
     "text": [
      "0\n",
      "1\n",
      "2\n",
      "3\n"
     ]
    }
   ],
   "source": [
    "#include <stdio.h>\n",
    "\n",
    "int main()\n",
    "{\n",
    "    printf(\"%d\\n\", 0);\n",
    "    printf(\"%d\\n\", 1);\n",
    "    printf(\"%d\\n\", 2);\n",
    "    printf(\"%d\\n\", 3);\n",
    "}"
   ]
  },
  {
   "cell_type": "markdown",
   "metadata": {},
   "source": [
    "## goto label\n",
    "* Provides a jump to from goto to a labeled statment\n",
    "* **highly discouraged**\n",
    "* and is a mark of poor programming skills"
   ]
  },
  {
   "cell_type": "code",
   "execution_count": 8,
   "metadata": {},
   "outputs": [
    {
     "name": "stdout",
     "output_type": "stream",
     "text": [
      "0 1 2 3 4 5 "
     ]
    }
   ],
   "source": [
    "#include <stdio.h>\n",
    "\n",
    "int main()\n",
    "{\n",
    "    int i = 0;\n",
    "    start: // a label start here\n",
    "    printf (\"%d \" ,i );\n",
    "    ++i;\n",
    "    if (i <=5)\n",
    "        goto start;\n",
    "}"
   ]
  },
  {
   "cell_type": "markdown",
   "metadata": {},
   "source": [
    "Mind that if you use *goto* bad things happen!\n",
    "\n",
    "![image](goto.png)\n",
    "\n",
    "The image has been borrowed from the XKCD comic web page: https://xkcd.com/292/"
   ]
  },
  {
   "cell_type": "markdown",
   "metadata": {},
   "source": [
    "## while (condition) {instructions}\n",
    "first check the condition, than wxecute"
   ]
  },
  {
   "cell_type": "code",
   "execution_count": 9,
   "metadata": {},
   "outputs": [
    {
     "name": "stdout",
     "output_type": "stream",
     "text": [
      "0 1 2 3 4 5 6 7 8 9 \n",
      " After a While \n"
     ]
    }
   ],
   "source": [
    "#include <stdio.h>\n",
    "\n",
    "int main()\n",
    "{\n",
    "    int i=0;\n",
    "    while(i < 10)\n",
    "    {\n",
    "        printf (\"%d \" ,i );\n",
    "        ++i;\n",
    "    }\n",
    "    printf(\"\\n After a While \\n\");\n",
    "}"
   ]
  },
  {
   "cell_type": "code",
   "execution_count": 11,
   "metadata": {},
   "outputs": [
    {
     "name": "stdout",
     "output_type": "stream",
     "text": [
      "0 1 2 3 4 5 6 7 8 9 10 \n",
      " After a While \n"
     ]
    }
   ],
   "source": [
    "#include <stdio.h>\n",
    "\n",
    "int main()\n",
    "{\n",
    "    int i=0;\n",
    "    while(i <= 10)\n",
    "    {\n",
    "        printf (\"%d \" ,i );\n",
    "        ++i;\n",
    "    }\n",
    "    printf(\"\\n After a While \\n\");\n",
    "}"
   ]
  },
  {
   "cell_type": "code",
   "execution_count": 15,
   "metadata": {},
   "outputs": [
    {
     "name": "stdout",
     "output_type": "stream",
     "text": [
      "1 2 3 4 5 6 7 8 9 10 \n",
      " After a While \n"
     ]
    }
   ],
   "source": [
    "#include <stdio.h>\n",
    "\n",
    "int main()\n",
    "{\n",
    "    int i=0;\n",
    "    while(i < 10)\n",
    "    {\n",
    "        i++;\n",
    "        printf (\"%d \" ,i );\n",
    "    }\n",
    "    printf(\"\\n After a While \\n\");\n",
    "}"
   ]
  },
  {
   "cell_type": "markdown",
   "metadata": {},
   "source": [
    "## do {instructions} while (condition)\n",
    "Execute at least once, even if condition is not meet"
   ]
  },
  {
   "cell_type": "code",
   "execution_count": 16,
   "metadata": {
    "scrolled": true
   },
   "outputs": [
    {
     "name": "stdout",
     "output_type": "stream",
     "text": [
      "0 1 2 3 4 5 6 7 8 9 "
     ]
    }
   ],
   "source": [
    "#include <stdio.h>\n",
    "\n",
    "int main()\n",
    "{\n",
    "    int i=0;\n",
    "    do\n",
    "    {\n",
    "        printf (\"%d \" ,i );\n",
    "        ++i;\n",
    "    }\n",
    "    while(i < 10);\n",
    "}"
   ]
  },
  {
   "cell_type": "code",
   "execution_count": 17,
   "metadata": {},
   "outputs": [
    {
     "name": "stdout",
     "output_type": "stream",
     "text": [
      "100 "
     ]
    }
   ],
   "source": [
    "#include <stdio.h>\n",
    "\n",
    "int main()\n",
    "{\n",
    "    int i=100;\n",
    "    do\n",
    "    {\n",
    "        printf (\"%d \" ,i );\n",
    "        ++i;\n",
    "    }\n",
    "    while(i < 10);\n",
    "}"
   ]
  },
  {
   "cell_type": "markdown",
   "metadata": {},
   "source": [
    "## Example:\n",
    "Write a program that write even (or odd) numbers from 0 up to 50. Use while() and do..while() loops."
   ]
  },
  {
   "cell_type": "code",
   "execution_count": 2,
   "metadata": {},
   "outputs": [
    {
     "name": "stdout",
     "output_type": "stream",
     "text": [
      "I see even numbers!\n",
      "0 2 4 6 8 10 12 14 16 18 20 22 24 26 28 30 32 34 36 38 40 42 44 46 48 50 "
     ]
    }
   ],
   "source": [
    "#include <stdio.h>\n",
    "\n",
    "int main()\n",
    "{\n",
    "    int i = 0;\n",
    "    printf(\"I see even numbers!\\n\");\n",
    "    while(i <= 50)\n",
    "    {\n",
    "        if(i%2 == 0)\n",
    "        {\n",
    "            printf(\"%d \", i);\n",
    "        }\n",
    "        ++i;\n",
    "    }\n",
    "}"
   ]
  },
  {
   "cell_type": "markdown",
   "metadata": {},
   "source": [
    "Do the same for odd numbers, do..while()"
   ]
  },
  {
   "cell_type": "code",
   "execution_count": 4,
   "metadata": {},
   "outputs": [
    {
     "name": "stdout",
     "output_type": "stream",
     "text": [
      "I see odd numbers!\n",
      "1 3 5 7 9 11 13 15 17 19 21 23 25 27 29 31 33 35 37 39 41 43 45 47 49 "
     ]
    }
   ],
   "source": [
    "#include <stdio.h>\n",
    "\n",
    "int main()\n",
    "{\n",
    "    int i = 0;\n",
    "    printf(\"I see odd numbers!\\n\");\n",
    "    do\n",
    "    {\n",
    "        if(i%2)\n",
    "        {\n",
    "            printf(\"%d \", i);\n",
    "        }\n",
    "        ++i;\n",
    "    }\n",
    "    while(i<50);\n",
    "}"
   ]
  },
  {
   "cell_type": "markdown",
   "metadata": {},
   "source": [
    "Yet another way to skin the cat:"
   ]
  },
  {
   "cell_type": "code",
   "execution_count": 5,
   "metadata": {},
   "outputs": [
    {
     "name": "stdout",
     "output_type": "stream",
     "text": [
      "I see even numbers!\n",
      "0 2 4 6 8 10 12 14 16 18 20 22 24 26 28 30 32 34 36 38 40 42 44 46 48 50 "
     ]
    }
   ],
   "source": [
    "#include <stdio.h>\n",
    "\n",
    "int main()\n",
    "{\n",
    "    int i = 0;\n",
    "    printf(\"I see even numbers!\\n\");\n",
    "    while(i <= 50)\n",
    "    {\n",
    "        printf(\"%d \", i);\n",
    "        i+=2;\n",
    "    }\n",
    "}"
   ]
  },
  {
   "cell_type": "markdown",
   "metadata": {},
   "source": [
    "## for( initialization; condition; incrementation) {instructions}\n",
    "* The initialization step is executed first, and only once\n",
    "* Condition is checked before execution. Will not execute if initially condition is false!\n",
    "* Incrementation is performed after the instructions are executed, as a last step\n",
    "* initialization; condition; incrementation can be left out, as long as semicolons ; are in. I.e: for(;;) will work and result in an infinite loop"
   ]
  },
  {
   "cell_type": "code",
   "execution_count": 6,
   "metadata": {},
   "outputs": [
    {
     "name": "stdout",
     "output_type": "stream",
     "text": [
      "0 1 2 3 4 5 6 7 8 9 "
     ]
    }
   ],
   "source": [
    "#include <stdio.h>\n",
    "\n",
    "int main()\n",
    "{\n",
    "    for(int i=0; i<10; ++i)\n",
    "    {\n",
    "        printf (\"%d \" ,i );\n",
    "    }\n",
    "}"
   ]
  },
  {
   "cell_type": "code",
   "execution_count": 15,
   "metadata": {},
   "outputs": [],
   "source": [
    "#include <stdio.h>\n",
    "\n",
    "int main()\n",
    "{\n",
    "    int i = 0;\n",
    "    for( ; 0; )\n",
    "    {\n",
    "        printf (\"%d \" ,i );\n",
    "        ++i;\n",
    "    }\n",
    "}"
   ]
  },
  {
   "cell_type": "markdown",
   "metadata": {},
   "source": [
    "Mind where variable is declared!"
   ]
  },
  {
   "cell_type": "code",
   "execution_count": 16,
   "metadata": {},
   "outputs": [
    {
     "name": "stderr",
     "output_type": "stream",
     "text": [
      "/tmp/tmp2g__d4j1.c: In function ‘main’:\n",
      "/tmp/tmp2g__d4j1.c:9:25: error: ‘i’ undeclared (first use in this function)\n",
      "    9 |     printf (\" | i=%d \" ,i );\n",
      "      |                         ^\n",
      "/tmp/tmp2g__d4j1.c:9:25: note: each undeclared identifier is reported only once for each function it appears in\n",
      "[C kernel] GCC exited with code 1, the executable will not be executed"
     ]
    }
   ],
   "source": [
    "#include <stdio.h>\n",
    "\n",
    "int main()\n",
    "{\n",
    "    for(int i=0; i<10; ++i)\n",
    "    {\n",
    "        printf (\"i=%d \" ,i );\n",
    "    }\n",
    "    printf (\" | i=%d \" ,i );\n",
    "}"
   ]
  },
  {
   "cell_type": "code",
   "execution_count": 17,
   "metadata": {},
   "outputs": [
    {
     "name": "stdout",
     "output_type": "stream",
     "text": [
      "i=0 i=1 i=2 i=3 i=4 i=5 i=6 i=7 i=8 i=9  | i=9 "
     ]
    }
   ],
   "source": [
    "#include <stdio.h>\n",
    "\n",
    "int main()\n",
    "{\n",
    "    int j = 0;\n",
    "    for(int i=0; i<10; ++i)\n",
    "    {\n",
    "        printf (\"i=%d \" ,i );\n",
    "        j = i;\n",
    "    }\n",
    "    printf (\" | i=%d \" ,j );\n",
    "}"
   ]
  },
  {
   "cell_type": "markdown",
   "metadata": {},
   "source": [
    "An example of declaration before the loop"
   ]
  },
  {
   "cell_type": "code",
   "execution_count": 19,
   "metadata": {},
   "outputs": [
    {
     "name": "stdout",
     "output_type": "stream",
     "text": [
      "i=0 i=1 i=2 i=3 i=4 i=5 i=6 i=7 i=8 i=9  | i=10 "
     ]
    }
   ],
   "source": [
    "#include <stdio.h>\n",
    "\n",
    "int main()\n",
    "{\n",
    "    int i = 0;\n",
    "    for(i=0; i<10; ++i) // but also  for( ; i<10; ++i)\n",
    "    {\n",
    "        printf (\"i=%d \" ,i );\n",
    "    }\n",
    "    printf (\" | i=%d \" ,i );\n",
    "}"
   ]
  },
  {
   "cell_type": "code",
   "execution_count": 21,
   "metadata": {},
   "outputs": [
    {
     "name": "stdout",
     "output_type": "stream",
     "text": [
      "i=0 i=1 i=2 i=3 i=4 i=5 i=6 i=7 i=8 i=9  | i=0 "
     ]
    }
   ],
   "source": [
    "#include <stdio.h>\n",
    "\n",
    "int main()\n",
    "{\n",
    "    int i = 0;\n",
    "    for(int i=0; i<10; ++i) // but also  for( ; i<10; ++i)\n",
    "    {\n",
    "        printf (\"i=%d \" ,i );\n",
    "    }\n",
    "    printf (\" | i=%d \" ,i );\n",
    "}"
   ]
  },
  {
   "cell_type": "markdown",
   "metadata": {},
   "source": [
    "## Nested loops\n",
    "a for in a for"
   ]
  },
  {
   "cell_type": "markdown",
   "metadata": {},
   "source": [
    "Write a program that prints a 4x5 (4 rows and 5 collumns) array. $A_{ij} = i+j$"
   ]
  },
  {
   "cell_type": "code",
   "execution_count": 23,
   "metadata": {},
   "outputs": [
    {
     "name": "stdout",
     "output_type": "stream",
     "text": [
      "0\t1\t2\t3\t4\t\n",
      "1\t2\t3\t4\t5\t\n",
      "2\t3\t4\t5\t6\t\n",
      "3\t4\t5\t6\t7\t\n"
     ]
    }
   ],
   "source": [
    "#include <stdio.h>\n",
    "\n",
    "int main()\n",
    "{\n",
    "    for(int i=0; i<4; ++i) \n",
    "    {\n",
    "        for(int j=0; j<5; ++j) // no brackets since only a single instruction\n",
    "            printf (\"%d\\t\" , i+j);\n",
    "        printf(\"\\n\"); // new line\n",
    "    }\n",
    "}"
   ]
  },
  {
   "cell_type": "markdown",
   "metadata": {},
   "source": [
    "## Infinite loops\n",
    "Sometimes (intentionally or not) an infinite loop is created (see one of the examples below)\n",
    "* while(1) {}\n",
    "* for(;;) {}"
   ]
  },
  {
   "cell_type": "markdown",
   "metadata": {},
   "source": [
    "## Flow control\n",
    "i.e. how to manipulate execution of a loop, stop it, or skip the remaining instructions"
   ]
  },
  {
   "cell_type": "markdown",
   "metadata": {},
   "source": [
    "### break\n",
    "The loop is terminated and the code following the loop is executed"
   ]
  },
  {
   "cell_type": "code",
   "execution_count": 32,
   "metadata": {},
   "outputs": [
    {
     "name": "stdout",
     "output_type": "stream",
     "text": [
      "iteration 0 started Iteration 0 ended\n",
      "iteration 1 started Iteration 1 ended\n",
      "iteration 2 started Iteration 2 ended\n",
      "iteration 3 started \n",
      "The loop has ended\n"
     ]
    }
   ],
   "source": [
    "#include <stdio.h>\n",
    "\n",
    "int main()\n",
    "{\n",
    "    for(int i=0; i<100; ++i)\n",
    "    {\n",
    "        printf(\"iteration %d started \", i);\n",
    "        if(i%3 == 0 && i > 0)\n",
    "        {\n",
    "            printf(\"\\n\");\n",
    "            break;\n",
    "        }\n",
    "        printf(\"Iteration %d ended\\n\", i);\n",
    "    }\n",
    "    printf(\"The loop has ended\\n\");\n",
    "}"
   ]
  },
  {
   "cell_type": "markdown",
   "metadata": {},
   "source": [
    "Here a program that prints numbers, but stops as soon as the first number dividable by 7, that is not 7, is encountered."
   ]
  },
  {
   "cell_type": "code",
   "execution_count": 45,
   "metadata": {},
   "outputs": [
    {
     "name": "stdout",
     "output_type": "stream",
     "text": [
      "0 1 2 3 4 5 6 7 8 9 10 11 12 13 "
     ]
    }
   ],
   "source": [
    "#include <stdio.h>\n",
    "\n",
    "int main()\n",
    "{\n",
    "    for(int i=0; ; ++i)\n",
    "    {\n",
    "        if(i%7 == 0 && i>7)\n",
    "        {\n",
    "            break;\n",
    "        }\n",
    "        printf(\"%d \", i);\n",
    "    }\n",
    "}"
   ]
  },
  {
   "cell_type": "markdown",
   "metadata": {},
   "source": [
    "### continue\n",
    "The loop execution is stooped, and started from the beginning"
   ]
  },
  {
   "cell_type": "code",
   "execution_count": 51,
   "metadata": {},
   "outputs": [
    {
     "name": "stdout",
     "output_type": "stream",
     "text": [
      "1 2 4 5 7 8 "
     ]
    }
   ],
   "source": [
    "#include <stdio.h>\n",
    "\n",
    "int main()\n",
    "{\n",
    "    for(int i=0; i<10; ++i)\n",
    "    {\n",
    "        if(i%3 == 0)\n",
    "            continue;\n",
    "        printf(\"%d \", i);\n",
    "    }\n",
    "}"
   ]
  },
  {
   "cell_type": "markdown",
   "metadata": {},
   "source": [
    "Similar as before, print numbers from 0 up to 50, but skip numbers dividable by 7."
   ]
  },
  {
   "cell_type": "code",
   "execution_count": 55,
   "metadata": {
    "scrolled": true
   },
   "outputs": [
    {
     "name": "stdout",
     "output_type": "stream",
     "text": [
      "\n",
      "1 2 3 4 5 6 \n",
      "8 9 10 11 12 13 \n",
      "15 16 17 18 19 20 \n",
      "22 23 24 25 26 27 \n",
      "29 30 31 32 33 34 \n",
      "36 37 38 39 40 41 \n",
      "43 44 45 46 47 48 \n",
      "50 "
     ]
    }
   ],
   "source": [
    "#include <stdio.h>\n",
    "\n",
    "int main()\n",
    "{\n",
    "    for(int i=0; i<=50; ++i)\n",
    "    {\n",
    "        if(i%7 == 0)\n",
    "        {\n",
    "            printf(\"\\n\");\n",
    "            continue;\n",
    "        }\n",
    "        printf(\"%d \", i);\n",
    "    }\n",
    "}"
   ]
  },
  {
   "cell_type": "code",
   "execution_count": 56,
   "metadata": {},
   "outputs": [
    {
     "name": "stdout",
     "output_type": "stream",
     "text": [
      "1 2 4 5 7 8 10 11 13 14 16 17 19 20 22 23 25 26 28 29 "
     ]
    }
   ],
   "source": [
    "#include <stdio.h>\n",
    "\n",
    "int main()\n",
    "{\n",
    "    for(int i=0; i<30; ++i)\n",
    "    {\n",
    "        if (i%3 == 0)\n",
    "        {\n",
    "            //printing ? \n",
    "            continue;\n",
    "        }\n",
    "        printf(\"%d \", i);\n",
    "    }\n",
    "}"
   ]
  },
  {
   "cell_type": "markdown",
   "metadata": {},
   "source": [
    "## Examples\n",
    "### Print odd or even numbers\n",
    "Take 1: Use **for** loop to print even numbers"
   ]
  },
  {
   "cell_type": "code",
   "execution_count": 58,
   "metadata": {},
   "outputs": [
    {
     "name": "stdout",
     "output_type": "stream",
     "text": [
      "1 3 5 7 9 11 13 15 17 19 21 23 25 27 29 31 33 35 37 39 41 43 45 47 49 51 53 55 57 59 61 63 65 67 69 71 73 75 77 79 81 83 85 87 89 91 93 95 97 99 "
     ]
    }
   ],
   "source": [
    "#include <stdio.h>\n",
    "\n",
    "int main()\n",
    "{\n",
    "    for(int i=0; i<100; i+=2)\n",
    "    {\n",
    "        printf(\"%d \", i);\n",
    "    }\n",
    "}"
   ]
  },
  {
   "cell_type": "markdown",
   "metadata": {},
   "source": [
    "Take 2: use **for** and **continue** for even numbers"
   ]
  },
  {
   "cell_type": "code",
   "execution_count": 63,
   "metadata": {},
   "outputs": [
    {
     "name": "stdout",
     "output_type": "stream",
     "text": [
      "0 2 4 6 8 10 12 14 16 18 20 22 24 26 28 30 32 34 36 38 40 42 44 46 48 50 52 54 56 58 60 62 64 66 68 70 72 74 76 78 80 82 84 86 88 90 92 94 96 98 "
     ]
    }
   ],
   "source": [
    "#include <stdio.h>\n",
    "\n",
    "int main()\n",
    "{\n",
    "    for(int i=0; i<100; ++i)\n",
    "    {\n",
    "        if(i%2 == 1)\n",
    "            continue;\n",
    "        printf(\"%d \", i);\n",
    "    }\n",
    "}"
   ]
  },
  {
   "cell_type": "markdown",
   "metadata": {},
   "source": [
    "**This is an example from a test**\n",
    "\n",
    "Write a complete program printing odd numbers from 0 to 50, but not those dividable by 9. The program"
   ]
  },
  {
   "cell_type": "code",
   "execution_count": 64,
   "metadata": {},
   "outputs": [
    {
     "name": "stdout",
     "output_type": "stream",
     "text": [
      "1 3 5 7 11 13 15 17 19 21 23 25 29 31 33 35 37 39 41 43 47 49 "
     ]
    }
   ],
   "source": [
    "#include <stdio.h>\n",
    "\n",
    "int main()\n",
    "{\n",
    "    for(int i=1; i<50; i+=2)\n",
    "    {\n",
    "        if(i%9 != 0)\n",
    "            printf(\"%d \", i);\n",
    "    }\n",
    "}"
   ]
  },
  {
   "cell_type": "markdown",
   "metadata": {},
   "source": [
    "An alternative approach "
   ]
  },
  {
   "cell_type": "code",
   "execution_count": 65,
   "metadata": {},
   "outputs": [
    {
     "name": "stdout",
     "output_type": "stream",
     "text": [
      "1 3 5 7 11 13 15 17 19 21 23 25 29 31 33 35 37 39 41 43 47 49 "
     ]
    }
   ],
   "source": [
    "#include <stdio.h>\n",
    "\n",
    "int main()\n",
    "{\n",
    "    for(int i=0; i<50; ++i)\n",
    "    {\n",
    "        if(i%2 == 0) continue;\n",
    "        if(i%9 != 0)\n",
    "            printf(\"%d \", i);\n",
    "    }\n",
    "}"
   ]
  },
  {
   "cell_type": "markdown",
   "metadata": {},
   "source": [
    "### Write a winning game"
   ]
  },
  {
   "cell_type": "code",
   "execution_count": null,
   "metadata": {},
   "outputs": [],
   "source": [
    "#include <stdio.h>\n",
    "\n",
    "int main()\n",
    "{\n",
    "    while(1)\n",
    "    {  \n",
    "        int uv = 0;\n",
    "        printf(\"Give me a value that is not greater than 10\\n\");\n",
    "        scanf(\"%d\", &uv);\n",
    "        int aiv = uv + 1;\n",
    "        if(uv > 10)\n",
    "        {\n",
    "            printf(\"You cheat, I win!!\\n\");\n",
    "            break;\n",
    "        }\n",
    "        printf(\"My is greater I win!!\\n\");\n",
    "        printf(\"%d %d\\n\", uv, aiv);\n",
    "    }\n",
    "}"
   ]
  },
  {
   "cell_type": "markdown",
   "metadata": {},
   "source": [
    "### Fibonaci sequence\n",
    "Write a program that prints the [Fibonaci numbers](https://en.wikipedia.org/wiki/Fibonacci_number), those are numbers that belong ot a Fibonaci sequence, i.e. each number in a sequence after the first two is sum of the two preceding ones\n",
    "\n",
    "$n_0 = 0$\n",
    "\n",
    "$n_1 = 1$\n",
    "\n",
    "...\n",
    "\n",
    "$n_i = n_{i-1}+n_{i-2}$"
   ]
  },
  {
   "cell_type": "code",
   "execution_count": 71,
   "metadata": {
    "scrolled": false
   },
   "outputs": [
    {
     "name": "stdout",
     "output_type": "stream",
     "text": [
      "n0=0\n",
      "n1=1\n",
      "n2=1\n",
      "n3=2\n",
      "n4=3\n",
      "n5=5\n",
      "n6=8\n",
      "n7=13\n",
      "n8=21\n",
      "n9=34\n"
     ]
    }
   ],
   "source": [
    "#include <stdio.h>\n",
    "\n",
    "int main()\n",
    "{\n",
    "    int n0 = 0;\n",
    "    int n1 = 1;\n",
    "    int n2;\n",
    "    \n",
    "    printf(\"n0=%d\\n\", n0);\n",
    "    printf(\"n1=%d\\n\", n1);\n",
    "    for(int i=2; i<10; ++i)\n",
    "    {\n",
    "        n2 = n1 + n0;\n",
    "        printf(\"n%d=%d\\n\", i, n2);\n",
    "        n0 = n1;\n",
    "        n1 = n2;\n",
    "    }\n",
    "}"
   ]
  },
  {
   "cell_type": "markdown",
   "metadata": {},
   "source": [
    "## Fourier expansion of a square wave\n",
    "Write a program, calculating the Fourier expansion of a square wave.\n",
    "\n",
    "$f(x) = \\frac{4}{\\pi} \\sum^N_{n=1}\\frac{1}{n}sin(\\frac{n\\pi x}{L})$\n",
    "\n",
    "Print values of the formula for a set of values from 0 uo to L\n"
   ]
  },
  {
   "cell_type": "code",
   "execution_count": 9,
   "metadata": {},
   "outputs": [
    {
     "name": "stdout",
     "output_type": "stream",
     "text": [
      "x=0.000000 y=0.000000\n",
      "x=0.010000 y=1.196416\n",
      "x=0.020000 y=1.196537\n",
      "x=0.030000 y=1.188364\n",
      "x=0.040000 y=1.178112\n",
      "x=0.050000 y=1.167026\n",
      "x=0.060000 y=1.155524\n",
      "x=0.070000 y=1.143785\n",
      "x=0.080000 y=1.131896\n",
      "x=0.090000 y=1.119908\n",
      "x=0.100000 y=1.107851\n",
      "x=0.110000 y=1.095743\n",
      "x=0.120000 y=1.083598\n",
      "x=0.130000 y=1.071423\n",
      "x=0.140000 y=1.059226\n",
      "x=0.150000 y=1.047010\n",
      "x=0.160000 y=1.034779\n",
      "x=0.170000 y=1.022536\n",
      "x=0.180000 y=1.010283\n",
      "x=0.190000 y=0.998021\n",
      "x=0.200000 y=0.985752\n",
      "x=0.210000 y=0.973476\n",
      "x=0.220000 y=0.961196\n",
      "x=0.230000 y=0.948910\n",
      "x=0.240000 y=0.936621\n",
      "x=0.250000 y=0.924327\n",
      "x=0.260000 y=0.912031\n",
      "x=0.270000 y=0.899732\n",
      "x=0.280000 y=0.887430\n",
      "x=0.290000 y=0.875126\n",
      "x=0.300000 y=0.862820\n",
      "x=0.310000 y=0.850512\n",
      "x=0.320000 y=0.838202\n",
      "x=0.330000 y=0.825891\n",
      "x=0.340000 y=0.813578\n",
      "x=0.350000 y=0.801265\n",
      "x=0.360000 y=0.788950\n",
      "x=0.370000 y=0.776634\n",
      "x=0.380000 y=0.764317\n",
      "x=0.390000 y=0.751999\n",
      "x=0.400000 y=0.739680\n",
      "x=0.410000 y=0.727360\n",
      "x=0.420000 y=0.715040\n",
      "x=0.430000 y=0.702719\n",
      "x=0.440000 y=0.690398\n",
      "x=0.450000 y=0.678076\n",
      "x=0.460000 y=0.665753\n",
      "x=0.470000 y=0.653430\n",
      "x=0.480000 y=0.641106\n",
      "x=0.490000 y=0.628782\n",
      "x=0.500000 y=0.616458\n",
      "x=0.510000 y=0.604133\n",
      "x=0.520000 y=0.591807\n",
      "x=0.530000 y=0.579482\n",
      "x=0.540000 y=0.567156\n",
      "x=0.550000 y=0.554830\n",
      "x=0.560000 y=0.542503\n",
      "x=0.570000 y=0.530177\n",
      "x=0.580000 y=0.517850\n",
      "x=0.590000 y=0.505522\n",
      "x=0.600000 y=0.493195\n",
      "x=0.610000 y=0.480867\n",
      "x=0.620000 y=0.468539\n",
      "x=0.630000 y=0.456211\n",
      "x=0.640000 y=0.443883\n",
      "x=0.650000 y=0.431555\n",
      "x=0.660000 y=0.419226\n",
      "x=0.670000 y=0.406897\n",
      "x=0.680000 y=0.394568\n",
      "x=0.690000 y=0.382239\n",
      "x=0.700000 y=0.369910\n",
      "x=0.710000 y=0.357581\n",
      "x=0.720000 y=0.345251\n",
      "x=0.730000 y=0.332922\n",
      "x=0.740000 y=0.320592\n",
      "x=0.750000 y=0.308262\n",
      "x=0.760000 y=0.295933\n",
      "x=0.770000 y=0.283603\n",
      "x=0.780000 y=0.271273\n",
      "x=0.790000 y=0.258943\n",
      "x=0.800000 y=0.246613\n",
      "x=0.810000 y=0.234282\n",
      "x=0.820000 y=0.221952\n",
      "x=0.830000 y=0.209622\n",
      "x=0.840000 y=0.197291\n",
      "x=0.850000 y=0.184961\n",
      "x=0.860000 y=0.172630\n",
      "x=0.870000 y=0.160300\n",
      "x=0.880000 y=0.147969\n",
      "x=0.890000 y=0.135639\n",
      "x=0.900000 y=0.123308\n",
      "x=0.910000 y=0.110977\n",
      "x=0.920000 y=0.098646\n",
      "x=0.930000 y=0.086316\n",
      "x=0.940000 y=0.073985\n",
      "x=0.950000 y=0.061654\n",
      "x=0.960000 y=0.049323\n",
      "x=0.970000 y=0.036992\n",
      "x=0.980000 y=0.024662\n",
      "x=0.990000 y=0.012331\n",
      "x=1.000000 y=-0.000000\n",
      "My program\n"
     ]
    }
   ],
   "source": [
    "//%cflags:-lm\n",
    "\n",
    "#include <stdio.h>\n",
    "#include <math.h>\n",
    "#define PI 4.0 * atan(1.0)\n",
    "\n",
    "double L;\n",
    "\n",
    "double trig_fun(double x, int N)\n",
    "{\n",
    "    double s = 0;\n",
    "    for(int n=1; n<=N; ++n)\n",
    "    {\n",
    "        s += 1.0/n * sin((n * PI * x)/L);\n",
    "    }\n",
    "    return 4.0 / PI * s;\n",
    "}\n",
    "\n",
    "int main()\n",
    "{\n",
    "    double x = 0.0;\n",
    "    double h = 0.01;\n",
    "    L = 1;\n",
    "    for(int i=0; i<101; ++i)\n",
    "    {\n",
    "        printf(\"x=%lf y=%lf\\n\", x, trig_fun(x, 10));\n",
    "        x += h;\n",
    "    }\n",
    "    \n",
    "    printf(\"My program\\n\");\n",
    "}"
   ]
  },
  {
   "cell_type": "code",
   "execution_count": 7,
   "metadata": {},
   "outputs": [
    {
     "name": "stdout",
     "output_type": "stream",
     "text": [
      "0.000000 0.000000\n",
      "0.010204 0.491334\n",
      "0.020408 0.913068\n",
      "0.030612 1.212942\n",
      "0.040816 1.368223\n",
      "0.051020 1.389286\n",
      "0.061224 1.313828\n",
      "0.071429 1.193940\n",
      "0.081633 1.080353\n",
      "0.091837 1.008797\n",
      "0.102041 0.992470\n",
      "0.112245 1.022311\n",
      "0.122449 1.074179\n",
      "0.132653 1.119842\n",
      "0.142857 1.137709\n",
      "0.153061 1.119735\n",
      "0.163265 1.072573\n",
      "0.173469 1.013244\n",
      "0.183673 0.961491\n",
      "0.193878 0.931970\n",
      "0.204082 0.929163\n",
      "0.214286 0.946663\n",
      "0.224490 0.970675\n",
      "0.234694 0.986050\n",
      "0.244898 0.982321\n",
      "0.255102 0.957431\n",
      "0.265306 0.917889\n",
      "0.275510 0.875566\n",
      "0.285714 0.842610\n",
      "0.295918 0.826610\n",
      "0.306122 0.827868\n",
      "0.316327 0.839746\n",
      "0.326531 0.851731\n",
      "0.336735 0.853872\n",
      "0.346939 0.840738\n",
      "0.357143 0.813351\n",
      "0.367347 0.778439\n",
      "0.377551 0.745438\n",
      "0.387755 0.722557\n",
      "0.397959 0.713521\n",
      "0.408163 0.716272\n",
      "0.418367 0.724054\n",
      "0.428571 0.728353\n",
      "0.438776 0.722418\n",
      "0.448980 0.703927\n",
      "0.459184 0.675765\n",
      "0.469388 0.644650\n",
      "0.479592 0.618263\n",
      "0.489796 0.602092\n",
      "0.500000 0.597264\n",
      "0.510204 0.600236\n",
      "0.520408 0.604388\n",
      "0.530612 0.602818\n",
      "0.540816 0.591172\n",
      "0.551020 0.569348\n",
      "0.561224 0.541416\n",
      "0.571429 0.513844\n",
      "0.581633 0.492779\n",
      "0.591837 0.481546\n",
      "0.602041 0.479351\n",
      "0.612245 0.481707\n",
      "0.622449 0.482357\n",
      "0.632653 0.475888\n",
      "0.642857 0.459927\n",
      "0.653061 0.436057\n",
      "0.663265 0.409084\n",
      "0.673469 0.384999\n",
      "0.683673 0.368493\n",
      "0.693878 0.361049\n",
      "0.704082 0.360390\n",
      "0.714286 0.361479\n",
      "0.724490 0.358638\n",
      "0.734694 0.347897\n",
      "0.744898 0.328607\n",
      "0.755102 0.303657\n",
      "0.765306 0.278233\n",
      "0.775510 0.257653\n",
      "0.785714 0.245165\n",
      "0.795918 0.240636\n",
      "0.806122 0.240640\n",
      "0.816327 0.239916\n",
      "0.826531 0.233554\n",
      "0.836735 0.219025\n",
      "0.846939 0.197205\n",
      "0.857143 0.171980\n",
      "0.867347 0.148618\n",
      "0.877551 0.131575\n",
      "0.887755 0.122659\n",
      "0.897959 0.120297\n",
      "0.908163 0.120207\n",
      "0.918367 0.117185\n",
      "0.928571 0.107272\n",
      "0.938776 0.089380\n",
      "0.948980 0.065742\n",
      "0.959184 0.040967\n",
      "0.969388 0.020127\n",
      "0.979592 0.006646\n",
      "0.989796 0.000886\n",
      "1.000000 0.000000\n"
     ]
    }
   ],
   "source": [
    "//%cflags:-lm\n",
    "#include <stdio.h>\n",
    "#include <math.h>\n",
    "#define PI 4.0 * atan(1.0)\n",
    "\n",
    "//This is a prototype of a function\n",
    "double trig_sq(double, double, int);\n",
    "\n",
    "int main(){\n",
    "    double L = 1.0;\n",
    "    int n = 99;\n",
    "    int N = 20;\n",
    "    double h = L / (n-1);\n",
    "    double x = 0;\n",
    "    double y;\n",
    "    \n",
    "    for(int i=0; i<n; ++i)\n",
    "    {\n",
    "        y = trig_sq(x, L, N);\n",
    "        printf(\"%lf %lf\\n\", x, y);\n",
    "        x += h;\n",
    "    }\n",
    "}\n",
    "\n",
    "double trig_sq(double x, double L, int N)\n",
    "{\n",
    "    double res = 0;\n",
    "    for(int n=1; n<=N; ++n)\n",
    "    {\n",
    "        res += 1.0 / (double)n * sin( n * PI * x / L );\n",
    "    }\n",
    "    return 4.0 / PI * res;\n",
    "}"
   ]
  },
  {
   "cell_type": "code",
   "execution_count": null,
   "metadata": {
    "scrolled": true
   },
   "outputs": [],
   "source": [
    "//%cflags:-lm\n",
    "\n",
    "#include <stdio.h>\n",
    "#include <math.h>\n",
    "#define PI 4.0*atan(1.0)\n",
    "\n",
    "double fun(double x, int N, double L)\n",
    "{\n",
    "    double result = 0.0;\n",
    "    for(int i=1; i<=N; ++i)\n",
    "    {\n",
    "        result += 1.0/i * sin((i*PI*x)/L);\n",
    "    }\n",
    "    return 4.0 / PI * result;\n",
    "}\n",
    "\n",
    "int main()\n",
    "{\n",
    "    int N = 2;\n",
    "    double L = 2*PI;\n",
    "    double x0 = 0, x1 = L;\n",
    "    double h = (x1-x0)/99;\n",
    "    \n",
    "    for(int i=0; i<100; ++i)\n",
    "    {\n",
    "        double x = x0 + i*h;\n",
    "        double y = fun(x, N, L);\n",
    "        printf(\"x=%lf y=%lf\\n\", x, y);\n",
    "    }\n",
    "}\n"
   ]
  },
  {
   "cell_type": "code",
   "execution_count": null,
   "metadata": {},
   "outputs": [],
   "source": []
  }
 ],
 "metadata": {
  "kernelspec": {
   "display_name": "C",
   "language": "c",
   "name": "c"
  },
  "language_info": {
   "file_extension": ".c",
   "mimetype": "text/plain",
   "name": "c"
  }
 },
 "nbformat": 4,
 "nbformat_minor": 2
}
