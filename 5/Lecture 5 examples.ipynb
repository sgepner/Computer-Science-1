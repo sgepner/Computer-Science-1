{
 "cells": [
  {
   "cell_type": "markdown",
   "metadata": {},
   "source": [
    "# Loops,\n",
    "and code repetition.  \n",
    "Often some activity needs to be repeated many times. Be it a recursive formula, we wish to calculate, or periodic checking of some variable state.  \n",
    "One of the fundamental tasks is to write code statements that allow for consecutive, repetitive execution of code. In **all** programming languages this is achieved with **loops**. Today we will get familiar with the syntax of loop in **C**:\n",
    "* We will start with **goto** (but we hope to forever forget this one)\n",
    "* *while* and *do while*\n",
    "* and my personal favorite, the *for* loop"
   ]
  },
  {
   "cell_type": "markdown",
   "metadata": {},
   "source": [
    "## Example:\n",
    "Write a code that prints 100 consecutive integers starting with 0.:"
   ]
  },
  {
   "cell_type": "code",
   "execution_count": null,
   "metadata": {},
   "outputs": [],
   "source": [
    "#include <stdio.h>\n",
    "\n",
    "int mian()\n",
    "{\n",
    "    \n",
    "}"
   ]
  },
  {
   "cell_type": "markdown",
   "metadata": {},
   "source": [
    "## goto label\n",
    "* Provides a jump to from goto to a labeled statment\n",
    "* **highly discouraged**\n",
    "* and is a mark of poor programming skills"
   ]
  },
  {
   "cell_type": "code",
   "execution_count": null,
   "metadata": {},
   "outputs": [],
   "source": [
    "#include <stdio.h>\n",
    "\n",
    "int main()\n",
    "{\n",
    "    int i =0;\n",
    "    start :\n",
    "    printf (\"%d \" ,i );\n",
    "    ++i ;\n",
    "    if (i <=5) goto start;\n",
    "}"
   ]
  },
  {
   "cell_type": "markdown",
   "metadata": {},
   "source": [
    "Mind that if you use *goto* bad things happen!\n",
    "\n",
    "![image](goto.png)\n",
    "\n",
    "The image has been borrowed from the XKCD comic web page: https://xkcd.com/292/"
   ]
  },
  {
   "cell_type": "markdown",
   "metadata": {},
   "source": [
    "## while (condition) {instructions}\n",
    "first check the condition, than wxecute"
   ]
  },
  {
   "cell_type": "code",
   "execution_count": null,
   "metadata": {},
   "outputs": [],
   "source": [
    "#include <stdio.h>\n",
    "\n",
    "int main()\n",
    "{\n",
    "    int i=0;\n",
    "    while(i < 10)\n",
    "    {\n",
    "        printf (\"%d \" ,i );\n",
    "        ++i;\n",
    "    }\n",
    "    printf(\"\\n After a While \\n\");\n",
    "}"
   ]
  },
  {
   "cell_type": "markdown",
   "metadata": {},
   "source": [
    "## do {instructions} while (condition)\n",
    "Execute at least once, even if condition is not meet"
   ]
  },
  {
   "cell_type": "code",
   "execution_count": null,
   "metadata": {
    "scrolled": true
   },
   "outputs": [],
   "source": [
    "#include <stdio.h>\n",
    "\n",
    "int main()\n",
    "{\n",
    "    int i=10;\n",
    "    do\n",
    "    {\n",
    "        printf (\"%d \" ,i );\n",
    "        ++i ;\n",
    "    }\n",
    "    while(i < 10);\n",
    "}"
   ]
  },
  {
   "cell_type": "code",
   "execution_count": null,
   "metadata": {},
   "outputs": [],
   "source": [
    "#include <stdio.h>\n",
    "\n",
    "int main()\n",
    "{\n",
    "    int i=0;\n",
    "    do\n",
    "    {\n",
    "        printf (\"%d \" ,i );\n",
    "        ++ i ;\n",
    "    }\n",
    "    while(i < 10);\n",
    "}"
   ]
  },
  {
   "cell_type": "markdown",
   "metadata": {},
   "source": [
    "## for( initialization; condition; incrementation) {instructions}\n",
    "* The initialization step is executed first, and only once\n",
    "* Condition is checked before execution. Will not execute if initially condition is false!\n",
    "* Incrementation is performed after the instructions are executed, as a last step\n",
    "* initialization; condition; incrementation can be left out, as long as semicolons ; are in. I.e: for(;;) will work and result in an infinite loop"
   ]
  },
  {
   "cell_type": "code",
   "execution_count": null,
   "metadata": {},
   "outputs": [],
   "source": [
    "#include <stdio.h>\n",
    "\n",
    "int main()\n",
    "{\n",
    "    for(int i=0; i<10; ++i)\n",
    "    {\n",
    "        printf (\"%d \" ,i );\n",
    "    }\n",
    "}"
   ]
  },
  {
   "cell_type": "markdown",
   "metadata": {},
   "source": [
    "Mind where variable is declared!"
   ]
  },
  {
   "cell_type": "code",
   "execution_count": null,
   "metadata": {},
   "outputs": [],
   "source": [
    "#include <stdio.h>\n",
    "\n",
    "int main()\n",
    "{\n",
    "    int j=0;\n",
    "    for(int i=0; i<10; ++i)\n",
    "    {\n",
    "        printf (\"i=%d \" ,i );\n",
    "        j = i;\n",
    "    }\n",
    "    printf (\" | j=%d \" ,j );\n",
    "}"
   ]
  },
  {
   "cell_type": "markdown",
   "metadata": {},
   "source": [
    "An example of declaration before the loop"
   ]
  },
  {
   "cell_type": "code",
   "execution_count": null,
   "metadata": {},
   "outputs": [],
   "source": [
    "#include <stdio.h>\n",
    "\n",
    "int main()\n",
    "{\n",
    "    int i = 0;\n",
    "    for(i=0; i<10; ++i) // but also  for( ; i<10; ++i)\n",
    "    {\n",
    "        printf (\"i=%d \" ,i );\n",
    "    }\n",
    "    printf (\" | I=%d \" ,i );\n",
    "}"
   ]
  },
  {
   "cell_type": "markdown",
   "metadata": {},
   "source": [
    "## Nested loops\n",
    "a for in a for"
   ]
  },
  {
   "cell_type": "markdown",
   "metadata": {},
   "source": [
    "Write a program that prints a 4x5 (4 rows and 5 collumns) array. $A_{ij} = i+j$"
   ]
  },
  {
   "cell_type": "code",
   "execution_count": null,
   "metadata": {},
   "outputs": [],
   "source": [
    "#include <stdio.h>\n",
    "\n",
    "int main()\n",
    "{\n",
    "    for(int i=0; i<4; ++i) \n",
    "    {\n",
    "        for(int j=0; j<5; ++j) // no brackets since only a single instruction\n",
    "            printf (\"%d\\t\" , i+j);\n",
    "        printf(\"\\n\"); // new line\n",
    "    }\n",
    "}"
   ]
  },
  {
   "cell_type": "markdown",
   "metadata": {},
   "source": [
    "## Infinite loops\n",
    "Sometimes (intentionally or not) an infinite loop is created (see one of the examples below)\n",
    "* while(1) {}\n",
    "* for(;;) {}"
   ]
  },
  {
   "cell_type": "markdown",
   "metadata": {},
   "source": [
    "## Flow control\n",
    "i.e. how to manipulate execution of a loop, stop it, or skip the remaining instructions"
   ]
  },
  {
   "cell_type": "markdown",
   "metadata": {},
   "source": [
    "### break\n",
    "The loop is terminated and the code following the loop is executed\n",
    "\n",
    "Here a program that prints numbers, but stops as soon as the first number dividable by 7, that is not 7, is encounered."
   ]
  },
  {
   "cell_type": "code",
   "execution_count": null,
   "metadata": {},
   "outputs": [],
   "source": [
    "#include <stdio.h>\n",
    "\n",
    "int main()\n",
    "{\n",
    "    for(int i=0; i<100; ++i)\n",
    "    {\n",
    "        printf(\"%d\\n\", i);\n",
    "        if (i%7 == 0 && i != 7 && i>0)\n",
    "        {\n",
    "            printf(\"terminating the loop\\n\");\n",
    "            break;\n",
    "        }\n",
    "        printf(\"Still ticking\\n\");\n",
    "    }\n",
    "}"
   ]
  },
  {
   "cell_type": "markdown",
   "metadata": {},
   "source": [
    "### continue\n",
    "The loop execution is stooped, and started from the beginning\n",
    "\n",
    "Similar as before, but this time program prints numbers, but skips those dividable by 7."
   ]
  },
  {
   "cell_type": "code",
   "execution_count": null,
   "metadata": {},
   "outputs": [],
   "source": [
    "#include <stdio.h>\n",
    "\n",
    "int main()\n",
    "{\n",
    "    for(int i=0; i<12; ++i)\n",
    "    {\n",
    "        if (i%3 == 0 && i != 3 && i>0)\n",
    "        {\n",
    "            printf(\"Skipping for %d\\n\", i);\n",
    "            continue;\n",
    "        }\n",
    "        printf(\"%d\\n\", i);\n",
    "    }\n",
    "}"
   ]
  },
  {
   "cell_type": "code",
   "execution_count": null,
   "metadata": {},
   "outputs": [],
   "source": [
    "#include <stdio.h>\n",
    "\n",
    "int main()\n",
    "{\n",
    "    for(int i=0; i<30; ++i)\n",
    "    {\n",
    "        if (i%3 == 0)\n",
    "        {\n",
    "            //printing ? \n",
    "            continue;\n",
    "        }\n",
    "        printf(\"%d \", i);\n",
    "    }\n",
    "}"
   ]
  },
  {
   "cell_type": "markdown",
   "metadata": {},
   "source": [
    "## Examples\n",
    "### Print odd even numbers\n",
    "use continue"
   ]
  },
  {
   "cell_type": "markdown",
   "metadata": {},
   "source": [
    "**This is an example from a test**\n",
    "\n",
    "Write a complete program printing odd numbers from 0 to 50, but not those dividable by 9. The program"
   ]
  },
  {
   "cell_type": "code",
   "execution_count": null,
   "metadata": {},
   "outputs": [],
   "source": [
    "#include <stdio.h>\n",
    "\n",
    "int main()\n",
    "{\n",
    "    for(int i=1; i<50; i+=2)\n",
    "    {\n",
    "        if(i%9 != 0)\n",
    "            printf(\"%d \", i);\n",
    "    }\n",
    "}"
   ]
  },
  {
   "cell_type": "markdown",
   "metadata": {},
   "source": [
    "An alternative approach "
   ]
  },
  {
   "cell_type": "code",
   "execution_count": null,
   "metadata": {},
   "outputs": [],
   "source": [
    "#include <stdio.h>\n",
    "\n",
    "int main()\n",
    "{\n",
    "    for(int i=0; i<50; ++i)\n",
    "    {\n",
    "        if(i%2 == 0) continue;\n",
    "        if(i%9 != 0)\n",
    "            printf(\"%d \", i);\n",
    "    }\n",
    "}"
   ]
  },
  {
   "cell_type": "markdown",
   "metadata": {},
   "source": [
    "### Write a winning game"
   ]
  },
  {
   "cell_type": "code",
   "execution_count": null,
   "metadata": {},
   "outputs": [],
   "source": [
    "#include <stdio.h>\n",
    "\n",
    "int main()\n",
    "{\n",
    "    while(1)\n",
    "    {  \n",
    "        int uv = 0;\n",
    "        printf(\"Give me a value that is not greater than 10\\n\");\n",
    "        scanf(\"%d\", &uv);\n",
    "        int aiv = uv + 1;\n",
    "        if(uv > 10)\n",
    "        {\n",
    "            printf(\"You cheat, I win!!\\n\");\n",
    "            break;\n",
    "        }\n",
    "        printf(\"My is greater I win!!\\n\");\n",
    "        printf(\"%d %d\\n\", uv, aiv);\n",
    "    }\n",
    "}"
   ]
  },
  {
   "cell_type": "markdown",
   "metadata": {},
   "source": [
    "### Fibonaci sequence\n",
    "Write a program that prints the [Fibonaci numbers](https://en.wikipedia.org/wiki/Fibonacci_number), those are numbers that belong ot a Fibonaci sequence, i.e. each number in a sequence after the first two is sum of the two preceding ones\n",
    "\n",
    "$n_0 = 0$\n",
    "\n",
    "$n_1 = 1$\n",
    "\n",
    "...\n",
    "\n",
    "$n_i = n_{i-1}+n_{i-2}$"
   ]
  },
  {
   "cell_type": "code",
   "execution_count": null,
   "metadata": {},
   "outputs": [],
   "source": [
    "#include <stdio.h>\n",
    "\n",
    "int main()\n",
    "{\n",
    "    int n0 = 0;\n",
    "    int n1 = 1;\n",
    "    int nc = 0;\n",
    "    for(int i=0; i<20; ++i)\n",
    "    {\n",
    "        nc = n0 + n1;\n",
    "        n0 = n1;\n",
    "        n1 = nc;\n",
    "        printf(\"%d \", nc);\n",
    "    }\n",
    "}"
   ]
  },
  {
   "cell_type": "markdown",
   "metadata": {},
   "source": [
    "## Fourier expansion of a square wave\n",
    "Write a program, calculating the Fourier expansion of a square wave.\n",
    "\n",
    "$f(x) = \\frac{4}{\\pi} \\sum^N_{n=1}\\frac{1}{n}sin(\\frac{n\\pi x}{L})$\n",
    "\n",
    "Print values of the formula for a set of values from 0 uo to L\n"
   ]
  },
  {
   "cell_type": "code",
   "execution_count": null,
   "metadata": {},
   "outputs": [],
   "source": [
    "//%cflags:-lm\n",
    "#include <stdio.h>\n",
    "#include <math.h>\n",
    "#define PI 4.0 * atan(1.0)\n",
    "\n",
    "//This is a prototype of a function\n",
    "double trig_sq(double, double, int);\n",
    "\n",
    "int main(){\n",
    "    double L = 1.0;\n",
    "    int n = 99;\n",
    "    int N = 20;\n",
    "    double h = L / (n-1);\n",
    "    double x = 0;\n",
    "    double y;\n",
    "    \n",
    "    for(int i=0; i<n; ++i)\n",
    "    {\n",
    "        y = trig_sq(x, L, N);\n",
    "        printf(\"%lf %lf\\n\", x, y);\n",
    "        x += h;\n",
    "    }\n",
    "}\n",
    "\n",
    "double trig_sq(double x, double L, int N)\n",
    "{\n",
    "    double res = 0;\n",
    "    for(int n=1; n<=N; ++n)\n",
    "    {\n",
    "        res += 1.0 / (double)n * sin( n * PI * x / L );\n",
    "    }\n",
    "    return 4.0 / PI * res;\n",
    "}"
   ]
  },
  {
   "cell_type": "code",
   "execution_count": null,
   "metadata": {
    "scrolled": true
   },
   "outputs": [],
   "source": [
    "//%cflags:-lm\n",
    "\n",
    "#include <stdio.h>\n",
    "#include <math.h>\n",
    "#define PI 4.0*atan(1.0)\n",
    "\n",
    "double fun(double x, int N, double L)\n",
    "{\n",
    "    double result = 0.0;\n",
    "    for(int i=1; i<=N; ++i)\n",
    "    {\n",
    "        result += 1.0/i * sin((i*PI*x)/L);\n",
    "    }\n",
    "    return 4.0 / PI * result;\n",
    "}\n",
    "\n",
    "int main()\n",
    "{\n",
    "    int N = 2;\n",
    "    double L = 2*PI;\n",
    "    double x0 = 0, x1 = L;\n",
    "    double h = (x1-x0)/99;\n",
    "    \n",
    "    for(int i=0; i<100; ++i)\n",
    "    {\n",
    "        double x = x0 + i*h;\n",
    "        double y = fun(x, N, L);\n",
    "        printf(\"x=%lf y=%lf\\n\", x, y);\n",
    "    }\n",
    "}\n"
   ]
  },
  {
   "cell_type": "code",
   "execution_count": null,
   "metadata": {},
   "outputs": [],
   "source": []
  }
 ],
 "metadata": {
  "kernelspec": {
   "display_name": "C",
   "language": "c",
   "name": "c"
  },
  "language_info": {
   "file_extension": ".c",
   "mimetype": "text/plain",
   "name": "c"
  }
 },
 "nbformat": 4,
 "nbformat_minor": 2
}
