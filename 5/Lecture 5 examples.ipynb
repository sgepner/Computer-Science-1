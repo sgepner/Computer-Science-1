{
 "cells": [
  {
   "cell_type": "markdown",
   "metadata": {},
   "source": [
    "# Loops,\n",
    "and code repetition.  \n",
    "Often some activity needs to be repeated many times. Be it a recursive formula, we wish to calculate, or periodic checking of some variable state.  \n",
    "One of the fundamental tasks is to write code statements that allow for consecutive, repetitive execution of code. In **all** programming languages this is achieved with **loops**. Today we will get familiar with the syntax of loop in **C**:\n",
    "* We will start with **goto** (but we hope to forever forget this one)\n",
    "* *while* and *do while*\n",
    "* and my personal favorite, the *for* loop"
   ]
  },
  {
   "cell_type": "markdown",
   "metadata": {},
   "source": [
    "## Example:\n",
    "Write a code that prints 100 consecutive integers starting with 0.:"
   ]
  },
  {
   "cell_type": "code",
   "execution_count": 1,
   "metadata": {},
   "outputs": [
    {
     "name": "stdout",
     "output_type": "stream",
     "text": [
      "0\n",
      "1\n",
      "2\n",
      "3\n",
      "4\n",
      "5\n",
      "6\n",
      "7\n"
     ]
    }
   ],
   "source": [
    "#include <stdio.h>\n",
    "\n",
    "int main()\n",
    "{\n",
    "    printf(\"%d\\n\", 0);\n",
    "    printf(\"%d\\n\", 1);\n",
    "    printf(\"%d\\n\", 2);\n",
    "    printf(\"%d\\n\", 3);\n",
    "    printf(\"%d\\n\", 4);\n",
    "    printf(\"%d\\n\", 5);\n",
    "    printf(\"%d\\n\", 6);\n",
    "    printf(\"%d\\n\", 7);\n",
    "}"
   ]
  },
  {
   "cell_type": "markdown",
   "metadata": {},
   "source": [
    "## goto label\n",
    "* Provides a jump from `goto` to a labeled statement\n",
    "* **highly discouraged**\n",
    "* and is a mark of poor programming skills\n",
    "* needs a *label* with a `:` and a `goto label;`"
   ]
  },
  {
   "cell_type": "code",
   "execution_count": 3,
   "metadata": {},
   "outputs": [
    {
     "name": "stdout",
     "output_type": "stream",
     "text": [
      "0 1 2 3 4 5 6 7 8 9 10 11 12 13 14 15 16 17 18 19 20 21 22 23 24 25 26 27 28 29 30 31 32 33 34 35 36 37 38 39 40 41 42 43 44 45 46 47 48 49 50 51 52 53 54 55 56 57 58 59 60 61 62 63 64 65 66 67 68 69 70 71 72 73 74 75 76 77 78 79 80 81 82 83 84 85 86 87 88 89 90 91 92 93 94 95 96 97 98 99 100 "
     ]
    }
   ],
   "source": [
    "#include <stdio.h>\n",
    "\n",
    "int main()\n",
    "{\n",
    "    int i = 0;\n",
    "    start: // a label start here\n",
    "    printf (\"%d \" ,i );\n",
    "    ++i;\n",
    "    if (i <=100)\n",
    "        goto start;\n",
    "}"
   ]
  },
  {
   "cell_type": "markdown",
   "metadata": {},
   "source": [
    "Mind that if you use *goto* bad things happen!\n",
    "\n",
    "![image](goto.png)\n",
    "\n",
    "The image has been borrowed from the XKCD comic web page: https://xkcd.com/292/"
   ]
  },
  {
   "cell_type": "markdown",
   "metadata": {},
   "source": [
    "## while (condition) {instructions}\n",
    "Used to perform a given task if *condition* evaluates to `True`:  \n",
    " * first check the condition\n",
    " * than execute\n",
    " \n",
    " Statement might not be executed."
   ]
  },
  {
   "cell_type": "code",
   "execution_count": 11,
   "metadata": {},
   "outputs": [
    {
     "name": "stdout",
     "output_type": "stream",
     "text": [
      "0 1 2 3 4 5 6 7 8 9 \n",
      " After a While \n"
     ]
    }
   ],
   "source": [
    "#include <stdio.h>\n",
    "\n",
    "int main()\n",
    "{\n",
    "    int i=0;\n",
    "    while(i < 10)\n",
    "    {\n",
    "        printf (\"%d \" ,i );\n",
    "        ++i;\n",
    "    }\n",
    "    printf(\"\\n After a While \\n\");\n",
    "}"
   ]
  },
  {
   "cell_type": "code",
   "execution_count": 8,
   "metadata": {},
   "outputs": [
    {
     "name": "stdout",
     "output_type": "stream",
     "text": [
      "0 1 2 3 4 5 6 7 8 9 10 \n",
      " After a While \n"
     ]
    }
   ],
   "source": [
    "#include <stdio.h>\n",
    "\n",
    "int main()\n",
    "{\n",
    "    int i=0;\n",
    "    while(i <= 10)\n",
    "    {\n",
    "        printf (\"%d \" ,i );\n",
    "        ++i;\n",
    "    }\n",
    "    printf(\"\\n After a While \\n\");\n",
    "}"
   ]
  },
  {
   "cell_type": "code",
   "execution_count": 9,
   "metadata": {},
   "outputs": [
    {
     "name": "stdout",
     "output_type": "stream",
     "text": [
      "1 2 3 4 5 6 7 8 9 10 \n",
      " After a While \n"
     ]
    }
   ],
   "source": [
    "#include <stdio.h>\n",
    "\n",
    "int main()\n",
    "{\n",
    "    int i=0;\n",
    "    while(i < 10)\n",
    "    {\n",
    "        i++;\n",
    "        printf (\"%d \" ,i );\n",
    "    }\n",
    "    printf(\"\\n After a While \\n\");\n",
    "}"
   ]
  },
  {
   "cell_type": "markdown",
   "metadata": {},
   "source": [
    "## do {instructions} while (condition)\n",
    "\n",
    "* Do the task at least once\n",
    "* Check if the condition is `True`\n",
    "\n",
    "Execute at least once, even if condition is not meet"
   ]
  },
  {
   "cell_type": "code",
   "execution_count": 12,
   "metadata": {
    "scrolled": true
   },
   "outputs": [
    {
     "name": "stdout",
     "output_type": "stream",
     "text": [
      "0 1 2 3 4 5 6 7 8 9 "
     ]
    }
   ],
   "source": [
    "#include <stdio.h>\n",
    "\n",
    "int main()\n",
    "{\n",
    "    int i=0;\n",
    "    do\n",
    "    {\n",
    "        printf (\"%d \" ,i );\n",
    "        ++i;\n",
    "    }\n",
    "    while(i < 10);\n",
    "}"
   ]
  },
  {
   "cell_type": "code",
   "execution_count": 13,
   "metadata": {},
   "outputs": [
    {
     "name": "stdout",
     "output_type": "stream",
     "text": [
      "100 "
     ]
    }
   ],
   "source": [
    "#include <stdio.h>\n",
    "\n",
    "int main()\n",
    "{\n",
    "    int i=100;\n",
    "    do\n",
    "    {\n",
    "        printf (\"%d \" ,i );\n",
    "        ++i;\n",
    "    }\n",
    "    while(i < 10);\n",
    "}"
   ]
  },
  {
   "cell_type": "markdown",
   "metadata": {},
   "source": [
    "## Example:\n",
    "Write a program that writes even (or odd) numbers from 0 up to 50. Use while() and do..while() loops."
   ]
  },
  {
   "cell_type": "code",
   "execution_count": 19,
   "metadata": {},
   "outputs": [
    {
     "name": "stdout",
     "output_type": "stream",
     "text": [
      "I see even numbers!\n",
      "0 2 4 6 8 10 12 14 16 18 20 22 24 26 28 30 32 34 36 38 40 42 44 46 48 50 "
     ]
    }
   ],
   "source": [
    "#include <stdio.h>\n",
    "\n",
    "int main()\n",
    "{\n",
    "    int i = 0;\n",
    "    printf(\"I see even numbers!\\n\");\n",
    "    while(i <= 50)\n",
    "    {\n",
    "        if(i%2 == 0)\n",
    "        {\n",
    "            printf(\"%d \", i);\n",
    "        }\n",
    "        ++i;\n",
    "    }\n",
    "}"
   ]
  },
  {
   "cell_type": "markdown",
   "metadata": {},
   "source": [
    "Do the same for odd numbers, do..while()"
   ]
  },
  {
   "cell_type": "code",
   "execution_count": 25,
   "metadata": {},
   "outputs": [
    {
     "name": "stdout",
     "output_type": "stream",
     "text": [
      "I see odd numbers!\n",
      "1 3 5 7 9 11 13 15 17 19 21 23 25 27 29 31 33 35 37 39 41 43 45 47 "
     ]
    }
   ],
   "source": [
    "#include <stdio.h>\n",
    "\n",
    "int main()\n",
    "{\n",
    "    int i = 0;\n",
    "    printf(\"I see odd numbers!\\n\");\n",
    "    do\n",
    "    {\n",
    "        if(i%2 != 0)\n",
    "        {\n",
    "            printf(\"%d \", i);\n",
    "        }\n",
    "        ++i;\n",
    "    }\n",
    "    while(i<50);\n",
    "}"
   ]
  },
  {
   "cell_type": "markdown",
   "metadata": {},
   "source": [
    "Yet another way to skin the cat:"
   ]
  },
  {
   "cell_type": "code",
   "execution_count": 26,
   "metadata": {},
   "outputs": [
    {
     "name": "stdout",
     "output_type": "stream",
     "text": [
      "I see even numbers!\n",
      "0 2 4 6 8 10 12 14 16 18 20 22 24 26 28 30 32 34 36 38 40 42 44 46 48 "
     ]
    }
   ],
   "source": [
    "#include <stdio.h>\n",
    "\n",
    "int main()\n",
    "{\n",
    "    int i = 0;\n",
    "    printf(\"I see even numbers!\\n\");\n",
    "    while(i <= 50)\n",
    "    {\n",
    "        printf(\"%d \", i);\n",
    "        i+=2;\n",
    "    }\n",
    "}"
   ]
  },
  {
   "cell_type": "markdown",
   "metadata": {},
   "source": [
    "## for( initialization; condition; incrementation) {instructions}\n",
    "\n",
    "* The initialization step is executed first, and only once\n",
    "* Condition is checked before execution. Will not execute if initially condition is false!\n",
    "* Incrementation is performed after the instructions are executed, as a last step\n",
    "* initialization; condition; incrementation can be left out, as long as semicolons `;` are in. I.e: for(;;) will work and result in an infinite loop"
   ]
  },
  {
   "cell_type": "code",
   "execution_count": 33,
   "metadata": {},
   "outputs": [
    {
     "name": "stdout",
     "output_type": "stream",
     "text": [
      "0 1 2 3 4 5 6 7 8 9 "
     ]
    }
   ],
   "source": [
    "#include <stdio.h>\n",
    "\n",
    "int main()\n",
    "{\n",
    "    for(int i=0; i<10; ++i)\n",
    "    {\n",
    "        printf (\"%d \" ,i );\n",
    "    }\n",
    "}"
   ]
  },
  {
   "cell_type": "code",
   "execution_count": 40,
   "metadata": {},
   "outputs": [
    {
     "name": "stdout",
     "output_type": "stream",
     "text": [
      "0 1 2 3 4 5 6 7 8 9 "
     ]
    }
   ],
   "source": [
    "#include <stdio.h>\n",
    "\n",
    "int main()\n",
    "{\n",
    "    int i = 0;\n",
    "    for( ; i<10; ++i)\n",
    "    {\n",
    "        //++i;\n",
    "        printf (\"%d \" ,i );\n",
    "        //++i;\n",
    "    }\n",
    "}"
   ]
  },
  {
   "cell_type": "markdown",
   "metadata": {},
   "source": [
    "Mind where variable is declared!"
   ]
  },
  {
   "cell_type": "code",
   "execution_count": 43,
   "metadata": {},
   "outputs": [
    {
     "name": "stderr",
     "output_type": "stream",
     "text": [
      "/tmp/tmpans6s0wg.c: In function ‘main’:\n",
      "/tmp/tmpans6s0wg.c:9:25: error: ‘i’ undeclared (first use in this function)\n",
      "    9 |     printf (\" | i=%d \" ,i );\n",
      "      |                         ^\n",
      "/tmp/tmpans6s0wg.c:9:25: note: each undeclared identifier is reported only once for each function it appears in\n",
      "[C kernel] GCC exited with code 1, the executable will not be executed"
     ]
    }
   ],
   "source": [
    "#include <stdio.h>\n",
    "\n",
    "int main()\n",
    "{\n",
    "    for(int i=0; i<10; ++i)\n",
    "    {\n",
    "        printf (\"i=%d \" ,i );\n",
    "    }\n",
    "    printf (\" | i=%d \" ,i );\n",
    "}"
   ]
  },
  {
   "cell_type": "code",
   "execution_count": 44,
   "metadata": {},
   "outputs": [
    {
     "name": "stdout",
     "output_type": "stream",
     "text": [
      "i=0 i=1 i=2 i=3 i=4 i=5 i=6 i=7 i=8 i=9  | i=9 "
     ]
    }
   ],
   "source": [
    "#include <stdio.h>\n",
    "\n",
    "int main()\n",
    "{\n",
    "    int j = 0;\n",
    "    for(int i=0; i<10; ++i)\n",
    "    {\n",
    "        printf (\"i=%d \" ,i );\n",
    "        j = i;\n",
    "    }\n",
    "    printf (\" | i=%d \" ,j );\n",
    "}"
   ]
  },
  {
   "cell_type": "markdown",
   "metadata": {},
   "source": [
    "An example of declaration before the loop"
   ]
  },
  {
   "cell_type": "code",
   "execution_count": 45,
   "metadata": {},
   "outputs": [
    {
     "name": "stdout",
     "output_type": "stream",
     "text": [
      "i=0 i=1 i=2 i=3 i=4 i=5 i=6 i=7 i=8 i=9  | i=10 "
     ]
    }
   ],
   "source": [
    "#include <stdio.h>\n",
    "\n",
    "int main()\n",
    "{\n",
    "    int i = 0;\n",
    "    for(i=0; i<10; ++i) // but also  for( ; i<10; ++i)\n",
    "    {\n",
    "        printf (\"i=%d \" ,i );\n",
    "    }\n",
    "    printf (\" | i=%d \" ,i );\n",
    "}"
   ]
  },
  {
   "cell_type": "code",
   "execution_count": null,
   "metadata": {},
   "outputs": [],
   "source": [
    "#include <stdio.h>\n",
    "\n",
    "int main()\n",
    "{\n",
    "    int i = 0;\n",
    "    for(int i=0; i<10; ++i) // but also  for( ; i<10; ++i)\n",
    "    {\n",
    "        printf (\"i=%d \" ,i );\n",
    "    }\n",
    "    printf (\" | i=%d \" ,i );\n",
    "}"
   ]
  },
  {
   "cell_type": "markdown",
   "metadata": {},
   "source": [
    "## Test int not floats"
   ]
  },
  {
   "cell_type": "code",
   "execution_count": 52,
   "metadata": {},
   "outputs": [
    {
     "name": "stdout",
     "output_type": "stream",
     "text": [
      "0 0.000000\n",
      "99902 1.000010\n"
     ]
    }
   ],
   "source": [
    "#include <stdio.h>\n",
    "\n",
    "int main(){\n",
    "  \n",
    "    float x0 = 0; // 4B\n",
    "    float x = x0;\n",
    "    int n = 100000;\n",
    "    float h = (1.0-0.0) /(n-1);\n",
    "    int i=0;\n",
    "    \n",
    "    printf(\"%d %lf\\n\", i, x);\n",
    "    for( ;x<1.0; )\n",
    "    {\n",
    "        x += h;\n",
    "        // x = x0+i*h;\n",
    "        ++i;\n",
    "        // printf(\"%d %lf\\n\", i, x);\n",
    "    }\n",
    "    printf(\"%d %lf\\n\", i, x);\n",
    "}"
   ]
  },
  {
   "cell_type": "code",
   "execution_count": 56,
   "metadata": {},
   "outputs": [
    {
     "name": "stdout",
     "output_type": "stream",
     "text": [
      "10000000 1.064767\n"
     ]
    }
   ],
   "source": [
    "#include <stdio.h>\n",
    "\n",
    "int main(){\n",
    "  \n",
    "  float x0 = 0;\n",
    "  float x = x0;\n",
    "  int n = 10000000;\n",
    "  float h = (1.0-0.0) /(n-1);\n",
    "  int i=0;\n",
    "  for( ; i<n; ++i)\n",
    "  {\n",
    "    // tings to do\n",
    "    //x = x0+i*h;\n",
    "    x += h;\n",
    "  }\n",
    "  printf(\"%d %lf\\n\", i, x);\n",
    "}"
   ]
  },
  {
   "cell_type": "markdown",
   "metadata": {},
   "source": [
    "## Nested loops\n",
    "a for in a for\n",
    "\n",
    "Loops can be combined. I.e. a loop can be placed in a loop"
   ]
  },
  {
   "cell_type": "markdown",
   "metadata": {},
   "source": [
    "Write a program that prints a 4x5 (4 rows and 5 collumns) array. $A_{ij} = i+j$"
   ]
  },
  {
   "cell_type": "code",
   "execution_count": 58,
   "metadata": {},
   "outputs": [
    {
     "name": "stdout",
     "output_type": "stream",
     "text": [
      "0\t1\t2\t3\t4\t\n",
      "1\t2\t3\t4\t5\t\n",
      "2\t3\t4\t5\t6\t\n",
      "3\t4\t5\t6\t7\t\n"
     ]
    }
   ],
   "source": [
    "#include <stdio.h>\n",
    "\n",
    "int main()\n",
    "{\n",
    "    for(int i=0; i<4; ++i) \n",
    "    {\n",
    "        for(int j=0; j<5; ++j) // no brackets since only a single instruction\n",
    "        {\n",
    "            // loop to calculate A\n",
    "            printf (\"%d\\t\" , i+j);\n",
    "        }\n",
    "        printf(\"\\n\"); // new line\n",
    "    }\n",
    "}"
   ]
  },
  {
   "cell_type": "markdown",
   "metadata": {},
   "source": [
    "Mind not to end up with unreadable code."
   ]
  },
  {
   "cell_type": "markdown",
   "metadata": {},
   "source": [
    "## Infinite loops\n",
    "Sometimes (intentionally or not) an infinite loop is created (see one of the examples below)\n",
    "* while(1) {}\n",
    "* for(;;) {}"
   ]
  },
  {
   "cell_type": "markdown",
   "metadata": {},
   "source": [
    "## Flow control\n",
    "i.e. how to manipulate execution of a loop, stop it, or skip the remaining instructions"
   ]
  },
  {
   "cell_type": "markdown",
   "metadata": {},
   "source": [
    "### break\n",
    "The loop is terminated and the code following the loop is executed"
   ]
  },
  {
   "cell_type": "code",
   "execution_count": 61,
   "metadata": {},
   "outputs": [
    {
     "name": "stdout",
     "output_type": "stream",
     "text": [
      "iteration 0 started Iteration 0 ended\n",
      "iteration 1 started Iteration 1 ended\n",
      "iteration 2 started Iteration 2 ended\n",
      "iteration 3 started \n",
      "The loop has ended\n"
     ]
    }
   ],
   "source": [
    "#include <stdio.h>\n",
    "\n",
    "int main()\n",
    "{\n",
    "    for(int i=0; i<100; ++i)\n",
    "    {\n",
    "        printf(\"iteration %d started \", i);\n",
    "        if(i%3 == 0 && i > 0)\n",
    "        {\n",
    "            printf(\"\\n\");\n",
    "            break;\n",
    "        }\n",
    "        printf(\"Iteration %d ended\\n\", i);\n",
    "    }\n",
    "    printf(\"The loop has ended\\n\");\n",
    "}"
   ]
  },
  {
   "cell_type": "markdown",
   "metadata": {},
   "source": [
    "Here a program that prints numbers, but stops as soon as the first number dividable by 7, that is not 7, is encountered."
   ]
  },
  {
   "cell_type": "code",
   "execution_count": 62,
   "metadata": {},
   "outputs": [
    {
     "name": "stdout",
     "output_type": "stream",
     "text": [
      "0 1 2 3 4 5 6 7 8 9 10 11 12 13 "
     ]
    }
   ],
   "source": [
    "#include <stdio.h>\n",
    "\n",
    "int main()\n",
    "{\n",
    "    for(int i=0; ; ++i)\n",
    "    {\n",
    "        if(i%7 == 0 && i>7)\n",
    "        {\n",
    "            break;\n",
    "        }\n",
    "        printf(\"%d \", i);\n",
    "    }\n",
    "    // tu\n",
    "}"
   ]
  },
  {
   "cell_type": "markdown",
   "metadata": {},
   "source": [
    "### continue\n",
    "The loop execution is stooped, and started from the beginning"
   ]
  },
  {
   "cell_type": "code",
   "execution_count": 63,
   "metadata": {},
   "outputs": [
    {
     "name": "stdout",
     "output_type": "stream",
     "text": [
      "1 2 4 5 7 8 "
     ]
    }
   ],
   "source": [
    "#include <stdio.h>\n",
    "\n",
    "int main()\n",
    "{\n",
    "    for(int i=0; i<10; ++i)\n",
    "    {\n",
    "        if(i%3 == 0)\n",
    "            continue;\n",
    "        printf(\"%d \", i);\n",
    "    }\n",
    "}"
   ]
  },
  {
   "cell_type": "markdown",
   "metadata": {},
   "source": [
    "Similar as before, print numbers from 0 up to 50, but skip numbers dividable by 7."
   ]
  },
  {
   "cell_type": "code",
   "execution_count": 65,
   "metadata": {
    "scrolled": true
   },
   "outputs": [
    {
     "name": "stdout",
     "output_type": "stream",
     "text": [
      "\n",
      "1 2 3 4 5 6 \n",
      "8 9 10 11 12 13 \n",
      "15 16 17 18 19 20 \n",
      "22 23 24 25 26 27 \n",
      "29 30 31 32 33 34 \n",
      "36 37 38 39 40 41 \n",
      "43 44 45 46 47 48 \n",
      "50 "
     ]
    }
   ],
   "source": [
    "#include <stdio.h>\n",
    "\n",
    "int main()\n",
    "{\n",
    "    for(int i=0; i<=50; ++i)\n",
    "    {\n",
    "        if(i%7 == 0)\n",
    "        {\n",
    "            printf(\"\\n\");\n",
    "            continue;\n",
    "        }\n",
    "        printf(\"%d \", i);\n",
    "    }\n",
    "}"
   ]
  },
  {
   "cell_type": "code",
   "execution_count": 66,
   "metadata": {},
   "outputs": [
    {
     "name": "stdout",
     "output_type": "stream",
     "text": [
      "1 2 4 5 7 8 10 11 13 14 16 17 19 20 22 23 25 26 28 29 "
     ]
    }
   ],
   "source": [
    "#include <stdio.h>\n",
    "\n",
    "int main()\n",
    "{\n",
    "    for(int i=0; i<30; ++i)\n",
    "    {\n",
    "        if (i%3 == 0)\n",
    "        {\n",
    "            //printing ? \n",
    "            continue;\n",
    "        }\n",
    "        printf(\"%d \", i);\n",
    "    }\n",
    "}"
   ]
  },
  {
   "cell_type": "markdown",
   "metadata": {},
   "source": [
    "## Examples\n",
    "### Print odd or even numbers\n",
    "Take 1: Use **for** loop to print even numbers"
   ]
  },
  {
   "cell_type": "code",
   "execution_count": 67,
   "metadata": {},
   "outputs": [
    {
     "name": "stdout",
     "output_type": "stream",
     "text": [
      "0 2 4 6 8 10 12 14 16 18 20 22 24 26 28 30 32 34 36 38 40 42 44 46 48 50 52 54 56 58 60 62 64 66 68 70 72 74 "
     ]
    }
   ],
   "source": [
    "#include <stdio.h>\n",
    "\n",
    "int main()\n",
    "{\n",
    "    for(int i=0; i<100; i+=2)\n",
    "    {\n",
    "        printf(\"%d \", i);\n",
    "    }\n",
    "}"
   ]
  },
  {
   "cell_type": "markdown",
   "metadata": {},
   "source": [
    "Take 2: use **for** and **continue** for even numbers"
   ]
  },
  {
   "cell_type": "code",
   "execution_count": 68,
   "metadata": {},
   "outputs": [
    {
     "name": "stdout",
     "output_type": "stream",
     "text": [
      "0 2 4 6 8 10 12 14 16 18 20 22 24 26 28 30 32 34 36 38 40 42 44 46 48 50 52 54 56 58 60 62 64 66 68 70 72 74 76 78 80 82 84 86 88 90 92 94 96 98 "
     ]
    }
   ],
   "source": [
    "#include <stdio.h>\n",
    "\n",
    "int main()\n",
    "{\n",
    "    for(int i=0; i<100; ++i)\n",
    "    {\n",
    "        if(i%2 == 1)\n",
    "            continue;\n",
    "        printf(\"%d \", i);\n",
    "    }\n",
    "}"
   ]
  },
  {
   "cell_type": "markdown",
   "metadata": {},
   "source": [
    "**This is an example from a test**\n",
    "\n",
    "Write a complete program printing odd numbers from 0 to 50, but not those dividable by 9. The program"
   ]
  },
  {
   "cell_type": "code",
   "execution_count": 69,
   "metadata": {},
   "outputs": [
    {
     "name": "stdout",
     "output_type": "stream",
     "text": [
      "1 3 5 7 11 13 15 17 19 21 23 25 29 31 33 35 37 39 41 43 47 49 "
     ]
    }
   ],
   "source": [
    "#include <stdio.h>\n",
    "\n",
    "int main()\n",
    "{\n",
    "    for(int i=1; i<50; i+=2)\n",
    "    {\n",
    "        if(i%9 != 0)\n",
    "            printf(\"%d \", i);\n",
    "    }\n",
    "}"
   ]
  },
  {
   "cell_type": "markdown",
   "metadata": {},
   "source": [
    "An alternative approach "
   ]
  },
  {
   "cell_type": "code",
   "execution_count": 70,
   "metadata": {},
   "outputs": [
    {
     "name": "stdout",
     "output_type": "stream",
     "text": [
      "1 3 5 7 11 13 15 17 19 21 23 25 29 31 33 35 37 39 41 43 47 49 "
     ]
    }
   ],
   "source": [
    "#include <stdio.h>\n",
    "\n",
    "int main()\n",
    "{\n",
    "    for(int i=0; i<50; ++i)\n",
    "    {\n",
    "        if(i%2 == 0) continue;\n",
    "        if(i%9 != 0)\n",
    "            printf(\"%d \", i);\n",
    "    }\n",
    "}"
   ]
  },
  {
   "cell_type": "markdown",
   "metadata": {},
   "source": [
    "### Write a winning game"
   ]
  },
  {
   "cell_type": "code",
   "execution_count": null,
   "metadata": {},
   "outputs": [],
   "source": [
    "#include <stdio.h>\n",
    "\n",
    "int main()\n",
    "{\n",
    "    while(1)\n",
    "    {  \n",
    "        int uv = 0;\n",
    "        printf(\"Give me a value that is not greater than 10\\n\");\n",
    "        scanf(\"%d\", &uv);\n",
    "        int aiv = uv + 1;\n",
    "        if(uv > 10)\n",
    "        {\n",
    "            printf(\"You cheat, I win!!\\n\");\n",
    "            break;\n",
    "        }\n",
    "        printf(\"My is greater I win!!\\n\");\n",
    "        printf(\"%d %d\\n\", uv, aiv);\n",
    "    }\n",
    "}"
   ]
  },
  {
   "cell_type": "markdown",
   "metadata": {},
   "source": [
    "### Fibonaci sequence\n",
    "Write a program that prints the [Fibonaci numbers](https://en.wikipedia.org/wiki/Fibonacci_number), those are numbers that belong ot a Fibonaci sequence, i.e. each number in a sequence after the first two is sum of the two preceding ones\n",
    "\n",
    "$n_0 = 0$\n",
    "\n",
    "$n_1 = 1$\n",
    "\n",
    "...\n",
    "\n",
    "$n_i = n_{i-1}+n_{i-2}$"
   ]
  },
  {
   "cell_type": "code",
   "execution_count": 71,
   "metadata": {
    "scrolled": false
   },
   "outputs": [
    {
     "name": "stdout",
     "output_type": "stream",
     "text": [
      "n0=0\n",
      "n1=1\n",
      "n2=1\n",
      "n3=2\n",
      "n4=3\n",
      "n5=5\n",
      "n6=8\n",
      "n7=13\n",
      "n8=21\n",
      "n9=34\n"
     ]
    }
   ],
   "source": [
    "#include <stdio.h>\n",
    "\n",
    "int main()\n",
    "{\n",
    "    int n0 = 0;\n",
    "    int n1 = 1;\n",
    "    int n2;\n",
    "    \n",
    "    printf(\"n0=%d\\n\", n0);\n",
    "    printf(\"n1=%d\\n\", n1);\n",
    "    for(int i=2; i<10; ++i)\n",
    "    {\n",
    "        n2 = n1 + n0;\n",
    "        printf(\"n%d=%d\\n\", i, n2);\n",
    "        n0 = n1;\n",
    "        n1 = n2;\n",
    "    }\n",
    "}"
   ]
  },
  {
   "cell_type": "markdown",
   "metadata": {},
   "source": [
    "## Fourier expansion of a square wave\n",
    "Write a program, calculating the Fourier expansion of a square wave.\n",
    "\n",
    "$f(x) = \\frac{4}{\\pi} \\sum^N_{n=1,3,5,...}\\frac{1}{n}sin(\\frac{n\\pi x}{L})$\n",
    "\n",
    "Print values of the formula for a set of values from 0 uo to L\n",
    "\n",
    "n must be odd\n"
   ]
  },
  {
   "cell_type": "code",
   "execution_count": 80,
   "metadata": {},
   "outputs": [
    {
     "name": "stdout",
     "output_type": "stream",
     "text": [
      "0.000000 0.000000\n",
      "0.063467 0.123928\n",
      "0.126933 0.243776\n",
      "0.190400 0.355701\n",
      "0.253866 0.456324\n",
      "0.317333 0.542916\n",
      "0.380799 0.613546\n",
      "0.444266 0.667173\n",
      "0.507732 0.703682\n",
      "0.571199 0.723848\n",
      "0.634665 0.729256\n",
      "0.698132 0.722161\n",
      "0.761598 0.705312\n",
      "0.825065 0.681748\n",
      "0.888531 0.654586\n",
      "0.951998 0.626808\n",
      "1.015464 0.601072\n",
      "1.078931 0.579554\n",
      "1.142397 0.563832\n",
      "1.205864 0.554822\n",
      "1.269330 0.552763\n",
      "1.332797 0.557256\n",
      "1.396263 0.567350\n",
      "1.459730 0.581661\n",
      "1.523196 0.598526\n",
      "1.586663 0.616162\n",
      "1.650129 0.632830\n",
      "1.713596 0.646987\n",
      "1.777063 0.657410\n",
      "1.840529 0.663287\n",
      "1.903996 0.664274\n",
      "1.967462 0.660499\n",
      "2.030929 0.652530\n",
      "2.094395 0.641308\n",
      "2.157862 0.628043\n",
      "2.221328 0.614097\n",
      "2.284795 0.600848\n",
      "2.348261 0.589567\n",
      "2.411728 0.581300\n",
      "2.475194 0.576780\n",
      "2.538661 0.576362\n",
      "2.602127 0.580002\n",
      "2.665594 0.587270\n",
      "2.729060 0.597393\n",
      "2.792527 0.609336\n",
      "2.855993 0.621902\n",
      "2.919460 0.633849\n",
      "2.982926 0.644004\n",
      "3.046393 0.651377\n",
      "3.109859 0.655252\n",
      "3.173326 0.655252\n",
      "3.236792 0.651377\n",
      "3.300259 0.644004\n",
      "3.363725 0.633849\n",
      "3.427192 0.621902\n",
      "3.490659 0.609336\n",
      "3.554125 0.597393\n",
      "3.617592 0.587270\n",
      "3.681058 0.580002\n",
      "3.744525 0.576362\n",
      "3.807991 0.576780\n",
      "3.871458 0.581300\n",
      "3.934924 0.589567\n",
      "3.998391 0.600848\n",
      "4.061857 0.614097\n",
      "4.125324 0.628043\n",
      "4.188790 0.641308\n",
      "4.252257 0.652530\n",
      "4.315723 0.660499\n",
      "4.379190 0.664274\n",
      "4.442656 0.663287\n",
      "4.506123 0.657410\n",
      "4.569589 0.646987\n",
      "4.633056 0.632830\n",
      "4.696522 0.616162\n",
      "4.759989 0.598526\n",
      "4.823455 0.581661\n",
      "4.886922 0.567350\n",
      "4.950388 0.557256\n",
      "5.013855 0.552763\n",
      "5.077321 0.554822\n",
      "5.140788 0.563832\n",
      "5.204254 0.579554\n",
      "5.267721 0.601072\n",
      "5.331188 0.626808\n",
      "5.394654 0.654586\n",
      "5.458121 0.681748\n",
      "5.521587 0.705312\n",
      "5.585054 0.722161\n",
      "5.648520 0.729256\n",
      "5.711987 0.723848\n",
      "5.775453 0.703682\n",
      "5.838920 0.667173\n",
      "5.902386 0.613546\n",
      "5.965853 0.542916\n",
      "6.029319 0.456324\n",
      "6.092786 0.355701\n",
      "6.156252 0.243776\n",
      "6.219719 0.123928\n",
      "6.283185 0.000000\n"
     ]
    }
   ],
   "source": [
    "//%cflags:-lm\n",
    "\n",
    "#include <stdio.h>\n",
    "#include <math.h>\n",
    "#define PI 4.0*atan(1.0)\n",
    "\n",
    "double sqf(double x, int N, double L)\n",
    "{\n",
    "    double res=0;\n",
    "    for(int n=1; n<=N; n+=2)\n",
    "    {\n",
    "        res += 1.0/(double)n *sin((n*PI*x)/L);\n",
    "    }\n",
    "    return 4.0/PI * res;\n",
    "}\n",
    "\n",
    "int main()\n",
    "{\n",
    "    double L=2*PI;\n",
    "    double m=100;\n",
    "    double h=(L-0.0)/(m-1);\n",
    "    for(int i=0; i<m; ++i)\n",
    "    {\n",
    "        double x = 0.0 + i*h;\n",
    "        printf(\"%lf %lf\\n\", x, sqf(x, 10, L));\n",
    "    }\n",
    "}\n",
    "\n",
    "\n"
   ]
  },
  {
   "cell_type": "code",
   "execution_count": null,
   "metadata": {},
   "outputs": [],
   "source": [
    "//%cflags:-lm\n",
    "\n",
    "#include <stdio.h>\n",
    "#include <math.h>\n",
    "#define PI 4.0 * atan(1.0)\n",
    "\n",
    "double L;\n",
    "\n",
    "double trig_fun(double x, int N)\n",
    "{\n",
    "    double s = 0;\n",
    "    for(int n=1; n<=N; ++n)\n",
    "    {\n",
    "        s += 1.0/n * sin((n * PI * x)/L);\n",
    "    }\n",
    "    return 4.0 / PI * s;\n",
    "}\n",
    "\n",
    "int main()\n",
    "{\n",
    "    double x = 0.0;\n",
    "    double h = 0.01;\n",
    "    L = 1;\n",
    "    for(int i=0; i<101; ++i)\n",
    "    {\n",
    "        printf(\"x=%lf y=%lf\\n\", x, trig_fun(x, 10));\n",
    "        x += h;\n",
    "    }\n",
    "    \n",
    "    printf(\"My program\\n\");\n",
    "}"
   ]
  },
  {
   "cell_type": "code",
   "execution_count": 78,
   "metadata": {},
   "outputs": [
    {
     "name": "stdout",
     "output_type": "stream",
     "text": [
      "0.000000 0.000000\n",
      "0.010204 0.491334\n",
      "0.020408 0.913068\n",
      "0.030612 1.212942\n",
      "0.040816 1.368223\n",
      "0.051020 1.389286\n",
      "0.061224 1.313828\n",
      "0.071429 1.193940\n",
      "0.081633 1.080353\n",
      "0.091837 1.008797\n",
      "0.102041 0.992470\n",
      "0.112245 1.022311\n",
      "0.122449 1.074179\n",
      "0.132653 1.119842\n",
      "0.142857 1.137709\n",
      "0.153061 1.119735\n",
      "0.163265 1.072573\n",
      "0.173469 1.013244\n",
      "0.183673 0.961491\n",
      "0.193878 0.931970\n",
      "0.204082 0.929163\n",
      "0.214286 0.946663\n",
      "0.224490 0.970675\n",
      "0.234694 0.986050\n",
      "0.244898 0.982321\n",
      "0.255102 0.957431\n",
      "0.265306 0.917889\n",
      "0.275510 0.875566\n",
      "0.285714 0.842610\n",
      "0.295918 0.826610\n",
      "0.306122 0.827868\n",
      "0.316327 0.839746\n",
      "0.326531 0.851731\n",
      "0.336735 0.853872\n",
      "0.346939 0.840738\n",
      "0.357143 0.813351\n",
      "0.367347 0.778439\n",
      "0.377551 0.745438\n",
      "0.387755 0.722557\n",
      "0.397959 0.713521\n",
      "0.408163 0.716272\n",
      "0.418367 0.724054\n",
      "0.428571 0.728353\n",
      "0.438776 0.722418\n",
      "0.448980 0.703927\n",
      "0.459184 0.675765\n",
      "0.469388 0.644650\n",
      "0.479592 0.618263\n",
      "0.489796 0.602092\n",
      "0.500000 0.597264\n",
      "0.510204 0.600236\n",
      "0.520408 0.604388\n",
      "0.530612 0.602818\n",
      "0.540816 0.591172\n",
      "0.551020 0.569348\n",
      "0.561224 0.541416\n",
      "0.571429 0.513844\n",
      "0.581633 0.492779\n",
      "0.591837 0.481546\n",
      "0.602041 0.479351\n",
      "0.612245 0.481707\n",
      "0.622449 0.482357\n",
      "0.632653 0.475888\n",
      "0.642857 0.459927\n",
      "0.653061 0.436057\n",
      "0.663265 0.409084\n",
      "0.673469 0.384999\n",
      "0.683673 0.368493\n",
      "0.693878 0.361049\n",
      "0.704082 0.360390\n",
      "0.714286 0.361479\n",
      "0.724490 0.358638\n",
      "0.734694 0.347897\n",
      "0.744898 0.328607\n",
      "0.755102 0.303657\n",
      "0.765306 0.278233\n",
      "0.775510 0.257653\n",
      "0.785714 0.245165\n",
      "0.795918 0.240636\n",
      "0.806122 0.240640\n",
      "0.816327 0.239916\n",
      "0.826531 0.233554\n",
      "0.836735 0.219025\n",
      "0.846939 0.197205\n",
      "0.857143 0.171980\n",
      "0.867347 0.148618\n",
      "0.877551 0.131575\n",
      "0.887755 0.122659\n",
      "0.897959 0.120297\n",
      "0.908163 0.120207\n",
      "0.918367 0.117185\n",
      "0.928571 0.107272\n",
      "0.938776 0.089380\n",
      "0.948980 0.065742\n",
      "0.959184 0.040967\n",
      "0.969388 0.020127\n",
      "0.979592 0.006646\n",
      "0.989796 0.000886\n",
      "1.000000 0.000000\n"
     ]
    }
   ],
   "source": [
    "//%cflags:-lm\n",
    "#include <stdio.h>\n",
    "#include <math.h>\n",
    "#define PI 4.0 * atan(1.0)\n",
    "\n",
    "//This is a prototype of a function\n",
    "double trig_sq(double, double, int);\n",
    "\n",
    "int main(){\n",
    "    double L = 1.0;\n",
    "    int n = 99;\n",
    "    int N = 20;\n",
    "    double h = L / (n-1);\n",
    "    double x = 0;\n",
    "    double y;\n",
    "    \n",
    "    for(int i=0; i<n; ++i)\n",
    "    {\n",
    "        y = trig_sq(x, L, N);\n",
    "        printf(\"%lf %lf\\n\", x, y);\n",
    "        x += h;\n",
    "    }\n",
    "}\n",
    "\n",
    "double trig_sq(double x, double L, int N)\n",
    "{\n",
    "    double res = 0;\n",
    "    for(int n=1; n<=N; ++n)\n",
    "    {\n",
    "        res += 1.0 / (double)n * sin( n * PI * x / L );\n",
    "    }\n",
    "    return 4.0 / PI * res;\n",
    "}"
   ]
  },
  {
   "cell_type": "code",
   "execution_count": null,
   "metadata": {
    "scrolled": false
   },
   "outputs": [],
   "source": [
    "//%cflags:-lm\n",
    "\n",
    "#include <stdio.h>\n",
    "#include <math.h>\n",
    "#define PI 4.0*atan(1.0)\n",
    "\n",
    "double fun(double x, int N, double L)\n",
    "{\n",
    "    double result = 0.0;\n",
    "    for(int i=1; i<=N; ++i)\n",
    "    {\n",
    "        result += 1.0/i * sin((i*PI*x)/L);\n",
    "    }\n",
    "    return 4.0 / PI * result;\n",
    "}\n",
    "\n",
    "int main()\n",
    "{\n",
    "    int N = 2;\n",
    "    double L = 2*PI;\n",
    "    double x0 = 0, x1 = L;\n",
    "    double h = (x1-x0)/99;\n",
    "    \n",
    "    for(int i=0; i<100; ++i)\n",
    "    {\n",
    "        double x = x0 + i*h;\n",
    "        double y = fun(x, N, L);\n",
    "        printf(\"x=%lf y=%lf\\n\", x, y);\n",
    "    }\n",
    "}\n"
   ]
  },
  {
   "cell_type": "code",
   "execution_count": null,
   "metadata": {},
   "outputs": [],
   "source": []
  }
 ],
 "metadata": {
  "kernelspec": {
   "display_name": "C",
   "language": "c",
   "name": "c"
  },
  "language_info": {
   "file_extension": ".c",
   "mimetype": "text/plain",
   "name": "c"
  }
 },
 "nbformat": 4,
 "nbformat_minor": 2
}
