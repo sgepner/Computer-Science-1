{
 "cells": [
  {
   "cell_type": "code",
   "execution_count": 4,
   "metadata": {},
   "outputs": [
    {
     "name": "stdout",
     "output_type": "stream",
     "text": [
      "Hello!\n",
      "Ala Kotowska, 304596, 2.000000\n"
     ]
    }
   ],
   "source": [
    "#include <stdio.h>\n",
    "#include <string.h>\n",
    "\n",
    "struct student{\n",
    "    char name[100];\n",
    "    int id;\n",
    "    float ocena;\n",
    "};\n",
    "\n",
    "int main(){\n",
    "    printf(\"Hello!\\n\");\n",
    "    \n",
    "    struct student s1;\n",
    "    //s1.name = \"aaaa\"; // Can I do that?\n",
    "    strcpy(s1.name, \"Ala Kotowska\"); // Dostep przez '.'\n",
    "    s1.id = 304596;\n",
    "    s1.ocena = 2.0;\n",
    "    \n",
    "    struct student *p = &s1;\n",
    "    printf(\"%s, %d, %f\\n\", p->name, p->id, p->ocena); // przez '->'\n",
    "}"
   ]
  },
  {
   "cell_type": "code",
   "execution_count": 12,
   "metadata": {},
   "outputs": [
    {
     "name": "stderr",
     "output_type": "stream",
     "text": [
      "/tmp/tmphhijbxlx.c: In function ‘main’:\n",
      "/tmp/tmphhijbxlx.c:14:14: warning: format ‘%d’ expects argument of type ‘int’, but argument 2 has type ‘long unsigned int’ [-Wformat=]\n",
      "     printf(\"%d\\n\", sizeof(struct student));\n",
      "             ~^\n",
      "             %ld\n"
     ]
    },
    {
     "name": "stdout",
     "output_type": "stream",
     "text": [
      "Hello!\n",
      "108\n"
     ]
    }
   ],
   "source": [
    "#include <stdio.h>\n",
    "#include <stdlib.h>\n",
    "#include <string.h>\n",
    "\n",
    "struct student{\n",
    "    char name[100];\n",
    "    int id;\n",
    "    float ocena;\n",
    "};\n",
    "\n",
    "int main(){\n",
    "    printf(\"Hello!\\n\");\n",
    "    \n",
    "    printf(\"%d\\n\", sizeof(struct student));\n",
    "    struct student tab[20];\n",
    "    int n = 15;\n",
    "    struct student *p=(struct student*)malloc(n*sizeof(struct student));\n",
    "    \n",
    "    tab[10].id = 400;\n",
    "    p[2].ocena = 3.0;\n",
    "\n",
    "    free(p);\n",
    "}"
   ]
  },
  {
   "cell_type": "code",
   "execution_count": 24,
   "metadata": {},
   "outputs": [
    {
     "name": "stdout",
     "output_type": "stream",
     "text": [
      "Hello!\n",
      "0x7ffe64476c70\n",
      "0x7ffe64476c70\n",
      "Ala Kotowska, 304596, 2.000000\n"
     ]
    }
   ],
   "source": [
    "#include <stdio.h>\n",
    "#include <string.h>\n",
    "\n",
    "struct student{\n",
    "    char name[100];\n",
    "    int id;\n",
    "    float ocena;\n",
    "};\n",
    "\n",
    "void print(struct student *s)\n",
    "{\n",
    "    printf(\"%p\\n\", s);\n",
    "    printf(\"%s, %d, %f\\n\", s->name, s->id, s->ocena); // przez '->'\n",
    "}\n",
    "\n",
    "int main(){\n",
    "    printf(\"Hello!\\n\");\n",
    "    \n",
    "    struct student s1;\n",
    "    //s1.name = \"aaaa\"; // Can I do that?\n",
    "    strcpy(s1.name, \"Ala Kotowska\"); // Dostep przez '.'\n",
    "    s1.id = 304596;\n",
    "    s1.ocena = 2.0;\n",
    "    \n",
    "    printf(\"%p\\n\", &s1);\n",
    "    print(&s1);\n",
    "}"
   ]
  },
  {
   "cell_type": "markdown",
   "metadata": {},
   "source": [
    "# Wskaznik do funkcji"
   ]
  },
  {
   "cell_type": "code",
   "execution_count": 35,
   "metadata": {},
   "outputs": [
    {
     "name": "stdout",
     "output_type": "stream",
     "text": [
      "Calculate derevatives\n",
      "84.129123\n",
      "82.286312\n"
     ]
    }
   ],
   "source": [
    "#include <stdio.h>\n",
    "\n",
    "double fun(double x)\n",
    "{\n",
    "    return 3*x*x*x - 2*x*x + 6*x - 8;\n",
    "}\n",
    "\n",
    "double dfun(double x, double (*f)(double) ,double h)\n",
    "{\n",
    "    return (f(x+h) - f(x)) / h;\n",
    "    //(fun(x) - fun(x-h)) / h;\n",
    "}\n",
    "\n",
    "int main(){\n",
    "    printf(\"Calculate derevatives\\n\");\n",
    "    \n",
    "    double x = 3.141592;\n",
    "    printf(\"%lf\\n\", fun(x));\n",
    "    \n",
    "    printf(\"%lf\\n\", dfun(x, fun, 0.001));\n",
    "}"
   ]
  },
  {
   "cell_type": "code",
   "execution_count": 40,
   "metadata": {},
   "outputs": [
    {
     "name": "stdout",
     "output_type": "stream",
     "text": [
      "Hello!\n",
      "This is student Ala Kotowska \n"
     ]
    }
   ],
   "source": [
    "#include <stdio.h>\n",
    "#include <string.h>\n",
    "\n",
    "struct student{\n",
    "    char name[100];\n",
    "    int id;\n",
    "    float ocena;\n",
    "    \n",
    "    void (*print)(struct student *p);\n",
    "};\n",
    "\n",
    "void fun(struct student *p){\n",
    "    printf(\"This is student %s \\n\", p->name);\n",
    "}\n",
    "\n",
    "int main(){\n",
    "    printf(\"Hello!\\n\");\n",
    "    \n",
    "    struct student s1;\n",
    "    s1.print = fun;\n",
    "    \n",
    "    //s1.name = \"aaaa\"; // Can I do that?\n",
    "    strcpy(s1.name, \"Ala Kotowska\"); // Dostep przez '.'\n",
    "    s1.id = 304596;\n",
    "    s1.ocena = 2.0;\n",
    "    s1.print(&s1);\n",
    "\n",
    "}"
   ]
  },
  {
   "cell_type": "code",
   "execution_count": 49,
   "metadata": {},
   "outputs": [
    {
     "name": "stderr",
     "output_type": "stream",
     "text": [
      "/tmp/tmpax5ovtyw.c: In function ‘main’:\n",
      "/tmp/tmpax5ovtyw.c:35:23: warning: implicit declaration of function ‘node_alloc’; did you mean ‘realloc’? [-Wimplicit-function-declaration]\n",
      "     struct node *n1 = node_alloc();\n",
      "                       ^~~~~~~~~~\n",
      "                       realloc\n",
      "/tmp/tmpax5ovtyw.c:35:23: warning: initialization makes pointer from integer without a cast [-Wint-conversion]\n",
      "/tmp/tmpax5ovtyw.c:38:22: warning: initialization from incompatible pointer type [-Wincompatible-pointer-types]\n",
      "     struct node *p = &n1;\n",
      "                      ^\n"
     ]
    },
    {
     "name": "stdout",
     "output_type": "stream",
     "text": [
      "A list of things\n"
     ]
    },
    {
     "name": "stderr",
     "output_type": "stream",
     "text": [
      "/tmp/tmp8e0908kb.out: symbol lookup error: /tmp/tmphqc89701.out: undefined symbol: node_alloc\n",
      "[C kernel] Executable exited with code 127"
     ]
    }
   ],
   "source": [
    "//List\n",
    "#include <stdio.h>\n",
    "#include <stdlib.h>\n",
    "\n",
    "struct node{\n",
    "    struct node *p_next;\n",
    "    //data\n",
    "    int val;\n",
    "};\n",
    "\n",
    "struct node* alloc_node()\n",
    "{\n",
    "    return (struct node*)malloc(sizeof(struct node));\n",
    "}\n",
    "\n",
    "void add_node_after(struct node *p)\n",
    "{\n",
    "    // what about all things after p?\n",
    "    struct node *pp = alloc_node();\n",
    "    pp->p_next = p->p_next;\n",
    "    p->p_next = pp;\n",
    "}\n",
    "\n",
    "//not efficient\n",
    "struct node * rm_node(struct node *p)\n",
    "{\n",
    "    struct node *pp = p->p_next;\n",
    "    free(p);\n",
    "    return pp;\n",
    "}\n",
    "\n",
    "int main(){\n",
    "    printf(\"A list of things\\n\");\n",
    "    \n",
    "    struct node *n1 = node_alloc();\n",
    "    n1->val = 0;\n",
    "    \n",
    "    struct node *p = &n1;\n",
    "    for(int i=1; i<10; ++i)\n",
    "    {\n",
    "        add_node_after(p);\n",
    "        p = p->p_next;\n",
    "    }\n",
    "}"
   ]
  },
  {
   "cell_type": "code",
   "execution_count": null,
   "metadata": {},
   "outputs": [],
   "source": []
  }
 ],
 "metadata": {
  "kernelspec": {
   "display_name": "Bash",
   "language": "bash",
   "name": "bash"
  },
  "language_info": {
   "codemirror_mode": "shell",
   "file_extension": ".sh",
   "mimetype": "text/x-sh",
   "name": "bash"
  }
 },
 "nbformat": 4,
 "nbformat_minor": 2
}
