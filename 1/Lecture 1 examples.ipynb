{
 "cells": [
  {
   "cell_type": "markdown",
   "metadata": {},
   "source": [
    "Zaliczenie przedmiotu obejmuje 2 duże projekty oraz kolokwium ,co jest dużym utrudnieniem dla studentów 7 semestru, którzy planują bronić się w lutym. Dodatkowo sposób zaliczenia dla studentów studiów inżynierskich i magisterskich jest taki sam, mimo że na studiach inżynierskich otrzymuje się za niego 2 ECTS, a magisterskich Prezentowamy material jest obszerny a zrozumienie go przez osoby, które nigdy nie miały styczności z programowaniem obiektowym ,bardzo czasochłonne.\n",
    "\n",
    "... Po pierwsze pod względem organizacyjnym, jako że był zaplanowany do końca semestru a my musieliśmy mieć wcześniej wystawione oceny. Znowu - jak to jest, że to my musimy takie rzeczy tłumaczyć prowadzącemu w środku semestru zamiast przyjść w październiku z odpowiednim planem zajęć??? Trochę zart bo przez takie rzeczy cały kierunek mógłby nie miec szans na obronę w lutym. Nie wiem czyja jest to odpowiedzialność ale myślę ze nie studentów. Do tego mimo ze skrócono nam semestr, prowadzący nie raczył w żaden sposób zmniejszyć wymagań zaliczeniowych. Były one (JAK NA 2 PKT ECTS!) stanowczo za duże. Dwa projekty i kolokwium dla studenta, ktory do 5 stycznia musi oddac prace dyplomową - gratulacje dla tych co to wymyślili. Może to jeszcze nie byłby aż taki problem gdybyśmy mieli wczesniej większe przygotowanie pod programowanie. Nie oszukujmy się ale przedmiot Informatyka 1 byl raz w tygodniu i to w języku C a przedmiot Informatyka 2 to jest wstęp do metod numerycznych a nie ćwiczenie programowania. Wysoki jest próg wejscia w przedmiot programowanie obiektowe w C++ w takim razie. Nie wiem, ogólnie mialam duże nadzieje na ten przedmiot bo brzmiał jak w końcu coś ciekawego na tym wydziale a zawiódł mnie pod względem organizacyjnym mocno."
   ]
  },
  {
   "cell_type": "markdown",
   "metadata": {},
   "source": [
    "Konsultacji w praktyce brak. W sali gada cicho i niezrozumiale. Jest rzutnik na całą ścianę a prezentacje i tak wyświetlane były na jakimś małym gówienku w górnym, lewym rogu ściany, że nic nie widać. Jeszcze zimno, bo włączył klimatyzację na chłodzenie późną jesienią. Ilość zadań do wykonania na laboratoriach 3-krotnie większa od dostępnego czasu, czyli nie dało się zrealizować materiału. Studenci zostawieni kompletnie sami sobie. Prezentacje wykładowe niezupełnie zrozumiałe a żeby zdobyć dostęp do materiałów, to \"kto umie, niech se poinstaluje jakieś dziwne Jupytery\", czy coś, czyli w praktyce niedostępne. Dzięki Bogu nie dało się Linuxa włączyć na komputerach w laboratorium, to chociaż tyle męki nas ominęło, a kochany koordynator przedmiotu jeszcze to by nam chciał zaserwować. Jednym słowem: przeciętny przedmiot obowiązkowy, prowadzony przez Zakład Aerodynamiki."
   ]
  },
  {
   "cell_type": "markdown",
   "metadata": {},
   "source": [
    "# Our first Program in C\n",
    "We will develop and run some simple C programs to illustrate basic elements of C programming. Most probably this is not going to be fully understandable. But for now we need to accept things as they are.\n",
    "\n",
    "Our first program is a famous \"Hello world!\" program. That is a program that just prints something and terminates:"
   ]
  },
  {
   "cell_type": "code",
   "execution_count": 1,
   "metadata": {},
   "outputs": [
    {
     "name": "stdout",
     "output_type": "stream",
     "text": [
      "Hello students this is a pice of code!!\n"
     ]
    }
   ],
   "source": [
    "#include <stdio.h>\n",
    "\n",
    "int main()\n",
    "{\n",
    "    printf(\"Hello students this is a pice of code!!\\n\");\n",
    "}"
   ]
  },
  {
   "cell_type": "markdown",
   "metadata": {},
   "source": [
    "This program is as simple as it gets, but it already contains elements that are new will need to be explained. Which we will be doing gradually over next lectures.\n",
    "\n",
    "Let try to compile this program on a computer, not in a Jupyter notebook\n",
    "\n",
    "`gcc hello.c` will perform the entire compilation process for us and result in an executable file.\n",
    "\n",
    "Split in steps:\n",
    "* `gcc -E hello.c -o hello.i ` or `cpp hello.c -o hello.i` - preprocessor\n",
    "* `gcc -S hello.i -o hello.s` - produces the assembly code\n",
    "* `gcc -c hello.s -o hello.o` or `as hello.s -o hello.o` - The assembler produces machine code\n",
    "* `gcc hello.o -o hello` - the last step is linking. Here function calls are resolved to appropriate libraries and an executable is created.\n",
    "\n",
    "Note: In case we would use additional libraries the call to `gcc` would become more complex (we will see this when using the math library).\n",
    "\n",
    "\n",
    "Test also: https://godbolt.org/"
   ]
  },
  {
   "cell_type": "markdown",
   "metadata": {},
   "source": [
    "## Basic elements of a C program"
   ]
  },
  {
   "cell_type": "markdown",
   "metadata": {},
   "source": [
    "### Lower and upper case letters\n",
    "C is case sensitive. This means that *a* and *A* are not the same! Make sure to use the proper case letters.\n",
    "\n",
    "The two examples below will not work because of the wrong case letters in function names."
   ]
  },
  {
   "cell_type": "code",
   "execution_count": 2,
   "metadata": {},
   "outputs": [
    {
     "name": "stderr",
     "output_type": "stream",
     "text": [
      "/tmp/tmpa8yo3xdf.out: /tmp/tmpzz4u6lup.out: undefined symbol: main\n",
      "[C kernel] Executable exited with code 1"
     ]
    }
   ],
   "source": [
    "#include <stdio.h>\n",
    "\n",
    "int Main() // should be main\n",
    "{\n",
    "    printf(\"Hello students this is a pice of code!!\\n\");\n",
    "}"
   ]
  },
  {
   "cell_type": "code",
   "execution_count": 1,
   "metadata": {},
   "outputs": [
    {
     "name": "stderr",
     "output_type": "stream",
     "text": [
      "/tmp/tmpd9u24cui.c: In function ‘main’:\n",
      "/tmp/tmpd9u24cui.c:5:5: warning: implicit declaration of function ‘Printf’; did you mean ‘printf’? [-Wimplicit-function-declaration]\n",
      "    5 |     Printf(\"Hello students this is a pice of code!!\\n\");\n",
      "      |     ^~~~~~\n",
      "      |     printf\n",
      "/tmp/tmpn7uh4x_t.out: symbol lookup error: /tmp/tmps6n9c12b.out: undefined symbol: Printf\n",
      "[C kernel] Executable exited with code 127"
     ]
    }
   ],
   "source": [
    "#include <stdio.h>\n",
    "\n",
    "int main()\n",
    "{\n",
    "    Printf(\"Hello students this is a pice of code!!\\n\");\n",
    "}//printf not Printf"
   ]
  },
  {
   "cell_type": "markdown",
   "metadata": {},
   "source": [
    "### Different types of brackets\n",
    "Another thing to look out for are the brackets. We can use (), {}, \\[\\], each means something different and we can not mix those. This example will not work because brackets are wrong:"
   ]
  },
  {
   "cell_type": "code",
   "execution_count": 2,
   "metadata": {},
   "outputs": [
    {
     "name": "stderr",
     "output_type": "stream",
     "text": [
      "/tmp/tmp69zac83b.c:3:9: error: expected ‘=’, ‘,’, ‘;’, ‘asm’ or ‘__attribute__’ before ‘{’ token\n",
      "    3 | int main{} //should be ()\n",
      "      |         ^\n",
      "/tmp/tmp69zac83b.c:5:56: error: expected ‘)’ before ‘;’ token\n",
      "    5 |     printf[\"Hello students this is a pice of code!!\\n\"];\n",
      "      |                                                        ^\n",
      "      |                                                        )\n",
      "[C kernel] GCC exited with code 1, the executable will not be executed"
     ]
    }
   ],
   "source": [
    "#include <stdio.h>\n",
    "\n",
    "int main{} //should be ()\n",
    "( // should be {}\n",
    "    printf[\"Hello students this is a pice of code!!\\n\"];\n",
    ")"
   ]
  },
  {
   "cell_type": "markdown",
   "metadata": {},
   "source": [
    "### Things we use need a name\n",
    "As our program develops we will need to give names to things we create and use in order to identify them. Let us see what are some admissible names:"
   ]
  },
  {
   "cell_type": "markdown",
   "metadata": {},
   "source": [
    "We will ad a variable that is going to be the type of *int*. We do this by writing the keyword *int* followed by the variable name:"
   ]
  },
  {
   "cell_type": "code",
   "execution_count": null,
   "metadata": {},
   "outputs": [],
   "source": [
    "int variable_name;"
   ]
  },
  {
   "cell_type": "markdown",
   "metadata": {},
   "source": [
    "We start by naming our variable with one of the reserved keywords, and note that we can not do that:"
   ]
  },
  {
   "cell_type": "code",
   "execution_count": 5,
   "metadata": {},
   "outputs": [
    {
     "name": "stderr",
     "output_type": "stream",
     "text": [
      "/tmp/tmpgm0839wl.c: In function ‘main’:\n",
      "/tmp/tmpgm0839wl.c:5:9: error: two or more data types in declaration specifiers\n",
      "    5 |     int double; // can not do that\n",
      "      |         ^~~~~~\n",
      "/tmp/tmpgm0839wl.c:5:5: warning: useless type name in empty declaration\n",
      "    5 |     int double; // can not do that\n",
      "      |     ^~~\n",
      "[C kernel] GCC exited with code 1, the executable will not be executed"
     ]
    }
   ],
   "source": [
    "#include <stdio.h>\n",
    "\n",
    "int main()\n",
    "{\n",
    "    int double; // can not do that\n",
    "    \n",
    "    printf(\"Hello students this is a pice of code!!\\n\");\n",
    "}"
   ]
  },
  {
   "cell_type": "markdown",
   "metadata": {},
   "source": [
    "But we can do this (why?): "
   ]
  },
  {
   "cell_type": "code",
   "execution_count": 6,
   "metadata": {},
   "outputs": [
    {
     "name": "stdout",
     "output_type": "stream",
     "text": [
      "Hello students this is a pice of code!!\n"
     ]
    }
   ],
   "source": [
    "#include <stdio.h>\n",
    "\n",
    "int main()\n",
    "{\n",
    "    int Double; // can do that\n",
    "   \n",
    "    printf(\"Hello students this is a pice of code!!\\n\");\n",
    "}"
   ]
  },
  {
   "cell_type": "markdown",
   "metadata": {},
   "source": [
    "Well since C is case sensitive Double is not a keyword that double is.  \n",
    "We can also do this:"
   ]
  },
  {
   "cell_type": "code",
   "execution_count": 7,
   "metadata": {},
   "outputs": [
    {
     "name": "stdout",
     "output_type": "stream",
     "text": [
      "Hello students this is a pice of code!!\n"
     ]
    }
   ],
   "source": [
    "#include <stdio.h>\n",
    "\n",
    "int main()\n",
    "{\n",
    "    int _myVariabl; // can do that\n",
    "    int myVariabl; // can do that\n",
    "    \n",
    "    printf(\"Hello students this is a pice of code!!\\n\");\n",
    "}"
   ]
  },
  {
   "cell_type": "markdown",
   "metadata": {},
   "source": [
    "Both myVariable and _myVariable are legal names. We can not start with a digit:"
   ]
  },
  {
   "cell_type": "code",
   "execution_count": 9,
   "metadata": {},
   "outputs": [
    {
     "name": "stdout",
     "output_type": "stream",
     "text": [
      "Hello students this is a pice of code!!\n"
     ]
    }
   ],
   "source": [
    "#include <stdio.h>\n",
    "\n",
    "int main()\n",
    "{\n",
    "    int _9_myVariabl; // can not do that\n",
    "    \n",
    "    printf(\"Hello students this is a pice of code!!\\n\");\n",
    "}"
   ]
  },
  {
   "cell_type": "markdown",
   "metadata": {},
   "source": [
    "## Comments in the code\n",
    "Comments are used to document and explain the code. And it is a good idea to use them."
   ]
  },
  {
   "cell_type": "code",
   "execution_count": null,
   "metadata": {},
   "outputs": [],
   "source": [
    "/*\n",
    "   This is a multiline comment\n",
    "*/\n",
    "\n",
    "// this is a single line comment\n",
    "// and each time I start a new line I need to add the // at the beggining"
   ]
  },
  {
   "cell_type": "markdown",
   "metadata": {},
   "source": [
    "Let's have a Hello World program with comments for explanation:"
   ]
  },
  {
   "cell_type": "code",
   "execution_count": 10,
   "metadata": {},
   "outputs": [
    {
     "name": "stdout",
     "output_type": "stream",
     "text": [
      "Hello students this is a pice of code!!\n"
     ]
    }
   ],
   "source": [
    "/*\n",
    "    Start with a short description of the program\n",
    "    This program prints an important information\n",
    "    to all the students\n",
    "*/\n",
    "# include <stdio.h> // Append the I/O library\n",
    "\n",
    "int main() // main function definition starts here\n",
    "{ // opening bracket\n",
    "    printf(\"Hello students this is a pice of code!!\\n\");\n",
    "} // closing bractes"
   ]
  },
  {
   "cell_type": "markdown",
   "metadata": {},
   "source": [
    "## The structure of our program:\n",
    "### Preprocessor directives  \n",
    "Everything that starts with a # is a preprocessor directive. This will govern includes defines and other statements. For now please accept we need to have at least:\n",
    "#### \\#include<...>"
   ]
  },
  {
   "cell_type": "code",
   "execution_count": null,
   "metadata": {},
   "outputs": [],
   "source": [
    "#include <stdio.h> // need to have it"
   ]
  },
  {
   "cell_type": "markdown",
   "metadata": {},
   "source": [
    "in our program. This preprocessor directive is responsible for providing basic input/output operations. (std-standard, io-input/output)"
   ]
  },
  {
   "cell_type": "markdown",
   "metadata": {},
   "source": [
    "Than our program reguieres an entry point. This is provided by a special function. it is called **main**. We have not said anything about functions, so for now we will accept it needs to be there. This function os of type **int** (whatever that means):"
   ]
  },
  {
   "cell_type": "code",
   "execution_count": null,
   "metadata": {},
   "outputs": [],
   "source": [
    "#include <stdio.h> // need to have it\n",
    "\n",
    "int main() //our main function is an entry point\n",
    "{\n",
    "    // This here is the body of our main function. This is where instruction defining the program are placed\n",
    "}"
   ]
  },
  {
   "cell_type": "markdown",
   "metadata": {},
   "source": [
    "#### \\#define\n",
    "**define** is used to predefine values that will be used as constants and are known at the time of compilation:"
   ]
  },
  {
   "cell_type": "code",
   "execution_count": null,
   "metadata": {},
   "outputs": [],
   "source": [
    "#define PI 3.141592"
   ]
  },
  {
   "cell_type": "markdown",
   "metadata": {},
   "source": [
    "An example of the use of define (please nte that this example has been changed from the one shown during lecture):"
   ]
  },
  {
   "cell_type": "code",
   "execution_count": 16,
   "metadata": {},
   "outputs": [
    {
     "name": "stdout",
     "output_type": "stream",
     "text": [
      "3\n"
     ]
    }
   ],
   "source": [
    "#include <stdio.h> \n",
    "#define PI 3 // to zlo\n",
    "\n",
    "int main()\n",
    "{\n",
    "    printf(\"%d\\n\", PI);\n",
    "}"
   ]
  },
  {
   "cell_type": "markdown",
   "metadata": {},
   "source": [
    "This requests the preprocessor to replace all occurrence of PI with 3 (good approximation). It should be used with care, as it can lead to some unexpected results if names important to the compiler become replaced. Consider the following:"
   ]
  },
  {
   "cell_type": "code",
   "execution_count": 17,
   "metadata": {},
   "outputs": [
    {
     "name": "stderr",
     "output_type": "stream",
     "text": [
      "/tmp/tmpn7uh4x_t.out: /tmp/tmptaaku7vv.out: undefined symbol: main\n",
      "[C kernel] Executable exited with code 1"
     ]
    }
   ],
   "source": [
    "#include <stdio.h> // need to have it\n",
    "#define main da\n",
    "\n",
    "int main()\n",
    "{\n",
    "    printf(\"Hello CS1 students!!\\n\");\n",
    "}"
   ]
  },
  {
   "cell_type": "markdown",
   "metadata": {},
   "source": [
    "It fails since main has been replaced with da, and the actual code that is being compiled now looks like this:"
   ]
  },
  {
   "cell_type": "code",
   "execution_count": 18,
   "metadata": {},
   "outputs": [
    {
     "name": "stderr",
     "output_type": "stream",
     "text": [
      "/tmp/tmpn7uh4x_t.out: /tmp/tmpkm95u0_u.out: undefined symbol: main\n",
      "[C kernel] Executable exited with code 1"
     ]
    }
   ],
   "source": [
    "#include <stdio.h> // need to have it\n",
    "#define main da\n",
    "\n",
    "int da()\n",
    "{\n",
    "    printf(\"Hello CS1 students!!\\n\");\n",
    "}"
   ]
  },
  {
   "cell_type": "markdown",
   "metadata": {},
   "source": [
    "Which makes no sense."
   ]
  },
  {
   "cell_type": "markdown",
   "metadata": {},
   "source": [
    "### Functions and procedural programming paradigm\n",
    "Procedural programing is a way of handling programming tasks where we write functions (procedures) and pass data between them in order to process them, generate more data and effectively perform tasks. The oposite is the object oriented programing, where we create objects that bind data and functionality in reasonable pieces that we can (in theory) work with and which can interact with each other.\n",
    "\n",
    "We can add functions to our program. Consider a function that will work with two variables of type integer (**int** - we will discuss types, for now just bear with it)"
   ]
  },
  {
   "cell_type": "code",
   "execution_count": 19,
   "metadata": {},
   "outputs": [
    {
     "name": "stderr",
     "output_type": "stream",
     "text": [
      "/tmp/tmpx0l3h2bv.c: In function ‘main’:\n",
      "/tmp/tmpx0l3h2bv.c:5:5: warning: implicit declaration of function ‘sum’ [-Wimplicit-function-declaration]\n",
      "    5 |     sum(5,6); // this is a call to a function, but where is it?\n",
      "      |     ^~~\n",
      "/tmp/tmpn7uh4x_t.out: symbol lookup error: /tmp/tmppcv26e7b.out: undefined symbol: sum\n",
      "[C kernel] Executable exited with code 127"
     ]
    }
   ],
   "source": [
    "#include <stdio.h> // need to have it\n",
    "\n",
    "int main()\n",
    "{\n",
    "    sum(5,6); // this is a call to a function, but where is it?\n",
    "}"
   ]
  },
  {
   "cell_type": "markdown",
   "metadata": {},
   "source": [
    "We try to use function sum() which has not been defined. We get a compilation error in line 6, column 5 that we try to use an undefined function. Have a look at the error message. Most probably you will be seeing this often.  \n",
    "\n",
    "We need to add a definition of a function sum, for now it only prints the result:"
   ]
  },
  {
   "cell_type": "code",
   "execution_count": 23,
   "metadata": {},
   "outputs": [
    {
     "name": "stdout",
     "output_type": "stream",
     "text": [
      "This is a printf from function sum()\n"
     ]
    }
   ],
   "source": [
    "#include <stdio.h>\n",
    "\n",
    "//this is a new function that we just added\n",
    "int sum() // definicja funkcji\n",
    "{\n",
    "    printf(\"This is a printf from function sum()\\n\");// we need to accept that %d must be there\n",
    "}\n",
    "\n",
    "int main()\n",
    "{\n",
    "    sum(); // wywolanie funkcji\n",
    "}"
   ]
  },
  {
   "cell_type": "code",
   "execution_count": 27,
   "metadata": {},
   "outputs": [
    {
     "name": "stdout",
     "output_type": "stream",
     "text": [
      "This is a printf from function sum()\n"
     ]
    }
   ],
   "source": [
    "#include <stdio.h>\n",
    "\n",
    "int sum(); // deklaracja funkcji\n",
    "\n",
    "int main()\n",
    "{\n",
    "    sum(); // wywolanie funkcji\n",
    "}\n",
    "\n",
    "int sum() // definicja funkcji\n",
    "{\n",
    "    printf(\"This is a printf from function sum()\\n\");// we need to accept that %d must be there\n",
    "}"
   ]
  },
  {
   "cell_type": "markdown",
   "metadata": {},
   "source": [
    "At the moment the sum() function only prints. Let it now provide us with the result:"
   ]
  },
  {
   "cell_type": "code",
   "execution_count": null,
   "metadata": {},
   "outputs": [],
   "source": [
    "#include <stdio.h>\n",
    "\n",
    "int sum(int a, int b)\n",
    "{\n",
    "    //printf(\"a+b=%d\\n\", a+b); // we need to accept that %d must be there\n",
    "    return a+b; // use return to provide VALUE out of the funtion\n",
    "}\n",
    "\n",
    "int main()\n",
    "{\n",
    "    printf(\"Hello CS1 students!!\\n\");\n",
    "    sum(5,6); // main calls the sum() function\n",
    "}"
   ]
  },
  {
   "cell_type": "markdown",
   "metadata": {},
   "source": [
    "For now main() function does nothing with the return value of the sum()."
   ]
  },
  {
   "cell_type": "code",
   "execution_count": null,
   "metadata": {},
   "outputs": [],
   "source": [
    "#include <stdio.h> // need to have it\n",
    "\n",
    "int sum(int a, int b) //this is a new function that we just added\n",
    "{\n",
    "    //printf(\"a+b=%d\\n\", a+b); // we need to accept that %d must be there\n",
    "    return a+b; // use return to provide VALUE otu of the funtion\n",
    "}\n",
    "\n",
    "int main()\n",
    "{\n",
    "    printf(\"Hello CS1 students!!\\n\");\n",
    "    printf( \"a+b=%d\\n\", sum(5,6) ); // I can call the function from the list of arguments of another\n",
    "}"
   ]
  },
  {
   "cell_type": "markdown",
   "metadata": {},
   "source": [
    "Let us now store the result of sum()"
   ]
  },
  {
   "cell_type": "code",
   "execution_count": null,
   "metadata": {},
   "outputs": [],
   "source": [
    "#include <stdio.h>\n",
    "\n",
    "int sum(int a, int b) //this is a new function that we just added\n",
    "{\n",
    "    //printf(\"a+b=%d\\n\", a+b); // we need to accept that %d must be there\n",
    "    return a+b; // use return to provide VALUE otu of the funtion\n",
    "}\n",
    "\n",
    "int main()\n",
    "{\n",
    "    printf(\"Hello CS1 students!!\\n\");\n",
    "    int myNiceVariable = sum(5,6); // here copy the result of sum() to a variable\n",
    "    printf(\"a+b=%d\\n\", myNiceVariable);\n",
    "}"
   ]
  }
 ],
 "metadata": {
  "kernelspec": {
   "display_name": "C",
   "language": "c",
   "name": "c"
  },
  "language_info": {
   "file_extension": ".c",
   "mimetype": "text/plain",
   "name": "c"
  }
 },
 "nbformat": 4,
 "nbformat_minor": 2
}
