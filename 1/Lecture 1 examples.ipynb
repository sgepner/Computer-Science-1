{
 "cells": [
  {
   "cell_type": "markdown",
   "metadata": {},
   "source": [
    "# Our first Program in C\n",
    "We will develop and run some simple C programs to illustrate basic elements of C programming. Most probably this is not going to be fully understandable. But for now we need to accept things as they are.\n",
    "\n",
    "Our first program is a famous \"Hello world!\" program. That is a program that just prints something and terminates:"
   ]
  },
  {
   "cell_type": "code",
   "execution_count": 52,
   "metadata": {},
   "outputs": [
    {
     "name": "stdout",
     "output_type": "stream",
     "text": [
      "Hello students this is a pice of code!!\n"
     ]
    }
   ],
   "source": [
    "#include <stdio.h>\n",
    "\n",
    "int main()\n",
    "{\n",
    "    printf(\"Hello students this is a pice of code!!\\n\");\n",
    "}"
   ]
  },
  {
   "cell_type": "markdown",
   "metadata": {},
   "source": [
    "This program is as simple as it gets, but it already contains elements that are new will need to be explained. Which we will be doing gradually over next lectures."
   ]
  },
  {
   "cell_type": "markdown",
   "metadata": {},
   "source": [
    "## Basic elements of a C program"
   ]
  },
  {
   "cell_type": "markdown",
   "metadata": {},
   "source": [
    "### Lower and upper case letters\n",
    "C is case sensitive. This means that *a* and *A* are not the same! Make sure to use the proper case letters.\n",
    "\n",
    "The two examples below will not work because of the wrong case letters in function names."
   ]
  },
  {
   "cell_type": "code",
   "execution_count": 53,
   "metadata": {},
   "outputs": [
    {
     "name": "stderr",
     "output_type": "stream",
     "text": [
      "/tmp/tmphqdwwbbd.out: /tmp/tmpc2hj1jd0.out: undefined symbol: main\n",
      "[C kernel] Executable exited with code 1"
     ]
    }
   ],
   "source": [
    "#include <stdio.h>\n",
    "\n",
    "int Main() // should be main\n",
    "{\n",
    "    printf(\"Hello students this is a pice of code!!\\n\");\n",
    "}"
   ]
  },
  {
   "cell_type": "code",
   "execution_count": 54,
   "metadata": {},
   "outputs": [
    {
     "name": "stderr",
     "output_type": "stream",
     "text": [
      "/tmp/tmpgcd3htod.c: In function ‘main’:\n",
      "/tmp/tmpgcd3htod.c:5:5: warning: implicit declaration of function ‘Printf’; did you mean ‘printf’? [-Wimplicit-function-declaration]\n",
      "    5 |     Printf(\"Hello students this is a pice of code!!\\n\");\n",
      "      |     ^~~~~~\n",
      "      |     printf\n",
      "/tmp/tmphqdwwbbd.out: symbol lookup error: /tmp/tmpwgcvoyp4.out: undefined symbol: Printf\n",
      "[C kernel] Executable exited with code 127"
     ]
    }
   ],
   "source": [
    "#include <stdio.h>\n",
    "\n",
    "int main()\n",
    "{\n",
    "    Printf(\"Hello students this is a pice of code!!\\n\");\n",
    "}//printf not Printf"
   ]
  },
  {
   "cell_type": "markdown",
   "metadata": {},
   "source": [
    "### Different types of brackets\n",
    "Another thing to look out for are the brackets. We can use (), {}, \\[\\], each means something different and we can not mix those. This example will not work because brackets are wrong:"
   ]
  },
  {
   "cell_type": "code",
   "execution_count": 56,
   "metadata": {},
   "outputs": [
    {
     "name": "stderr",
     "output_type": "stream",
     "text": [
      "/tmp/tmp8j98334q.c:3:9: error: expected ‘=’, ‘,’, ‘;’, ‘asm’ or ‘__attribute__’ before ‘{’ token\n",
      "    3 | int main{} //should be ()\n",
      "      |         ^\n",
      "/tmp/tmp8j98334q.c:5:12: error: expected declaration specifiers or ‘...’ before string constant\n",
      "    5 |     printf(\"Hello students this is a pice of code!!\\n\");\n",
      "      |            ^~~~~~~~~~~~~~~~~~~~~~~~~~~~~~~~~~~~~~~~~~~\n",
      "/tmp/tmp8j98334q.c:5:56: error: expected ‘)’ before ‘;’ token\n",
      "    5 |     printf(\"Hello students this is a pice of code!!\\n\");\n",
      "      |                                                        ^\n",
      "      |                                                        )\n",
      "[C kernel] GCC exited with code 1, the executable will not be executed"
     ]
    }
   ],
   "source": [
    "#include <stdio.h>\n",
    "\n",
    "int main{} //should be ()\n",
    "( // should be {}\n",
    "    printf(\"Hello students this is a pice of code!!\\n\");\n",
    ")"
   ]
  },
  {
   "cell_type": "markdown",
   "metadata": {},
   "source": [
    "### Things we use need a name\n",
    "As our program develops we will need to give names to things we create and use in order to identify them. Let us see what are some admissible names:"
   ]
  },
  {
   "cell_type": "markdown",
   "metadata": {},
   "source": [
    "We will ad a variable that is going to be the type of *int*. We do this by writing the keyword *int* followed by the variable name:"
   ]
  },
  {
   "cell_type": "code",
   "execution_count": null,
   "metadata": {},
   "outputs": [],
   "source": [
    "int variable_name;"
   ]
  },
  {
   "cell_type": "markdown",
   "metadata": {},
   "source": [
    "We start by naming our variable with one of the reserved keywords, and note that we can not do that:"
   ]
  },
  {
   "cell_type": "code",
   "execution_count": 57,
   "metadata": {},
   "outputs": [
    {
     "name": "stderr",
     "output_type": "stream",
     "text": [
      "/tmp/tmpjy9h3136.c: In function ‘main’:\n",
      "/tmp/tmpjy9h3136.c:5:9: error: two or more data types in declaration specifiers\n",
      "    5 |     int double; // can not do that\n",
      "      |         ^~~~~~\n",
      "/tmp/tmpjy9h3136.c:5:5: warning: useless type name in empty declaration\n",
      "    5 |     int double; // can not do that\n",
      "      |     ^~~\n",
      "[C kernel] GCC exited with code 1, the executable will not be executed"
     ]
    }
   ],
   "source": [
    "#include <stdio.h>\n",
    "\n",
    "int main()\n",
    "{\n",
    "    int double; // can not do that\n",
    "    \n",
    "    printf(\"Hello students this is a pice of code!!\\n\");\n",
    "}"
   ]
  },
  {
   "cell_type": "markdown",
   "metadata": {},
   "source": [
    "But we can do this (why?): "
   ]
  },
  {
   "cell_type": "code",
   "execution_count": 58,
   "metadata": {},
   "outputs": [
    {
     "name": "stdout",
     "output_type": "stream",
     "text": [
      "Hello students this is a pice of code!!\n"
     ]
    }
   ],
   "source": [
    "#include <stdio.h>\n",
    "\n",
    "int main()\n",
    "{\n",
    "    int Double; // can do that\n",
    "   \n",
    "    printf(\"Hello students this is a pice of code!!\\n\");\n",
    "}"
   ]
  },
  {
   "cell_type": "markdown",
   "metadata": {},
   "source": [
    "Well since C is case sensitive Double is not a keyword that double is.  \n",
    "We can also do this:"
   ]
  },
  {
   "cell_type": "code",
   "execution_count": 59,
   "metadata": {},
   "outputs": [],
   "source": [
    "#include <stdio.h>\n",
    "\n",
    "int main()\n",
    "{\n",
    "    int _myVariabl; // can do that\n",
    "    int myVariabl; // can do that\n",
    "    \n",
    "    printf(\"Hello students this is a pice of code!!\\n\");\n",
    "}"
   ]
  },
  {
   "cell_type": "markdown",
   "metadata": {},
   "source": [
    "Both myVariable and _myVariable are legal names. We can not start with a digit:"
   ]
  },
  {
   "cell_type": "code",
   "execution_count": 60,
   "metadata": {},
   "outputs": [
    {
     "name": "stderr",
     "output_type": "stream",
     "text": [
      "/tmp/tmpx2isaxt0.c: In function ‘main’:\n",
      "/tmp/tmpx2isaxt0.c:5:9: error: invalid suffix \"_myVariabl\" on integer constant\n",
      "    5 |     int 9_myVariabl; // can not do that\n",
      "      |         ^~~~~~~~~~~\n",
      "/tmp/tmpx2isaxt0.c:5:9: error: expected identifier or ‘(’ before numeric constant\n",
      "[C kernel] GCC exited with code 1, the executable will not be executed"
     ]
    }
   ],
   "source": [
    "#include <stdio.h>\n",
    "\n",
    "int main()\n",
    "{\n",
    "    int 9_myVariabl; // can not do that\n",
    "    \n",
    "    printf(\"Hello students this is a pice of code!!\\n\");\n",
    "}"
   ]
  },
  {
   "cell_type": "markdown",
   "metadata": {},
   "source": [
    "## Comments in the code\n",
    "Comments are used to document and explain the code. And it is a good idea to use them."
   ]
  },
  {
   "cell_type": "code",
   "execution_count": null,
   "metadata": {},
   "outputs": [],
   "source": [
    "/*\n",
    "   This is a multiline comment\n",
    "*/\n",
    "\n",
    "// this is a single line comment\n",
    "// and each time I start a new line I need to add the // at the beggining"
   ]
  },
  {
   "cell_type": "markdown",
   "metadata": {},
   "source": [
    "Let's have a Hello World program with comments for explanation:"
   ]
  },
  {
   "cell_type": "code",
   "execution_count": 63,
   "metadata": {},
   "outputs": [
    {
     "name": "stdout",
     "output_type": "stream",
     "text": [
      "Hello students this is a pice of code!!\n"
     ]
    }
   ],
   "source": [
    "/* Start with a short description of the program */\n",
    "# include <stdio.h> // Append the I/O library\n",
    "\n",
    "int main() // main function definition starts here\n",
    "{ // opening bracket\n",
    "    printf(\"Hello students this is a pice of code!!\\n\");\n",
    "} // closing bractes"
   ]
  },
  {
   "cell_type": "markdown",
   "metadata": {},
   "source": [
    "## The structure of our program:\n",
    "### Preprocessor directives  \n",
    "Everything that starts with a # is a preprocessor directive. This will govern includes defines and other statements. For now please accept we need to have at least:\n",
    "#### \\#include<...>"
   ]
  },
  {
   "cell_type": "code",
   "execution_count": null,
   "metadata": {},
   "outputs": [],
   "source": [
    "#include <stdio.h> // need to have it"
   ]
  },
  {
   "cell_type": "markdown",
   "metadata": {},
   "source": [
    "in our program. This preprocessor directive is responsible for providing basic input/output operations. (std-standard, io-input/output)"
   ]
  },
  {
   "cell_type": "markdown",
   "metadata": {},
   "source": [
    "Than our program reguieres an entry point. This is provided by a special function. it is called **main**. We have not said anything about functions, so for now we will accept it needs to be there. This function os of type **int** (whatever that means):"
   ]
  },
  {
   "cell_type": "code",
   "execution_count": 2,
   "metadata": {},
   "outputs": [],
   "source": [
    "#include <stdio.h> // need to have it\n",
    "\n",
    "int main() //our main function is an entry point\n",
    "{\n",
    "    // This here is the body of our main function. This is where instruction defining the program are placed\n",
    "}"
   ]
  },
  {
   "cell_type": "markdown",
   "metadata": {},
   "source": [
    "#### \\#define\n",
    "**define** is used to predefine values that will be used as constants and are known at the time of compilation:"
   ]
  },
  {
   "cell_type": "code",
   "execution_count": null,
   "metadata": {},
   "outputs": [],
   "source": [
    "#define PI 3.141592"
   ]
  },
  {
   "cell_type": "markdown",
   "metadata": {},
   "source": [
    "An example of the use of define (please nte that this example has been changed from the one shown during lecture):"
   ]
  },
  {
   "cell_type": "code",
   "execution_count": 66,
   "metadata": {},
   "outputs": [
    {
     "name": "stdout",
     "output_type": "stream",
     "text": [
      "3\n"
     ]
    }
   ],
   "source": [
    "#include <stdio.h> \n",
    "#define PI 3\n",
    "\n",
    "int main()\n",
    "{\n",
    "    printf(\"%d\\n\", PI);\n",
    "}"
   ]
  },
  {
   "cell_type": "markdown",
   "metadata": {},
   "source": [
    "This requests the preprocessor to replace all occurrence of PI with 3 (good approximation). It should be used with care, as it can lead to some unexpected results if names important to the compiler become replaced. Consider the following:"
   ]
  },
  {
   "cell_type": "code",
   "execution_count": 67,
   "metadata": {},
   "outputs": [
    {
     "name": "stderr",
     "output_type": "stream",
     "text": [
      "/tmp/tmphqdwwbbd.out: /tmp/tmpnwbkcp7_.out: undefined symbol: main\n",
      "[C kernel] Executable exited with code 1"
     ]
    }
   ],
   "source": [
    "#include <stdio.h> // need to have it\n",
    "#define main da\n",
    "\n",
    "int main()\n",
    "{\n",
    "    printf(\"Hello CS1 students!!\\n\");\n",
    "}"
   ]
  },
  {
   "cell_type": "markdown",
   "metadata": {},
   "source": [
    "It fails since main has been replaced with da, and the actual code that is being compiled now looks like this:"
   ]
  },
  {
   "cell_type": "code",
   "execution_count": 68,
   "metadata": {},
   "outputs": [
    {
     "name": "stderr",
     "output_type": "stream",
     "text": [
      "/tmp/tmphqdwwbbd.out: /tmp/tmp8_y2ieyw.out: undefined symbol: main\n",
      "[C kernel] Executable exited with code 1"
     ]
    }
   ],
   "source": [
    "#include <stdio.h> // need to have it\n",
    "#define main da\n",
    "\n",
    "int da()\n",
    "{\n",
    "    printf(\"Hello CS1 students!!\\n\");\n",
    "}"
   ]
  },
  {
   "cell_type": "markdown",
   "metadata": {},
   "source": [
    "Which makes no sense."
   ]
  },
  {
   "cell_type": "markdown",
   "metadata": {},
   "source": [
    "### Functions\n",
    "We can add functions to our program. Consider a function that will work with two variables of type integer (**int** - we will discuss types, for now just bear with it)"
   ]
  },
  {
   "cell_type": "code",
   "execution_count": 70,
   "metadata": {},
   "outputs": [
    {
     "name": "stderr",
     "output_type": "stream",
     "text": [
      "/tmp/tmp5aet7618.c: In function ‘main’:\n",
      "/tmp/tmp5aet7618.c:5:5: warning: implicit declaration of function ‘sum’ [-Wimplicit-function-declaration]\n",
      "    5 |     sum(5,6); // this is a call to a function, but where is it?\n",
      "      |     ^~~\n",
      "/tmp/tmphqdwwbbd.out: symbol lookup error: /tmp/tmpo4vrponc.out: undefined symbol: sum\n",
      "[C kernel] Executable exited with code 127"
     ]
    }
   ],
   "source": [
    "#include <stdio.h> // need to have it\n",
    "\n",
    "int main()\n",
    "{\n",
    "    sum(5,6); // this is a call to a function, but where is it?\n",
    "}"
   ]
  },
  {
   "cell_type": "markdown",
   "metadata": {},
   "source": [
    "We try to use function sum() which has not been defined. We get a compilation error in line 6, column 5 that we try to use an undefined function. Have a look at the error message. Most probably you will be seeing this often.  \n",
    "\n",
    "We need to add a definition of a function sum, for now it only prints the result:"
   ]
  },
  {
   "cell_type": "code",
   "execution_count": 71,
   "metadata": {},
   "outputs": [
    {
     "name": "stdout",
     "output_type": "stream",
     "text": [
      "a+b=11\n"
     ]
    }
   ],
   "source": [
    "#include <stdio.h>\n",
    "\n",
    "//this is a new function that we just added\n",
    "int sum(int a, int b)\n",
    "{\n",
    "    printf(\"a+b=%d\\n\", a+b);// we need to accept that %d must be there\n",
    "}\n",
    "\n",
    "int main()\n",
    "{\n",
    "    sum(5,6);\n",
    "}"
   ]
  },
  {
   "cell_type": "markdown",
   "metadata": {},
   "source": [
    "At the moment the sum() function only prints. Let it now provide us with the result:"
   ]
  },
  {
   "cell_type": "code",
   "execution_count": 72,
   "metadata": {},
   "outputs": [
    {
     "name": "stdout",
     "output_type": "stream",
     "text": [
      "Hello CS1 students!!\n"
     ]
    }
   ],
   "source": [
    "#include <stdio.h>\n",
    "\n",
    "int sum(int a, int b)\n",
    "{\n",
    "    //printf(\"a+b=%d\\n\", a+b); // we need to accept that %d must be there\n",
    "    return a+b; // use return to provide VALUE out of the funtion\n",
    "}\n",
    "\n",
    "int main()\n",
    "{\n",
    "    printf(\"Hello CS1 students!!\\n\");\n",
    "    sum(5,6); // main calls the sum() function\n",
    "}"
   ]
  },
  {
   "cell_type": "markdown",
   "metadata": {},
   "source": [
    "For now main() function does nothing with the return value of the sum()."
   ]
  },
  {
   "cell_type": "code",
   "execution_count": 49,
   "metadata": {},
   "outputs": [
    {
     "name": "stdout",
     "output_type": "stream",
     "text": [
      "Hello CS1 students!!\n",
      "a+b=11\n"
     ]
    }
   ],
   "source": [
    "#include <stdio.h> // need to have it\n",
    "\n",
    "int sum(int a, int b) //this is a new function that we just added\n",
    "{\n",
    "    //printf(\"a+b=%d\\n\", a+b); // we need to accept that %d must be there\n",
    "    return a+b; // use return to provide VALUE otu of the funtion\n",
    "}\n",
    "\n",
    "int main()\n",
    "{\n",
    "    printf(\"Hello CS1 students!!\\n\");\n",
    "    printf( \"a+b=%d\\n\", sum(5,6) ); // I can call the function from the list of arguments of another\n",
    "}"
   ]
  },
  {
   "cell_type": "markdown",
   "metadata": {},
   "source": [
    "Let us now store the result of sum()"
   ]
  },
  {
   "cell_type": "code",
   "execution_count": 51,
   "metadata": {},
   "outputs": [
    {
     "name": "stdout",
     "output_type": "stream",
     "text": [
      "Hello CS1 students!!\n",
      "a+b=11\n"
     ]
    }
   ],
   "source": [
    "#include <stdio.h>\n",
    "\n",
    "int sum(int a, int b) //this is a new function that we just added\n",
    "{\n",
    "    //printf(\"a+b=%d\\n\", a+b); // we need to accept that %d must be there\n",
    "    return a+b; // use return to provide VALUE otu of the funtion\n",
    "}\n",
    "\n",
    "int main()\n",
    "{\n",
    "    printf(\"Hello CS1 students!!\\n\");\n",
    "    int myNiceVariable = sum(5,6); // here copy the result of sum() to a variable\n",
    "    printf(\"a+b=%d\\n\", myNiceVariable);\n",
    "}"
   ]
  }
 ],
 "metadata": {
  "kernelspec": {
   "display_name": "C",
   "language": "c",
   "name": "c"
  },
  "language_info": {
   "file_extension": ".c",
   "mimetype": "text/plain",
   "name": "c"
  }
 },
 "nbformat": 4,
 "nbformat_minor": 2
}
