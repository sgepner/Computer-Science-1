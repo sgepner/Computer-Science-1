{
 "cells": [
  {
   "cell_type": "markdown",
   "metadata": {},
   "source": [
    "# Our first Program in C\n",
    "We will develop and run some simple C programs to illustrate some basic elements. Most probably this is not going to be fully understandable. But for now accet it as it is.\n",
    "\n",
    "Our first program is a famous \"Hello world!\" program. That is a program that just prints something and terminates:"
   ]
  },
  {
   "cell_type": "code",
   "execution_count": 1,
   "metadata": {},
   "outputs": [
    {
     "name": "stdout",
     "output_type": "stream",
     "text": [
      "Hello students!!\n"
     ]
    }
   ],
   "source": [
    "#include <stdio.h>\n",
    "\n",
    "int main()\n",
    "{\n",
    "    printf(\"Hello students!!\\n\");\n",
    "}"
   ]
  },
  {
   "cell_type": "markdown",
   "metadata": {},
   "source": [
    "This program, while the simplest it can be already contains elements that are possibly new and will need explenation."
   ]
  },
  {
   "cell_type": "markdown",
   "metadata": {},
   "source": [
    "## The structure of our program:\n",
    "### Preprocessor directives  \n",
    "Everything that starts with a # is a preprocessor directive. This will gouvern includes defines and other statments. For now please accept we need to have at least:  \n",
    "#include <stdio.h> it is responsible for providing basic input/output operations"
   ]
  },
  {
   "cell_type": "code",
   "execution_count": null,
   "metadata": {},
   "outputs": [],
   "source": [
    "#include <stdio.h> // need to have it"
   ]
  },
  {
   "cell_type": "markdown",
   "metadata": {},
   "source": [
    "Than our program reguieres an entry point. This is provided by a special function. it is called **main**. We have not said anything about functions, so for now we will accept it needs to be there. This function os of type **int** (whatever that means):"
   ]
  },
  {
   "cell_type": "code",
   "execution_count": 2,
   "metadata": {},
   "outputs": [],
   "source": [
    "#include <stdio.h> // need to have it\n",
    "\n",
    "int main() //our main function is an entry point\n",
    "{\n",
    "    // This here is the body of our main function. This is where instruction defining the program are placed\n",
    "}"
   ]
  },
  {
   "cell_type": "markdown",
   "metadata": {},
   "source": [
    "We will consider a differnt (there is much more of them) preprocessor directive. The **define**. It is uded to predefine values that will be used as constants."
   ]
  },
  {
   "cell_type": "code",
   "execution_count": null,
   "metadata": {},
   "outputs": [],
   "source": [
    "#define PI 3.141592"
   ]
  },
  {
   "cell_type": "markdown",
   "metadata": {},
   "source": [
    "This requests the preprocessor to replace all occurances of PI with 3.141592. It should be used with care, as it can lead to some unexpected results if important vaues become replaced. Consider the following:"
   ]
  },
  {
   "cell_type": "code",
   "execution_count": 5,
   "metadata": {},
   "outputs": [
    {
     "name": "stderr",
     "output_type": "stream",
     "text": [
      "/tmp/tmpf_z791f8.out: /tmp/tmpqpouyi2a.out: undefined symbol: main\n",
      "[C kernel] Executable exited with code 1"
     ]
    }
   ],
   "source": [
    "#include <stdio.h> // need to have it\n",
    "#define main da\n",
    "\n",
    "int main()\n",
    "{\n",
    "    printf(\"Hello CS1 students!!\\n\");\n",
    "}"
   ]
  },
  {
   "cell_type": "markdown",
   "metadata": {},
   "source": [
    "It fails since main has been replaced with da, and the acctual code now loos like this:"
   ]
  },
  {
   "cell_type": "code",
   "execution_count": null,
   "metadata": {},
   "outputs": [],
   "source": [
    "#include <stdio.h> // need to have it\n",
    "#define main da\n",
    "\n",
    "int da()\n",
    "{\n",
    "    printf(\"Hello CS1 students!!\\n\");\n",
    "}"
   ]
  },
  {
   "cell_type": "markdown",
   "metadata": {},
   "source": [
    "Which makes no sense."
   ]
  },
  {
   "cell_type": "markdown",
   "metadata": {},
   "source": [
    "### Functions\n",
    "We can add functions to our program. Consider a fution that will work with to variables of type integer (int - we will cover this...)"
   ]
  },
  {
   "cell_type": "code",
   "execution_count": 6,
   "metadata": {},
   "outputs": [
    {
     "name": "stderr",
     "output_type": "stream",
     "text": [
      "/tmp/tmpdblz0set.c: In function ‘main’:\n",
      "/tmp/tmpdblz0set.c:7:5: warning: implicit declaration of function ‘sum’ [-Wimplicit-function-declaration]\n",
      "     sum(5,6);\n",
      "     ^~~\n",
      "/tmp/tmpf_z791f8.out: symbol lookup error: /tmp/tmp04x_ze9f.out: undefined symbol: sum\n",
      "[C kernel] Executable exited with code 127"
     ]
    }
   ],
   "source": [
    "#include <stdio.h> // need to have it\n",
    "#define PI 3.141592\n",
    "\n",
    "int main()\n",
    "{\n",
    "    printf(\"Hello CS1 students!!\\n\");\n",
    "    sum(5,6);\n",
    "}"
   ]
  },
  {
   "cell_type": "markdown",
   "metadata": {},
   "source": [
    "We try to use function sum() which has not been defined. We get a compilation error in line 7, collumn 5 that we try to use an undefined function. Have a look at the error message. Most probably you will be seeing it often.  \n",
    "\n",
    "We need to add a definition of a function sum, e.g. as below:"
   ]
  },
  {
   "cell_type": "code",
   "execution_count": 7,
   "metadata": {},
   "outputs": [
    {
     "name": "stdout",
     "output_type": "stream",
     "text": [
      "Hello CS1 students!!\n",
      "a= b= a+b= \n"
     ]
    }
   ],
   "source": [
    "#include <stdio.h> // need to have it\n",
    "#define PI 3.141592\n",
    "\n",
    "int sum(int a, int b) // definition before use\n",
    "{\n",
    "    printf(\"a= b= a+b= \\n\");\n",
    "}\n",
    "\n",
    "int main()\n",
    "{\n",
    "    printf(\"Hello CS1 students!!\\n\");\n",
    "    sum(5,6);\n",
    "}"
   ]
  },
  {
   "cell_type": "markdown",
   "metadata": {},
   "source": [
    "It is not important what function sum() does for now. We define it and we can call it. That is what matters for now. This is not the only way to deal with a function. Try the following:"
   ]
  },
  {
   "cell_type": "code",
   "execution_count": 8,
   "metadata": {},
   "outputs": [
    {
     "name": "stdout",
     "output_type": "stream",
     "text": [
      "Hello CS1 students!!\n"
     ]
    },
    {
     "name": "stderr",
     "output_type": "stream",
     "text": [
      "/tmp/tmpf_z791f8.out: symbol lookup error: /tmp/tmpzn7sl4j5.out: undefined symbol: sum\n",
      "[C kernel] Executable exited with code 127"
     ]
    }
   ],
   "source": [
    "#include <stdio.h> // need to have it\n",
    "#define PI 3.141592\n",
    "\n",
    "int sum(int a, int b); // this is a promise to the compiler\n",
    "\n",
    "int main()\n",
    "{\n",
    "    printf(\"Hello CS1 students!!\\n\");\n",
    "    sum(5,6);\n",
    "}"
   ]
  },
  {
   "cell_type": "markdown",
   "metadata": {},
   "source": [
    "This time we declared a function to be used (in line 4) but we did not provide the body of the function. Note that the error os different than before! This time compilation failed during linking as appropriate function could not be located for lonking.  \n",
    "\n",
    "Finally, we have declaration and definition in the following:"
   ]
  },
  {
   "cell_type": "code",
   "execution_count": 9,
   "metadata": {},
   "outputs": [
    {
     "name": "stdout",
     "output_type": "stream",
     "text": [
      "Hello CS1 students!!\n",
      "a=5 b=6 a+b=11 \n"
     ]
    }
   ],
   "source": [
    "#include <stdio.h> // need to have it\n",
    "#define PI 3.141592\n",
    "\n",
    "int sum(int a, int b); // this is a promise to the compiler\n",
    "\n",
    "int main()\n",
    "{\n",
    "    printf(\"Hello CS1 students!!\\n\");\n",
    "    sum(5,6);\n",
    "}\n",
    "\n",
    "int sum(int a, int b) // definition before use\n",
    "{\n",
    "    printf(\"a=%d b=%d a+b=%d \\n\", a, b, a+b); // This needs a special formatting\n",
    "}"
   ]
  },
  {
   "cell_type": "markdown",
   "metadata": {},
   "source": [
    "We will now comment that function sum() doeas some printing. You might note that in the printing request some new elements are presant, namly the output formating. We use %d to print integers. We will discuss it in more detail in future.\n",
    "\n",
    "This concludes our first round of examples."
   ]
  }
 ],
 "metadata": {
  "kernelspec": {
   "display_name": "Bash",
   "language": "bash",
   "name": "bash"
  },
  "language_info": {
   "codemirror_mode": "shell",
   "file_extension": ".sh",
   "mimetype": "text/x-sh",
   "name": "bash"
  }
 },
 "nbformat": 4,
 "nbformat_minor": 2
}
